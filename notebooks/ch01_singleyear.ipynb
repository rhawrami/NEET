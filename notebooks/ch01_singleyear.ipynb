{
 "cells": [
  {
   "cell_type": "code",
   "execution_count": 143,
   "metadata": {},
   "outputs": [],
   "source": [
    "import numpy as np\n",
    "import pandas as pd\n",
    "import matplotlib.pyplot as plt\n",
    "plt.style.use('dark_background')"
   ]
  },
  {
   "cell_type": "markdown",
   "metadata": {},
   "source": [
    "# Exploratory Intro to NEETs"
   ]
  },
  {
   "cell_type": "markdown",
   "metadata": {},
   "source": [
    "In this chapter, we'll take an exploratory look into NEETs, using the CPS monthly samples in 2024. To give this study the proper treatment, we'll need the following variables (all available variables can be [found here](https://cps.ipums.org/cps-action/variables/group)):\n",
    "\n",
    "- Demographic variables: `AGE`, `SEX`, `RACE`, `HISPAN`, `NCHILD`, `DIFFANY`\n",
    "\n",
    "- Geographic variables: `STATEFIP`\n",
    "\n",
    "- Socioeconomic variables: `EMPSTAT`, `LABFORCE`, `SCHLCOLL`\n",
    "\n",
    "These variables will be enough for our current purposes."
   ]
  },
  {
   "cell_type": "markdown",
   "metadata": {},
   "source": [
    "## Load in the data"
   ]
  },
  {
   "cell_type": "markdown",
   "metadata": {},
   "source": [
    "Using `ipumspy` and a function (`get_CPS`) to simplify the process, we can get the data fairly easily (though it may take some time). Remember to assign your IPUMS API Key to an environmental variable labelled 'IPUMS_API_KEY'. In bash, for example...\n",
    "\n",
    "    export IPUMS_API_KEY=2477c3178c3178247\n"
   ]
  },
  {
   "cell_type": "code",
   "execution_count": 144,
   "metadata": {},
   "outputs": [],
   "source": [
    "import sys\n",
    "import os\n",
    "from ipumspy import readers\n",
    "\n",
    "sys.path.append('..')\n",
    "\n",
    "from scripts.clean_ipums import get_CPS"
   ]
  },
  {
   "cell_type": "code",
   "execution_count": 2,
   "metadata": {},
   "outputs": [],
   "source": [
    "my_vars = ['AGE', 'SEX', 'RACE', 'HISPAN', 'NCHILD', \n",
    "           'DIFFANY', 'EMPSTAT', 'LABFORCE', 'SCHLCOLL', 'STATEFIP'] \n",
    "\n",
    "get_CPS(years=2024, \n",
    "        vars=my_vars, \n",
    "        filename='exploratory_NEETs_2024', \n",
    "        filepath='../datasets' \n",
    "        ) # extracting a csv file & xml, named '../datasets/exploratory_NEETs_2024.[csv.gz/xml]'"
   ]
  },
  {
   "cell_type": "markdown",
   "metadata": {},
   "source": [
    "Let's load our dataset in now."
   ]
  },
  {
   "cell_type": "code",
   "execution_count": 145,
   "metadata": {},
   "outputs": [],
   "source": [
    "%%capture\n",
    "\n",
    "ddi_cps24 = readers.read_ipums_ddi('../datasets/exploratory_NEETs_2024.xml')\n",
    "cps24 = readers.read_microdata(ddi=ddi_cps24, filename='../datasets/exploratory_NEETs_2024.csv.gz')"
   ]
  },
  {
   "cell_type": "markdown",
   "metadata": {},
   "source": [
    "Now, we can take a brief look at the data, but there's one more pesky thing. When we extracted, we also extracted the Annual Social and Economic Supplement [(ASEC)](https://www.census.gov/data/datasets/time-series/demo/cps/cps-asec.html) data, which we don't need. Let's remove that."
   ]
  },
  {
   "cell_type": "code",
   "execution_count": 146,
   "metadata": {},
   "outputs": [],
   "source": [
    "cps24 = cps24[cps24['ASECFLAG'].isna()]"
   ]
  },
  {
   "cell_type": "markdown",
   "metadata": {},
   "source": [
    "We can now look at some basic characteristics of our data, and clean it up a bit."
   ]
  },
  {
   "cell_type": "code",
   "execution_count": 147,
   "metadata": {},
   "outputs": [
    {
     "data": {
      "text/plain": [
       "(794955, 22)"
      ]
     },
     "execution_count": 147,
     "metadata": {},
     "output_type": "execute_result"
    }
   ],
   "source": [
    "cps24.shape"
   ]
  },
  {
   "cell_type": "code",
   "execution_count": 26,
   "metadata": {},
   "outputs": [
    {
     "data": {
      "text/plain": [
       "Index(['YEAR', 'SERIAL', 'MONTH', 'HWTFINL', 'CPSID', 'ASECFLAG', 'ASECWTH',\n",
       "       'STATEFIP', 'PERNUM', 'WTFINL', 'CPSIDP', 'CPSIDV', 'ASECWT', 'AGE',\n",
       "       'SEX', 'RACE', 'NCHILD', 'HISPAN', 'EMPSTAT', 'LABFORCE', 'SCHLCOLL',\n",
       "       'DIFFANY'],\n",
       "      dtype='object')"
      ]
     },
     "execution_count": 26,
     "metadata": {},
     "output_type": "execute_result"
    }
   ],
   "source": [
    "cps24.columns"
   ]
  },
  {
   "cell_type": "markdown",
   "metadata": {},
   "source": [
    "Let's look at the gender split and average age in our data."
   ]
  },
  {
   "cell_type": "code",
   "execution_count": 9,
   "metadata": {},
   "outputs": [
    {
     "name": "stdout",
     "output_type": "stream",
     "text": [
      "Share Male: 0.48874967765471\n"
     ]
    }
   ],
   "source": [
    "print('Share Male:' , np.mean(cps24['SEX'] == 1))"
   ]
  },
  {
   "cell_type": "code",
   "execution_count": null,
   "metadata": {},
   "outputs": [
    {
     "name": "stdout",
     "output_type": "stream",
     "text": [
      "Median Age: 42.0\n"
     ]
    }
   ],
   "source": [
    "print('Median Age:', np.median(cps24['AGE']))"
   ]
  },
  {
   "cell_type": "markdown",
   "metadata": {},
   "source": [
    "## Overall\n",
    "\n",
    "Our key variables here are `EMPSTAT` and `SCHLCOLL`, as those will let us define whether an individual is employed or in school. The codes for each are as follows:\n",
    "\n",
    "`EMPSTAT`:\n",
    "- `0 == NIU`\n",
    "- `1 == Armed Forces`\n",
    "- `10,12 == Employed`\n",
    "- `20-36 == Unemployed or Not In Labor Force`\n",
    "\n",
    "`SCHLCOLL`:\n",
    "- `0 == NIU`\n",
    "- `1,2,3,4 == in  High School or College`\n",
    "- `5 == Not in High School or College`\n",
    "\n",
    "(note that `SCHLCOLL` is only applicable for individuals aged 16-24. Technically, ASEC has it available for 16-54, but let's limit to 16-24)\n",
    "\n",
    "Let's get the NEET rate (weighted individuals not in school or employed / weighted individuals):\n",
    "- by gender\n",
    "- by age ranges\n"
   ]
  },
  {
   "cell_type": "code",
   "execution_count": 148,
   "metadata": {},
   "outputs": [
    {
     "name": "stdout",
     "output_type": "stream",
     "text": [
      "num_obs: 375027\n"
     ]
    }
   ],
   "source": [
    "cps24['SCHLCOLL'].value_counts()\n",
    "\n",
    "cps24 = cps24.query('EMPSTAT > 0 and SCHLCOLL > 0').copy() # remove NIU observations\n",
    "print('num_obs:', cps24.shape[0])"
   ]
  },
  {
   "cell_type": "code",
   "execution_count": 149,
   "metadata": {},
   "outputs": [
    {
     "name": "stdout",
     "output_type": "stream",
     "text": [
      "age_range(16, 25)\n",
      "Men: 14.92%\n",
      "Women: 15.66%\n",
      "\n",
      "age_range(16, 21)\n",
      "Men: 14.48%\n",
      "Women: 13.8%\n",
      "\n",
      "age_range(20, 25)\n",
      "Men: 15.72%\n",
      "Women: 17.54%\n",
      "\n"
     ]
    }
   ],
   "source": [
    "gender_codes = {1 : 'men', 2 : 'women'} # map gender codes\n",
    "cps24['sex'] = cps24['SEX'].map(gender_codes)\n",
    "\n",
    "cps24['NEET'] = 'not_neet'\n",
    "cps24.loc[(cps24['EMPSTAT'].isin(range(20,37))) & (cps24['SCHLCOLL'] == 5), 'NEET'] = 'neet' # NEET conditions\n",
    "\n",
    "age_ranges = [range(16,25), range(16,21), range(20,25)] # three age ranges to test\n",
    "\n",
    "for i in age_ranges:\n",
    "    filtered_df = cps24.query('AGE in @i').copy()\n",
    "    agg_wt = filtered_df.groupby(['sex', 'NEET'])['WTFINL'].sum().unstack() # get weighted sum by gender and NEET status\n",
    "    agg_wt= agg_wt.eval('neet_rate = neet / (neet + not_neet) * 100')\n",
    "    print('age', str(i), sep='_')\n",
    "    print('Men: {0}%'.format(agg_wt['neet_rate'].loc['men'].round(2)))\n",
    "    print('Women: {0}%\\n'.format(agg_wt['neet_rate'].loc['women'].round(2)))"
   ]
  },
  {
   "cell_type": "markdown",
   "metadata": {},
   "source": [
    "This is about in line with my expectations, and similar to what [CEPR](https://cepr.net/publications/are-young-men-falling-behind-young-women-the-neet-rate-helps-shed-light-on-the-matter/) found: men are less likely to be NEETs, and NEET rates for both genders increase slightly by age. 14.9% of men aged 16-24 were not employed or in school in 2024, slightly less than the 15.7% of women.\n",
    "\n",
    "## By race\n",
    "\n",
    "Next, let's look at NEET rates by race and gender."
   ]
  },
  {
   "cell_type": "code",
   "execution_count": 153,
   "metadata": {},
   "outputs": [
    {
     "name": "stdout",
     "output_type": "stream",
     "text": [
      "NEET rates by race and gender for 16-24 year-olds\n",
      "sex         men  women\n",
      "race_cat              \n",
      "asian     13.56  13.23\n",
      "black     21.64  19.00\n",
      "hispanic  15.58  18.51\n",
      "other     17.46  17.52\n",
      "white     12.81  13.43\n"
     ]
    }
   ],
   "source": [
    "race_codes = [\n",
    "    ((cps24['RACE'] == 100) & (cps24['HISPAN'] == 0)),\n",
    "    ((cps24['RACE'] == 200) & (cps24['HISPAN'] == 0)),\n",
    "    ((cps24['RACE'].isin(range(650, 653))) & (cps24['HISPAN'] == 0)),\n",
    "    ((cps24['HISPAN'] > 0) & (cps24['HISPAN'] < 902))\n",
    "]\n",
    "\n",
    "race_choices = ['white', 'black', 'asian', 'hispanic']\n",
    "\n",
    "cps24['race_cat'] = np.select(race_codes, race_choices, default = 'other')\n",
    "\n",
    "filtered_df = cps24.query(\"AGE >= 16 and AGE <= 24\")\n",
    "agg_wt = filtered_df.groupby(['race_cat', 'sex', 'NEET'])['WTFINL'].sum().unstack() # get weighted sum by gender and NEET status\n",
    "agg_wt= agg_wt.eval('neet_rate = neet / (neet + not_neet) * 100')\n",
    "print('NEET rates by race and gender for 16-24 year-olds')\n",
    "print(agg_wt['neet_rate'].round(2).unstack())"
   ]
  },
  {
   "cell_type": "markdown",
   "metadata": {},
   "source": [
    "Intra-racial NEET rates are higher for White and Hispanic women, but they're lower for Black and Asian women. By race and gender, Black men have the highest NEET rates, with about one-in-five Black men aged 16-24 not being in education or employed; White men have the lowest NEET rates at about 13%."
   ]
  },
  {
   "cell_type": "markdown",
   "metadata": {},
   "source": [
    "## Geography"
   ]
  },
  {
   "cell_type": "markdown",
   "metadata": {},
   "source": [
    "To get NEET rates by state, we'll be using `STATEFIP`, which has STATE codes for each individual in our set. \n",
    "\n",
    "`STATEFIP in range(1,57)` includes the fifty states and Washington D.C. (the codes occasionally skip a number). To get the corresponding names, we'll use the `us` and library."
   ]
  },
  {
   "cell_type": "code",
   "execution_count": 160,
   "metadata": {},
   "outputs": [
    {
     "name": "stdout",
     "output_type": "stream",
     "text": [
      "NEET rates by race and gender for 16-24 year-olds\n",
      "sex                     men  women\n",
      "state                             \n",
      "Alabama               13.35  19.87\n",
      "Alaska                17.98  19.40\n",
      "Arizona               15.87  14.13\n",
      "Arkansas              17.93  19.36\n",
      "California            15.16  15.95\n",
      "Colorado              11.70  17.57\n",
      "Connecticut           11.47  10.84\n",
      "Delaware              12.01  14.07\n",
      "District of Columbia  20.56  15.60\n",
      "Florida               14.34  16.60\n",
      "Georgia               17.19  15.44\n",
      "Hawaii                12.02  13.58\n",
      "Idaho                 16.80  13.37\n",
      "Illinois              16.66  14.71\n",
      "Indiana               14.84  15.25\n",
      "Iowa                  10.34  11.52\n",
      "Kansas                12.09   9.62\n",
      "Kentucky              13.38  19.89\n",
      "Louisiana             15.45  18.90\n",
      "Maine                  9.41  12.12\n",
      "Maryland              13.72  15.83\n",
      "Massachusetts         13.38  10.25\n",
      "Michigan              18.93  18.72\n",
      "Minnesota              9.45   9.55\n",
      "Mississippi           20.42  19.49\n",
      "Missouri              12.75  22.95\n",
      "Montana               14.75  16.50\n",
      "Nebraska              11.33   9.04\n",
      "Nevada                19.95  14.64\n",
      "New Hampshire         10.24  10.35\n",
      "New Jersey            10.75  12.72\n",
      "New Mexico            20.58  13.64\n",
      "New York              15.86  14.52\n",
      "North Carolina        15.71  15.71\n",
      "North Dakota          13.28  15.90\n",
      "Ohio                  13.41  14.34\n",
      "Oklahoma              15.19  18.86\n",
      "Oregon                14.19  10.47\n",
      "Pennsylvania          16.04  13.91\n",
      "Rhode Island          17.66  11.22\n",
      "South Carolina        17.58  16.57\n",
      "South Dakota          10.36  11.55\n",
      "Tennessee             17.98  22.44\n",
      "Texas                 15.68  17.46\n",
      "Utah                  13.81  13.52\n",
      "Vermont               12.54  11.25\n",
      "Virginia              14.48  16.96\n",
      "Washington            13.46  17.80\n",
      "West Virginia         17.64  16.60\n",
      "Wisconsin             12.27   9.16\n",
      "Wyoming               13.05  23.59\n"
     ]
    }
   ],
   "source": [
    "import us \n",
    "\n",
    "state_names = us.states.mapping('fips', 'name') # dictionary with STATEFIP as key\n",
    "state_names['11'] = 'District of Columbia' # DC isn't included, so manually add it\n",
    "cps24['state'] = cps24['STATEFIP'].astype(str).str.zfill(2) \n",
    "cps24['state'] = cps24['state'].map(state_names)\n",
    "\n",
    "filtered_df = cps24.query('AGE >= 16 and AGE <= 24')\n",
    "agg_wt = filtered_df.groupby(['state', 'sex', 'NEET'])['WTFINL'].sum().unstack() # get weighted sum by gender and NEET status\n",
    "agg_wt= agg_wt.eval('neet_rate = neet / (neet + not_neet) * 100')\n",
    "agg_wt2 = agg_wt['neet_rate'].round(2).unstack()\n",
    "print('NEET rates by race and gender for 16-24 year-olds')\n",
    "print(agg_wt2)\n"
   ]
  },
  {
   "cell_type": "markdown",
   "metadata": {},
   "source": [
    "Let's look at the states with the maximum/minimum male/female NEET rates, and states where the NEET rate is higher/lower for men/women."
   ]
  },
  {
   "cell_type": "code",
   "execution_count": 161,
   "metadata": {},
   "outputs": [
    {
     "name": "stdout",
     "output_type": "stream",
     "text": [
      "State with highest male NEET rate: New Mexico -- 20.58%\n",
      "State with highest female NEET rate: Wyoming -- 23.59%\n"
     ]
    }
   ],
   "source": [
    "max_st_male = agg_wt2['men'].sort_values(ascending=False)\n",
    "max_st_female = agg_wt2['women'].sort_values(ascending=False)\n",
    "\n",
    "print('State with highest male NEET rate: {0} -- {1}%'.format(max_st_male.index[0], max_st_male.iloc[0]))\n",
    "print('State with highest female NEET rate: {0} -- {1}%'.format(max_st_female.index[0], max_st_female.iloc[0]))"
   ]
  },
  {
   "cell_type": "code",
   "execution_count": 162,
   "metadata": {},
   "outputs": [
    {
     "name": "stdout",
     "output_type": "stream",
     "text": [
      "State with lowest male NEET rate: Maine -- 9.41%\n",
      "State with lowest male NEET rate: Nebraska -- 9.04%\n"
     ]
    }
   ],
   "source": [
    "min_st_male = agg_wt2['men'].sort_values(ascending=True)\n",
    "min_st_female = agg_wt2['women'].sort_values(ascending=True)\n",
    "\n",
    "print('State with lowest male NEET rate: {0} -- {1}%'.format(min_st_male.index[0], min_st_male.iloc[0]))\n",
    "print('State with lowest male NEET rate: {0} -- {1}%'.format(min_st_female.index[0], min_st_female.iloc[0]))"
   ]
  },
  {
   "cell_type": "code",
   "execution_count": 163,
   "metadata": {},
   "outputs": [
    {
     "name": "stdout",
     "output_type": "stream",
     "text": [
      "States with higher male NEET rates (including 22 states) :\n",
      " sex                     men  women\n",
      "state                             \n",
      "New Mexico            20.58  13.64\n",
      "District of Columbia  20.56  15.60\n",
      "Mississippi           20.42  19.49\n",
      "Nevada                19.95  14.64\n",
      "Michigan              18.93  18.72\n",
      "Rhode Island          17.66  11.22\n",
      "West Virginia         17.64  16.60\n",
      "South Carolina        17.58  16.57\n",
      "Georgia               17.19  15.44\n",
      "Idaho                 16.80  13.37\n",
      "Illinois              16.66  14.71\n",
      "Pennsylvania          16.04  13.91\n",
      "Arizona               15.87  14.13\n",
      "New York              15.86  14.52\n",
      "Oregon                14.19  10.47\n",
      "Utah                  13.81  13.52\n",
      "Massachusetts         13.38  10.25\n",
      "Vermont               12.54  11.25\n",
      "Wisconsin             12.27   9.16\n",
      "Kansas                12.09   9.62\n",
      "Connecticut           11.47  10.84\n",
      "Nebraska              11.33   9.04\n"
     ]
    }
   ],
   "source": [
    "higher_with_men = agg_wt2[agg_wt2['men'] > agg_wt2['women']].sort_values(by='men', ascending=False)\n",
    "print('States with higher male NEET rates (including {0} states) :\\n {1}'.format(higher_with_men.shape[0] , higher_with_men))"
   ]
  },
  {
   "cell_type": "code",
   "execution_count": 164,
   "metadata": {},
   "outputs": [
    {
     "name": "stdout",
     "output_type": "stream",
     "text": [
      "States with lower male NEET rates (including 28 states) :\n",
      " sex              men  women\n",
      "state                      \n",
      "Wyoming        13.05  23.59\n",
      "Missouri       12.75  22.95\n",
      "Tennessee      17.98  22.44\n",
      "Kentucky       13.38  19.89\n",
      "Alabama        13.35  19.87\n",
      "Alaska         17.98  19.40\n",
      "Arkansas       17.93  19.36\n",
      "Louisiana      15.45  18.90\n",
      "Oklahoma       15.19  18.86\n",
      "Washington     13.46  17.80\n",
      "Colorado       11.70  17.57\n",
      "Texas          15.68  17.46\n",
      "Virginia       14.48  16.96\n",
      "Florida        14.34  16.60\n",
      "Montana        14.75  16.50\n",
      "California     15.16  15.95\n",
      "North Dakota   13.28  15.90\n",
      "Maryland       13.72  15.83\n",
      "Indiana        14.84  15.25\n",
      "Ohio           13.41  14.34\n",
      "Delaware       12.01  14.07\n",
      "Hawaii         12.02  13.58\n",
      "New Jersey     10.75  12.72\n",
      "Maine           9.41  12.12\n",
      "South Dakota   10.36  11.55\n",
      "Iowa           10.34  11.52\n",
      "New Hampshire  10.24  10.35\n",
      "Minnesota       9.45   9.55\n"
     ]
    }
   ],
   "source": [
    "higher_with_women = agg_wt2[agg_wt2['men'] < agg_wt2['women']].sort_values(by='women', ascending=False)\n",
    "print('States with lower male NEET rates (including {0} states) :\\n {1}'.format(higher_with_women.shape[0] , higher_with_women))"
   ]
  },
  {
   "cell_type": "markdown",
   "metadata": {},
   "source": [
    "That's weird, only 50 states (including DC as a 'state'). Is there a state with *equal* NEET rates for men and women?"
   ]
  },
  {
   "cell_type": "code",
   "execution_count": 165,
   "metadata": {},
   "outputs": [
    {
     "name": "stdout",
     "output_type": "stream",
     "text": [
      "State with equal NEET rates:\n",
      "sex               men  women\n",
      "state                       \n",
      "North Carolina  15.71  15.71\n"
     ]
    }
   ],
   "source": [
    "equal_rates = agg_wt2[agg_wt2['men'] == agg_wt2['women']]\n",
    "print('State with equal NEET rates:\\n{0}'.format(equal_rates))"
   ]
  },
  {
   "cell_type": "markdown",
   "metadata": {},
   "source": [
    "Huh, very strange. Even to two decimal places. Perhaps North Carolina exhibits the least gendered differences out of all the states? Something to look at in the future (though I'll probably forget)."
   ]
  },
  {
   "cell_type": "markdown",
   "metadata": {},
   "source": [
    "## Other variables (disability and caretaking)"
   ]
  },
  {
   "cell_type": "markdown",
   "metadata": {},
   "source": [
    "Okay, we now have a general sense of NEET rates in the US. We know that (at least based on 2024):\n",
    "\n",
    "- **around 15% of young (16-24 y.o.) men and women are not employed or in education.**\n",
    "- **men are slightly less likely to be NEETs, but this depends on age.**\n",
    "- **among groups by race and gender, White men are the least likely to be NEETs, and Black men are the most likely.**\n",
    "- **most states have higher female NEET rates, and NEET rates vary considerably by state, for both men and women.**\n",
    "\n",
    "Now we might be curious about *why* some young man/woman is a NEET and another isn't. We can't entirely solve that here obviously, but we can look at some accompanying characteristics. \n",
    "\n",
    "Two interesting correlations, based on other research are:\n",
    "\n",
    "- having a disability\n",
    "- raising a child\n",
    "\n",
    "where someone having one of these characteristics would be more likely to be a NEET. We can look at these relationships using variables in our dataset:\n",
    "- `DIFFANY` : This variable determines if a surveyed individual has any [physical or cognitive disability](https://cps.ipums.org/cps-action/variables/DIFFANY#description_section), and is based responding 'Yes' to any of six other specific disability variables. Research finds that CPS disability prevalence estimates are lower than other, similar data sources, but the directionality should be the same.\n",
    "- `NCHILD` : This variable indicates the number of the surveyed individual's own children present in their household, including step-children and adopted children. \n",
    "\n",
    "While `DIFFANY` should apply equally no matter how we define our age range to calculate the NEET rate, `NCHILD` won't (e.g., a twenty-nine year-old should be more likely to have a kid than a twenty-two year-old). Given our dataset, we'll stick with 16-24 while having this in the back of our heads. \n",
    "\n",
    "We'll try out a few different queries, so let's make a basic function that lets us calculate NEET rates repeatedly, based on certain restrictions."
   ]
  },
  {
   "cell_type": "code",
   "execution_count": 221,
   "metadata": {},
   "outputs": [],
   "source": [
    "def get_NEET(df = cps24, query_str = '', group_by = []):\n",
    "    \"\"\"\n",
    "    calculates the NEET rate based on query and grouping options \n",
    "\n",
    "    **df**\n",
    "    - dataframe, defaults to cps24\n",
    "\n",
    "    **query_str**\n",
    "    - query string to be placed in pandas query method\n",
    "    - ex. query_str = 'AGE == 25 and SEX == 1'\n",
    "\n",
    "    **group_by**\n",
    "    - grouping options to get NEET rates\n",
    "    - ex. group_by = ['SEX', 'RACE']\n",
    "    \"\"\"\n",
    "    filtered_df = cps24.query(query_str)\n",
    "    agg_wt = filtered_df.groupby(group_by)['WTFINL'].sum().unstack() # get weighted sum by gender and NEET status\n",
    "    agg_wt= agg_wt.eval('neet_rate = neet / (neet + not_neet) * 100')\n",
    "    \n",
    "    if len(group_by) > 2:\n",
    "        agg_wt2 = agg_wt['neet_rate'].round(2).unstack()\n",
    "        return agg_wt2\n",
    "    else:\n",
    "        return agg_wt['neet_rate']"
   ]
  },
  {
   "cell_type": "markdown",
   "metadata": {},
   "source": [
    "Let's briefly look at `DIFFANY` and `NCHILD` before getting our rates."
   ]
  },
  {
   "cell_type": "code",
   "execution_count": 169,
   "metadata": {},
   "outputs": [
    {
     "data": {
      "application/vnd.microsoft.datawrangler.viewer.v0+json": {
       "columns": [
        {
         "name": "index",
         "rawType": "object",
         "type": "string"
        },
        {
         "name": "DIFFANY",
         "rawType": "Float64",
         "type": "float"
        },
        {
         "name": "NCHILD",
         "rawType": "Float64",
         "type": "float"
        }
       ],
       "conversionMethod": "pd.DataFrame",
       "ref": "a36436ea-1ffc-4ee4-9c30-a249f156609d",
       "rows": [
        [
         "count",
         "375027.0",
         "375027.0"
        ],
        [
         "mean",
         "1.0666005380945904",
         "0.8479789455159229"
        ],
        [
         "std",
         "0.24932924453760436",
         "1.1960867074846444"
        ],
        [
         "min",
         "1.0",
         "0.0"
        ],
        [
         "25%",
         "1.0",
         "0.0"
        ],
        [
         "50%",
         "1.0",
         "0.0"
        ],
        [
         "75%",
         "1.0",
         "2.0"
        ],
        [
         "max",
         "2.0",
         "9.0"
        ]
       ],
       "shape": {
        "columns": 2,
        "rows": 8
       }
      },
      "text/html": [
       "<div>\n",
       "<style scoped>\n",
       "    .dataframe tbody tr th:only-of-type {\n",
       "        vertical-align: middle;\n",
       "    }\n",
       "\n",
       "    .dataframe tbody tr th {\n",
       "        vertical-align: top;\n",
       "    }\n",
       "\n",
       "    .dataframe thead th {\n",
       "        text-align: right;\n",
       "    }\n",
       "</style>\n",
       "<table border=\"1\" class=\"dataframe\">\n",
       "  <thead>\n",
       "    <tr style=\"text-align: right;\">\n",
       "      <th></th>\n",
       "      <th>DIFFANY</th>\n",
       "      <th>NCHILD</th>\n",
       "    </tr>\n",
       "  </thead>\n",
       "  <tbody>\n",
       "    <tr>\n",
       "      <th>count</th>\n",
       "      <td>375027.0</td>\n",
       "      <td>375027.0</td>\n",
       "    </tr>\n",
       "    <tr>\n",
       "      <th>mean</th>\n",
       "      <td>1.066601</td>\n",
       "      <td>0.847979</td>\n",
       "    </tr>\n",
       "    <tr>\n",
       "      <th>std</th>\n",
       "      <td>0.249329</td>\n",
       "      <td>1.196087</td>\n",
       "    </tr>\n",
       "    <tr>\n",
       "      <th>min</th>\n",
       "      <td>1.0</td>\n",
       "      <td>0.0</td>\n",
       "    </tr>\n",
       "    <tr>\n",
       "      <th>25%</th>\n",
       "      <td>1.0</td>\n",
       "      <td>0.0</td>\n",
       "    </tr>\n",
       "    <tr>\n",
       "      <th>50%</th>\n",
       "      <td>1.0</td>\n",
       "      <td>0.0</td>\n",
       "    </tr>\n",
       "    <tr>\n",
       "      <th>75%</th>\n",
       "      <td>1.0</td>\n",
       "      <td>2.0</td>\n",
       "    </tr>\n",
       "    <tr>\n",
       "      <th>max</th>\n",
       "      <td>2.0</td>\n",
       "      <td>9.0</td>\n",
       "    </tr>\n",
       "  </tbody>\n",
       "</table>\n",
       "</div>"
      ],
      "text/plain": [
       "        DIFFANY    NCHILD\n",
       "count  375027.0  375027.0\n",
       "mean   1.066601  0.847979\n",
       "std    0.249329  1.196087\n",
       "min         1.0       0.0\n",
       "25%         1.0       0.0\n",
       "50%         1.0       0.0\n",
       "75%         1.0       2.0\n",
       "max         2.0       9.0"
      ]
     },
     "execution_count": 169,
     "metadata": {},
     "output_type": "execute_result"
    }
   ],
   "source": [
    "cps24.loc[:, ['DIFFANY', 'NCHILD']].describe()"
   ]
  },
  {
   "cell_type": "markdown",
   "metadata": {},
   "source": [
    "`DIFFANY` equaling 1 means 'no difficulty', with 2 meaning 'has difficulty.' `NCHILD` is an integer variable, with 0 meaning no kids, and 9 meaning 9 or more kids. Let's start getting our calculations. Let's map binary variables for these two variables."
   ]
  },
  {
   "cell_type": "code",
   "execution_count": 175,
   "metadata": {},
   "outputs": [],
   "source": [
    "child_dict = {i : 'has_child' for i in range(10) if i > 0}\n",
    "child_dict[0] = 'no_child'\n",
    "\n",
    "disability_dict = {1 : 'no_dis', 2 : 'has_dis'}\n",
    "\n",
    "cps24['kids'] = cps24['NCHILD'].map(child_dict)\n",
    "cps24['dis'] = cps24['DIFFANY'].map(disability_dict)"
   ]
  },
  {
   "cell_type": "markdown",
   "metadata": {},
   "source": [
    "First, the difference in NEET rates between people with a disabilty versus those without, by gender."
   ]
  },
  {
   "cell_type": "code",
   "execution_count": 179,
   "metadata": {},
   "outputs": [
    {
     "name": "stdout",
     "output_type": "stream",
     "text": [
      "dis    has_dis  no_dis\n",
      "sex                   \n",
      "men      39.65   13.45\n",
      "women    33.82   14.67\n"
     ]
    }
   ],
   "source": [
    "by_disability = get_NEET(cps24, 'AGE >= 16 and AGE <= 24', ['sex', 'dis', 'NEET'])\n",
    "print(by_disability)"
   ]
  },
  {
   "cell_type": "markdown",
   "metadata": {},
   "source": [
    "Wow, disabled men are three times as likely to be NEETs than men without a disability, almost four-in-ten. The gap is not as big for women, but still striking. What's the sample size for disabled men and women in our data?"
   ]
  },
  {
   "cell_type": "code",
   "execution_count": 212,
   "metadata": {},
   "outputs": [
    {
     "name": "stdout",
     "output_type": "stream",
     "text": [
      "dis\n",
      "no_dis     350050\n",
      "has_dis     24977\n",
      "Name: count, dtype: int64\n",
      "dis\n",
      "no_dis     173048\n",
      "has_dis     12303\n",
      "Name: count, dtype: int64\n"
     ]
    }
   ],
   "source": [
    "dis_counts = cps24['dis'].sort_values().value_counts()\n",
    "print(dis_counts)\n",
    "male_dis_counts = cps24.query(\"sex == 'men'\")['dis'].sort_values().value_counts()\n",
    "female_dis_counts = cps24.query(\"sex == 'women'\")['dis'].sort_values().value_counts()\n",
    "print(male_dis_counts)"
   ]
  },
  {
   "cell_type": "markdown",
   "metadata": {},
   "source": [
    "Okay, let's look at kids now. How do the NEET rates of those with kids differ from those without kids?"
   ]
  },
  {
   "cell_type": "code",
   "execution_count": 213,
   "metadata": {},
   "outputs": [
    {
     "name": "stdout",
     "output_type": "stream",
     "text": [
      "kids   has_child  no_child\n",
      "sex                       \n",
      "men        15.64     14.90\n",
      "women      42.99     13.84\n"
     ]
    }
   ],
   "source": [
    "by_kids = get_NEET(cps24, 'AGE >= 16 and AGE <= 24', ['sex', 'kids', 'NEET'])\n",
    "print(by_kids)"
   ]
  },
  {
   "cell_type": "markdown",
   "metadata": {},
   "source": [
    "There's a small gap between men with kids and men without, but a much larger gap for women. 42% of women aged 16-24 years-old with kids are NEETs, compared to 13% of women without any kids. \n",
    "\n",
    "Well, how about the intersections? What is the NEET rate for men and women who are not disabled and don't have children?"
   ]
  },
  {
   "cell_type": "code",
   "execution_count": 222,
   "metadata": {},
   "outputs": [
    {
     "name": "stdout",
     "output_type": "stream",
     "text": [
      "sex\n",
      "men      13.421133\n",
      "women    12.799778\n",
      "Name: neet_rate, dtype: float64\n"
     ]
    }
   ],
   "source": [
    "no_kids_no_diff = get_NEET(cps24, \n",
    "                           \"AGE >= 16 and AGE <= 24 and kids == 'no_child' and dis == 'no_dis' \", \n",
    "                           ['sex', 'NEET'])\n",
    "print(no_kids_no_diff)"
   ]
  },
  {
   "cell_type": "markdown",
   "metadata": {},
   "source": [
    "Another finding: while the overall NEET rate (for 16-24 year-olds) is higher for women than men, when you look at the NEET rate for those with no kids, it's slightly higher for men; again, very very close, but slightly higher."
   ]
  },
  {
   "cell_type": "markdown",
   "metadata": {},
   "source": [
    "## Up next\n",
    "\n",
    "We've made some progress on this question. But we've only looked at 2024. The natural next question is:\n",
    "\n",
    "**'How have NEET rates changed over time in the US? and how has this change (if at all) varied by various demographics?'**"
   ]
  }
 ],
 "metadata": {
  "kernelspec": {
   "display_name": "venv",
   "language": "python",
   "name": "python3"
  },
  "language_info": {
   "codemirror_mode": {
    "name": "ipython",
    "version": 3
   },
   "file_extension": ".py",
   "mimetype": "text/x-python",
   "name": "python",
   "nbconvert_exporter": "python",
   "pygments_lexer": "ipython3",
   "version": "3.13.2"
  }
 },
 "nbformat": 4,
 "nbformat_minor": 2
}
