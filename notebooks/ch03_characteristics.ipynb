{
 "cells": [
  {
   "cell_type": "code",
   "execution_count": 1,
   "metadata": {},
   "outputs": [],
   "source": [
    "import pandas as pd\n",
    "import numpy as np\n",
    "import matplotlib.pyplot as plt\n",
    "plt.style.use('dark_background')"
   ]
  },
  {
   "cell_type": "markdown",
   "metadata": {},
   "source": [
    "# The characteristics of NEETs\n",
    "\n",
    "So far, we've taken a look at general NEET rates in the U.S. by various demographic characteristics, and over time. We see that women tend to have slightly higher NEET rates, though this varies by age and demographic qualities. For example, NEET rates are higher for men among those without a disability or any kids. We've also seen that NEET rates for men have been fairly stable over time, while rates for women have noticeably decreased, largely mirroring men now. \n",
    "\n",
    "While we have a good sense of what the NEET rates are now, we still haven't fully figured out *why* some men and women are NEETs and why others aren't. We've briefly looked at some explanations, like childrearing and disability status, both clearly playing a role. But outside of these conditions, why is some man or women in their early 20s not in school or employed?\n",
    "\n",
    "I don't expect to fully solve this question here, as there are certainly qualitative aspects to this question that we can't really study here, but we can at least take a look. In order to do this, we'll be relying on the CPS ASEC data, as there are a lot of interesting questions asked in this annual survey. Here are some example variables:\n",
    "- `WHYNWLY`: reason for not working last year (e.g., 'Could not find work' or 'Ill or disabled')\n",
    "- `INCWELFR`: welfare (public assistance) income recieved during previous year\n",
    "- `OFFPOV`: official poverty status\n",
    "\n",
    "There's a lot we can look at, and while we won't cover everything here, I hope we'll find some interesting things."
   ]
  },
  {
   "cell_type": "markdown",
   "metadata": {},
   "source": [
    "## Load the data"
   ]
  },
  {
   "cell_type": "markdown",
   "metadata": {},
   "source": [
    "We'll again be using our `get_CPS()` function to pull ASEC data. For now, we don't really need every year, so let's just pull data for 2024."
   ]
  },
  {
   "cell_type": "code",
   "execution_count": 2,
   "metadata": {},
   "outputs": [],
   "source": [
    "import os\n",
    "from ipumspy import readers\n",
    "import sys\n",
    "\n",
    "sys.path.append('..')\n",
    "\n",
    "from scripts.clean_ipums import get_CPS"
   ]
  },
  {
   "cell_type": "code",
   "execution_count": 2,
   "metadata": {},
   "outputs": [],
   "source": [
    "my_vars = ['AGE', 'SEX', 'RACE', 'HISPAN', 'NCHILD', 'EDUC',\n",
    "           'DIFFANY', 'EMPSTAT', 'LABFORCE', 'SCHLCOLL', 'STATEFIP',\n",
    "           'WORKLY', 'WANTJOB', 'WNLWNILF', 'WHYNWLY', 'ACTNLFLY',\n",
    "           'INCWELFR', 'OFFPOV', 'HEALTH', 'DISABWRK']\n",
    "\n",
    "get_CPS(years=2024, \n",
    "        vars=my_vars, \n",
    "        filename='characteristics_2024', \n",
    "        filepath='../datasets' \n",
    "        ) # extracting a fwf & xml, named '../datasets/characteristics_[year].[dat.gz/xml]'"
   ]
  },
  {
   "cell_type": "markdown",
   "metadata": {},
   "source": [
    "Let's load in only ASEC samples to speed this up a bit."
   ]
  },
  {
   "cell_type": "code",
   "execution_count": 35,
   "metadata": {},
   "outputs": [],
   "source": [
    "%%capture\n",
    "\n",
    "ddi_asec24 = readers.read_ipums_ddi('../datasets/characteristics_2024.xml')\n",
    "iter_asec24 = readers.read_microdata_chunked(ddi_asec24, filename='../datasets/characteristics_2024.dat.gz', chunksize=10000)\n",
    "asec24 = pd.concat([df[df['ASECFLAG'] == 1] for df in iter_asec24], ignore_index=True)"
   ]
  },
  {
   "cell_type": "markdown",
   "metadata": {},
   "source": [
    "Let's take a quick look at our 2024 data."
   ]
  },
  {
   "cell_type": "code",
   "execution_count": 4,
   "metadata": {},
   "outputs": [
    {
     "data": {
      "text/plain": [
       "(144265, 32)"
      ]
     },
     "execution_count": 4,
     "metadata": {},
     "output_type": "execute_result"
    }
   ],
   "source": [
    "asec24.shape"
   ]
  },
  {
   "cell_type": "code",
   "execution_count": 9,
   "metadata": {},
   "outputs": [
    {
     "data": {
      "text/plain": [
       "np.float64(0.48827504938827854)"
      ]
     },
     "execution_count": 9,
     "metadata": {},
     "output_type": "execute_result"
    }
   ],
   "source": [
    "(asec24['SEX'] == 1).mean()"
   ]
  },
  {
   "cell_type": "code",
   "execution_count": 10,
   "metadata": {},
   "outputs": [
    {
     "data": {
      "text/plain": [
       "MONTH\n",
       "3    144265\n",
       "Name: count, dtype: Int64"
      ]
     },
     "execution_count": 10,
     "metadata": {},
     "output_type": "execute_result"
    }
   ],
   "source": [
    "asec24['MONTH'].value_counts()"
   ]
  },
  {
   "cell_type": "markdown",
   "metadata": {},
   "source": [
    "Let's drop out respondents with unknown school or employment status."
   ]
  },
  {
   "cell_type": "code",
   "execution_count": 5,
   "metadata": {},
   "outputs": [
    {
     "data": {
      "text/plain": [
       "(71274, 32)"
      ]
     },
     "execution_count": 5,
     "metadata": {},
     "output_type": "execute_result"
    }
   ],
   "source": [
    "asec24 = asec24.query('EMPSTAT > 0 and SCHLCOLL > 0')\n",
    "asec24.shape"
   ]
  },
  {
   "cell_type": "markdown",
   "metadata": {},
   "source": [
    "We should just be limited to 16-54 year-olds, as `SCHLCOLL` in the ASEC [is recorded](https://cps.ipums.org/cps-action/variables/SCHLCOLL#description_section) for that age range."
   ]
  },
  {
   "cell_type": "code",
   "execution_count": 12,
   "metadata": {},
   "outputs": [
    {
     "data": {
      "text/plain": [
       "count      71274.0\n",
       "mean     35.152019\n",
       "std      11.158452\n",
       "min           16.0\n",
       "25%           26.0\n",
       "50%           36.0\n",
       "75%           44.0\n",
       "max           54.0\n",
       "Name: AGE, dtype: Float64"
      ]
     },
     "execution_count": 12,
     "metadata": {},
     "output_type": "execute_result"
    }
   ],
   "source": [
    "asec24['AGE'].describe()"
   ]
  },
  {
   "cell_type": "markdown",
   "metadata": {},
   "source": [
    "We have a lot of variables to map, so let's do that next. First, our basic demographic variables that we've been using up to now."
   ]
  },
  {
   "cell_type": "code",
   "execution_count": 6,
   "metadata": {},
   "outputs": [],
   "source": [
    "import us\n",
    "\n",
    "# NEET\n",
    "asec24['NEET'] = 'not_neet'\n",
    "asec24.loc[(asec24['EMPSTAT'].isin(range(20,37))) & (asec24['SCHLCOLL'] == 5), 'NEET'] = 'neet' # NEET conditions\n",
    "\n",
    "#Gender\n",
    "gender_codes = {1 : 'men', 2 : 'women'} # map gender codes\n",
    "asec24['sex'] = asec24['SEX'].map(gender_codes)\n",
    "\n",
    "# Race\n",
    "race_codes = [\n",
    "    ((asec24['RACE'] == 100) & (asec24['HISPAN'] == 0)),\n",
    "    ((asec24['RACE'] == 200) & (asec24['HISPAN'] == 0)),\n",
    "    ((asec24['RACE'].isin(range(650, 653))) & (asec24['HISPAN'] == 0)),\n",
    "    ((asec24['HISPAN'] > 0) & (asec24['HISPAN'] < 902))\n",
    "]\n",
    "race_choices = ['white', 'black', 'asian', 'hispanic']\n",
    "asec24['race_cat'] = np.select(race_codes, race_choices, default = 'other')\n",
    "\n",
    "# State\n",
    "state_names = us.states.mapping('fips', 'name') # dictionary with STATEFIP as key\n",
    "state_names['11'] = 'District of Columbia' # DC isn't included, so manually add it\n",
    "asec24['state'] = asec24['STATEFIP'].astype(str).str.zfill(2) \n",
    "asec24['state'] = asec24['state'].map(state_names)\n",
    "\n",
    "# Kids\n",
    "child_dict = {i : 'has_child' for i in range(10) if i > 0}\n",
    "child_dict[0] = 'no_child'\n",
    "asec24['kids'] = asec24['NCHILD'].map(child_dict)\n",
    "\n",
    "\n",
    "# Disability\n",
    "disability_dict = {1 : 'no_dis', 2 : 'has_dis'}\n",
    "asec24['dis'] = asec24['DIFFANY'].map(disability_dict)"
   ]
  },
  {
   "cell_type": "markdown",
   "metadata": {},
   "source": [
    "Next, we'll map the new variables we've introduced. Let's also briefly identify them now:\n",
    "- `WORKLY`: whether an individual was working in the past year\n",
    "\n",
    "- `WANTJOB`: whether an individual, conditional on them not being in the labor force, wants a job\n",
    "\n",
    "- `WNLWNILF`: time passed since an individual not in the labor force has last worked\n",
    "\n",
    "- `WHYNWLY`: main reason for not working in the previous year\n",
    "\n",
    "- `ACTNLFLY`: main activity when not in the labor force in the past year\n",
    "\n",
    "- `INCWELFR`: pre-tax income recieved from public assistance incomes from last year\n",
    "\n",
    "- `OFFPOV`: poverty status\n",
    "\n",
    "- `HEALTH`: health status\n",
    "\n",
    "- `DISABWRK`: work disability status"
   ]
  },
  {
   "cell_type": "code",
   "execution_count": 7,
   "metadata": {},
   "outputs": [],
   "source": [
    "workly = {0 : 'NIU', 1 : 'no', 2 : 'yes'}\n",
    "asec24['workly'] = asec24['WORKLY'].map(workly)\n",
    "\n",
    "wantjob = {0 : 'NIU', 1 : 'no', 2 : 'yes', 3 : 'maybe', 4 : 'unsure', 9 : 'unknown'}\n",
    "asec24['wantjob'] = asec24['WANTJOB'].map(wantjob)\n",
    "\n",
    "asec24['whenlastworked'] = 'temp'\n",
    "whenlastworked = {0 : 'NIU', 10 : 'past_twelve_months', 30 : 'never_worked'}\n",
    "asec24['whenlastworked'] = asec24['WNLWNILF'].map(whenlastworked)\n",
    "asec24.loc[asec24['WNLWNILF'].isin(range(20,26)), 'whenlastworked'] = 'more_than_one_year'\n",
    "\n",
    "whynwly = {0 : 'NIU', 1 : 'could_not_find_work', 2 : 'ill_or_disabled', 3 : 'care_home_or_family',\n",
    "           4 : 'going_to_school', 5 : 'retired', 6 : 'armed_forces', 7 : 'other', 9 : 'missing'}\n",
    "asec24['whynotwork'] = asec24['WHYNWLY'].map(whynwly)\n",
    "\n",
    "activity = {0 : 'NIU', 10 : 'ill_or_disabled', 20 : 'care_home_or_family', 30 : 'going_to_school', 40 : 'retired',\n",
    "            50 : 'other', 51 : 'looking_for_work', 52 : 'no_work_available', 53 : 'unpaid_work', 54 : 'armed_forces'}\n",
    "asec24['activity'] = asec24['ACTNLFLY'].map(activity)\n",
    "\n",
    "asec24.loc[asec24['INCWELFR'] == 999999, 'INCWELFR'] = np.nan\n",
    "\n",
    "pov = {1 : 'below', 2 : 'above', 3 : 'NIU'}\n",
    "asec24['poverty'] = asec24['OFFPOV'].map(pov)\n",
    "\n",
    "disabwrk = {0 : 'NIU', 1 : 'no', 2 : 'yes'}\n",
    "asec24['workdis'] = asec24['DISABWRK'].map(disabwrk)"
   ]
  },
  {
   "cell_type": "markdown",
   "metadata": {},
   "source": [
    "Now we can look at our data. "
   ]
  },
  {
   "cell_type": "markdown",
   "metadata": {},
   "source": [
    "## Work Characteristics\n",
    "\n",
    "Let's look at the working habits of NEETs: why they're not working, when they last worked, and more. Let's first look at the share of NEETs that weren't working in their survey year (March 2024) and in the past year of 2023."
   ]
  },
  {
   "cell_type": "code",
   "execution_count": 8,
   "metadata": {},
   "outputs": [
    {
     "data": {
      "text/plain": [
       "(1856, 45)"
      ]
     },
     "execution_count": 8,
     "metadata": {},
     "output_type": "execute_result"
    }
   ],
   "source": [
    "neets24 = asec24.query('AGE >= 16 and AGE <= 24 and NEET == \"neet\"').copy()\n",
    "neets24.shape"
   ]
  },
  {
   "cell_type": "markdown",
   "metadata": {},
   "source": [
    "Only 1856 observations is quite small for our 2024 NEETs. For now, let's broaden our age-range to 16-29, which we're allowed to do with the ASEC."
   ]
  },
  {
   "cell_type": "code",
   "execution_count": 9,
   "metadata": {},
   "outputs": [
    {
     "data": {
      "text/plain": [
       "(3213, 45)"
      ]
     },
     "execution_count": 9,
     "metadata": {},
     "output_type": "execute_result"
    }
   ],
   "source": [
    "neets24 = asec24.query('AGE >= 16 and AGE <= 29 and NEET == \"neet\"').copy()\n",
    "neets24.shape"
   ]
  },
  {
   "cell_type": "markdown",
   "metadata": {},
   "source": [
    "That's a bit better. Okay, let's look at how many NEETs didn't work in the past year."
   ]
  },
  {
   "cell_type": "code",
   "execution_count": 32,
   "metadata": {},
   "outputs": [
    {
     "data": {
      "text/plain": [
       "sex\n",
       "men      66.794811\n",
       "women    73.404265\n",
       "dtype: float64"
      ]
     },
     "execution_count": 32,
     "metadata": {},
     "output_type": "execute_result"
    }
   ],
   "source": [
    "notworkpastyear = neets24.groupby(['sex', 'workly'])['ASECWT'].sum().unstack()\n",
    "notworkpastyear = notworkpastyear.eval('no / (no + yes) * 100')\n",
    "notworkpastyear"
   ]
  },
  {
   "cell_type": "markdown",
   "metadata": {},
   "source": [
    "About two-in-three male and female NEETs didn't work at all in 2023. The natural next question, then, is why didn't they work?"
   ]
  },
  {
   "cell_type": "code",
   "execution_count": 88,
   "metadata": {},
   "outputs": [
    {
     "data": {
      "image/png": "[encoded data removed]",
      "text/plain": [
       "<Figure size 800x300 with 1 Axes>"
      ]
     },
     "metadata": {},
     "output_type": "display_data"
    }
   ],
   "source": [
    "whynotwork = neets24.groupby(['sex', 'whynotwork'])['ASECWT'].sum().unstack()\n",
    "whynotwork = whynotwork.drop('NIU', axis=1)\n",
    "\n",
    "whynotwork_pct = pd.DataFrame(columns=whynotwork.columns, index=['men', 'women'])\n",
    "\n",
    "for i in whynotwork.columns:\n",
    "    whynotwork_pct.loc['men', i] =  whynotwork.loc['men', i] / np.sum(whynotwork.loc['men']) * 100\n",
    "    whynotwork_pct.loc['women', i] =  whynotwork.loc['women', i] / np.sum(whynotwork.loc['women']) * 100\n",
    "\n",
    "whynotwork_pct.T.plot(kind='bar', figsize=(8,3), color={'men' : 'skyblue', 'women' : 'maroon'})\n",
    "plt.xticks(rotation=45);\n"
   ]
  },
  {
   "cell_type": "markdown",
   "metadata": {},
   "source": [
    "Of the NEETs who didn't work in the previous year either, men were most likely to be sick or going to school, and women were most likely to be taking care of the home or their family. The responses of going to school are a bit weird, given that they were recorded as not being in school in March 2024; maybe they graduated from school in the Winter of 2023, but have been unemployed since? \n",
    "\n",
    "Anyway, let's look at the last time that our NEETs worked. "
   ]
  },
  {
   "cell_type": "code",
   "execution_count": 97,
   "metadata": {},
   "outputs": [
    {
     "name": "stdout",
     "output_type": "stream",
     "text": [
      "whenlastworked  more_than_one_year  never_worked  past_twelve_months\n",
      "sex                                                                 \n",
      "men                       49807.02       77846.9             4781.47\n",
      "women                     28170.55       46726.0             9211.28\n"
     ]
    }
   ],
   "source": [
    "lastwrk = neets24.groupby(['sex', 'whenlastworked'])['ASECWT'].sum().unstack()\n",
    "lastwrk = lastwrk.drop('NIU', axis=1)\n",
    "print(lastwrk)"
   ]
  },
  {
   "cell_type": "code",
   "execution_count": 99,
   "metadata": {},
   "outputs": [
    {
     "data": {
      "image/png": "[encoded data removed]",
      "text/plain": [
       "<Figure size 800x300 with 1 Axes>"
      ]
     },
     "metadata": {},
     "output_type": "display_data"
    }
   ],
   "source": [
    "lastwrktotmen = lastwrk.loc['men'].sum()\n",
    "lastwrktotwomen = lastwrk.loc['women'].sum()\n",
    "\n",
    "for i in lastwrk.columns:\n",
    "    lastwrk.loc['men', i] = lastwrk.loc['men', i] / lastwrktotmen * 100 \n",
    "    lastwrk.loc['women', i] = lastwrk.loc['women', i] / lastwrktotwomen * 100\n",
    "\n",
    "lastwrk.T.plot(kind='bar', figsize=(8,3), color={'men' : 'skyblue', 'women' : 'maroon'})\n",
    "plt.xticks(rotation=45);"
   ]
  },
  {
   "cell_type": "markdown",
   "metadata": {},
   "source": [
    "Wow, about six-in-ten NEETs who didn't work in 2023-March 2024 have never worked, while about three to four-in-ten last worked more than a year ago. It seems like we have a portion of NEETs that have never worked for pay. Remember that the about two-thirds of March 2024 NEETs didn't work in 2023 either, so this would mean that about 40% of NEETs have never worked for pay before. \n",
    "\n",
    "Next, let's look at the share of NEETs that want a job."
   ]
  },
  {
   "cell_type": "code",
   "execution_count": 105,
   "metadata": {},
   "outputs": [
    {
     "data": {
      "text/plain": [
       "sex\n",
       "men      19.286763\n",
       "women    12.933689\n",
       "Name: want_job_rate, dtype: float64"
      ]
     },
     "execution_count": 105,
     "metadata": {},
     "output_type": "execute_result"
    }
   ],
   "source": [
    "want_job = neets24.groupby(['sex', 'wantjob'])['ASECWT'].sum().unstack()\n",
    "want_job = want_job.drop('NIU', axis=1)\n",
    "want_job = want_job.eval('want_job_rate = yes / (yes + no) * 100')\n",
    "want_job['want_job_rate']"
   ]
  },
  {
   "cell_type": "markdown",
   "metadata": {},
   "source": [
    "Only about 20% of male NEETs and 13% of female NEETs not in the labor force actually want a job. Of course, we're now wondering why they don't want a job and, relatedly, how they're supporting themselves."
   ]
  },
  {
   "cell_type": "markdown",
   "metadata": {},
   "source": [
    "## Disability, Health, and Welfare\n",
    "\n",
    "Naturally, we ask what is preventing NEETs from attending school or entering the workforce. We already have some reasonse from before, namely taking care of children/family or being disabled. But let's further explore this now. \n",
    "\n",
    "Let's look at the share of NEETs recieving any welfare from public assistance programs."
   ]
  },
  {
   "cell_type": "code",
   "execution_count": 15,
   "metadata": {},
   "outputs": [
    {
     "name": "stdout",
     "output_type": "stream",
     "text": [
      "sex\n",
      "men      0.407091\n",
      "women    3.630877\n",
      "Name: welfare_rate, dtype: float64\n"
     ]
    }
   ],
   "source": [
    "neets24['receive_welfare'] = 'no'\n",
    "neets24.loc[(neets24['INCWELFR'] > 0) & (neets24['INCWELFR'].notnull()), 'receive_welfare'] = 'yes'\n",
    "\n",
    "recieving_welfare = neets24.groupby(['sex', 'receive_welfare'])['ASECWT'].sum().unstack()\n",
    "recieving_welfare = recieving_welfare.eval('welfare_rate = yes / (yes + no) * 100')\n",
    "print(recieving_welfare['welfare_rate'])"
   ]
  },
  {
   "cell_type": "markdown",
   "metadata": {},
   "source": [
    "Very few NEETs are recorded as receiving welfare, with women being more likely than men to be receiving some welfare, presumably from child-focused public assistance. \n",
    "\n",
    "Let's look at disability. What share of NEETs have a work disability?"
   ]
  },
  {
   "cell_type": "code",
   "execution_count": 18,
   "metadata": {},
   "outputs": [
    {
     "name": "stdout",
     "output_type": "stream",
     "text": [
      "sex\n",
      "men      17.124762\n",
      "women    11.648293\n",
      "Name: workdis_rate, dtype: float64\n"
     ]
    }
   ],
   "source": [
    "work_dis = neets24.groupby(['sex', 'workdis'])['ASECWT'].sum().unstack()\n",
    "work_dis = work_dis.eval('workdis_rate = yes / (yes + no) * 100')\n",
    "print(work_dis['workdis_rate']) "
   ]
  },
  {
   "cell_type": "markdown",
   "metadata": {},
   "source": [
    "About one-in-ten NEET women and one-in-five NEET men have a work disability, which I imagine is much higher than the general population. Let's also look at the general health of NEETs. The variable `HEALTH`, is an ordinal variable describing the respondent's health condition on a five-point scale, with 1 being 'excellent' and 5 being 'poor.' While we generally shouldn't be averaging an ordinal variable, let's do it here and see the results."
   ]
  },
  {
   "cell_type": "code",
   "execution_count": 31,
   "metadata": {},
   "outputs": [
    {
     "data": {
      "text/plain": [
       "sex\n",
       "men      2.344925\n",
       "women    2.265029\n",
       "dtype: float64"
      ]
     },
     "execution_count": 31,
     "metadata": {},
     "output_type": "execute_result"
    }
   ],
   "source": [
    "health = neets24.groupby('sex')[['HEALTH', 'ASECWT']].apply(lambda x: np.average(x['HEALTH'], \n",
    "                                                                                 weights=x['ASECWT']))\n",
    "health\n"
   ]
  },
  {
   "cell_type": "markdown",
   "metadata": {},
   "source": [
    "A 2 is equivalent to 'very good' and a 3 is 'good,' so it doesn't really seem like NEETs rate their health as poor. \n",
    "\n",
    "As a final question here, let's look at how many NEETs are qualified as below the poverty limit."
   ]
  },
  {
   "cell_type": "code",
   "execution_count": 33,
   "metadata": {},
   "outputs": [
    {
     "name": "stdout",
     "output_type": "stream",
     "text": [
      "sex\n",
      "men      24.733399\n",
      "women    30.709358\n",
      "Name: pov_rate, dtype: float64\n"
     ]
    }
   ],
   "source": [
    "poverty = neets24.groupby(['sex', 'poverty'])['ASECWT'].sum().unstack()\n",
    "poverty = poverty.eval('pov_rate = below / (above + below) * 100')\n",
    "print(poverty['pov_rate'])"
   ]
  },
  {
   "cell_type": "markdown",
   "metadata": {},
   "source": [
    "Wow, about one-in-four NEET men and one-in-three NEET women are classified as being in poverty. So, we have a population of men and women who are more likely to be impoverished, to have not worked at all for more than one year (or ever at all), and to have a work disability. We still haven't really solved *how* NEETs are supporting themselves financially, with the question for men being more open; we can imagine that since a large share of NEET women are taking care of children or family, they have support through their spouse, or government assistance. Of course, dealing with such a small sample doesn't really help either. \n",
    "\n",
    "Either way, we have learned a few interesting things as noted above. I think the most interesting is that about two-in-three NEET men and women hadn't been employed for an entire year. That statistic, coupled with the share of them being disabled or never having worked, points to NEET status likely being a chronic condition. As we saw in our time-series analyses in chapter 2, while there are temporal shocks to the NEET population from recessions and such, there's a fairly stable share of young men and women who have been NEETs all the way back to the 90s. \n",
    "\n",
    "Additionally, it could be argued from our analyses that NEET men are more concerning than NEET women: a sizeable share of NEET woman are taking care of children or their family; we wouldn't view her situation in the same way as a young man who hasn't worked for a whole year due to illness or simply not finding work. "
   ]
  },
  {
   "cell_type": "markdown",
   "metadata": {},
   "source": [
    "## Conclusion\n",
    "\n",
    "We've looked at the characteristics of NEETs and found some interesting qualities of this population, while having some questions left unanswered. As we've seen in chapter 2, unfortunately there's about 10% of young men and women with no disability or kids who have consistently been unemployed and not even in the labor force. While there may be policies to help these people get back into the economy, I don't think it'll be easy, and I'm definitely not sure how we would go about it. "
   ]
  }
 ],
 "metadata": {
  "kernelspec": {
   "display_name": "venv",
   "language": "python",
   "name": "python3"
  },
  "language_info": {
   "codemirror_mode": {
    "name": "ipython",
    "version": 3
   },
   "file_extension": ".py",
   "mimetype": "text/x-python",
   "name": "python",
   "nbconvert_exporter": "python",
   "pygments_lexer": "ipython3",
   "version": "3.13.2"
  }
 },
 "nbformat": 4,
 "nbformat_minor": 2
}
