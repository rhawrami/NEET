{
 "cells": [
  {
   "cell_type": "code",
   "execution_count": 1,
   "metadata": {},
   "outputs": [],
   "source": [
    "import numpy as np\n",
    "import pandas as pd\n",
    "import matplotlib.pyplot as plt\n",
    "plt.style.use('dark_background')"
   ]
  },
  {
   "cell_type": "markdown",
   "metadata": {},
   "source": [
    "# Preface"
   ]
  },
  {
   "cell_type": "markdown",
   "metadata": {},
   "source": [
    "## What is a NEET?"
   ]
  },
  {
   "cell_type": "markdown",
   "metadata": {},
   "source": [
    "A NEET, [defined as](https://www.oecd.org/en/data/indicators/youth-not-in-employment-education-or-training-neet.html) an individual (typically young) that is *not in education, employment or training*. While empirical definitions for NEETs vary a bit--depending on age ranges to include (16 to 24? 20 to 29?), or how to define the activity criteria (unemployed? or not in labor force?)--the general NEET rates shouldn't vary too considerably. Rather, the directional trends should stay the same. \n",
    "\n",
    "Nonetheless, we'll try out multiple definitions throughout this project. As a reference, the OECD [publishes NEET rates](https://www.oecd.org/en/data/indicators/youth-not-in-employment-education-or-training-neet.html?oecdcontrol-dec63071aa-var6=15_29) at the country-level. Let's briefly take a look at the overall NEET rates by country in 2022, looking at 15-29 year-olds."
   ]
  },
  {
   "cell_type": "code",
   "execution_count": 15,
   "metadata": {},
   "outputs": [
    {
     "data": {
      "application/vnd.microsoft.datawrangler.viewer.v0+json": {
       "columns": [
        {
         "name": "index",
         "rawType": "int64",
         "type": "integer"
        },
        {
         "name": "country",
         "rawType": "object",
         "type": "string"
        },
        {
         "name": "rate",
         "rawType": "float64",
         "type": "float"
        }
       ],
       "conversionMethod": "pd.DataFrame",
       "ref": "cdae1b6d-6e81-4760-b2e8-582f7992e412",
       "rows": [
        [
         "0",
         "Türkiye",
         "27.931236"
        ],
        [
         "1",
         "Italy",
         "22.926674"
        ],
        [
         "2",
         "Mexico",
         "19.481358"
        ],
        [
         "3",
         "Spain",
         "16.476675"
        ],
        [
         "4",
         "Greece",
         "16.008015"
        ]
       ],
       "shape": {
        "columns": 2,
        "rows": 5
       }
      },
      "text/html": [
       "<div>\n",
       "<style scoped>\n",
       "    .dataframe tbody tr th:only-of-type {\n",
       "        vertical-align: middle;\n",
       "    }\n",
       "\n",
       "    .dataframe tbody tr th {\n",
       "        vertical-align: top;\n",
       "    }\n",
       "\n",
       "    .dataframe thead th {\n",
       "        text-align: right;\n",
       "    }\n",
       "</style>\n",
       "<table border=\"1\" class=\"dataframe\">\n",
       "  <thead>\n",
       "    <tr style=\"text-align: right;\">\n",
       "      <th></th>\n",
       "      <th>country</th>\n",
       "      <th>rate</th>\n",
       "    </tr>\n",
       "  </thead>\n",
       "  <tbody>\n",
       "    <tr>\n",
       "      <th>0</th>\n",
       "      <td>Türkiye</td>\n",
       "      <td>27.931236</td>\n",
       "    </tr>\n",
       "    <tr>\n",
       "      <th>1</th>\n",
       "      <td>Italy</td>\n",
       "      <td>22.926674</td>\n",
       "    </tr>\n",
       "    <tr>\n",
       "      <th>2</th>\n",
       "      <td>Mexico</td>\n",
       "      <td>19.481358</td>\n",
       "    </tr>\n",
       "    <tr>\n",
       "      <th>3</th>\n",
       "      <td>Spain</td>\n",
       "      <td>16.476675</td>\n",
       "    </tr>\n",
       "    <tr>\n",
       "      <th>4</th>\n",
       "      <td>Greece</td>\n",
       "      <td>16.008015</td>\n",
       "    </tr>\n",
       "  </tbody>\n",
       "</table>\n",
       "</div>"
      ],
      "text/plain": [
       "   country       rate\n",
       "0  Türkiye  27.931236\n",
       "1    Italy  22.926674\n",
       "2   Mexico  19.481358\n",
       "3    Spain  16.476675\n",
       "4   Greece  16.008015"
      ]
     },
     "execution_count": 15,
     "metadata": {},
     "output_type": "execute_result"
    }
   ],
   "source": [
    "oecd_overall = pd.read_csv('../datasets/OECD_15to29_NEET.csv', skiprows=3, names = ['country', 'rate'])\n",
    "oecd_overall.sort_values(by='rate', ascending=False).head()"
   ]
  },
  {
   "cell_type": "markdown",
   "metadata": {},
   "source": [
    "In 2022, 28% of Turkey's 15-29 population were NEETs; 23% for Italy and 19% for Mexico. That's quite stark, but what's the average? and how about the US?"
   ]
  },
  {
   "cell_type": "code",
   "execution_count": 34,
   "metadata": {},
   "outputs": [
    {
     "name": "stdout",
     "output_type": "stream",
     "text": [
      "           country       rate\n",
      "10  OECD - Average  12.645776\n"
     ]
    }
   ],
   "source": [
    "oecd_avg = oecd_overall[oecd_overall['country'].str.startswith('OECD')]\n",
    "print(oecd_avg)"
   ]
  },
  {
   "cell_type": "code",
   "execution_count": 33,
   "metadata": {},
   "outputs": [
    {
     "name": "stdout",
     "output_type": "stream",
     "text": [
      "         country       rate\n",
      "5  United States  14.460077\n"
     ]
    }
   ],
   "source": [
    "usa_avg = oecd_overall[oecd_overall['country'].str.startswith('United States')]\n",
    "print(usa_avg)"
   ]
  },
  {
   "cell_type": "markdown",
   "metadata": {},
   "source": [
    "The US is above the OECD average NEET rate by a bit. Let's plot these rates to see the distribution."
   ]
  },
  {
   "cell_type": "code",
   "execution_count": 65,
   "metadata": {},
   "outputs": [
    {
     "data": {
      "image/png": "[encoded data removed]",
      "text/plain": [
       "<Figure size 500x400 with 1 Axes>"
      ]
     },
     "metadata": {},
     "output_type": "display_data"
    }
   ],
   "source": [
    "plt.figure(figsize=(5,4))\n",
    "plt.bar(x=oecd_overall['country'], height=oecd_overall['rate'])\n",
    "plt.bar(x=usa_avg['country'], height=usa_avg['rate'], color = 'red', label='USA')\n",
    "plt.bar(x=oecd_avg['country'], height=oecd_avg['rate'], color = 'orange', label = 'OECD Average')\n",
    "plt.title('OECD 15-29 y.o. NEET Rate (2022)')\n",
    "plt.xticks([])\n",
    "plt.legend();"
   ]
  },
  {
   "cell_type": "markdown",
   "metadata": {},
   "source": [
    "Another question some have (and what we will primarily be concerned with) is how NEET rates vary by gender? Are young men more likely to be sitting at home doing nothing? Fortunately, OECD breaks their data down by gender as well."
   ]
  },
  {
   "cell_type": "code",
   "execution_count": 48,
   "metadata": {},
   "outputs": [
    {
     "name": "stdout",
     "output_type": "stream",
     "text": [
      "           country    ratemen  ratewomen\n",
      "12  OECD - Average  11.061154  14.656483\n",
      "         country    ratemen  ratewomen\n",
      "6  United States  12.724692   16.20015\n"
     ]
    }
   ],
   "source": [
    "oecd_men = pd.read_csv('../datasets/OECD_15to29_Men_NEET.csv', skiprows=3, names = ['country', 'rate'])\n",
    "oecd_women = pd.read_csv('../datasets/OECD_15to29_Women_NEET.csv', skiprows=3, names = ['country', 'rate'])\n",
    "\n",
    "oecd_gender = oecd_men.merge(oecd_women, on='country', suffixes=['men', 'women'])\n",
    "\n",
    "oecd_avg_gender = oecd_gender[oecd_gender['country'].str.startswith('OECD')]\n",
    "oecd_US_gender = oecd_gender[oecd_gender['country'].str.startswith('United States')]\n",
    "\n",
    "print(oecd_avg_gender)\n",
    "print(oecd_US_gender)"
   ]
  },
  {
   "cell_type": "markdown",
   "metadata": {},
   "source": [
    "Here, it looks like the NEET rate was higher for women than it was for men in 2022, both overall and for the United States. How about for other countries?"
   ]
  },
  {
   "cell_type": "code",
   "execution_count": 66,
   "metadata": {},
   "outputs": [
    {
     "data": {
      "image/png": "[encoded data removed]",
      "text/plain": [
       "<Figure size 500x400 with 1 Axes>"
      ]
     },
     "metadata": {},
     "output_type": "display_data"
    }
   ],
   "source": [
    "plt.figure(figsize=(5,4))\n",
    "plt.scatter(x=oecd_gender['ratemen'], y=oecd_gender['ratewomen'])\n",
    "plt.scatter(x=oecd_avg_gender['ratemen'], y=oecd_avg_gender['ratewomen'], color = 'orange', label = 'OECD Average')\n",
    "plt.scatter(x=oecd_US_gender['ratemen'], y=oecd_US_gender['ratewomen'], color = 'red', label = 'USA')\n",
    "plt.axline(xy1=(0,0), slope=1, linestyle=':', alpha = .75)\n",
    "plt.xlabel('Male NEET Rate')\n",
    "plt.ylabel('Female NEET Rate')\n",
    "plt.title('Women more likely to be NEETs in most countries')\n",
    "plt.legend();"
   ]
  },
  {
   "cell_type": "markdown",
   "metadata": {},
   "source": [
    "Most countries seem to have higher female NEET rates, including the US. Of course, this pattern may vary depending on how we define NEETs, and this is what we'll be exploring throughout this project. Of the [research](https://www.stlouisfed.org/on-the-economy/2024/aug/not-working-out-of-school-young-adults-us-race-geography) explicitly [focusing](https://cepr.net/publications/are-young-men-falling-behind-young-women-the-neet-rate-helps-shed-light-on-the-matter/) on [U.S. NEETs](https://measureofamerica.org/youth-disconnection-2024/) (note that NEETs may also be referred to as 'disconnected youth', though these are generally interchangeable), they generally find a slightly higher rate among young women than men; as for time trends, there's generally been a decrease in the NEET rate, with some noise along the way. "
   ]
  },
  {
   "cell_type": "markdown",
   "metadata": {},
   "source": [
    "## The Data"
   ]
  },
  {
   "cell_type": "markdown",
   "metadata": {},
   "source": [
    "To study NEETs in the US, we'll be using data from two sources, both from the US Census Bureau:\n",
    "\n",
    "1. [Current Population Survey](https://www.census.gov/programs-surveys/cps/about.html): The CPS is a monthly survey that includes questions on a host of topics related to the labor force. This is where the BLS derives their estimates for weekly earnings, unemployment, labor force participation, and many more.\n",
    "\n",
    "2. [American Community Survey](https://www.census.gov/programs-surveys/acs/about.html): The ACS is a annual survey collecting data on a less focused subject range, but the questions needed to study NEETs are included in this survey as well.\n",
    "\n",
    "We'll be using both the CPS and ACS through the [Integrated Public Use Microdata Series](https://www.ipums.org/), or IPUMS for short. IPUMS, hosted by the University of Minnesota allows for easy analysis of these surveys, especially with changes in time. \n",
    "\n",
    "We'll be accessing the IPUMS API through `ipumspy`, a python library used for working with with IPUMS API and the data. To access the API, you'll need an IPUMS API key, which you can be [guided through here](https://ipumspy.readthedocs.io/en/latest/getting_started.html)."
   ]
  }
 ],
 "metadata": {
  "kernelspec": {
   "display_name": "venv",
   "language": "python",
   "name": "python3"
  },
  "language_info": {
   "codemirror_mode": {
    "name": "ipython",
    "version": 3
   },
   "file_extension": ".py",
   "mimetype": "text/x-python",
   "name": "python",
   "nbconvert_exporter": "python",
   "pygments_lexer": "ipython3",
   "version": "3.13.2"
  }
 },
 "nbformat": 4,
 "nbformat_minor": 2
}
