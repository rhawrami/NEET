{
 "cells": [
  {
   "cell_type": "code",
   "execution_count": 1,
   "metadata": {},
   "outputs": [],
   "source": [
    "import numpy as np\n",
    "import pandas as pd\n",
    "import matplotlib.pyplot as plt\n",
    "plt.style.use('dark_background')"
   ]
  },
  {
   "cell_type": "markdown",
   "metadata": {},
   "source": [
    "# Preface"
   ]
  },
  {
   "cell_type": "markdown",
   "metadata": {},
   "source": [
    "## What is a NEET?"
   ]
  },
  {
   "cell_type": "markdown",
   "metadata": {},
   "source": [
    "A NEET, [defined as](https://www.oecd.org/en/data/indicators/youth-not-in-employment-education-or-training-neet.html) an individual (typically young) that is *not in education, employment or training*. While empirical definitions for NEETs vary a bit--depending on age ranges to include (16 to 24? 20 to 29?), or how to define the activity criteria (unemployed? or not in labor force?)--the general NEET rates shouldn't vary too considerably. Rather, the directional trends should stay the same. \n",
    "\n",
    "Nonetheless, we'll try out multiple definitions throughout this project. As a reference, the OECD [publishes NEET rates](https://www.oecd.org/en/data/indicators/youth-not-in-employment-education-or-training-neet.html?oecdcontrol-dec63071aa-var6=15_29) at the country-level. Let's briefly take a look at the overall NEET rates by country in 2022, looking at 15-29 year-olds."
   ]
  },
  {
   "cell_type": "code",
   "execution_count": 8,
   "metadata": {},
   "outputs": [
    {
     "data": {
      "application/vnd.microsoft.datawrangler.viewer.v0+json": {
       "columns": [
        {
         "name": "index",
         "rawType": "int64",
         "type": "integer"
        },
        {
         "name": "country",
         "rawType": "object",
         "type": "string"
        },
        {
         "name": "rate",
         "rawType": "float64",
         "type": "float"
        }
       ],
       "conversionMethod": "pd.DataFrame",
       "ref": "254e4e5e-1cfe-45f1-89b2-cf800a44cc6b",
       "rows": [
        [
         "0",
         "Türkiye",
         "27.931236"
        ],
        [
         "1",
         "Italy",
         "22.926674"
        ],
        [
         "2",
         "Mexico",
         "19.481358"
        ],
        [
         "3",
         "Spain",
         "16.476675"
        ],
        [
         "4",
         "Greece",
         "16.008015"
        ]
       ],
       "shape": {
        "columns": 2,
        "rows": 5
       }
      },
      "text/html": [
       "<div>\n",
       "<style scoped>\n",
       "    .dataframe tbody tr th:only-of-type {\n",
       "        vertical-align: middle;\n",
       "    }\n",
       "\n",
       "    .dataframe tbody tr th {\n",
       "        vertical-align: top;\n",
       "    }\n",
       "\n",
       "    .dataframe thead th {\n",
       "        text-align: right;\n",
       "    }\n",
       "</style>\n",
       "<table border=\"1\" class=\"dataframe\">\n",
       "  <thead>\n",
       "    <tr style=\"text-align: right;\">\n",
       "      <th></th>\n",
       "      <th>country</th>\n",
       "      <th>rate</th>\n",
       "    </tr>\n",
       "  </thead>\n",
       "  <tbody>\n",
       "    <tr>\n",
       "      <th>0</th>\n",
       "      <td>Türkiye</td>\n",
       "      <td>27.931236</td>\n",
       "    </tr>\n",
       "    <tr>\n",
       "      <th>1</th>\n",
       "      <td>Italy</td>\n",
       "      <td>22.926674</td>\n",
       "    </tr>\n",
       "    <tr>\n",
       "      <th>2</th>\n",
       "      <td>Mexico</td>\n",
       "      <td>19.481358</td>\n",
       "    </tr>\n",
       "    <tr>\n",
       "      <th>3</th>\n",
       "      <td>Spain</td>\n",
       "      <td>16.476675</td>\n",
       "    </tr>\n",
       "    <tr>\n",
       "      <th>4</th>\n",
       "      <td>Greece</td>\n",
       "      <td>16.008015</td>\n",
       "    </tr>\n",
       "  </tbody>\n",
       "</table>\n",
       "</div>"
      ],
      "text/plain": [
       "   country       rate\n",
       "0  Türkiye  27.931236\n",
       "1    Italy  22.926674\n",
       "2   Mexico  19.481358\n",
       "3    Spain  16.476675\n",
       "4   Greece  16.008015"
      ]
     },
     "execution_count": 8,
     "metadata": {},
     "output_type": "execute_result"
    }
   ],
   "source": [
    "oecd_overall = pd.read_csv('../datasets/OECD_15to29_NEET.csv', skiprows=3, names = ['country', 'rate'])\n",
    "oecd_overall.head()"
   ]
  }
 ],
 "metadata": {
  "kernelspec": {
   "display_name": "venv",
   "language": "python",
   "name": "python3"
  },
  "language_info": {
   "codemirror_mode": {
    "name": "ipython",
    "version": 3
   },
   "file_extension": ".py",
   "mimetype": "text/x-python",
   "name": "python",
   "nbconvert_exporter": "python",
   "pygments_lexer": "ipython3",
   "version": "3.13.2"
  }
 },
 "nbformat": 4,
 "nbformat_minor": 2
}
