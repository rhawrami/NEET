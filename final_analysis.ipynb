{
 "cells": [
  {
   "cell_type": "code",
   "execution_count": 181,
   "id": "a9465422",
   "metadata": {},
   "outputs": [],
   "source": [
    "import numpy as np\n",
    "import pandas as pd\n",
    "import matplotlib.pyplot as plt\n",
    "from dotenv import load_dotenv\n",
    "import os\n",
    "import concurrent.futures\n",
    "import us\n",
    "from ipumspy import readers\n",
    "from scripts.clean_ipums import get_CPS\n",
    "import plotly.graph_objects as go\n",
    "import re"
   ]
  },
  {
   "cell_type": "markdown",
   "id": "bf99e8bb",
   "metadata": {},
   "source": [
    "# Final Analysis for Research Brief"
   ]
  },
  {
   "cell_type": "markdown",
   "id": "7e239486",
   "metadata": {},
   "source": [
    "## Data"
   ]
  },
  {
   "cell_type": "markdown",
   "id": "50e78c22",
   "metadata": {},
   "source": [
    "We will be requesting monthly CPS data from 1990 to 2024, with variables on economic and educational outcomes, as well as information on demographic characteristics, like race, geography, and disability and parental status. \n",
    "\n",
    "Note that this will take some time, given the number of datasets we're requesting from IPUMS. We're multithreading though, which should speed this up quite a bit."
   ]
  },
  {
   "cell_type": "code",
   "execution_count": null,
   "id": "02d00173",
   "metadata": {},
   "outputs": [],
   "source": [
    "load_dotenv() # using a .env file\n",
    "              # place your API key as IPUMS_API_KEY=\"xxx\"\n",
    "os.makedirs('finaldata',exist_ok=True) # make dir for files\n",
    "\n",
    "my_vars = {'AGE', 'SEX', 'RACE', 'HISPAN', 'NCHILD', \n",
    "           'EMPSTAT', 'LABFORCE', 'SCHLCOLL', 'STATEFIP'}  # vars set\n",
    "start,end = 1990,2024 # year range\n",
    "# years < 2008 don't have 'DIFFANY', which causes exceptions when requesting data\n",
    "vars_dict = {yr: my_vars if yr < 2008 \n",
    "                         else my_vars | {'DIFFANY'} # add 'DIFFANY' to set\n",
    "                                for yr in range(start,end+1)} \n",
    "#submit multiple requests\n",
    "with concurrent.futures.ThreadPoolExecutor(max_workers=2) as exe: \n",
    "    future_to_year = {exe.submit(get_CPS, # request function\n",
    "                                 yr, # year\n",
    "                                 vars_dict[yr], # variables for a given year\n",
    "                                 f'NEET_{yr}', # file name\n",
    "                                 'finaldata'): # data directory \n",
    "                                              yr for yr in range(start,end+1)} # single year CPS data request\n",
    "    for future in concurrent.futures.as_completed(future_to_year):\n",
    "        yr = future_to_year[future] # year to print exceptions\n",
    "        try:\n",
    "            result = future.result()\n",
    "        except Exception as exc:\n",
    "            print(f'Year {yr} generated an exception.')"
   ]
  },
  {
   "cell_type": "markdown",
   "id": "d3c42894",
   "metadata": {},
   "source": [
    "Let's now load the data in. We can make some specifications which should speed this up a bit as well:\n",
    "- only respondents aged 16-24 years-old\n",
    "- only respondents not surveyed in June, July and August\n",
    "- only respondents not part of the ASEC\n",
    "- only respondents with recorded enrollment and employment statuses"
   ]
  },
  {
   "cell_type": "code",
   "execution_count": 20,
   "id": "bffbbef3",
   "metadata": {},
   "outputs": [],
   "source": [
    "# there's definitely a quicker way to do this, \n",
    "# but I wrote it quickly and it loads in about 5 min for me, fine for now\n",
    "# will update at some point, if we need to use more cps data in the future\n",
    "import warnings\n",
    "warnings.filterwarnings(action = 'ignore', \n",
    "                        category = readers.CitationWarning) # catch warning output so output doesn't get cluttered\n",
    "\n",
    "months = [i for i in range(1,13) if i not in [6,7,8]] # exclude summer months\n",
    "timetrends = pd.DataFrame() # init empty df\n",
    "\n",
    "for yr in range(start,end+1):\n",
    "    ddi_name = os.path.join('finaldata',f'NEET_{yr}.xml')\n",
    "    ddi = readers.read_ipums_ddi(ddi_name)\n",
    "\n",
    "    dat_name = os.path.join('finaldata',f'NEET_{yr}.dat.gz')\n",
    "    iter_df = readers.read_microdata_chunked(ddi,\n",
    "                                             filename=dat_name,\n",
    "                                             chunksize=10000)\n",
    "    \n",
    "    df = pd.concat([df[(df['AGE'] >= 16) &  \n",
    "                           (df['AGE'] <= 24) & \n",
    "                           (df['MONTH'].isin(months)) &\n",
    "                           ((df['ASECFLAG'] == 2) | (df['ASECFLAG'].isnull())) &\n",
    "                           (df['EMPSTAT'].isin(range(10,37))) &\n",
    "                           (df['SCHLCOLL'].isin(range(1,6)))] for df in iter_df],\n",
    "                           ignore_index=True) # load in year df, with specifications\n",
    "    timetrends = pd.concat(objs=(timetrends,\n",
    "                           df),\n",
    "                           ignore_index=True) # concat master df with yr df"
   ]
  },
  {
   "cell_type": "code",
   "execution_count": 21,
   "id": "5ec865b3",
   "metadata": {},
   "outputs": [
    {
     "data": {
      "text/plain": [
       "ASECFLAG\n",
       "<NA>    4094808\n",
       "2        505280\n",
       "Name: count, dtype: Int64"
      ]
     },
     "execution_count": 21,
     "metadata": {},
     "output_type": "execute_result"
    }
   ],
   "source": [
    "timetrends['ASECFLAG'].value_counts(dropna=False)"
   ]
  },
  {
   "cell_type": "markdown",
   "id": "7327c408",
   "metadata": {},
   "source": [
    "Let's quickly check to see if everything looks right."
   ]
  },
  {
   "cell_type": "code",
   "execution_count": 22,
   "id": "b4d19935",
   "metadata": {},
   "outputs": [
    {
     "data": {
      "text/plain": [
       "YEAR\n",
       "1990    167253\n",
       "1991    162629\n",
       "1992    156885\n",
       "1993    151236\n",
       "1994    146105\n",
       "1995    140486\n",
       "1996    125573\n",
       "1997    126238\n",
       "1998    125980\n",
       "1999    127317\n",
       "2000    128052\n",
       "2001    137020\n",
       "2002    147484\n",
       "2003    146914\n",
       "2004    145181\n",
       "2005    144497\n",
       "2006    144000\n",
       "2007    141154\n",
       "2008    139853\n",
       "2009    140537\n",
       "2010    140636\n",
       "2011    137225\n",
       "2012    133728\n",
       "2013    131956\n",
       "2014    131935\n",
       "2015    129468\n",
       "2016    127044\n",
       "2017    123214\n",
       "2018    116837\n",
       "2019    110647\n",
       "2020    100619\n",
       "2021     97712\n",
       "2022     92702\n",
       "2023     90768\n",
       "2024     91203\n",
       "Name: count, dtype: Int64"
      ]
     },
     "execution_count": 22,
     "metadata": {},
     "output_type": "execute_result"
    }
   ],
   "source": [
    "timetrends['YEAR'].value_counts().sort_index()"
   ]
  },
  {
   "cell_type": "code",
   "execution_count": 23,
   "id": "f422d9f6",
   "metadata": {},
   "outputs": [
    {
     "data": {
      "text/plain": [
       "MONTH\n",
       "1     515986\n",
       "2     512933\n",
       "3     505280\n",
       "4     513984\n",
       "5     512350\n",
       "9     510744\n",
       "10    511733\n",
       "11    510247\n",
       "12    506831\n",
       "Name: count, dtype: Int64"
      ]
     },
     "execution_count": 23,
     "metadata": {},
     "output_type": "execute_result"
    }
   ],
   "source": [
    "timetrends['MONTH'].value_counts().sort_index()"
   ]
  },
  {
   "cell_type": "code",
   "execution_count": 24,
   "id": "28f86bde",
   "metadata": {},
   "outputs": [
    {
     "data": {
      "text/plain": [
       "AGE\n",
       "16    573079\n",
       "17    566895\n",
       "18    521789\n",
       "19    487507\n",
       "20    483386\n",
       "21    486910\n",
       "22    488240\n",
       "23    492329\n",
       "24    499953\n",
       "Name: count, dtype: Int64"
      ]
     },
     "execution_count": 24,
     "metadata": {},
     "output_type": "execute_result"
    }
   ],
   "source": [
    "timetrends['AGE'].value_counts().sort_index()"
   ]
  },
  {
   "cell_type": "markdown",
   "id": "40c8c802",
   "metadata": {},
   "source": [
    "Okay, that all looks good. Let's map our variables now."
   ]
  },
  {
   "cell_type": "code",
   "execution_count": 25,
   "id": "bc42abfa",
   "metadata": {},
   "outputs": [],
   "source": [
    "# NEET\n",
    "timetrends['NEET'] = 'not_neet'\n",
    "timetrends.loc[(timetrends['EMPSTAT'].isin(range(20,37))) & (timetrends['SCHLCOLL'] == 5), 'NEET'] = 'neet' # NEET conditions\n",
    "# NLE (NEET, but now only those not in school and not in labor force)\n",
    "timetrends['NLE'] = 'not_neet'\n",
    "timetrends.loc[(timetrends['LABFORCE'] == 1) & (timetrends['SCHLCOLL'] == 5), 'NLE'] = 'neet'\n",
    "#Gender\n",
    "gender_codes = {1 : 'men', 2 : 'women'} \n",
    "timetrends['sex'] = timetrends['SEX'].map(gender_codes)\n",
    "# Race\n",
    "race_codes = [\n",
    "    ((timetrends['RACE'] == 300) & (timetrends['HISPAN'] == 0)),\n",
    "    ((timetrends['RACE'] == 100) & (timetrends['HISPAN'] == 0)),\n",
    "    ((timetrends['RACE'] == 200) & (timetrends['HISPAN'] == 0)),\n",
    "    ((timetrends['RACE'].isin(range(650, 653))) & (timetrends['HISPAN'] == 0)),\n",
    "    ((timetrends['HISPAN'] > 0) & (timetrends['HISPAN'] < 902))\n",
    "]\n",
    "race_choices = ['aian', 'white', 'black', 'asian', 'hispanic']\n",
    "timetrends['race_cat'] = np.select(race_codes, race_choices, default = 'other')\n",
    "# State\n",
    "state_names = us.states.mapping('fips', 'name') # dictionary with STATEFIP as key\n",
    "state_names['11'] = 'District of Columbia' # DC isn't included, so manually add it\n",
    "timetrends['state'] = timetrends['STATEFIP'].astype(str).str.zfill(2) \n",
    "timetrends['state'] = timetrends['state'].map(state_names)\n",
    "# Kids\n",
    "child_dict = {i:'has_child' if i > 0 else 'no_child' for i in range(10)}\n",
    "timetrends['kids'] = timetrends['NCHILD'].map(child_dict)\n",
    "# Disability\n",
    "disability_dict = {1 : 'no_dis', 2 : 'has_dis'}\n",
    "timetrends['dis'] = timetrends['DIFFANY'].map(disability_dict)\n",
    "# Looking for work status\n",
    "timetrends['looking_for_work'] = ''\n",
    "timetrends.loc[timetrends['EMPSTAT'].isin(range(10,13)), 'looking_for_work'] = 'employed'\n",
    "timetrends.loc[timetrends['EMPSTAT'].isin(range(20,23)), 'looking_for_work'] = 'looking'\n",
    "timetrends.loc[timetrends['EMPSTAT'].isin(range(30,37)), 'looking_for_work'] = 'not_looking'"
   ]
  },
  {
   "cell_type": "markdown",
   "id": "3585559b",
   "metadata": {},
   "source": [
    "Let's get our NEET calculator function now."
   ]
  },
  {
   "cell_type": "code",
   "execution_count": 26,
   "id": "5d4cd3c0",
   "metadata": {},
   "outputs": [],
   "source": [
    "def get_neet(df=timetrends,\n",
    "             query_str=None,\n",
    "             groupings=[]):\n",
    "    '''returns NEET rates'''\n",
    "    if query_str:\n",
    "        df = df.query(query_str)\n",
    "    agg_wt = df.groupby(groupings)['WTFINL'].sum().unstack() # agg sum\n",
    "    agg_wt= agg_wt.eval('neet_rate = neet / (neet + not_neet) * 100')['neet_rate'] # NEET rates\n",
    "    return agg_wt"
   ]
  },
  {
   "cell_type": "markdown",
   "id": "60049a83",
   "metadata": {},
   "source": [
    "## Analysis"
   ]
  },
  {
   "cell_type": "markdown",
   "id": "1d9a9b62",
   "metadata": {},
   "source": [
    "### 1. Overall Time Trend"
   ]
  },
  {
   "cell_type": "code",
   "execution_count": 27,
   "id": "180a3330",
   "metadata": {},
   "outputs": [
    {
     "data": {
      "application/vnd.microsoft.datawrangler.viewer.v0+json": {
       "columns": [
        {
         "name": "YEAR",
         "rawType": "Int64",
         "type": "integer"
        },
        {
         "name": "men",
         "rawType": "float64",
         "type": "float"
        },
        {
         "name": "women",
         "rawType": "float64",
         "type": "float"
        }
       ],
       "conversionMethod": "pd.DataFrame",
       "ref": "3bc0c1e1-da4e-4cf4-becf-5adfbffff90d",
       "rows": [
        [
         "1990",
         "10.017256431348919",
         "18.55495616982573"
        ],
        [
         "1991",
         "11.501997040122266",
         "19.691813894628922"
        ],
        [
         "1992",
         "11.518768576913399",
         "18.982119535241598"
        ],
        [
         "1993",
         "10.825049693368607",
         "18.303880092184528"
        ],
        [
         "1994",
         "10.69562052326617",
         "17.64425142610183"
        ],
        [
         "1995",
         "10.512725969189232",
         "17.586979044226428"
        ],
        [
         "1996",
         "10.425318082123407",
         "16.629540506989862"
        ],
        [
         "1997",
         "10.019294625386955",
         "15.197451654331456"
        ],
        [
         "1998",
         "9.36641185775243",
         "14.474526105379509"
        ],
        [
         "1999",
         "9.280989150182338",
         "14.40011606524256"
        ],
        [
         "2000",
         "9.212752955817635",
         "14.370222943601155"
        ],
        [
         "2001",
         "10.33142722139436",
         "14.626834733580313"
        ],
        [
         "2002",
         "11.046378369877605",
         "15.301446901541324"
        ],
        [
         "2003",
         "11.193748323282957",
         "15.093578591827091"
        ],
        [
         "2004",
         "10.81208139380195",
         "14.880493154835191"
        ],
        [
         "2005",
         "10.78311181341057",
         "14.62095231056583"
        ],
        [
         "2006",
         "10.014519708546482",
         "14.282178750813681"
        ],
        [
         "2007",
         "10.364180410450976",
         "14.048802255693749"
        ],
        [
         "2008",
         "11.73802048072554",
         "14.356099897603691"
        ],
        [
         "2009",
         "14.495060272902933",
         "15.238011414850067"
        ],
        [
         "2010",
         "14.901803116744874",
         "15.370063533194509"
        ],
        [
         "2011",
         "13.696014608677295",
         "15.061704127093318"
        ],
        [
         "2012",
         "13.053092494261733",
         "14.637922343846835"
        ],
        [
         "2013",
         "14.01037736492994",
         "15.53333940096383"
        ],
        [
         "2014",
         "13.03036748324215",
         "14.710805188498174"
        ],
        [
         "2015",
         "12.153609455796524",
         "13.861769315478165"
        ],
        [
         "2016",
         "11.766774577074925",
         "13.006335673333504"
        ],
        [
         "2017",
         "10.82166867467161",
         "12.018127601478126"
        ],
        [
         "2018",
         "10.937306485535462",
         "12.127335640706393"
        ],
        [
         "2019",
         "10.839144591120084",
         "11.607696691115475"
        ],
        [
         "2020",
         "14.348395261525743",
         "14.62840879843174"
        ],
        [
         "2021",
         "12.984227298440153",
         "13.423593749660679"
        ],
        [
         "2022",
         "11.784074121369487",
         "12.805291523116663"
        ],
        [
         "2023",
         "11.560901960124905",
         "12.191371271598198"
        ],
        [
         "2024",
         "12.051831294435203",
         "12.529259941276141"
        ]
       ],
       "shape": {
        "columns": 2,
        "rows": 35
       }
      },
      "text/html": [
       "<div>\n",
       "<style scoped>\n",
       "    .dataframe tbody tr th:only-of-type {\n",
       "        vertical-align: middle;\n",
       "    }\n",
       "\n",
       "    .dataframe tbody tr th {\n",
       "        vertical-align: top;\n",
       "    }\n",
       "\n",
       "    .dataframe thead th {\n",
       "        text-align: right;\n",
       "    }\n",
       "</style>\n",
       "<table border=\"1\" class=\"dataframe\">\n",
       "  <thead>\n",
       "    <tr style=\"text-align: right;\">\n",
       "      <th>sex</th>\n",
       "      <th>men</th>\n",
       "      <th>women</th>\n",
       "    </tr>\n",
       "    <tr>\n",
       "      <th>YEAR</th>\n",
       "      <th></th>\n",
       "      <th></th>\n",
       "    </tr>\n",
       "  </thead>\n",
       "  <tbody>\n",
       "    <tr>\n",
       "      <th>1990</th>\n",
       "      <td>10.017256</td>\n",
       "      <td>18.554956</td>\n",
       "    </tr>\n",
       "    <tr>\n",
       "      <th>1991</th>\n",
       "      <td>11.501997</td>\n",
       "      <td>19.691814</td>\n",
       "    </tr>\n",
       "    <tr>\n",
       "      <th>1992</th>\n",
       "      <td>11.518769</td>\n",
       "      <td>18.982120</td>\n",
       "    </tr>\n",
       "    <tr>\n",
       "      <th>1993</th>\n",
       "      <td>10.825050</td>\n",
       "      <td>18.303880</td>\n",
       "    </tr>\n",
       "    <tr>\n",
       "      <th>1994</th>\n",
       "      <td>10.695621</td>\n",
       "      <td>17.644251</td>\n",
       "    </tr>\n",
       "    <tr>\n",
       "      <th>1995</th>\n",
       "      <td>10.512726</td>\n",
       "      <td>17.586979</td>\n",
       "    </tr>\n",
       "    <tr>\n",
       "      <th>1996</th>\n",
       "      <td>10.425318</td>\n",
       "      <td>16.629541</td>\n",
       "    </tr>\n",
       "    <tr>\n",
       "      <th>1997</th>\n",
       "      <td>10.019295</td>\n",
       "      <td>15.197452</td>\n",
       "    </tr>\n",
       "    <tr>\n",
       "      <th>1998</th>\n",
       "      <td>9.366412</td>\n",
       "      <td>14.474526</td>\n",
       "    </tr>\n",
       "    <tr>\n",
       "      <th>1999</th>\n",
       "      <td>9.280989</td>\n",
       "      <td>14.400116</td>\n",
       "    </tr>\n",
       "    <tr>\n",
       "      <th>2000</th>\n",
       "      <td>9.212753</td>\n",
       "      <td>14.370223</td>\n",
       "    </tr>\n",
       "    <tr>\n",
       "      <th>2001</th>\n",
       "      <td>10.331427</td>\n",
       "      <td>14.626835</td>\n",
       "    </tr>\n",
       "    <tr>\n",
       "      <th>2002</th>\n",
       "      <td>11.046378</td>\n",
       "      <td>15.301447</td>\n",
       "    </tr>\n",
       "    <tr>\n",
       "      <th>2003</th>\n",
       "      <td>11.193748</td>\n",
       "      <td>15.093579</td>\n",
       "    </tr>\n",
       "    <tr>\n",
       "      <th>2004</th>\n",
       "      <td>10.812081</td>\n",
       "      <td>14.880493</td>\n",
       "    </tr>\n",
       "    <tr>\n",
       "      <th>2005</th>\n",
       "      <td>10.783112</td>\n",
       "      <td>14.620952</td>\n",
       "    </tr>\n",
       "    <tr>\n",
       "      <th>2006</th>\n",
       "      <td>10.014520</td>\n",
       "      <td>14.282179</td>\n",
       "    </tr>\n",
       "    <tr>\n",
       "      <th>2007</th>\n",
       "      <td>10.364180</td>\n",
       "      <td>14.048802</td>\n",
       "    </tr>\n",
       "    <tr>\n",
       "      <th>2008</th>\n",
       "      <td>11.738020</td>\n",
       "      <td>14.356100</td>\n",
       "    </tr>\n",
       "    <tr>\n",
       "      <th>2009</th>\n",
       "      <td>14.495060</td>\n",
       "      <td>15.238011</td>\n",
       "    </tr>\n",
       "    <tr>\n",
       "      <th>2010</th>\n",
       "      <td>14.901803</td>\n",
       "      <td>15.370064</td>\n",
       "    </tr>\n",
       "    <tr>\n",
       "      <th>2011</th>\n",
       "      <td>13.696015</td>\n",
       "      <td>15.061704</td>\n",
       "    </tr>\n",
       "    <tr>\n",
       "      <th>2012</th>\n",
       "      <td>13.053092</td>\n",
       "      <td>14.637922</td>\n",
       "    </tr>\n",
       "    <tr>\n",
       "      <th>2013</th>\n",
       "      <td>14.010377</td>\n",
       "      <td>15.533339</td>\n",
       "    </tr>\n",
       "    <tr>\n",
       "      <th>2014</th>\n",
       "      <td>13.030367</td>\n",
       "      <td>14.710805</td>\n",
       "    </tr>\n",
       "    <tr>\n",
       "      <th>2015</th>\n",
       "      <td>12.153609</td>\n",
       "      <td>13.861769</td>\n",
       "    </tr>\n",
       "    <tr>\n",
       "      <th>2016</th>\n",
       "      <td>11.766775</td>\n",
       "      <td>13.006336</td>\n",
       "    </tr>\n",
       "    <tr>\n",
       "      <th>2017</th>\n",
       "      <td>10.821669</td>\n",
       "      <td>12.018128</td>\n",
       "    </tr>\n",
       "    <tr>\n",
       "      <th>2018</th>\n",
       "      <td>10.937306</td>\n",
       "      <td>12.127336</td>\n",
       "    </tr>\n",
       "    <tr>\n",
       "      <th>2019</th>\n",
       "      <td>10.839145</td>\n",
       "      <td>11.607697</td>\n",
       "    </tr>\n",
       "    <tr>\n",
       "      <th>2020</th>\n",
       "      <td>14.348395</td>\n",
       "      <td>14.628409</td>\n",
       "    </tr>\n",
       "    <tr>\n",
       "      <th>2021</th>\n",
       "      <td>12.984227</td>\n",
       "      <td>13.423594</td>\n",
       "    </tr>\n",
       "    <tr>\n",
       "      <th>2022</th>\n",
       "      <td>11.784074</td>\n",
       "      <td>12.805292</td>\n",
       "    </tr>\n",
       "    <tr>\n",
       "      <th>2023</th>\n",
       "      <td>11.560902</td>\n",
       "      <td>12.191371</td>\n",
       "    </tr>\n",
       "    <tr>\n",
       "      <th>2024</th>\n",
       "      <td>12.051831</td>\n",
       "      <td>12.529260</td>\n",
       "    </tr>\n",
       "  </tbody>\n",
       "</table>\n",
       "</div>"
      ],
      "text/plain": [
       "sex         men      women\n",
       "YEAR                      \n",
       "1990  10.017256  18.554956\n",
       "1991  11.501997  19.691814\n",
       "1992  11.518769  18.982120\n",
       "1993  10.825050  18.303880\n",
       "1994  10.695621  17.644251\n",
       "1995  10.512726  17.586979\n",
       "1996  10.425318  16.629541\n",
       "1997  10.019295  15.197452\n",
       "1998   9.366412  14.474526\n",
       "1999   9.280989  14.400116\n",
       "2000   9.212753  14.370223\n",
       "2001  10.331427  14.626835\n",
       "2002  11.046378  15.301447\n",
       "2003  11.193748  15.093579\n",
       "2004  10.812081  14.880493\n",
       "2005  10.783112  14.620952\n",
       "2006  10.014520  14.282179\n",
       "2007  10.364180  14.048802\n",
       "2008  11.738020  14.356100\n",
       "2009  14.495060  15.238011\n",
       "2010  14.901803  15.370064\n",
       "2011  13.696015  15.061704\n",
       "2012  13.053092  14.637922\n",
       "2013  14.010377  15.533339\n",
       "2014  13.030367  14.710805\n",
       "2015  12.153609  13.861769\n",
       "2016  11.766775  13.006336\n",
       "2017  10.821669  12.018128\n",
       "2018  10.937306  12.127336\n",
       "2019  10.839145  11.607697\n",
       "2020  14.348395  14.628409\n",
       "2021  12.984227  13.423594\n",
       "2022  11.784074  12.805292\n",
       "2023  11.560902  12.191371\n",
       "2024  12.051831  12.529260"
      ]
     },
     "execution_count": 27,
     "metadata": {},
     "output_type": "execute_result"
    }
   ],
   "source": [
    "overall = get_neet(groupings=['YEAR', 'sex', 'NEET']).reindex().unstack()\n",
    "overall"
   ]
  },
  {
   "cell_type": "code",
   "execution_count": 28,
   "id": "c44799a9",
   "metadata": {},
   "outputs": [
    {
     "data": {
      "application/vnd.plotly.v1+json": {
       "config": {
        "plotlyServerURL": "https://plotly.com"
       },
       "data": [
        {
         "line": {
          "color": "skyblue",
          "width": 3
         },
         "mode": "lines+markers",
         "name": "Men",
         "type": "scatter",
         "x": {
          "bdata": "xgfHB8gHyQfKB8sHzAfNB84HzwfQB9EH0gfTB9QH1QfWB9cH2AfZB9oH2wfcB90H3gffB+AH4QfiB+MH5AflB+YH5wfoBw==",
          "dtype": "i2"
         },
         "y": {
          "bdata": "CtejcD0KJEAAAAAAAAAnQArXo3A9CidAKVyPwvWoJUBmZmZmZmYlQIXrUbgeBSVAXI/C9SjcJEAK16NwPQokQD0K16NwvSJAj8L1KFyPIkDsUbgehWsiQClcj8L1qCRAmpmZmZkZJkDhehSuR2EmQB+F61G4niVAj8L1KFyPJUCF61G4HgUkQLgehetRuCRAexSuR+F6J0AAAAAAAAAtQM3MzMzMzC1AZmZmZmZmK0CamZmZmRkqQIXrUbgeBSxAj8L1KFwPKkDNzMzMzEwoQArXo3A9iidApHA9CtejJUDhehSuR+ElQK5H4XoUriVAMzMzMzOzLED2KFyPwvUpQI/C9ShcjydAH4XrUbgeJ0CamZmZmRkoQA==",
          "dtype": "f8"
         }
        },
        {
         "line": {
          "color": "pink",
          "width": 3
         },
         "mode": "lines+markers",
         "name": "Women",
         "type": "scatter",
         "x": {
          "bdata": "xgfHB8gHyQfKB8sHzAfNB84HzwfQB9EH0gfTB9QH1QfWB9cH2AfZB9oH2wfcB90H3gffB+AH4QfiB+MH5AflB+YH5wfoBw==",
          "dtype": "i2"
         },
         "y": {
          "bdata": "zczMzMyMMkBxPQrXo7AzQHsUrkfh+jJAzczMzMxMMkCkcD0K16MxQNejcD0KlzFA4XoUrkehMEBmZmZmZmYuQHE9Ctej8CxAzczMzMzMLEA9CtejcL0sQMP1KFyPQi1AmpmZmZmZLkCuR+F6FC4uQMP1KFyPwi1APQrXo3A9LUCPwvUoXI8sQJqZmZmZGSxAuB6F61G4LEB7FK5H4XouQD0K16NwvS5AH4XrUbgeLkBI4XoUrkctQI/C9ShcDy9A7FG4HoVrLUC4HoXrUbgrQIXrUbgeBSpACtejcD0KKEDD9Shcj0IoQLgehetROCdAw/UoXI9CLUDXo3A9CtcqQB+F61G4nilA4XoUrkdhKECPwvUoXA8pQA==",
          "dtype": "f8"
         }
        }
       ],
       "layout": {
        "font": {
         "family": "Georgia, serif"
        },
        "height": 400,
        "legend": {
         "orientation": "h"
        },
        "margin": {
         "b": 20,
         "l": 20,
         "pad": 0,
         "r": 20,
         "t": 100
        },
        "template": {
         "data": {
          "bar": [
           {
            "error_x": {
             "color": "#2a3f5f"
            },
            "error_y": {
             "color": "#2a3f5f"
            },
            "marker": {
             "line": {
              "color": "white",
              "width": 0.5
             },
             "pattern": {
              "fillmode": "overlay",
              "size": 10,
              "solidity": 0.2
             }
            },
            "type": "bar"
           }
          ],
          "barpolar": [
           {
            "marker": {
             "line": {
              "color": "white",
              "width": 0.5
             },
             "pattern": {
              "fillmode": "overlay",
              "size": 10,
              "solidity": 0.2
             }
            },
            "type": "barpolar"
           }
          ],
          "carpet": [
           {
            "aaxis": {
             "endlinecolor": "#2a3f5f",
             "gridcolor": "#C8D4E3",
             "linecolor": "#C8D4E3",
             "minorgridcolor": "#C8D4E3",
             "startlinecolor": "#2a3f5f"
            },
            "baxis": {
             "endlinecolor": "#2a3f5f",
             "gridcolor": "#C8D4E3",
             "linecolor": "#C8D4E3",
             "minorgridcolor": "#C8D4E3",
             "startlinecolor": "#2a3f5f"
            },
            "type": "carpet"
           }
          ],
          "choropleth": [
           {
            "colorbar": {
             "outlinewidth": 0,
             "ticks": ""
            },
            "type": "choropleth"
           }
          ],
          "contour": [
           {
            "colorbar": {
             "outlinewidth": 0,
             "ticks": ""
            },
            "colorscale": [
             [
              0,
              "#0d0887"
             ],
             [
              0.1111111111111111,
              "#46039f"
             ],
             [
              0.2222222222222222,
              "#7201a8"
             ],
             [
              0.3333333333333333,
              "#9c179e"
             ],
             [
              0.4444444444444444,
              "#bd3786"
             ],
             [
              0.5555555555555556,
              "#d8576b"
             ],
             [
              0.6666666666666666,
              "#ed7953"
             ],
             [
              0.7777777777777778,
              "#fb9f3a"
             ],
             [
              0.8888888888888888,
              "#fdca26"
             ],
             [
              1,
              "#f0f921"
             ]
            ],
            "type": "contour"
           }
          ],
          "contourcarpet": [
           {
            "colorbar": {
             "outlinewidth": 0,
             "ticks": ""
            },
            "type": "contourcarpet"
           }
          ],
          "heatmap": [
           {
            "colorbar": {
             "outlinewidth": 0,
             "ticks": ""
            },
            "colorscale": [
             [
              0,
              "#0d0887"
             ],
             [
              0.1111111111111111,
              "#46039f"
             ],
             [
              0.2222222222222222,
              "#7201a8"
             ],
             [
              0.3333333333333333,
              "#9c179e"
             ],
             [
              0.4444444444444444,
              "#bd3786"
             ],
             [
              0.5555555555555556,
              "#d8576b"
             ],
             [
              0.6666666666666666,
              "#ed7953"
             ],
             [
              0.7777777777777778,
              "#fb9f3a"
             ],
             [
              0.8888888888888888,
              "#fdca26"
             ],
             [
              1,
              "#f0f921"
             ]
            ],
            "type": "heatmap"
           }
          ],
          "histogram": [
           {
            "marker": {
             "pattern": {
              "fillmode": "overlay",
              "size": 10,
              "solidity": 0.2
             }
            },
            "type": "histogram"
           }
          ],
          "histogram2d": [
           {
            "colorbar": {
             "outlinewidth": 0,
             "ticks": ""
            },
            "colorscale": [
             [
              0,
              "#0d0887"
             ],
             [
              0.1111111111111111,
              "#46039f"
             ],
             [
              0.2222222222222222,
              "#7201a8"
             ],
             [
              0.3333333333333333,
              "#9c179e"
             ],
             [
              0.4444444444444444,
              "#bd3786"
             ],
             [
              0.5555555555555556,
              "#d8576b"
             ],
             [
              0.6666666666666666,
              "#ed7953"
             ],
             [
              0.7777777777777778,
              "#fb9f3a"
             ],
             [
              0.8888888888888888,
              "#fdca26"
             ],
             [
              1,
              "#f0f921"
             ]
            ],
            "type": "histogram2d"
           }
          ],
          "histogram2dcontour": [
           {
            "colorbar": {
             "outlinewidth": 0,
             "ticks": ""
            },
            "colorscale": [
             [
              0,
              "#0d0887"
             ],
             [
              0.1111111111111111,
              "#46039f"
             ],
             [
              0.2222222222222222,
              "#7201a8"
             ],
             [
              0.3333333333333333,
              "#9c179e"
             ],
             [
              0.4444444444444444,
              "#bd3786"
             ],
             [
              0.5555555555555556,
              "#d8576b"
             ],
             [
              0.6666666666666666,
              "#ed7953"
             ],
             [
              0.7777777777777778,
              "#fb9f3a"
             ],
             [
              0.8888888888888888,
              "#fdca26"
             ],
             [
              1,
              "#f0f921"
             ]
            ],
            "type": "histogram2dcontour"
           }
          ],
          "mesh3d": [
           {
            "colorbar": {
             "outlinewidth": 0,
             "ticks": ""
            },
            "type": "mesh3d"
           }
          ],
          "parcoords": [
           {
            "line": {
             "colorbar": {
              "outlinewidth": 0,
              "ticks": ""
             }
            },
            "type": "parcoords"
           }
          ],
          "pie": [
           {
            "automargin": true,
            "type": "pie"
           }
          ],
          "scatter": [
           {
            "fillpattern": {
             "fillmode": "overlay",
             "size": 10,
             "solidity": 0.2
            },
            "type": "scatter"
           }
          ],
          "scatter3d": [
           {
            "line": {
             "colorbar": {
              "outlinewidth": 0,
              "ticks": ""
             }
            },
            "marker": {
             "colorbar": {
              "outlinewidth": 0,
              "ticks": ""
             }
            },
            "type": "scatter3d"
           }
          ],
          "scattercarpet": [
           {
            "marker": {
             "colorbar": {
              "outlinewidth": 0,
              "ticks": ""
             }
            },
            "type": "scattercarpet"
           }
          ],
          "scattergeo": [
           {
            "marker": {
             "colorbar": {
              "outlinewidth": 0,
              "ticks": ""
             }
            },
            "type": "scattergeo"
           }
          ],
          "scattergl": [
           {
            "marker": {
             "colorbar": {
              "outlinewidth": 0,
              "ticks": ""
             }
            },
            "type": "scattergl"
           }
          ],
          "scattermap": [
           {
            "marker": {
             "colorbar": {
              "outlinewidth": 0,
              "ticks": ""
             }
            },
            "type": "scattermap"
           }
          ],
          "scattermapbox": [
           {
            "marker": {
             "colorbar": {
              "outlinewidth": 0,
              "ticks": ""
             }
            },
            "type": "scattermapbox"
           }
          ],
          "scatterpolar": [
           {
            "marker": {
             "colorbar": {
              "outlinewidth": 0,
              "ticks": ""
             }
            },
            "type": "scatterpolar"
           }
          ],
          "scatterpolargl": [
           {
            "marker": {
             "colorbar": {
              "outlinewidth": 0,
              "ticks": ""
             }
            },
            "type": "scatterpolargl"
           }
          ],
          "scatterternary": [
           {
            "marker": {
             "colorbar": {
              "outlinewidth": 0,
              "ticks": ""
             }
            },
            "type": "scatterternary"
           }
          ],
          "surface": [
           {
            "colorbar": {
             "outlinewidth": 0,
             "ticks": ""
            },
            "colorscale": [
             [
              0,
              "#0d0887"
             ],
             [
              0.1111111111111111,
              "#46039f"
             ],
             [
              0.2222222222222222,
              "#7201a8"
             ],
             [
              0.3333333333333333,
              "#9c179e"
             ],
             [
              0.4444444444444444,
              "#bd3786"
             ],
             [
              0.5555555555555556,
              "#d8576b"
             ],
             [
              0.6666666666666666,
              "#ed7953"
             ],
             [
              0.7777777777777778,
              "#fb9f3a"
             ],
             [
              0.8888888888888888,
              "#fdca26"
             ],
             [
              1,
              "#f0f921"
             ]
            ],
            "type": "surface"
           }
          ],
          "table": [
           {
            "cells": {
             "fill": {
              "color": "#EBF0F8"
             },
             "line": {
              "color": "white"
             }
            },
            "header": {
             "fill": {
              "color": "#C8D4E3"
             },
             "line": {
              "color": "white"
             }
            },
            "type": "table"
           }
          ]
         },
         "layout": {
          "annotationdefaults": {
           "arrowcolor": "#2a3f5f",
           "arrowhead": 0,
           "arrowwidth": 1
          },
          "autotypenumbers": "strict",
          "coloraxis": {
           "colorbar": {
            "outlinewidth": 0,
            "ticks": ""
           }
          },
          "colorscale": {
           "diverging": [
            [
             0,
             "#8e0152"
            ],
            [
             0.1,
             "#c51b7d"
            ],
            [
             0.2,
             "#de77ae"
            ],
            [
             0.3,
             "#f1b6da"
            ],
            [
             0.4,
             "#fde0ef"
            ],
            [
             0.5,
             "#f7f7f7"
            ],
            [
             0.6,
             "#e6f5d0"
            ],
            [
             0.7,
             "#b8e186"
            ],
            [
             0.8,
             "#7fbc41"
            ],
            [
             0.9,
             "#4d9221"
            ],
            [
             1,
             "#276419"
            ]
           ],
           "sequential": [
            [
             0,
             "#0d0887"
            ],
            [
             0.1111111111111111,
             "#46039f"
            ],
            [
             0.2222222222222222,
             "#7201a8"
            ],
            [
             0.3333333333333333,
             "#9c179e"
            ],
            [
             0.4444444444444444,
             "#bd3786"
            ],
            [
             0.5555555555555556,
             "#d8576b"
            ],
            [
             0.6666666666666666,
             "#ed7953"
            ],
            [
             0.7777777777777778,
             "#fb9f3a"
            ],
            [
             0.8888888888888888,
             "#fdca26"
            ],
            [
             1,
             "#f0f921"
            ]
           ],
           "sequentialminus": [
            [
             0,
             "#0d0887"
            ],
            [
             0.1111111111111111,
             "#46039f"
            ],
            [
             0.2222222222222222,
             "#7201a8"
            ],
            [
             0.3333333333333333,
             "#9c179e"
            ],
            [
             0.4444444444444444,
             "#bd3786"
            ],
            [
             0.5555555555555556,
             "#d8576b"
            ],
            [
             0.6666666666666666,
             "#ed7953"
            ],
            [
             0.7777777777777778,
             "#fb9f3a"
            ],
            [
             0.8888888888888888,
             "#fdca26"
            ],
            [
             1,
             "#f0f921"
            ]
           ]
          },
          "colorway": [
           "#636efa",
           "#EF553B",
           "#00cc96",
           "#ab63fa",
           "#FFA15A",
           "#19d3f3",
           "#FF6692",
           "#B6E880",
           "#FF97FF",
           "#FECB52"
          ],
          "font": {
           "color": "#2a3f5f"
          },
          "geo": {
           "bgcolor": "white",
           "lakecolor": "white",
           "landcolor": "white",
           "showlakes": true,
           "showland": true,
           "subunitcolor": "#C8D4E3"
          },
          "hoverlabel": {
           "align": "left"
          },
          "hovermode": "closest",
          "mapbox": {
           "style": "light"
          },
          "paper_bgcolor": "white",
          "plot_bgcolor": "white",
          "polar": {
           "angularaxis": {
            "gridcolor": "#EBF0F8",
            "linecolor": "#EBF0F8",
            "ticks": ""
           },
           "bgcolor": "white",
           "radialaxis": {
            "gridcolor": "#EBF0F8",
            "linecolor": "#EBF0F8",
            "ticks": ""
           }
          },
          "scene": {
           "xaxis": {
            "backgroundcolor": "white",
            "gridcolor": "#DFE8F3",
            "gridwidth": 2,
            "linecolor": "#EBF0F8",
            "showbackground": true,
            "ticks": "",
            "zerolinecolor": "#EBF0F8"
           },
           "yaxis": {
            "backgroundcolor": "white",
            "gridcolor": "#DFE8F3",
            "gridwidth": 2,
            "linecolor": "#EBF0F8",
            "showbackground": true,
            "ticks": "",
            "zerolinecolor": "#EBF0F8"
           },
           "zaxis": {
            "backgroundcolor": "white",
            "gridcolor": "#DFE8F3",
            "gridwidth": 2,
            "linecolor": "#EBF0F8",
            "showbackground": true,
            "ticks": "",
            "zerolinecolor": "#EBF0F8"
           }
          },
          "shapedefaults": {
           "line": {
            "color": "#2a3f5f"
           }
          },
          "ternary": {
           "aaxis": {
            "gridcolor": "#DFE8F3",
            "linecolor": "#A2B1C6",
            "ticks": ""
           },
           "baxis": {
            "gridcolor": "#DFE8F3",
            "linecolor": "#A2B1C6",
            "ticks": ""
           },
           "bgcolor": "white",
           "caxis": {
            "gridcolor": "#DFE8F3",
            "linecolor": "#A2B1C6",
            "ticks": ""
           }
          },
          "title": {
           "x": 0.05
          },
          "xaxis": {
           "automargin": true,
           "gridcolor": "#EBF0F8",
           "linecolor": "#EBF0F8",
           "ticks": "",
           "title": {
            "standoff": 15
           },
           "zerolinecolor": "#EBF0F8",
           "zerolinewidth": 2
          },
          "yaxis": {
           "automargin": true,
           "gridcolor": "#EBF0F8",
           "linecolor": "#EBF0F8",
           "ticks": "",
           "title": {
            "standoff": 15
           },
           "zerolinecolor": "#EBF0F8",
           "zerolinewidth": 2
          }
         }
        },
        "title": {
         "subtitle": {
          "text": "(<b>excluding summer months</b>)"
         },
         "text": "<b>NEET rates for 16-24 y.o. (1990-2024)</b>"
        },
        "width": 650,
        "xaxis": {
         "title": {
          "text": "<b>Year"
         }
        },
        "yaxis": {
         "range": [
          5,
          25
         ],
         "title": {
          "text": "<b>NEET rate (%)"
         }
        }
       }
      }
     },
     "metadata": {},
     "output_type": "display_data"
    }
   ],
   "source": [
    "fig = go.Figure()\n",
    "colors = {'men':'skyblue','women':'pink'}\n",
    "for i in ['men', 'women']:\n",
    "    fig.add_trace(go.Scatter(\n",
    "    x=overall.index, y=overall[i].round(2),\n",
    "    mode='lines+markers',\n",
    "    name=i.title(),\n",
    "    line={\n",
    "        'color': colors[i],\n",
    "        'width': 3\n",
    "    }\n",
    "))\n",
    "fig.update_layout(\n",
    "    font={'family': 'Georgia, serif'},\n",
    "    title={'text': '<b>NEET rates for 16-24 y.o. (1990-2024)</b>',\n",
    "           'subtitle': {'text': '(<b>excluding summer months</b>)'}},\n",
    "    xaxis={'title':{'text': '<b>Year'}},\n",
    "    yaxis={'title':{'text': '<b>NEET rate (%)'}},\n",
    "    legend = {'orientation': 'h'},\n",
    "    width=650, height=400,\n",
    "    template='plotly_white',\n",
    "    margin={'pad': 0, 'b': 20, 'l': 20, 'r': 20, 't': 100}\n",
    ")\n",
    "fig.update_yaxes(range=[5,25])\n",
    "fig.show()"
   ]
  },
  {
   "cell_type": "markdown",
   "id": "73bc20f5",
   "metadata": {},
   "source": [
    "### 2. By Disability and Parental Status"
   ]
  },
  {
   "cell_type": "markdown",
   "id": "acb98c6a",
   "metadata": {},
   "source": [
    "#### Disability"
   ]
  },
  {
   "cell_type": "code",
   "execution_count": 29,
   "id": "6e418d07",
   "metadata": {},
   "outputs": [
    {
     "data": {
      "application/vnd.microsoft.datawrangler.viewer.v0+json": {
       "columns": [
        {
         "name": "YEAR",
         "rawType": "Int64",
         "type": "integer"
        },
        {
         "name": "('men', 'has_dis')",
         "rawType": "float64",
         "type": "float"
        },
        {
         "name": "('men', 'no_dis')",
         "rawType": "float64",
         "type": "float"
        },
        {
         "name": "('women', 'has_dis')",
         "rawType": "float64",
         "type": "float"
        },
        {
         "name": "('women', 'no_dis')",
         "rawType": "float64",
         "type": "float"
        }
       ],
       "conversionMethod": "pd.DataFrame",
       "ref": "8f0c2c6c-20ca-4166-8dda-58223c93d972",
       "rows": [
        [
         "2008",
         "35.383200820265365",
         "11.490264357969975",
         "31.52289066836202",
         "13.810852163614578"
        ],
        [
         "2009",
         "37.39055705644347",
         "13.507927822494453",
         "36.844795617872244",
         "14.496779188148412"
        ],
        [
         "2010",
         "36.90834275386424",
         "13.968381944181656",
         "37.937467373024354",
         "14.62285565812545"
        ],
        [
         "2011",
         "41.337962755375564",
         "12.571787788087295",
         "36.29251597105452",
         "14.421134200758914"
        ],
        [
         "2012",
         "39.82902406180905",
         "11.959575635600297",
         "36.64898765281667",
         "13.910660350446477"
        ],
        [
         "2013",
         "40.31127601801754",
         "12.823393215986442",
         "39.47614463217713",
         "14.720987551022871"
        ],
        [
         "2014",
         "38.802650423329524",
         "11.920432054171316",
         "37.664480867876115",
         "13.9381236816883"
        ],
        [
         "2015",
         "38.13864606656504",
         "10.994551243210694",
         "36.49079857645983",
         "13.053424530618033"
        ],
        [
         "2016",
         "36.591790043044",
         "10.609933512698932",
         "38.695747196326835",
         "12.024602200050092"
        ],
        [
         "2017",
         "37.03707655869817",
         "9.638086416320267",
         "33.96268267638799",
         "11.201026313552083"
        ],
        [
         "2018",
         "36.58031442854453",
         "9.738044146586406",
         "31.501277782064534",
         "11.414741379795332"
        ],
        [
         "2019",
         "35.57695463867035",
         "9.563308862495647",
         "35.43180511720723",
         "10.71703224686497"
        ],
        [
         "2020",
         "38.55653893766152",
         "13.126573118078802",
         "33.52783148730098",
         "13.891694406102918"
        ],
        [
         "2021",
         "36.19698051730563",
         "11.727650272560636",
         "36.00168446487511",
         "12.384963868696664"
        ],
        [
         "2022",
         "34.4542454316031",
         "10.4815867113577",
         "32.36672511352208",
         "11.80283967938968"
        ],
        [
         "2023",
         "33.08005819600309",
         "10.351586692491086",
         "29.401336374994337",
         "11.237573549837323"
        ],
        [
         "2024",
         "35.375930179954096",
         "10.571920995808995",
         "30.62737263540651",
         "11.54573368749069"
        ]
       ],
       "shape": {
        "columns": 4,
        "rows": 17
       }
      },
      "text/html": [
       "<div>\n",
       "<style scoped>\n",
       "    .dataframe tbody tr th:only-of-type {\n",
       "        vertical-align: middle;\n",
       "    }\n",
       "\n",
       "    .dataframe tbody tr th {\n",
       "        vertical-align: top;\n",
       "    }\n",
       "\n",
       "    .dataframe thead tr th {\n",
       "        text-align: left;\n",
       "    }\n",
       "\n",
       "    .dataframe thead tr:last-of-type th {\n",
       "        text-align: right;\n",
       "    }\n",
       "</style>\n",
       "<table border=\"1\" class=\"dataframe\">\n",
       "  <thead>\n",
       "    <tr>\n",
       "      <th>sex</th>\n",
       "      <th colspan=\"2\" halign=\"left\">men</th>\n",
       "      <th colspan=\"2\" halign=\"left\">women</th>\n",
       "    </tr>\n",
       "    <tr>\n",
       "      <th>dis</th>\n",
       "      <th>has_dis</th>\n",
       "      <th>no_dis</th>\n",
       "      <th>has_dis</th>\n",
       "      <th>no_dis</th>\n",
       "    </tr>\n",
       "    <tr>\n",
       "      <th>YEAR</th>\n",
       "      <th></th>\n",
       "      <th></th>\n",
       "      <th></th>\n",
       "      <th></th>\n",
       "    </tr>\n",
       "  </thead>\n",
       "  <tbody>\n",
       "    <tr>\n",
       "      <th>2008</th>\n",
       "      <td>35.383201</td>\n",
       "      <td>11.490264</td>\n",
       "      <td>31.522891</td>\n",
       "      <td>13.810852</td>\n",
       "    </tr>\n",
       "    <tr>\n",
       "      <th>2009</th>\n",
       "      <td>37.390557</td>\n",
       "      <td>13.507928</td>\n",
       "      <td>36.844796</td>\n",
       "      <td>14.496779</td>\n",
       "    </tr>\n",
       "    <tr>\n",
       "      <th>2010</th>\n",
       "      <td>36.908343</td>\n",
       "      <td>13.968382</td>\n",
       "      <td>37.937467</td>\n",
       "      <td>14.622856</td>\n",
       "    </tr>\n",
       "    <tr>\n",
       "      <th>2011</th>\n",
       "      <td>41.337963</td>\n",
       "      <td>12.571788</td>\n",
       "      <td>36.292516</td>\n",
       "      <td>14.421134</td>\n",
       "    </tr>\n",
       "    <tr>\n",
       "      <th>2012</th>\n",
       "      <td>39.829024</td>\n",
       "      <td>11.959576</td>\n",
       "      <td>36.648988</td>\n",
       "      <td>13.910660</td>\n",
       "    </tr>\n",
       "    <tr>\n",
       "      <th>2013</th>\n",
       "      <td>40.311276</td>\n",
       "      <td>12.823393</td>\n",
       "      <td>39.476145</td>\n",
       "      <td>14.720988</td>\n",
       "    </tr>\n",
       "    <tr>\n",
       "      <th>2014</th>\n",
       "      <td>38.802650</td>\n",
       "      <td>11.920432</td>\n",
       "      <td>37.664481</td>\n",
       "      <td>13.938124</td>\n",
       "    </tr>\n",
       "    <tr>\n",
       "      <th>2015</th>\n",
       "      <td>38.138646</td>\n",
       "      <td>10.994551</td>\n",
       "      <td>36.490799</td>\n",
       "      <td>13.053425</td>\n",
       "    </tr>\n",
       "    <tr>\n",
       "      <th>2016</th>\n",
       "      <td>36.591790</td>\n",
       "      <td>10.609934</td>\n",
       "      <td>38.695747</td>\n",
       "      <td>12.024602</td>\n",
       "    </tr>\n",
       "    <tr>\n",
       "      <th>2017</th>\n",
       "      <td>37.037077</td>\n",
       "      <td>9.638086</td>\n",
       "      <td>33.962683</td>\n",
       "      <td>11.201026</td>\n",
       "    </tr>\n",
       "    <tr>\n",
       "      <th>2018</th>\n",
       "      <td>36.580314</td>\n",
       "      <td>9.738044</td>\n",
       "      <td>31.501278</td>\n",
       "      <td>11.414741</td>\n",
       "    </tr>\n",
       "    <tr>\n",
       "      <th>2019</th>\n",
       "      <td>35.576955</td>\n",
       "      <td>9.563309</td>\n",
       "      <td>35.431805</td>\n",
       "      <td>10.717032</td>\n",
       "    </tr>\n",
       "    <tr>\n",
       "      <th>2020</th>\n",
       "      <td>38.556539</td>\n",
       "      <td>13.126573</td>\n",
       "      <td>33.527831</td>\n",
       "      <td>13.891694</td>\n",
       "    </tr>\n",
       "    <tr>\n",
       "      <th>2021</th>\n",
       "      <td>36.196981</td>\n",
       "      <td>11.727650</td>\n",
       "      <td>36.001684</td>\n",
       "      <td>12.384964</td>\n",
       "    </tr>\n",
       "    <tr>\n",
       "      <th>2022</th>\n",
       "      <td>34.454245</td>\n",
       "      <td>10.481587</td>\n",
       "      <td>32.366725</td>\n",
       "      <td>11.802840</td>\n",
       "    </tr>\n",
       "    <tr>\n",
       "      <th>2023</th>\n",
       "      <td>33.080058</td>\n",
       "      <td>10.351587</td>\n",
       "      <td>29.401336</td>\n",
       "      <td>11.237574</td>\n",
       "    </tr>\n",
       "    <tr>\n",
       "      <th>2024</th>\n",
       "      <td>35.375930</td>\n",
       "      <td>10.571921</td>\n",
       "      <td>30.627373</td>\n",
       "      <td>11.545734</td>\n",
       "    </tr>\n",
       "  </tbody>\n",
       "</table>\n",
       "</div>"
      ],
      "text/plain": [
       "sex         men                 women           \n",
       "dis     has_dis     no_dis    has_dis     no_dis\n",
       "YEAR                                            \n",
       "2008  35.383201  11.490264  31.522891  13.810852\n",
       "2009  37.390557  13.507928  36.844796  14.496779\n",
       "2010  36.908343  13.968382  37.937467  14.622856\n",
       "2011  41.337963  12.571788  36.292516  14.421134\n",
       "2012  39.829024  11.959576  36.648988  13.910660\n",
       "2013  40.311276  12.823393  39.476145  14.720988\n",
       "2014  38.802650  11.920432  37.664481  13.938124\n",
       "2015  38.138646  10.994551  36.490799  13.053425\n",
       "2016  36.591790  10.609934  38.695747  12.024602\n",
       "2017  37.037077   9.638086  33.962683  11.201026\n",
       "2018  36.580314   9.738044  31.501278  11.414741\n",
       "2019  35.576955   9.563309  35.431805  10.717032\n",
       "2020  38.556539  13.126573  33.527831  13.891694\n",
       "2021  36.196981  11.727650  36.001684  12.384964\n",
       "2022  34.454245  10.481587  32.366725  11.802840\n",
       "2023  33.080058  10.351587  29.401336  11.237574\n",
       "2024  35.375930  10.571921  30.627373  11.545734"
      ]
     },
     "execution_count": 29,
     "metadata": {},
     "output_type": "execute_result"
    }
   ],
   "source": [
    "disability = get_neet(groupings=['YEAR','dis', 'sex', 'NEET']).unstack().unstack()\n",
    "disability"
   ]
  },
  {
   "cell_type": "code",
   "execution_count": 30,
   "id": "b4119822",
   "metadata": {},
   "outputs": [
    {
     "data": {
      "application/vnd.plotly.v1+json": {
       "config": {
        "plotlyServerURL": "https://plotly.com"
       },
       "data": [
        {
         "line": {
          "color": "darkblue",
          "width": 3
         },
         "mode": "lines+markers",
         "name": "('men', 'has_dis')",
         "type": "scatter",
         "x": {
          "bdata": "2AfZB9oH2wfcB90H3gffB+AH4QfiB+MH5AflB+YH5wfoBw==",
          "dtype": "i2"
         },
         "y": {
          "bdata": "cT0K16OwQUBSuB6F67FCQBSuR+F6dEJA7FG4HoWrREAK16NwPepDQEjhehSuJ0RAZmZmZmZmQ0BSuB6F6xFDQOxRuB6FS0JAhetRuB6FQkAK16NwPUpCQArXo3A9ykFASOF6FK5HQ0CamZmZmRlCQJqZmZmZOUFACtejcD2KQEBxPQrXo7BBQA==",
          "dtype": "f8"
         }
        },
        {
         "line": {
          "color": "teal",
          "width": 3
         },
         "mode": "lines+markers",
         "name": "('men', 'no_dis')",
         "type": "scatter",
         "x": {
          "bdata": "2AfZB9oH2wfcB90H3gffB+AH4QfiB+MH5AflB+YH5wfoBw==",
          "dtype": "i2"
         },
         "y": {
          "bdata": "exSuR+H6JkCF61G4HgUrQHE9Ctej8CtApHA9CtcjKUDsUbgehesnQKRwPQrXoylA16NwPQrXJ0B7FK5H4folQLgehetROCVASOF6FK5HI0B7FK5H4XojQB+F61G4HiNAw/UoXI9CKkD2KFyPwnUnQPYoXI/C9SRAMzMzMzOzJECkcD0K1yMlQA==",
          "dtype": "f8"
         }
        },
        {
         "line": {
          "color": "darkred",
          "width": 3
         },
         "mode": "lines+markers",
         "name": "('women', 'has_dis')",
         "type": "scatter",
         "x": {
          "bdata": "2AfZB9oH2wfcB90H3gffB+AH4QfiB+MH5AflB+YH5wfoBw==",
          "dtype": "i2"
         },
         "y": {
          "bdata": "hetRuB6FP0DsUbgehWtCQLgehetR+EJAhetRuB4lQkAzMzMzM1NCQD0K16NwvUNAFK5H4XrUQkAfhetRuD5CQJqZmZmZWUNAexSuR+H6QEAAAAAAAIA/QNejcD0Kt0FApHA9CtfDQEAAAAAAAABCQI/C9ShcL0BAZmZmZmZmPUDhehSuR6E+QA==",
          "dtype": "f8"
         }
        },
        {
         "line": {
          "color": "salmon",
          "width": 3
         },
         "mode": "lines+markers",
         "name": "('women', 'no_dis')",
         "type": "scatter",
         "x": {
          "bdata": "2AfZB9oH2wfcB90H3gffB+AH4QfiB+MH5AflB+YH5wfoBw==",
          "dtype": "i2"
         },
         "y": {
          "bdata": "H4XrUbieK0AAAAAAAAAtQD0K16NwPS1A16NwPQrXLEBSuB6F69ErQHE9CtejcC1A4XoUrkfhK0CamZmZmRkqQArXo3A9CihAZmZmZmZmJkBSuB6F69EmQHE9CtejcCVASOF6FK7HK0DD9Shcj8IoQJqZmZmZmSdAexSuR+F6JkCamZmZmRknQA==",
          "dtype": "f8"
         }
        }
       ],
       "layout": {
        "font": {
         "family": "Georgia, serif"
        },
        "height": 450,
        "legend": {
         "orientation": "v",
         "title": {
          "text": "<b>group</b><br>(click to toggle lines)"
         }
        },
        "margin": {
         "b": 20,
         "l": 20,
         "pad": 0,
         "r": 20,
         "t": 100
        },
        "template": {
         "data": {
          "bar": [
           {
            "error_x": {
             "color": "#2a3f5f"
            },
            "error_y": {
             "color": "#2a3f5f"
            },
            "marker": {
             "line": {
              "color": "white",
              "width": 0.5
             },
             "pattern": {
              "fillmode": "overlay",
              "size": 10,
              "solidity": 0.2
             }
            },
            "type": "bar"
           }
          ],
          "barpolar": [
           {
            "marker": {
             "line": {
              "color": "white",
              "width": 0.5
             },
             "pattern": {
              "fillmode": "overlay",
              "size": 10,
              "solidity": 0.2
             }
            },
            "type": "barpolar"
           }
          ],
          "carpet": [
           {
            "aaxis": {
             "endlinecolor": "#2a3f5f",
             "gridcolor": "#C8D4E3",
             "linecolor": "#C8D4E3",
             "minorgridcolor": "#C8D4E3",
             "startlinecolor": "#2a3f5f"
            },
            "baxis": {
             "endlinecolor": "#2a3f5f",
             "gridcolor": "#C8D4E3",
             "linecolor": "#C8D4E3",
             "minorgridcolor": "#C8D4E3",
             "startlinecolor": "#2a3f5f"
            },
            "type": "carpet"
           }
          ],
          "choropleth": [
           {
            "colorbar": {
             "outlinewidth": 0,
             "ticks": ""
            },
            "type": "choropleth"
           }
          ],
          "contour": [
           {
            "colorbar": {
             "outlinewidth": 0,
             "ticks": ""
            },
            "colorscale": [
             [
              0,
              "#0d0887"
             ],
             [
              0.1111111111111111,
              "#46039f"
             ],
             [
              0.2222222222222222,
              "#7201a8"
             ],
             [
              0.3333333333333333,
              "#9c179e"
             ],
             [
              0.4444444444444444,
              "#bd3786"
             ],
             [
              0.5555555555555556,
              "#d8576b"
             ],
             [
              0.6666666666666666,
              "#ed7953"
             ],
             [
              0.7777777777777778,
              "#fb9f3a"
             ],
             [
              0.8888888888888888,
              "#fdca26"
             ],
             [
              1,
              "#f0f921"
             ]
            ],
            "type": "contour"
           }
          ],
          "contourcarpet": [
           {
            "colorbar": {
             "outlinewidth": 0,
             "ticks": ""
            },
            "type": "contourcarpet"
           }
          ],
          "heatmap": [
           {
            "colorbar": {
             "outlinewidth": 0,
             "ticks": ""
            },
            "colorscale": [
             [
              0,
              "#0d0887"
             ],
             [
              0.1111111111111111,
              "#46039f"
             ],
             [
              0.2222222222222222,
              "#7201a8"
             ],
             [
              0.3333333333333333,
              "#9c179e"
             ],
             [
              0.4444444444444444,
              "#bd3786"
             ],
             [
              0.5555555555555556,
              "#d8576b"
             ],
             [
              0.6666666666666666,
              "#ed7953"
             ],
             [
              0.7777777777777778,
              "#fb9f3a"
             ],
             [
              0.8888888888888888,
              "#fdca26"
             ],
             [
              1,
              "#f0f921"
             ]
            ],
            "type": "heatmap"
           }
          ],
          "histogram": [
           {
            "marker": {
             "pattern": {
              "fillmode": "overlay",
              "size": 10,
              "solidity": 0.2
             }
            },
            "type": "histogram"
           }
          ],
          "histogram2d": [
           {
            "colorbar": {
             "outlinewidth": 0,
             "ticks": ""
            },
            "colorscale": [
             [
              0,
              "#0d0887"
             ],
             [
              0.1111111111111111,
              "#46039f"
             ],
             [
              0.2222222222222222,
              "#7201a8"
             ],
             [
              0.3333333333333333,
              "#9c179e"
             ],
             [
              0.4444444444444444,
              "#bd3786"
             ],
             [
              0.5555555555555556,
              "#d8576b"
             ],
             [
              0.6666666666666666,
              "#ed7953"
             ],
             [
              0.7777777777777778,
              "#fb9f3a"
             ],
             [
              0.8888888888888888,
              "#fdca26"
             ],
             [
              1,
              "#f0f921"
             ]
            ],
            "type": "histogram2d"
           }
          ],
          "histogram2dcontour": [
           {
            "colorbar": {
             "outlinewidth": 0,
             "ticks": ""
            },
            "colorscale": [
             [
              0,
              "#0d0887"
             ],
             [
              0.1111111111111111,
              "#46039f"
             ],
             [
              0.2222222222222222,
              "#7201a8"
             ],
             [
              0.3333333333333333,
              "#9c179e"
             ],
             [
              0.4444444444444444,
              "#bd3786"
             ],
             [
              0.5555555555555556,
              "#d8576b"
             ],
             [
              0.6666666666666666,
              "#ed7953"
             ],
             [
              0.7777777777777778,
              "#fb9f3a"
             ],
             [
              0.8888888888888888,
              "#fdca26"
             ],
             [
              1,
              "#f0f921"
             ]
            ],
            "type": "histogram2dcontour"
           }
          ],
          "mesh3d": [
           {
            "colorbar": {
             "outlinewidth": 0,
             "ticks": ""
            },
            "type": "mesh3d"
           }
          ],
          "parcoords": [
           {
            "line": {
             "colorbar": {
              "outlinewidth": 0,
              "ticks": ""
             }
            },
            "type": "parcoords"
           }
          ],
          "pie": [
           {
            "automargin": true,
            "type": "pie"
           }
          ],
          "scatter": [
           {
            "fillpattern": {
             "fillmode": "overlay",
             "size": 10,
             "solidity": 0.2
            },
            "type": "scatter"
           }
          ],
          "scatter3d": [
           {
            "line": {
             "colorbar": {
              "outlinewidth": 0,
              "ticks": ""
             }
            },
            "marker": {
             "colorbar": {
              "outlinewidth": 0,
              "ticks": ""
             }
            },
            "type": "scatter3d"
           }
          ],
          "scattercarpet": [
           {
            "marker": {
             "colorbar": {
              "outlinewidth": 0,
              "ticks": ""
             }
            },
            "type": "scattercarpet"
           }
          ],
          "scattergeo": [
           {
            "marker": {
             "colorbar": {
              "outlinewidth": 0,
              "ticks": ""
             }
            },
            "type": "scattergeo"
           }
          ],
          "scattergl": [
           {
            "marker": {
             "colorbar": {
              "outlinewidth": 0,
              "ticks": ""
             }
            },
            "type": "scattergl"
           }
          ],
          "scattermap": [
           {
            "marker": {
             "colorbar": {
              "outlinewidth": 0,
              "ticks": ""
             }
            },
            "type": "scattermap"
           }
          ],
          "scattermapbox": [
           {
            "marker": {
             "colorbar": {
              "outlinewidth": 0,
              "ticks": ""
             }
            },
            "type": "scattermapbox"
           }
          ],
          "scatterpolar": [
           {
            "marker": {
             "colorbar": {
              "outlinewidth": 0,
              "ticks": ""
             }
            },
            "type": "scatterpolar"
           }
          ],
          "scatterpolargl": [
           {
            "marker": {
             "colorbar": {
              "outlinewidth": 0,
              "ticks": ""
             }
            },
            "type": "scatterpolargl"
           }
          ],
          "scatterternary": [
           {
            "marker": {
             "colorbar": {
              "outlinewidth": 0,
              "ticks": ""
             }
            },
            "type": "scatterternary"
           }
          ],
          "surface": [
           {
            "colorbar": {
             "outlinewidth": 0,
             "ticks": ""
            },
            "colorscale": [
             [
              0,
              "#0d0887"
             ],
             [
              0.1111111111111111,
              "#46039f"
             ],
             [
              0.2222222222222222,
              "#7201a8"
             ],
             [
              0.3333333333333333,
              "#9c179e"
             ],
             [
              0.4444444444444444,
              "#bd3786"
             ],
             [
              0.5555555555555556,
              "#d8576b"
             ],
             [
              0.6666666666666666,
              "#ed7953"
             ],
             [
              0.7777777777777778,
              "#fb9f3a"
             ],
             [
              0.8888888888888888,
              "#fdca26"
             ],
             [
              1,
              "#f0f921"
             ]
            ],
            "type": "surface"
           }
          ],
          "table": [
           {
            "cells": {
             "fill": {
              "color": "#EBF0F8"
             },
             "line": {
              "color": "white"
             }
            },
            "header": {
             "fill": {
              "color": "#C8D4E3"
             },
             "line": {
              "color": "white"
             }
            },
            "type": "table"
           }
          ]
         },
         "layout": {
          "annotationdefaults": {
           "arrowcolor": "#2a3f5f",
           "arrowhead": 0,
           "arrowwidth": 1
          },
          "autotypenumbers": "strict",
          "coloraxis": {
           "colorbar": {
            "outlinewidth": 0,
            "ticks": ""
           }
          },
          "colorscale": {
           "diverging": [
            [
             0,
             "#8e0152"
            ],
            [
             0.1,
             "#c51b7d"
            ],
            [
             0.2,
             "#de77ae"
            ],
            [
             0.3,
             "#f1b6da"
            ],
            [
             0.4,
             "#fde0ef"
            ],
            [
             0.5,
             "#f7f7f7"
            ],
            [
             0.6,
             "#e6f5d0"
            ],
            [
             0.7,
             "#b8e186"
            ],
            [
             0.8,
             "#7fbc41"
            ],
            [
             0.9,
             "#4d9221"
            ],
            [
             1,
             "#276419"
            ]
           ],
           "sequential": [
            [
             0,
             "#0d0887"
            ],
            [
             0.1111111111111111,
             "#46039f"
            ],
            [
             0.2222222222222222,
             "#7201a8"
            ],
            [
             0.3333333333333333,
             "#9c179e"
            ],
            [
             0.4444444444444444,
             "#bd3786"
            ],
            [
             0.5555555555555556,
             "#d8576b"
            ],
            [
             0.6666666666666666,
             "#ed7953"
            ],
            [
             0.7777777777777778,
             "#fb9f3a"
            ],
            [
             0.8888888888888888,
             "#fdca26"
            ],
            [
             1,
             "#f0f921"
            ]
           ],
           "sequentialminus": [
            [
             0,
             "#0d0887"
            ],
            [
             0.1111111111111111,
             "#46039f"
            ],
            [
             0.2222222222222222,
             "#7201a8"
            ],
            [
             0.3333333333333333,
             "#9c179e"
            ],
            [
             0.4444444444444444,
             "#bd3786"
            ],
            [
             0.5555555555555556,
             "#d8576b"
            ],
            [
             0.6666666666666666,
             "#ed7953"
            ],
            [
             0.7777777777777778,
             "#fb9f3a"
            ],
            [
             0.8888888888888888,
             "#fdca26"
            ],
            [
             1,
             "#f0f921"
            ]
           ]
          },
          "colorway": [
           "#636efa",
           "#EF553B",
           "#00cc96",
           "#ab63fa",
           "#FFA15A",
           "#19d3f3",
           "#FF6692",
           "#B6E880",
           "#FF97FF",
           "#FECB52"
          ],
          "font": {
           "color": "#2a3f5f"
          },
          "geo": {
           "bgcolor": "white",
           "lakecolor": "white",
           "landcolor": "white",
           "showlakes": true,
           "showland": true,
           "subunitcolor": "#C8D4E3"
          },
          "hoverlabel": {
           "align": "left"
          },
          "hovermode": "closest",
          "mapbox": {
           "style": "light"
          },
          "paper_bgcolor": "white",
          "plot_bgcolor": "white",
          "polar": {
           "angularaxis": {
            "gridcolor": "#EBF0F8",
            "linecolor": "#EBF0F8",
            "ticks": ""
           },
           "bgcolor": "white",
           "radialaxis": {
            "gridcolor": "#EBF0F8",
            "linecolor": "#EBF0F8",
            "ticks": ""
           }
          },
          "scene": {
           "xaxis": {
            "backgroundcolor": "white",
            "gridcolor": "#DFE8F3",
            "gridwidth": 2,
            "linecolor": "#EBF0F8",
            "showbackground": true,
            "ticks": "",
            "zerolinecolor": "#EBF0F8"
           },
           "yaxis": {
            "backgroundcolor": "white",
            "gridcolor": "#DFE8F3",
            "gridwidth": 2,
            "linecolor": "#EBF0F8",
            "showbackground": true,
            "ticks": "",
            "zerolinecolor": "#EBF0F8"
           },
           "zaxis": {
            "backgroundcolor": "white",
            "gridcolor": "#DFE8F3",
            "gridwidth": 2,
            "linecolor": "#EBF0F8",
            "showbackground": true,
            "ticks": "",
            "zerolinecolor": "#EBF0F8"
           }
          },
          "shapedefaults": {
           "line": {
            "color": "#2a3f5f"
           }
          },
          "ternary": {
           "aaxis": {
            "gridcolor": "#DFE8F3",
            "linecolor": "#A2B1C6",
            "ticks": ""
           },
           "baxis": {
            "gridcolor": "#DFE8F3",
            "linecolor": "#A2B1C6",
            "ticks": ""
           },
           "bgcolor": "white",
           "caxis": {
            "gridcolor": "#DFE8F3",
            "linecolor": "#A2B1C6",
            "ticks": ""
           }
          },
          "title": {
           "x": 0.05
          },
          "xaxis": {
           "automargin": true,
           "gridcolor": "#EBF0F8",
           "linecolor": "#EBF0F8",
           "ticks": "",
           "title": {
            "standoff": 15
           },
           "zerolinecolor": "#EBF0F8",
           "zerolinewidth": 2
          },
          "yaxis": {
           "automargin": true,
           "gridcolor": "#EBF0F8",
           "linecolor": "#EBF0F8",
           "ticks": "",
           "title": {
            "standoff": 15
           },
           "zerolinecolor": "#EBF0F8",
           "zerolinewidth": 2
          }
         }
        },
        "title": {
         "subtitle": {
          "text": "(<b>excluding summer months</b>)"
         },
         "text": "<b>NEET rates for 16-24 y.o. by disability status (2008-2024)</b>"
        },
        "width": 700,
        "xaxis": {
         "title": {
          "text": "<b>Year"
         }
        },
        "yaxis": {
         "range": [
          0,
          45
         ],
         "title": {
          "text": "<b>NEET rate (%)"
         }
        }
       }
      }
     },
     "metadata": {},
     "output_type": "display_data"
    }
   ],
   "source": [
    "fig = go.Figure()\n",
    "colors_dis = {('men', 'has_dis') : 'darkblue', ('men', 'no_dis'): 'teal',\n",
    "          ('women', 'has_dis'): 'darkred', ('women', 'no_dis'): 'salmon'}\n",
    "for i in [('men', 'has_dis'), ('men', 'no_dis'),\n",
    "          ('women', 'has_dis'), ('women', 'no_dis')]:\n",
    "    fig.add_trace(go.Scatter(\n",
    "    x=disability.index, y=disability[i].round(2),\n",
    "    mode='lines+markers',\n",
    "    name=str(i),\n",
    "    line={\n",
    "        'color': colors_dis[i],\n",
    "        'width': 3\n",
    "    }\n",
    "))\n",
    "fig.update_layout(\n",
    "    font={'family': 'Georgia, serif'},\n",
    "    title={'text': '<b>NEET rates for 16-24 y.o. by disability status (2008-2024)</b>',\n",
    "           'subtitle': {'text': '(<b>excluding summer months</b>)'}},\n",
    "    xaxis={'title':{'text': '<b>Year'}}, yaxis={'title':{'text': '<b>NEET rate (%)'}},\n",
    "    legend = {'orientation': 'v', 'title': {'text': '<b>group</b><br>(click to toggle lines)'}},\n",
    "    width=700, height=450,\n",
    "    template='plotly_white',\n",
    "    margin={'pad': 0, 'b': 20, 'l': 20, 'r': 20, 't': 100}\n",
    ")\n",
    "fig.update_yaxes(range=[0,45])\n",
    "fig.show()"
   ]
  },
  {
   "cell_type": "markdown",
   "id": "00b73fde",
   "metadata": {},
   "source": [
    "#### Parent Status"
   ]
  },
  {
   "cell_type": "code",
   "execution_count": 31,
   "id": "92431c2f",
   "metadata": {},
   "outputs": [
    {
     "data": {
      "application/vnd.microsoft.datawrangler.viewer.v0+json": {
       "columns": [
        {
         "name": "YEAR",
         "rawType": "Int64",
         "type": "integer"
        },
        {
         "name": "('men', 'has_child')",
         "rawType": "float64",
         "type": "float"
        },
        {
         "name": "('men', 'no_child')",
         "rawType": "float64",
         "type": "float"
        },
        {
         "name": "('women', 'has_child')",
         "rawType": "float64",
         "type": "float"
        },
        {
         "name": "('women', 'no_child')",
         "rawType": "float64",
         "type": "float"
        }
       ],
       "conversionMethod": "pd.DataFrame",
       "ref": "0390cbb1-94f1-4608-b35b-1d1f2cfbedf8",
       "rows": [
        [
         "1990",
         "12.682835434798717",
         "9.82584713247938",
         "51.24040329480128",
         "10.047967828003"
        ],
        [
         "1991",
         "14.447691578828175",
         "11.297856813460115",
         "53.76022171511299",
         "10.75897073311115"
        ],
        [
         "1992",
         "15.510384394268808",
         "11.23847958294092",
         "51.506940682000014",
         "10.384992900305189"
        ],
        [
         "1993",
         "14.324418075985854",
         "10.574445878609778",
         "49.09643321450262",
         "10.062684512490726"
        ],
        [
         "1994",
         "13.164635186288",
         "10.5113106322156",
         "46.83675839478918",
         "9.672197471369575"
        ],
        [
         "1995",
         "13.748653555520807",
         "10.247532867695256",
         "45.9635384359839",
         "9.667491711340302"
        ],
        [
         "1996",
         "13.434660752990643",
         "10.168428361992003",
         "42.75667811894491",
         "9.589749284460277"
        ],
        [
         "1997",
         "12.738879408238347",
         "9.815989164078683",
         "39.909948399850805",
         "9.006265237152807"
        ],
        [
         "1998",
         "11.76222612632625",
         "9.185393500948443",
         "38.72420897636035",
         "8.450737911484643"
        ],
        [
         "1999",
         "12.242810280100056",
         "9.057339340943788",
         "38.108429790947234",
         "8.660436235253774"
        ],
        [
         "2000",
         "10.991487475033711",
         "9.080354301299394",
         "36.89252746063739",
         "8.775161832286676"
        ],
        [
         "2001",
         "13.872129238608844",
         "10.070277983810481",
         "38.54496602052221",
         "8.962057356179114"
        ],
        [
         "2002",
         "15.528324097490149",
         "10.726494961491083",
         "39.230138556326224",
         "9.893444461288853"
        ],
        [
         "2003",
         "14.638342044458666",
         "10.952155778381169",
         "40.44388830209001",
         "9.634876456905467"
        ],
        [
         "2004",
         "14.399951495277966",
         "10.572820510297861",
         "41.535736690452254",
         "9.241212627974353"
        ],
        [
         "2005",
         "14.485753763686088",
         "10.545434655955702",
         "40.78095051644796",
         "9.245384532604369"
        ],
        [
         "2006",
         "13.768808844144658",
         "9.78509904923538",
         "41.201042274700825",
         "8.989727186272534"
        ],
        [
         "2007",
         "14.522553023757325",
         "10.119130103447352",
         "40.89622054329468",
         "9.006624268469503"
        ],
        [
         "2008",
         "16.83574693326873",
         "11.449982614450832",
         "41.455204791671534",
         "9.540353810693219"
        ],
        [
         "2009",
         "21.702237928788772",
         "14.118807802714159",
         "42.28155463495639",
         "10.487064966494467"
        ],
        [
         "2010",
         "23.457488065780634",
         "14.442231867413504",
         "42.09562371553102",
         "10.473408566866095"
        ],
        [
         "2011",
         "19.692111750944598",
         "13.388415202381948",
         "41.71238783202021",
         "10.302190938235446"
        ],
        [
         "2012",
         "17.476849259005682",
         "12.839782555647858",
         "39.78223826604837",
         "10.401961264151677"
        ],
        [
         "2013",
         "19.57503357117899",
         "13.73936915130877",
         "41.99017546462457",
         "11.220635515401243"
        ],
        [
         "2014",
         "17.31403910586872",
         "12.842413749606346",
         "41.08124023306896",
         "10.709002478120619"
        ],
        [
         "2015",
         "13.871703643481458",
         "12.07835350187644",
         "38.270846665174595",
         "10.372871850023065"
        ],
        [
         "2016",
         "13.086532022112845",
         "11.710612944762989",
         "37.311196549811825",
         "9.862926455898057"
        ],
        [
         "2017",
         "12.425277524475726",
         "10.760554892474769",
         "38.252397354256175",
         "8.949912713616014"
        ],
        [
         "2018",
         "13.329336373106068",
         "10.848087297445332",
         "37.518640859175534",
         "9.372131059981257"
        ],
        [
         "2019",
         "12.308579188758028",
         "10.792846966238132",
         "36.81886867054213",
         "9.036978371536602"
        ],
        [
         "2020",
         "17.263357732799957",
         "14.261670824511254",
         "42.92387757733165",
         "12.16415291617235"
        ],
        [
         "2021",
         "14.890821772139198",
         "12.926446843250512",
         "42.63151891249626",
         "10.938475135633782"
        ],
        [
         "2022",
         "11.593876107083567",
         "11.789582354309431",
         "40.28878985543675",
         "10.487356961690358"
        ],
        [
         "2023",
         "10.779919651298531",
         "11.58256907244293",
         "39.238637956489306",
         "10.08906234528552"
        ],
        [
         "2024",
         "15.414302998855353",
         "11.970940604838948",
         "39.87078633259562",
         "10.725570363821918"
        ]
       ],
       "shape": {
        "columns": 4,
        "rows": 35
       }
      },
      "text/html": [
       "<div>\n",
       "<style scoped>\n",
       "    .dataframe tbody tr th:only-of-type {\n",
       "        vertical-align: middle;\n",
       "    }\n",
       "\n",
       "    .dataframe tbody tr th {\n",
       "        vertical-align: top;\n",
       "    }\n",
       "\n",
       "    .dataframe thead tr th {\n",
       "        text-align: left;\n",
       "    }\n",
       "\n",
       "    .dataframe thead tr:last-of-type th {\n",
       "        text-align: right;\n",
       "    }\n",
       "</style>\n",
       "<table border=\"1\" class=\"dataframe\">\n",
       "  <thead>\n",
       "    <tr>\n",
       "      <th>sex</th>\n",
       "      <th colspan=\"2\" halign=\"left\">men</th>\n",
       "      <th colspan=\"2\" halign=\"left\">women</th>\n",
       "    </tr>\n",
       "    <tr>\n",
       "      <th>kids</th>\n",
       "      <th>has_child</th>\n",
       "      <th>no_child</th>\n",
       "      <th>has_child</th>\n",
       "      <th>no_child</th>\n",
       "    </tr>\n",
       "    <tr>\n",
       "      <th>YEAR</th>\n",
       "      <th></th>\n",
       "      <th></th>\n",
       "      <th></th>\n",
       "      <th></th>\n",
       "    </tr>\n",
       "  </thead>\n",
       "  <tbody>\n",
       "    <tr>\n",
       "      <th>1990</th>\n",
       "      <td>12.682835</td>\n",
       "      <td>9.825847</td>\n",
       "      <td>51.240403</td>\n",
       "      <td>10.047968</td>\n",
       "    </tr>\n",
       "    <tr>\n",
       "      <th>1991</th>\n",
       "      <td>14.447692</td>\n",
       "      <td>11.297857</td>\n",
       "      <td>53.760222</td>\n",
       "      <td>10.758971</td>\n",
       "    </tr>\n",
       "    <tr>\n",
       "      <th>1992</th>\n",
       "      <td>15.510384</td>\n",
       "      <td>11.238480</td>\n",
       "      <td>51.506941</td>\n",
       "      <td>10.384993</td>\n",
       "    </tr>\n",
       "    <tr>\n",
       "      <th>1993</th>\n",
       "      <td>14.324418</td>\n",
       "      <td>10.574446</td>\n",
       "      <td>49.096433</td>\n",
       "      <td>10.062685</td>\n",
       "    </tr>\n",
       "    <tr>\n",
       "      <th>1994</th>\n",
       "      <td>13.164635</td>\n",
       "      <td>10.511311</td>\n",
       "      <td>46.836758</td>\n",
       "      <td>9.672197</td>\n",
       "    </tr>\n",
       "    <tr>\n",
       "      <th>1995</th>\n",
       "      <td>13.748654</td>\n",
       "      <td>10.247533</td>\n",
       "      <td>45.963538</td>\n",
       "      <td>9.667492</td>\n",
       "    </tr>\n",
       "    <tr>\n",
       "      <th>1996</th>\n",
       "      <td>13.434661</td>\n",
       "      <td>10.168428</td>\n",
       "      <td>42.756678</td>\n",
       "      <td>9.589749</td>\n",
       "    </tr>\n",
       "    <tr>\n",
       "      <th>1997</th>\n",
       "      <td>12.738879</td>\n",
       "      <td>9.815989</td>\n",
       "      <td>39.909948</td>\n",
       "      <td>9.006265</td>\n",
       "    </tr>\n",
       "    <tr>\n",
       "      <th>1998</th>\n",
       "      <td>11.762226</td>\n",
       "      <td>9.185394</td>\n",
       "      <td>38.724209</td>\n",
       "      <td>8.450738</td>\n",
       "    </tr>\n",
       "    <tr>\n",
       "      <th>1999</th>\n",
       "      <td>12.242810</td>\n",
       "      <td>9.057339</td>\n",
       "      <td>38.108430</td>\n",
       "      <td>8.660436</td>\n",
       "    </tr>\n",
       "    <tr>\n",
       "      <th>2000</th>\n",
       "      <td>10.991487</td>\n",
       "      <td>9.080354</td>\n",
       "      <td>36.892527</td>\n",
       "      <td>8.775162</td>\n",
       "    </tr>\n",
       "    <tr>\n",
       "      <th>2001</th>\n",
       "      <td>13.872129</td>\n",
       "      <td>10.070278</td>\n",
       "      <td>38.544966</td>\n",
       "      <td>8.962057</td>\n",
       "    </tr>\n",
       "    <tr>\n",
       "      <th>2002</th>\n",
       "      <td>15.528324</td>\n",
       "      <td>10.726495</td>\n",
       "      <td>39.230139</td>\n",
       "      <td>9.893444</td>\n",
       "    </tr>\n",
       "    <tr>\n",
       "      <th>2003</th>\n",
       "      <td>14.638342</td>\n",
       "      <td>10.952156</td>\n",
       "      <td>40.443888</td>\n",
       "      <td>9.634876</td>\n",
       "    </tr>\n",
       "    <tr>\n",
       "      <th>2004</th>\n",
       "      <td>14.399951</td>\n",
       "      <td>10.572821</td>\n",
       "      <td>41.535737</td>\n",
       "      <td>9.241213</td>\n",
       "    </tr>\n",
       "    <tr>\n",
       "      <th>2005</th>\n",
       "      <td>14.485754</td>\n",
       "      <td>10.545435</td>\n",
       "      <td>40.780951</td>\n",
       "      <td>9.245385</td>\n",
       "    </tr>\n",
       "    <tr>\n",
       "      <th>2006</th>\n",
       "      <td>13.768809</td>\n",
       "      <td>9.785099</td>\n",
       "      <td>41.201042</td>\n",
       "      <td>8.989727</td>\n",
       "    </tr>\n",
       "    <tr>\n",
       "      <th>2007</th>\n",
       "      <td>14.522553</td>\n",
       "      <td>10.119130</td>\n",
       "      <td>40.896221</td>\n",
       "      <td>9.006624</td>\n",
       "    </tr>\n",
       "    <tr>\n",
       "      <th>2008</th>\n",
       "      <td>16.835747</td>\n",
       "      <td>11.449983</td>\n",
       "      <td>41.455205</td>\n",
       "      <td>9.540354</td>\n",
       "    </tr>\n",
       "    <tr>\n",
       "      <th>2009</th>\n",
       "      <td>21.702238</td>\n",
       "      <td>14.118808</td>\n",
       "      <td>42.281555</td>\n",
       "      <td>10.487065</td>\n",
       "    </tr>\n",
       "    <tr>\n",
       "      <th>2010</th>\n",
       "      <td>23.457488</td>\n",
       "      <td>14.442232</td>\n",
       "      <td>42.095624</td>\n",
       "      <td>10.473409</td>\n",
       "    </tr>\n",
       "    <tr>\n",
       "      <th>2011</th>\n",
       "      <td>19.692112</td>\n",
       "      <td>13.388415</td>\n",
       "      <td>41.712388</td>\n",
       "      <td>10.302191</td>\n",
       "    </tr>\n",
       "    <tr>\n",
       "      <th>2012</th>\n",
       "      <td>17.476849</td>\n",
       "      <td>12.839783</td>\n",
       "      <td>39.782238</td>\n",
       "      <td>10.401961</td>\n",
       "    </tr>\n",
       "    <tr>\n",
       "      <th>2013</th>\n",
       "      <td>19.575034</td>\n",
       "      <td>13.739369</td>\n",
       "      <td>41.990175</td>\n",
       "      <td>11.220636</td>\n",
       "    </tr>\n",
       "    <tr>\n",
       "      <th>2014</th>\n",
       "      <td>17.314039</td>\n",
       "      <td>12.842414</td>\n",
       "      <td>41.081240</td>\n",
       "      <td>10.709002</td>\n",
       "    </tr>\n",
       "    <tr>\n",
       "      <th>2015</th>\n",
       "      <td>13.871704</td>\n",
       "      <td>12.078354</td>\n",
       "      <td>38.270847</td>\n",
       "      <td>10.372872</td>\n",
       "    </tr>\n",
       "    <tr>\n",
       "      <th>2016</th>\n",
       "      <td>13.086532</td>\n",
       "      <td>11.710613</td>\n",
       "      <td>37.311197</td>\n",
       "      <td>9.862926</td>\n",
       "    </tr>\n",
       "    <tr>\n",
       "      <th>2017</th>\n",
       "      <td>12.425278</td>\n",
       "      <td>10.760555</td>\n",
       "      <td>38.252397</td>\n",
       "      <td>8.949913</td>\n",
       "    </tr>\n",
       "    <tr>\n",
       "      <th>2018</th>\n",
       "      <td>13.329336</td>\n",
       "      <td>10.848087</td>\n",
       "      <td>37.518641</td>\n",
       "      <td>9.372131</td>\n",
       "    </tr>\n",
       "    <tr>\n",
       "      <th>2019</th>\n",
       "      <td>12.308579</td>\n",
       "      <td>10.792847</td>\n",
       "      <td>36.818869</td>\n",
       "      <td>9.036978</td>\n",
       "    </tr>\n",
       "    <tr>\n",
       "      <th>2020</th>\n",
       "      <td>17.263358</td>\n",
       "      <td>14.261671</td>\n",
       "      <td>42.923878</td>\n",
       "      <td>12.164153</td>\n",
       "    </tr>\n",
       "    <tr>\n",
       "      <th>2021</th>\n",
       "      <td>14.890822</td>\n",
       "      <td>12.926447</td>\n",
       "      <td>42.631519</td>\n",
       "      <td>10.938475</td>\n",
       "    </tr>\n",
       "    <tr>\n",
       "      <th>2022</th>\n",
       "      <td>11.593876</td>\n",
       "      <td>11.789582</td>\n",
       "      <td>40.288790</td>\n",
       "      <td>10.487357</td>\n",
       "    </tr>\n",
       "    <tr>\n",
       "      <th>2023</th>\n",
       "      <td>10.779920</td>\n",
       "      <td>11.582569</td>\n",
       "      <td>39.238638</td>\n",
       "      <td>10.089062</td>\n",
       "    </tr>\n",
       "    <tr>\n",
       "      <th>2024</th>\n",
       "      <td>15.414303</td>\n",
       "      <td>11.970941</td>\n",
       "      <td>39.870786</td>\n",
       "      <td>10.725570</td>\n",
       "    </tr>\n",
       "  </tbody>\n",
       "</table>\n",
       "</div>"
      ],
      "text/plain": [
       "sex         men                 women           \n",
       "kids  has_child   no_child  has_child   no_child\n",
       "YEAR                                            \n",
       "1990  12.682835   9.825847  51.240403  10.047968\n",
       "1991  14.447692  11.297857  53.760222  10.758971\n",
       "1992  15.510384  11.238480  51.506941  10.384993\n",
       "1993  14.324418  10.574446  49.096433  10.062685\n",
       "1994  13.164635  10.511311  46.836758   9.672197\n",
       "1995  13.748654  10.247533  45.963538   9.667492\n",
       "1996  13.434661  10.168428  42.756678   9.589749\n",
       "1997  12.738879   9.815989  39.909948   9.006265\n",
       "1998  11.762226   9.185394  38.724209   8.450738\n",
       "1999  12.242810   9.057339  38.108430   8.660436\n",
       "2000  10.991487   9.080354  36.892527   8.775162\n",
       "2001  13.872129  10.070278  38.544966   8.962057\n",
       "2002  15.528324  10.726495  39.230139   9.893444\n",
       "2003  14.638342  10.952156  40.443888   9.634876\n",
       "2004  14.399951  10.572821  41.535737   9.241213\n",
       "2005  14.485754  10.545435  40.780951   9.245385\n",
       "2006  13.768809   9.785099  41.201042   8.989727\n",
       "2007  14.522553  10.119130  40.896221   9.006624\n",
       "2008  16.835747  11.449983  41.455205   9.540354\n",
       "2009  21.702238  14.118808  42.281555  10.487065\n",
       "2010  23.457488  14.442232  42.095624  10.473409\n",
       "2011  19.692112  13.388415  41.712388  10.302191\n",
       "2012  17.476849  12.839783  39.782238  10.401961\n",
       "2013  19.575034  13.739369  41.990175  11.220636\n",
       "2014  17.314039  12.842414  41.081240  10.709002\n",
       "2015  13.871704  12.078354  38.270847  10.372872\n",
       "2016  13.086532  11.710613  37.311197   9.862926\n",
       "2017  12.425278  10.760555  38.252397   8.949913\n",
       "2018  13.329336  10.848087  37.518641   9.372131\n",
       "2019  12.308579  10.792847  36.818869   9.036978\n",
       "2020  17.263358  14.261671  42.923878  12.164153\n",
       "2021  14.890822  12.926447  42.631519  10.938475\n",
       "2022  11.593876  11.789582  40.288790  10.487357\n",
       "2023  10.779920  11.582569  39.238638  10.089062\n",
       "2024  15.414303  11.970941  39.870786  10.725570"
      ]
     },
     "execution_count": 31,
     "metadata": {},
     "output_type": "execute_result"
    }
   ],
   "source": [
    "parents = get_neet(groupings=['YEAR','kids', 'sex', 'NEET']).unstack().unstack()\n",
    "parents"
   ]
  },
  {
   "cell_type": "code",
   "execution_count": 32,
   "id": "2212c6c5",
   "metadata": {},
   "outputs": [
    {
     "data": {
      "application/vnd.plotly.v1+json": {
       "config": {
        "plotlyServerURL": "https://plotly.com"
       },
       "data": [
        {
         "line": {
          "color": "darkblue",
          "width": 3
         },
         "mode": "lines+markers",
         "name": "('men', 'has_child')",
         "type": "scatter",
         "x": {
          "bdata": "xgfHB8gHyQfKB8sHzAfNB84HzwfQB9EH0gfTB9QH1QfWB9cH2AfZB9oH2wfcB90H3gffB+AH4QfiB+MH5AflB+YH5wfoBw==",
          "dtype": "i2"
         },
         "y": {
          "bdata": "XI/C9ShcKUBmZmZmZuYsQIXrUbgeBS9ApHA9CtejLEBSuB6F61EqQAAAAAAAgCtAXI/C9SjcKkB7FK5H4XopQIXrUbgehSdAexSuR+F6KEB7FK5H4folQD0K16NwvStAj8L1KFwPL0BI4XoUrkctQM3MzMzMzCxAexSuR+H6LEAK16NwPYorQArXo3A9Ci1A16NwPQrXMEAzMzMzM7M1QPYoXI/CdTdAcT0K16OwM0B7FK5H4XoxQBSuR+F6lDNAj8L1KFxPMUA9CtejcL0rQK5H4XoULipAXI/C9SjcKEApXI/C9agqQB+F61G4nihAw/UoXI9CMUBI4XoUrsctQK5H4XoULidAj8L1KFyPJUBSuB6F69EuQA==",
          "dtype": "f8"
         }
        },
        {
         "line": {
          "color": "teal",
          "width": 3
         },
         "mode": "lines+markers",
         "name": "('men', 'no_child')",
         "type": "scatter",
         "x": {
          "bdata": "xgfHB8gHyQfKB8sHzAfNB84HzwfQB9EH0gfTB9QH1QfWB9cH2AfZB9oH2wfcB90H3gffB+AH4QfiB+MH5AflB+YH5wfoBw==",
          "dtype": "i2"
         },
         "y": {
          "bdata": "KVyPwvWoI0CamZmZmZkmQHsUrkfheiZApHA9CtcjJUCF61G4HgUlQAAAAAAAgCRA16NwPQpXJECkcD0K16MjQOF6FK5HYSJAH4XrUbgeIkApXI/C9SgiQKRwPQrXIyRA9ihcj8J1JUBmZmZmZuYlQKRwPQrXIyVAmpmZmZkZJUAUrkfhepQjQD0K16NwPSRAZmZmZmbmJkA9CtejcD0sQOF6FK5H4SxASOF6FK7HKkCuR+F6FK4pQHsUrkfheitArkfhehSuKUApXI/C9SgoQOxRuB6FaydAhetRuB6FJUAzMzMzM7MlQBSuR+F6lCVAhetRuB6FLEBcj8L1KNwpQBSuR+F6lCdAKVyPwvUoJ0BxPQrXo/AnQA==",
          "dtype": "f8"
         }
        },
        {
         "line": {
          "color": "darkred",
          "width": 3
         },
         "mode": "lines+markers",
         "name": "('women', 'has_child')",
         "type": "scatter",
         "x": {
          "bdata": "xgfHB8gHyQfKB8sHzAfNB84HzwfQB9EH0gfTB9QH1QfWB9cH2AfZB9oH2wfcB90H3gffB+AH4QfiB+MH5AflB+YH5wfoBw==",
          "dtype": "i2"
         },
         "y": {
          "bdata": "H4XrUbieSUDhehSuR+FKQOF6FK5HwUlAzczMzMyMSEDsUbgehWtHQHsUrkfh+kZA4XoUrkdhRUAUrkfhevRDQFyPwvUoXENArkfhehQOQ0BSuB6F63FCQIXrUbgeRUNAPQrXo3CdQ0C4HoXrUThEQIXrUbgexURApHA9CtdjRECamZmZmZlEQDMzMzMzc0RAexSuR+G6RECkcD0K1yNFQM3MzMzMDEVAexSuR+HaRECkcD0K1+NDQB+F61G4/kRACtejcD2KREDD9ShcjyJDQEjhehSup0JAAAAAAAAgQ0DD9Shcj8JCQClcj8L1aEJA9ihcj8J1RUBxPQrXo1BFQIXrUbgeJURAH4XrUbieQ0CPwvUoXO9DQA==",
          "dtype": "f8"
         }
        },
        {
         "line": {
          "color": "salmon",
          "width": 3
         },
         "mode": "lines+markers",
         "name": "('women', 'no_child')",
         "type": "scatter",
         "x": {
          "bdata": "xgfHB8gHyQfKB8sHzAfNB84HzwfQB9EH0gfTB9QH1QfWB9cH2AfZB9oH2wfcB90H3gffB+AH4QfiB+MH5AflB+YH5wfoBw==",
          "dtype": "i2"
         },
         "y": {
          "bdata": "mpmZmZkZJECF61G4HoUlQMP1KFyPwiRAH4XrUbgeJEDXo3A9ClcjQNejcD0KVyNArkfhehQuI0CF61G4HgUiQGZmZmZm5iBAUrgehetRIUCPwvUoXI8hQOxRuB6F6yFASOF6FK7HI0DD9Shcj0IjQHsUrkfheiJAAAAAAACAIkB7FK5H4fohQIXrUbgeBSJAFK5H4XoUI0B7FK5H4fokQHE9Ctej8CRAmpmZmZmZJEDNzMzMzMwkQHE9CtejcCZA7FG4HoVrJUA9CtejcL0kQLgehetRuCNAZmZmZmbmIUA9CtejcL0iQBSuR+F6FCJAUrgehetRKEDhehSuR+ElQHsUrkfh+iRArkfhehQuJED2KFyPwnUlQA==",
          "dtype": "f8"
         }
        }
       ],
       "layout": {
        "font": {
         "family": "Georgia, serif"
        },
        "height": 450,
        "legend": {
         "orientation": "v",
         "title": {
          "text": "<b>group</b><br>(click to toggle lines)"
         }
        },
        "margin": {
         "b": 20,
         "l": 20,
         "pad": 0,
         "r": 20,
         "t": 100
        },
        "template": {
         "data": {
          "bar": [
           {
            "error_x": {
             "color": "#2a3f5f"
            },
            "error_y": {
             "color": "#2a3f5f"
            },
            "marker": {
             "line": {
              "color": "white",
              "width": 0.5
             },
             "pattern": {
              "fillmode": "overlay",
              "size": 10,
              "solidity": 0.2
             }
            },
            "type": "bar"
           }
          ],
          "barpolar": [
           {
            "marker": {
             "line": {
              "color": "white",
              "width": 0.5
             },
             "pattern": {
              "fillmode": "overlay",
              "size": 10,
              "solidity": 0.2
             }
            },
            "type": "barpolar"
           }
          ],
          "carpet": [
           {
            "aaxis": {
             "endlinecolor": "#2a3f5f",
             "gridcolor": "#C8D4E3",
             "linecolor": "#C8D4E3",
             "minorgridcolor": "#C8D4E3",
             "startlinecolor": "#2a3f5f"
            },
            "baxis": {
             "endlinecolor": "#2a3f5f",
             "gridcolor": "#C8D4E3",
             "linecolor": "#C8D4E3",
             "minorgridcolor": "#C8D4E3",
             "startlinecolor": "#2a3f5f"
            },
            "type": "carpet"
           }
          ],
          "choropleth": [
           {
            "colorbar": {
             "outlinewidth": 0,
             "ticks": ""
            },
            "type": "choropleth"
           }
          ],
          "contour": [
           {
            "colorbar": {
             "outlinewidth": 0,
             "ticks": ""
            },
            "colorscale": [
             [
              0,
              "#0d0887"
             ],
             [
              0.1111111111111111,
              "#46039f"
             ],
             [
              0.2222222222222222,
              "#7201a8"
             ],
             [
              0.3333333333333333,
              "#9c179e"
             ],
             [
              0.4444444444444444,
              "#bd3786"
             ],
             [
              0.5555555555555556,
              "#d8576b"
             ],
             [
              0.6666666666666666,
              "#ed7953"
             ],
             [
              0.7777777777777778,
              "#fb9f3a"
             ],
             [
              0.8888888888888888,
              "#fdca26"
             ],
             [
              1,
              "#f0f921"
             ]
            ],
            "type": "contour"
           }
          ],
          "contourcarpet": [
           {
            "colorbar": {
             "outlinewidth": 0,
             "ticks": ""
            },
            "type": "contourcarpet"
           }
          ],
          "heatmap": [
           {
            "colorbar": {
             "outlinewidth": 0,
             "ticks": ""
            },
            "colorscale": [
             [
              0,
              "#0d0887"
             ],
             [
              0.1111111111111111,
              "#46039f"
             ],
             [
              0.2222222222222222,
              "#7201a8"
             ],
             [
              0.3333333333333333,
              "#9c179e"
             ],
             [
              0.4444444444444444,
              "#bd3786"
             ],
             [
              0.5555555555555556,
              "#d8576b"
             ],
             [
              0.6666666666666666,
              "#ed7953"
             ],
             [
              0.7777777777777778,
              "#fb9f3a"
             ],
             [
              0.8888888888888888,
              "#fdca26"
             ],
             [
              1,
              "#f0f921"
             ]
            ],
            "type": "heatmap"
           }
          ],
          "histogram": [
           {
            "marker": {
             "pattern": {
              "fillmode": "overlay",
              "size": 10,
              "solidity": 0.2
             }
            },
            "type": "histogram"
           }
          ],
          "histogram2d": [
           {
            "colorbar": {
             "outlinewidth": 0,
             "ticks": ""
            },
            "colorscale": [
             [
              0,
              "#0d0887"
             ],
             [
              0.1111111111111111,
              "#46039f"
             ],
             [
              0.2222222222222222,
              "#7201a8"
             ],
             [
              0.3333333333333333,
              "#9c179e"
             ],
             [
              0.4444444444444444,
              "#bd3786"
             ],
             [
              0.5555555555555556,
              "#d8576b"
             ],
             [
              0.6666666666666666,
              "#ed7953"
             ],
             [
              0.7777777777777778,
              "#fb9f3a"
             ],
             [
              0.8888888888888888,
              "#fdca26"
             ],
             [
              1,
              "#f0f921"
             ]
            ],
            "type": "histogram2d"
           }
          ],
          "histogram2dcontour": [
           {
            "colorbar": {
             "outlinewidth": 0,
             "ticks": ""
            },
            "colorscale": [
             [
              0,
              "#0d0887"
             ],
             [
              0.1111111111111111,
              "#46039f"
             ],
             [
              0.2222222222222222,
              "#7201a8"
             ],
             [
              0.3333333333333333,
              "#9c179e"
             ],
             [
              0.4444444444444444,
              "#bd3786"
             ],
             [
              0.5555555555555556,
              "#d8576b"
             ],
             [
              0.6666666666666666,
              "#ed7953"
             ],
             [
              0.7777777777777778,
              "#fb9f3a"
             ],
             [
              0.8888888888888888,
              "#fdca26"
             ],
             [
              1,
              "#f0f921"
             ]
            ],
            "type": "histogram2dcontour"
           }
          ],
          "mesh3d": [
           {
            "colorbar": {
             "outlinewidth": 0,
             "ticks": ""
            },
            "type": "mesh3d"
           }
          ],
          "parcoords": [
           {
            "line": {
             "colorbar": {
              "outlinewidth": 0,
              "ticks": ""
             }
            },
            "type": "parcoords"
           }
          ],
          "pie": [
           {
            "automargin": true,
            "type": "pie"
           }
          ],
          "scatter": [
           {
            "fillpattern": {
             "fillmode": "overlay",
             "size": 10,
             "solidity": 0.2
            },
            "type": "scatter"
           }
          ],
          "scatter3d": [
           {
            "line": {
             "colorbar": {
              "outlinewidth": 0,
              "ticks": ""
             }
            },
            "marker": {
             "colorbar": {
              "outlinewidth": 0,
              "ticks": ""
             }
            },
            "type": "scatter3d"
           }
          ],
          "scattercarpet": [
           {
            "marker": {
             "colorbar": {
              "outlinewidth": 0,
              "ticks": ""
             }
            },
            "type": "scattercarpet"
           }
          ],
          "scattergeo": [
           {
            "marker": {
             "colorbar": {
              "outlinewidth": 0,
              "ticks": ""
             }
            },
            "type": "scattergeo"
           }
          ],
          "scattergl": [
           {
            "marker": {
             "colorbar": {
              "outlinewidth": 0,
              "ticks": ""
             }
            },
            "type": "scattergl"
           }
          ],
          "scattermap": [
           {
            "marker": {
             "colorbar": {
              "outlinewidth": 0,
              "ticks": ""
             }
            },
            "type": "scattermap"
           }
          ],
          "scattermapbox": [
           {
            "marker": {
             "colorbar": {
              "outlinewidth": 0,
              "ticks": ""
             }
            },
            "type": "scattermapbox"
           }
          ],
          "scatterpolar": [
           {
            "marker": {
             "colorbar": {
              "outlinewidth": 0,
              "ticks": ""
             }
            },
            "type": "scatterpolar"
           }
          ],
          "scatterpolargl": [
           {
            "marker": {
             "colorbar": {
              "outlinewidth": 0,
              "ticks": ""
             }
            },
            "type": "scatterpolargl"
           }
          ],
          "scatterternary": [
           {
            "marker": {
             "colorbar": {
              "outlinewidth": 0,
              "ticks": ""
             }
            },
            "type": "scatterternary"
           }
          ],
          "surface": [
           {
            "colorbar": {
             "outlinewidth": 0,
             "ticks": ""
            },
            "colorscale": [
             [
              0,
              "#0d0887"
             ],
             [
              0.1111111111111111,
              "#46039f"
             ],
             [
              0.2222222222222222,
              "#7201a8"
             ],
             [
              0.3333333333333333,
              "#9c179e"
             ],
             [
              0.4444444444444444,
              "#bd3786"
             ],
             [
              0.5555555555555556,
              "#d8576b"
             ],
             [
              0.6666666666666666,
              "#ed7953"
             ],
             [
              0.7777777777777778,
              "#fb9f3a"
             ],
             [
              0.8888888888888888,
              "#fdca26"
             ],
             [
              1,
              "#f0f921"
             ]
            ],
            "type": "surface"
           }
          ],
          "table": [
           {
            "cells": {
             "fill": {
              "color": "#EBF0F8"
             },
             "line": {
              "color": "white"
             }
            },
            "header": {
             "fill": {
              "color": "#C8D4E3"
             },
             "line": {
              "color": "white"
             }
            },
            "type": "table"
           }
          ]
         },
         "layout": {
          "annotationdefaults": {
           "arrowcolor": "#2a3f5f",
           "arrowhead": 0,
           "arrowwidth": 1
          },
          "autotypenumbers": "strict",
          "coloraxis": {
           "colorbar": {
            "outlinewidth": 0,
            "ticks": ""
           }
          },
          "colorscale": {
           "diverging": [
            [
             0,
             "#8e0152"
            ],
            [
             0.1,
             "#c51b7d"
            ],
            [
             0.2,
             "#de77ae"
            ],
            [
             0.3,
             "#f1b6da"
            ],
            [
             0.4,
             "#fde0ef"
            ],
            [
             0.5,
             "#f7f7f7"
            ],
            [
             0.6,
             "#e6f5d0"
            ],
            [
             0.7,
             "#b8e186"
            ],
            [
             0.8,
             "#7fbc41"
            ],
            [
             0.9,
             "#4d9221"
            ],
            [
             1,
             "#276419"
            ]
           ],
           "sequential": [
            [
             0,
             "#0d0887"
            ],
            [
             0.1111111111111111,
             "#46039f"
            ],
            [
             0.2222222222222222,
             "#7201a8"
            ],
            [
             0.3333333333333333,
             "#9c179e"
            ],
            [
             0.4444444444444444,
             "#bd3786"
            ],
            [
             0.5555555555555556,
             "#d8576b"
            ],
            [
             0.6666666666666666,
             "#ed7953"
            ],
            [
             0.7777777777777778,
             "#fb9f3a"
            ],
            [
             0.8888888888888888,
             "#fdca26"
            ],
            [
             1,
             "#f0f921"
            ]
           ],
           "sequentialminus": [
            [
             0,
             "#0d0887"
            ],
            [
             0.1111111111111111,
             "#46039f"
            ],
            [
             0.2222222222222222,
             "#7201a8"
            ],
            [
             0.3333333333333333,
             "#9c179e"
            ],
            [
             0.4444444444444444,
             "#bd3786"
            ],
            [
             0.5555555555555556,
             "#d8576b"
            ],
            [
             0.6666666666666666,
             "#ed7953"
            ],
            [
             0.7777777777777778,
             "#fb9f3a"
            ],
            [
             0.8888888888888888,
             "#fdca26"
            ],
            [
             1,
             "#f0f921"
            ]
           ]
          },
          "colorway": [
           "#636efa",
           "#EF553B",
           "#00cc96",
           "#ab63fa",
           "#FFA15A",
           "#19d3f3",
           "#FF6692",
           "#B6E880",
           "#FF97FF",
           "#FECB52"
          ],
          "font": {
           "color": "#2a3f5f"
          },
          "geo": {
           "bgcolor": "white",
           "lakecolor": "white",
           "landcolor": "white",
           "showlakes": true,
           "showland": true,
           "subunitcolor": "#C8D4E3"
          },
          "hoverlabel": {
           "align": "left"
          },
          "hovermode": "closest",
          "mapbox": {
           "style": "light"
          },
          "paper_bgcolor": "white",
          "plot_bgcolor": "white",
          "polar": {
           "angularaxis": {
            "gridcolor": "#EBF0F8",
            "linecolor": "#EBF0F8",
            "ticks": ""
           },
           "bgcolor": "white",
           "radialaxis": {
            "gridcolor": "#EBF0F8",
            "linecolor": "#EBF0F8",
            "ticks": ""
           }
          },
          "scene": {
           "xaxis": {
            "backgroundcolor": "white",
            "gridcolor": "#DFE8F3",
            "gridwidth": 2,
            "linecolor": "#EBF0F8",
            "showbackground": true,
            "ticks": "",
            "zerolinecolor": "#EBF0F8"
           },
           "yaxis": {
            "backgroundcolor": "white",
            "gridcolor": "#DFE8F3",
            "gridwidth": 2,
            "linecolor": "#EBF0F8",
            "showbackground": true,
            "ticks": "",
            "zerolinecolor": "#EBF0F8"
           },
           "zaxis": {
            "backgroundcolor": "white",
            "gridcolor": "#DFE8F3",
            "gridwidth": 2,
            "linecolor": "#EBF0F8",
            "showbackground": true,
            "ticks": "",
            "zerolinecolor": "#EBF0F8"
           }
          },
          "shapedefaults": {
           "line": {
            "color": "#2a3f5f"
           }
          },
          "ternary": {
           "aaxis": {
            "gridcolor": "#DFE8F3",
            "linecolor": "#A2B1C6",
            "ticks": ""
           },
           "baxis": {
            "gridcolor": "#DFE8F3",
            "linecolor": "#A2B1C6",
            "ticks": ""
           },
           "bgcolor": "white",
           "caxis": {
            "gridcolor": "#DFE8F3",
            "linecolor": "#A2B1C6",
            "ticks": ""
           }
          },
          "title": {
           "x": 0.05
          },
          "xaxis": {
           "automargin": true,
           "gridcolor": "#EBF0F8",
           "linecolor": "#EBF0F8",
           "ticks": "",
           "title": {
            "standoff": 15
           },
           "zerolinecolor": "#EBF0F8",
           "zerolinewidth": 2
          },
          "yaxis": {
           "automargin": true,
           "gridcolor": "#EBF0F8",
           "linecolor": "#EBF0F8",
           "ticks": "",
           "title": {
            "standoff": 15
           },
           "zerolinecolor": "#EBF0F8",
           "zerolinewidth": 2
          }
         }
        },
        "title": {
         "subtitle": {
          "text": "(<b>excluding summer months</b>)"
         },
         "text": "<b>NEET rates for 16-24 y.o. by parental status (1990-2024)</b>"
        },
        "width": 700,
        "xaxis": {
         "title": {
          "text": "<b>Year"
         }
        },
        "yaxis": {
         "range": [
          0,
          55
         ],
         "title": {
          "text": "<b>NEET rate (%)"
         }
        }
       }
      }
     },
     "metadata": {},
     "output_type": "display_data"
    }
   ],
   "source": [
    "fig = go.Figure()\n",
    "colors_parents = {('men', 'has_child') : 'darkblue', ('men', 'no_child'): 'teal',\n",
    "          ('women', 'has_child'): 'darkred', ('women', 'no_child'): 'salmon'}\n",
    "for i in [('men', 'has_child'), ('men', 'no_child'),\n",
    "          ('women', 'has_child'), ('women', 'no_child')]:\n",
    "    fig.add_trace(go.Scatter(\n",
    "    x=parents.index, y=parents[i].round(2),\n",
    "    mode='lines+markers',\n",
    "    name=str(i),\n",
    "    line={\n",
    "        'color': colors_parents[i],\n",
    "        'width': 3\n",
    "    }\n",
    "))\n",
    "fig.update_layout(\n",
    "    font={'family': 'Georgia, serif'},\n",
    "    title={'text': '<b>NEET rates for 16-24 y.o. by parental status (1990-2024)</b>',\n",
    "           'subtitle': {'text': '(<b>excluding summer months</b>)'}},\n",
    "    xaxis={'title':{'text': '<b>Year'}}, yaxis={'title':{'text': '<b>NEET rate (%)'}},\n",
    "    legend = {'orientation': 'v', 'title': {'text': '<b>group</b><br>(click to toggle lines)'}},\n",
    "    width=700, height=450,\n",
    "    template='plotly_white',\n",
    "    margin={'pad': 0, 'b': 20, 'l': 20, 'r': 20, 't': 100}\n",
    ")\n",
    "fig.update_yaxes(range=[0,55])\n",
    "fig.show()"
   ]
  },
  {
   "cell_type": "markdown",
   "id": "eac13b55",
   "metadata": {},
   "source": [
    "### 3. By Race"
   ]
  },
  {
   "cell_type": "code",
   "execution_count": 33,
   "id": "2d4be35d",
   "metadata": {},
   "outputs": [
    {
     "data": {
      "application/vnd.microsoft.datawrangler.viewer.v0+json": {
       "columns": [
        {
         "name": "YEAR",
         "rawType": "Int64",
         "type": "integer"
        },
        {
         "name": "('men', 'aian')",
         "rawType": "float64",
         "type": "float"
        },
        {
         "name": "('men', 'asian')",
         "rawType": "float64",
         "type": "float"
        },
        {
         "name": "('men', 'black')",
         "rawType": "float64",
         "type": "float"
        },
        {
         "name": "('men', 'hispanic')",
         "rawType": "float64",
         "type": "float"
        },
        {
         "name": "('men', 'other')",
         "rawType": "float64",
         "type": "float"
        },
        {
         "name": "('men', 'white')",
         "rawType": "float64",
         "type": "float"
        },
        {
         "name": "('women', 'aian')",
         "rawType": "float64",
         "type": "float"
        },
        {
         "name": "('women', 'asian')",
         "rawType": "float64",
         "type": "float"
        },
        {
         "name": "('women', 'black')",
         "rawType": "float64",
         "type": "float"
        },
        {
         "name": "('women', 'hispanic')",
         "rawType": "float64",
         "type": "float"
        },
        {
         "name": "('women', 'other')",
         "rawType": "float64",
         "type": "float"
        },
        {
         "name": "('women', 'white')",
         "rawType": "float64",
         "type": "float"
        }
       ],
       "conversionMethod": "pd.DataFrame",
       "ref": "472e9c49-ebb1-40e7-aa61-4c9195b2fa1f",
       "rows": [
        [
         "1990",
         "17.792061290470258",
         "6.088404828897528",
         "19.42446030810786",
         "12.196838655740443",
         "8.286094071638669",
         "7.851776252193854",
         "28.946565044246114",
         "12.246193650568356",
         "28.631100432682015",
         "30.82404710536286",
         "12.05203633043387",
         "14.283628590341158"
        ],
        [
         "1991",
         "16.48324119462229",
         "7.6799415684700865",
         "21.526662190496225",
         "14.435081397056019",
         "11.583538148320603",
         "9.019072083209041",
         "32.59196228687077",
         "14.559935308798067",
         "30.000237846439227",
         "31.56314695317586",
         "18.751884311972887",
         "15.223325097633106"
        ],
        [
         "1992",
         "17.195371115147598",
         "7.144801884266222",
         "22.002682447893115",
         "15.105538841949166",
         "14.59036210773091",
         "8.787810794532355",
         "31.07229767386221",
         "13.863799983741231",
         "29.49814815096558",
         "30.6913382238943",
         "25.411883939078223",
         "14.387875559749213"
        ],
        [
         "1993",
         "14.737228196330005",
         "6.6801164476111685",
         "20.802851432838686",
         "13.984624433062365",
         "11.611784825337818",
         "8.259421967115381",
         "32.49237295264221",
         "13.7586110170766",
         "27.065045913014696",
         "31.834466926267545",
         "15.510439276650406",
         "13.555401983350624"
        ],
        [
         "1994",
         "15.303533725644758",
         "6.2422153348099005",
         "19.754737265001783",
         "13.54542008126306",
         "13.252632636001394",
         "8.356211428788631",
         "26.106834451501715",
         "11.2449474127977",
         "25.016533163762126",
         "31.537457201258306",
         "22.78470820923642",
         "13.417920630573313"
        ],
        [
         "1995",
         "17.43469764096827",
         "5.826515224745678",
         "19.90484335688303",
         "14.114435892975136",
         "9.60200599126474",
         "7.968466013954806",
         "21.2101225964708",
         "13.481402456739971",
         "23.90249666130503",
         "31.889578556058872",
         "15.395687627968105",
         "13.492568287925025"
        ],
        [
         "1996",
         "17.679509283072303",
         "6.99993777571787",
         "19.731375552210512",
         "13.625733945600766",
         "17.3601146367314",
         "7.877675115612506",
         "21.834055708444293",
         "12.408811734995027",
         "23.217989557689574",
         "29.96984760363135",
         "10.380543036561136",
         "12.53016433743676"
        ],
        [
         "1997",
         "18.918614871220782",
         "6.412437001003253",
         "21.206018187214788",
         "12.417703541064107",
         "14.274826151885591",
         "7.161821595031211",
         "28.79696469057795",
         "11.422062477693073",
         "21.387576788061203",
         "25.886326246275498",
         "18.090190369708623",
         "11.53319296862004"
        ],
        [
         "1998",
         "17.84262986486396",
         "7.631807312128802",
         "18.44407739505007",
         "11.843368594803819",
         "10.421196711466289",
         "6.889831949257289",
         "28.058792161807872",
         "8.663242218049556",
         "19.24655255493767",
         "25.44386280715593",
         "20.757087061046185",
         "11.072471563000825"
        ],
        [
         "1999",
         "18.678589576114717",
         "7.22905034651528",
         "17.881400315302717",
         "11.552976893877728",
         "8.890147194444626",
         "6.989449534587989",
         "22.734040478834245",
         "9.188241389896628",
         "18.45576926567444",
         "26.19373841064047",
         "11.876420619642241",
         "11.047331248526895"
        ],
        [
         "2000",
         "16.13327927338187",
         "6.236770088007141",
         "18.65354706185192",
         "10.188148199561148",
         "13.028116898433332",
         "6.953598716031446",
         "21.9163865390673",
         "9.633708566270682",
         "18.779666180840728",
         "24.733340939919973",
         "13.834953299978443",
         "10.889612599362437"
        ],
        [
         "2001",
         "18.63271686365329",
         "7.505528879906665",
         "20.082687030675352",
         "10.940844547689114",
         "8.249166733979397",
         "8.160651129410608",
         "23.954467120639215",
         "9.690288476668329",
         "19.328573619028916",
         "24.49953096033786",
         "19.082934554937655",
         "10.997903592984969"
        ],
        [
         "2002",
         "23.246373006342395",
         "8.100412526234903",
         "20.17096544513807",
         "12.485824384916437",
         "10.388540109230828",
         "8.68193819749721",
         "21.12546352050417",
         "10.129545557347956",
         "21.115000605320933",
         "24.815218149738442",
         "14.408864169676605",
         "11.566037009070905"
        ],
        [
         "2003",
         "27.78616599402124",
         "8.090233093923317",
         "20.18540978106177",
         "12.412849997229907",
         "13.075917979415403",
         "8.929568050078517",
         "28.143641727690298",
         "10.441984160081539",
         "19.740606736800213",
         "24.49684415630183",
         "15.934065799682276",
         "11.7513088120689"
        ],
        [
         "2004",
         "22.07173156324569",
         "6.112681523174747",
         "18.297314480465136",
         "12.720928676796081",
         "14.2972437322809",
         "8.77518446830219",
         "27.8343030787717",
         "10.556608763448018",
         "18.61887554322563",
         "24.621511114543402",
         "13.834577913890595",
         "11.62882867289082"
        ],
        [
         "2005",
         "21.559145457848757",
         "7.017075651852113",
         "20.310462339871194",
         "12.040403442097606",
         "13.607422601814042",
         "8.439134466844541",
         "24.3514953830761",
         "10.03153226624146",
         "18.228705493421685",
         "24.69469383685706",
         "12.90177496027801",
         "11.362946973407116"
        ],
        [
         "2006",
         "22.380038072188256",
         "8.388060381187367",
         "17.758050413734587",
         "10.05323355085702",
         "12.06228409137969",
         "8.237463682280742",
         "27.926064847353892",
         "10.065355261892917",
         "18.159012192406692",
         "23.665207889392512",
         "10.819031089079335",
         "11.097975971547166"
        ],
        [
         "2007",
         "25.028911948657782",
         "6.6847783715278775",
         "17.19893788205122",
         "11.69220265767182",
         "9.973619787963166",
         "8.535764979985109",
         "24.860796246258506",
         "10.755175305705125",
         "18.258908651128365",
         "22.62468732107147",
         "11.987805239233847",
         "10.813204871778396"
        ],
        [
         "2008",
         "22.54423959157602",
         "6.934249353522325",
         "18.32569396488068",
         "13.041099611327173",
         "15.178085018774294",
         "9.96991064684432",
         "25.397692742210648",
         "10.167533809464391",
         "19.3692164148973",
         "22.943694443047",
         "11.308729886919267",
         "10.933892301067615"
        ],
        [
         "2009",
         "23.04281673339451",
         "7.578075625676848",
         "22.114607422163058",
         "16.039940747073107",
         "17.909626901254242",
         "12.575395660186429",
         "24.492659850776715",
         "11.406521251199926",
         "20.269603977793295",
         "22.42455205821378",
         "15.95578253041662",
         "12.014724980328891"
        ],
        [
         "2010",
         "27.443900293838315",
         "10.226637031162086",
         "21.620234412477167",
         "16.47175916066311",
         "15.127732676634691",
         "13.024456308375834",
         "21.741554310395227",
         "11.037640391723816",
         "19.7203041817195",
         "21.71364470221837",
         "16.347583278081736",
         "12.533388898487452"
        ],
        [
         "2011",
         "27.304922001095",
         "8.744732099407003",
         "21.342644217627956",
         "14.812803601591215",
         "15.465040521859025",
         "11.641200367389903",
         "26.847347801166016",
         "10.814685501412185",
         "19.068711576703592",
         "20.381158549072875",
         "14.627940534528824",
         "12.534164356224972"
        ],
        [
         "2012",
         "23.276190169656864",
         "7.289459699611725",
         "20.835278457553606",
         "14.204371459802022",
         "14.721757515650161",
         "11.006058378319167",
         "29.40763083553268",
         "11.81083740421106",
         "19.18723922136655",
         "19.265862898908935",
         "14.16724647374494",
         "11.795517521574547"
        ],
        [
         "2013",
         "26.158202724147227",
         "8.99539157412201",
         "21.9485444487974",
         "14.546924361996691",
         "14.916900152032717",
         "12.095199989591112",
         "30.546628463224838",
         "10.96219538399352",
         "19.033956414858537",
         "19.974638599364624",
         "15.932430435229966",
         "13.139030096197112"
        ],
        [
         "2014",
         "20.143735282118303",
         "8.468240322111873",
         "21.33811856339331",
         "12.668237276421838",
         "13.680895276370142",
         "11.382012930403441",
         "30.258091679872194",
         "9.93825451583372",
         "19.273093676491442",
         "18.781713378103166",
         "14.629311008876442",
         "12.165110807635546"
        ],
        [
         "2015",
         "26.510247644105757",
         "8.050023265924963",
         "18.805224739829093",
         "12.81074097886794",
         "12.101767584588424",
         "10.391904487795882",
         "29.048248535484937",
         "9.38128404633196",
         "17.640050472445868",
         "17.43825211605979",
         "12.672549955856113",
         "11.71014338504874"
        ],
        [
         "2016",
         "26.79263093151185",
         "6.965541655323358",
         "17.94086715014286",
         "12.778545016462232",
         "10.056157024845252",
         "10.112267669165673",
         "26.695794431564497",
         "9.590932571916703",
         "15.811964895601758",
         "16.10014248768777",
         "11.777601246015564",
         "11.165979244766856"
        ],
        [
         "2017",
         "25.394327160371567",
         "7.887717764493803",
         "17.136651173956245",
         "11.161252432250635",
         "10.787912485837492",
         "9.147254470824675",
         "21.957537276241986",
         "8.202495827703139",
         "13.587228009098784",
         "15.89493830235939",
         "10.141624159638912",
         "10.341385992391976"
        ],
        [
         "2018",
         "23.186782103776807",
         "7.89783883010485",
         "16.8644219416184",
         "11.290860661200435",
         "12.260322759263811",
         "9.348466183780287",
         "22.983144965432256",
         "10.870167119151777",
         "14.931513081475742",
         "14.648135737988621",
         "11.249133704103153",
         "10.276601693797009"
        ],
        [
         "2019",
         "26.155855074287977",
         "6.253713978021794",
         "16.640603114690798",
         "10.80892050408611",
         "10.648598387179684",
         "9.675242946590604",
         "18.12006145008693",
         "8.153216104050538",
         "14.567438529861294",
         "13.97692256627065",
         "11.639593301969056",
         "10.069018080012363"
        ],
        [
         "2020",
         "27.44121082110506",
         "11.256802460248478",
         "20.773689116677147",
         "15.381308715368617",
         "14.366293040764358",
         "12.450649021883871",
         "24.516472893935845",
         "11.994732466058561",
         "18.68439178655607",
         "17.47034435233782",
         "12.969754186635948",
         "12.507166878376433"
        ],
        [
         "2021",
         "28.116149011476566",
         "9.687066285331431",
         "17.897574120840677",
         "14.034107196039061",
         "13.522493934973262",
         "11.387558724673374",
         "23.274686613546493",
         "10.441612050062076",
         "17.84804772741303",
         "15.665832104345714",
         "12.6515127592425",
         "11.417100100716095"
        ],
        [
         "2022",
         "21.942821905897535",
         "9.407317568876008",
         "15.681923355471353",
         "12.331523946929615",
         "11.20050303953116",
         "10.685610961609944",
         "20.389520897565163",
         "8.869962397846502",
         "16.556575114341715",
         "14.811988691557564",
         "11.827201846966446",
         "11.22483369639359"
        ],
        [
         "2023",
         "22.131886544363677",
         "8.145690015340957",
         "17.181944149711533",
         "11.937082501162925",
         "11.152459207472731",
         "10.195293409841943",
         "18.953615620240935",
         "8.933331861292586",
         "13.24326348699719",
         "14.899627243279268",
         "14.132069408755394",
         "10.740425258687578"
        ],
        [
         "2024",
         "18.5359470196827",
         "8.018668254256346",
         "17.729825711704915",
         "13.460163971562174",
         "13.753341745572959",
         "10.158649892368258",
         "21.023119208413235",
         "9.39501486851697",
         "15.427292628088871",
         "14.600814879908757",
         "11.758183310004872",
         "10.972512325854895"
        ]
       ],
       "shape": {
        "columns": 12,
        "rows": 35
       }
      },
      "text/html": [
       "<div>\n",
       "<style scoped>\n",
       "    .dataframe tbody tr th:only-of-type {\n",
       "        vertical-align: middle;\n",
       "    }\n",
       "\n",
       "    .dataframe tbody tr th {\n",
       "        vertical-align: top;\n",
       "    }\n",
       "\n",
       "    .dataframe thead tr th {\n",
       "        text-align: left;\n",
       "    }\n",
       "\n",
       "    .dataframe thead tr:last-of-type th {\n",
       "        text-align: right;\n",
       "    }\n",
       "</style>\n",
       "<table border=\"1\" class=\"dataframe\">\n",
       "  <thead>\n",
       "    <tr>\n",
       "      <th>sex</th>\n",
       "      <th colspan=\"6\" halign=\"left\">men</th>\n",
       "      <th colspan=\"6\" halign=\"left\">women</th>\n",
       "    </tr>\n",
       "    <tr>\n",
       "      <th>race_cat</th>\n",
       "      <th>aian</th>\n",
       "      <th>asian</th>\n",
       "      <th>black</th>\n",
       "      <th>hispanic</th>\n",
       "      <th>other</th>\n",
       "      <th>white</th>\n",
       "      <th>aian</th>\n",
       "      <th>asian</th>\n",
       "      <th>black</th>\n",
       "      <th>hispanic</th>\n",
       "      <th>other</th>\n",
       "      <th>white</th>\n",
       "    </tr>\n",
       "    <tr>\n",
       "      <th>YEAR</th>\n",
       "      <th></th>\n",
       "      <th></th>\n",
       "      <th></th>\n",
       "      <th></th>\n",
       "      <th></th>\n",
       "      <th></th>\n",
       "      <th></th>\n",
       "      <th></th>\n",
       "      <th></th>\n",
       "      <th></th>\n",
       "      <th></th>\n",
       "      <th></th>\n",
       "    </tr>\n",
       "  </thead>\n",
       "  <tbody>\n",
       "    <tr>\n",
       "      <th>1990</th>\n",
       "      <td>17.792061</td>\n",
       "      <td>6.088405</td>\n",
       "      <td>19.424460</td>\n",
       "      <td>12.196839</td>\n",
       "      <td>8.286094</td>\n",
       "      <td>7.851776</td>\n",
       "      <td>28.946565</td>\n",
       "      <td>12.246194</td>\n",
       "      <td>28.631100</td>\n",
       "      <td>30.824047</td>\n",
       "      <td>12.052036</td>\n",
       "      <td>14.283629</td>\n",
       "    </tr>\n",
       "    <tr>\n",
       "      <th>1991</th>\n",
       "      <td>16.483241</td>\n",
       "      <td>7.679942</td>\n",
       "      <td>21.526662</td>\n",
       "      <td>14.435081</td>\n",
       "      <td>11.583538</td>\n",
       "      <td>9.019072</td>\n",
       "      <td>32.591962</td>\n",
       "      <td>14.559935</td>\n",
       "      <td>30.000238</td>\n",
       "      <td>31.563147</td>\n",
       "      <td>18.751884</td>\n",
       "      <td>15.223325</td>\n",
       "    </tr>\n",
       "    <tr>\n",
       "      <th>1992</th>\n",
       "      <td>17.195371</td>\n",
       "      <td>7.144802</td>\n",
       "      <td>22.002682</td>\n",
       "      <td>15.105539</td>\n",
       "      <td>14.590362</td>\n",
       "      <td>8.787811</td>\n",
       "      <td>31.072298</td>\n",
       "      <td>13.863800</td>\n",
       "      <td>29.498148</td>\n",
       "      <td>30.691338</td>\n",
       "      <td>25.411884</td>\n",
       "      <td>14.387876</td>\n",
       "    </tr>\n",
       "    <tr>\n",
       "      <th>1993</th>\n",
       "      <td>14.737228</td>\n",
       "      <td>6.680116</td>\n",
       "      <td>20.802851</td>\n",
       "      <td>13.984624</td>\n",
       "      <td>11.611785</td>\n",
       "      <td>8.259422</td>\n",
       "      <td>32.492373</td>\n",
       "      <td>13.758611</td>\n",
       "      <td>27.065046</td>\n",
       "      <td>31.834467</td>\n",
       "      <td>15.510439</td>\n",
       "      <td>13.555402</td>\n",
       "    </tr>\n",
       "    <tr>\n",
       "      <th>1994</th>\n",
       "      <td>15.303534</td>\n",
       "      <td>6.242215</td>\n",
       "      <td>19.754737</td>\n",
       "      <td>13.545420</td>\n",
       "      <td>13.252633</td>\n",
       "      <td>8.356211</td>\n",
       "      <td>26.106834</td>\n",
       "      <td>11.244947</td>\n",
       "      <td>25.016533</td>\n",
       "      <td>31.537457</td>\n",
       "      <td>22.784708</td>\n",
       "      <td>13.417921</td>\n",
       "    </tr>\n",
       "    <tr>\n",
       "      <th>1995</th>\n",
       "      <td>17.434698</td>\n",
       "      <td>5.826515</td>\n",
       "      <td>19.904843</td>\n",
       "      <td>14.114436</td>\n",
       "      <td>9.602006</td>\n",
       "      <td>7.968466</td>\n",
       "      <td>21.210123</td>\n",
       "      <td>13.481402</td>\n",
       "      <td>23.902497</td>\n",
       "      <td>31.889579</td>\n",
       "      <td>15.395688</td>\n",
       "      <td>13.492568</td>\n",
       "    </tr>\n",
       "    <tr>\n",
       "      <th>1996</th>\n",
       "      <td>17.679509</td>\n",
       "      <td>6.999938</td>\n",
       "      <td>19.731376</td>\n",
       "      <td>13.625734</td>\n",
       "      <td>17.360115</td>\n",
       "      <td>7.877675</td>\n",
       "      <td>21.834056</td>\n",
       "      <td>12.408812</td>\n",
       "      <td>23.217990</td>\n",
       "      <td>29.969848</td>\n",
       "      <td>10.380543</td>\n",
       "      <td>12.530164</td>\n",
       "    </tr>\n",
       "    <tr>\n",
       "      <th>1997</th>\n",
       "      <td>18.918615</td>\n",
       "      <td>6.412437</td>\n",
       "      <td>21.206018</td>\n",
       "      <td>12.417704</td>\n",
       "      <td>14.274826</td>\n",
       "      <td>7.161822</td>\n",
       "      <td>28.796965</td>\n",
       "      <td>11.422062</td>\n",
       "      <td>21.387577</td>\n",
       "      <td>25.886326</td>\n",
       "      <td>18.090190</td>\n",
       "      <td>11.533193</td>\n",
       "    </tr>\n",
       "    <tr>\n",
       "      <th>1998</th>\n",
       "      <td>17.842630</td>\n",
       "      <td>7.631807</td>\n",
       "      <td>18.444077</td>\n",
       "      <td>11.843369</td>\n",
       "      <td>10.421197</td>\n",
       "      <td>6.889832</td>\n",
       "      <td>28.058792</td>\n",
       "      <td>8.663242</td>\n",
       "      <td>19.246553</td>\n",
       "      <td>25.443863</td>\n",
       "      <td>20.757087</td>\n",
       "      <td>11.072472</td>\n",
       "    </tr>\n",
       "    <tr>\n",
       "      <th>1999</th>\n",
       "      <td>18.678590</td>\n",
       "      <td>7.229050</td>\n",
       "      <td>17.881400</td>\n",
       "      <td>11.552977</td>\n",
       "      <td>8.890147</td>\n",
       "      <td>6.989450</td>\n",
       "      <td>22.734040</td>\n",
       "      <td>9.188241</td>\n",
       "      <td>18.455769</td>\n",
       "      <td>26.193738</td>\n",
       "      <td>11.876421</td>\n",
       "      <td>11.047331</td>\n",
       "    </tr>\n",
       "    <tr>\n",
       "      <th>2000</th>\n",
       "      <td>16.133279</td>\n",
       "      <td>6.236770</td>\n",
       "      <td>18.653547</td>\n",
       "      <td>10.188148</td>\n",
       "      <td>13.028117</td>\n",
       "      <td>6.953599</td>\n",
       "      <td>21.916387</td>\n",
       "      <td>9.633709</td>\n",
       "      <td>18.779666</td>\n",
       "      <td>24.733341</td>\n",
       "      <td>13.834953</td>\n",
       "      <td>10.889613</td>\n",
       "    </tr>\n",
       "    <tr>\n",
       "      <th>2001</th>\n",
       "      <td>18.632717</td>\n",
       "      <td>7.505529</td>\n",
       "      <td>20.082687</td>\n",
       "      <td>10.940845</td>\n",
       "      <td>8.249167</td>\n",
       "      <td>8.160651</td>\n",
       "      <td>23.954467</td>\n",
       "      <td>9.690288</td>\n",
       "      <td>19.328574</td>\n",
       "      <td>24.499531</td>\n",
       "      <td>19.082935</td>\n",
       "      <td>10.997904</td>\n",
       "    </tr>\n",
       "    <tr>\n",
       "      <th>2002</th>\n",
       "      <td>23.246373</td>\n",
       "      <td>8.100413</td>\n",
       "      <td>20.170965</td>\n",
       "      <td>12.485824</td>\n",
       "      <td>10.388540</td>\n",
       "      <td>8.681938</td>\n",
       "      <td>21.125464</td>\n",
       "      <td>10.129546</td>\n",
       "      <td>21.115001</td>\n",
       "      <td>24.815218</td>\n",
       "      <td>14.408864</td>\n",
       "      <td>11.566037</td>\n",
       "    </tr>\n",
       "    <tr>\n",
       "      <th>2003</th>\n",
       "      <td>27.786166</td>\n",
       "      <td>8.090233</td>\n",
       "      <td>20.185410</td>\n",
       "      <td>12.412850</td>\n",
       "      <td>13.075918</td>\n",
       "      <td>8.929568</td>\n",
       "      <td>28.143642</td>\n",
       "      <td>10.441984</td>\n",
       "      <td>19.740607</td>\n",
       "      <td>24.496844</td>\n",
       "      <td>15.934066</td>\n",
       "      <td>11.751309</td>\n",
       "    </tr>\n",
       "    <tr>\n",
       "      <th>2004</th>\n",
       "      <td>22.071732</td>\n",
       "      <td>6.112682</td>\n",
       "      <td>18.297314</td>\n",
       "      <td>12.720929</td>\n",
       "      <td>14.297244</td>\n",
       "      <td>8.775184</td>\n",
       "      <td>27.834303</td>\n",
       "      <td>10.556609</td>\n",
       "      <td>18.618876</td>\n",
       "      <td>24.621511</td>\n",
       "      <td>13.834578</td>\n",
       "      <td>11.628829</td>\n",
       "    </tr>\n",
       "    <tr>\n",
       "      <th>2005</th>\n",
       "      <td>21.559145</td>\n",
       "      <td>7.017076</td>\n",
       "      <td>20.310462</td>\n",
       "      <td>12.040403</td>\n",
       "      <td>13.607423</td>\n",
       "      <td>8.439134</td>\n",
       "      <td>24.351495</td>\n",
       "      <td>10.031532</td>\n",
       "      <td>18.228705</td>\n",
       "      <td>24.694694</td>\n",
       "      <td>12.901775</td>\n",
       "      <td>11.362947</td>\n",
       "    </tr>\n",
       "    <tr>\n",
       "      <th>2006</th>\n",
       "      <td>22.380038</td>\n",
       "      <td>8.388060</td>\n",
       "      <td>17.758050</td>\n",
       "      <td>10.053234</td>\n",
       "      <td>12.062284</td>\n",
       "      <td>8.237464</td>\n",
       "      <td>27.926065</td>\n",
       "      <td>10.065355</td>\n",
       "      <td>18.159012</td>\n",
       "      <td>23.665208</td>\n",
       "      <td>10.819031</td>\n",
       "      <td>11.097976</td>\n",
       "    </tr>\n",
       "    <tr>\n",
       "      <th>2007</th>\n",
       "      <td>25.028912</td>\n",
       "      <td>6.684778</td>\n",
       "      <td>17.198938</td>\n",
       "      <td>11.692203</td>\n",
       "      <td>9.973620</td>\n",
       "      <td>8.535765</td>\n",
       "      <td>24.860796</td>\n",
       "      <td>10.755175</td>\n",
       "      <td>18.258909</td>\n",
       "      <td>22.624687</td>\n",
       "      <td>11.987805</td>\n",
       "      <td>10.813205</td>\n",
       "    </tr>\n",
       "    <tr>\n",
       "      <th>2008</th>\n",
       "      <td>22.544240</td>\n",
       "      <td>6.934249</td>\n",
       "      <td>18.325694</td>\n",
       "      <td>13.041100</td>\n",
       "      <td>15.178085</td>\n",
       "      <td>9.969911</td>\n",
       "      <td>25.397693</td>\n",
       "      <td>10.167534</td>\n",
       "      <td>19.369216</td>\n",
       "      <td>22.943694</td>\n",
       "      <td>11.308730</td>\n",
       "      <td>10.933892</td>\n",
       "    </tr>\n",
       "    <tr>\n",
       "      <th>2009</th>\n",
       "      <td>23.042817</td>\n",
       "      <td>7.578076</td>\n",
       "      <td>22.114607</td>\n",
       "      <td>16.039941</td>\n",
       "      <td>17.909627</td>\n",
       "      <td>12.575396</td>\n",
       "      <td>24.492660</td>\n",
       "      <td>11.406521</td>\n",
       "      <td>20.269604</td>\n",
       "      <td>22.424552</td>\n",
       "      <td>15.955783</td>\n",
       "      <td>12.014725</td>\n",
       "    </tr>\n",
       "    <tr>\n",
       "      <th>2010</th>\n",
       "      <td>27.443900</td>\n",
       "      <td>10.226637</td>\n",
       "      <td>21.620234</td>\n",
       "      <td>16.471759</td>\n",
       "      <td>15.127733</td>\n",
       "      <td>13.024456</td>\n",
       "      <td>21.741554</td>\n",
       "      <td>11.037640</td>\n",
       "      <td>19.720304</td>\n",
       "      <td>21.713645</td>\n",
       "      <td>16.347583</td>\n",
       "      <td>12.533389</td>\n",
       "    </tr>\n",
       "    <tr>\n",
       "      <th>2011</th>\n",
       "      <td>27.304922</td>\n",
       "      <td>8.744732</td>\n",
       "      <td>21.342644</td>\n",
       "      <td>14.812804</td>\n",
       "      <td>15.465041</td>\n",
       "      <td>11.641200</td>\n",
       "      <td>26.847348</td>\n",
       "      <td>10.814686</td>\n",
       "      <td>19.068712</td>\n",
       "      <td>20.381159</td>\n",
       "      <td>14.627941</td>\n",
       "      <td>12.534164</td>\n",
       "    </tr>\n",
       "    <tr>\n",
       "      <th>2012</th>\n",
       "      <td>23.276190</td>\n",
       "      <td>7.289460</td>\n",
       "      <td>20.835278</td>\n",
       "      <td>14.204371</td>\n",
       "      <td>14.721758</td>\n",
       "      <td>11.006058</td>\n",
       "      <td>29.407631</td>\n",
       "      <td>11.810837</td>\n",
       "      <td>19.187239</td>\n",
       "      <td>19.265863</td>\n",
       "      <td>14.167246</td>\n",
       "      <td>11.795518</td>\n",
       "    </tr>\n",
       "    <tr>\n",
       "      <th>2013</th>\n",
       "      <td>26.158203</td>\n",
       "      <td>8.995392</td>\n",
       "      <td>21.948544</td>\n",
       "      <td>14.546924</td>\n",
       "      <td>14.916900</td>\n",
       "      <td>12.095200</td>\n",
       "      <td>30.546628</td>\n",
       "      <td>10.962195</td>\n",
       "      <td>19.033956</td>\n",
       "      <td>19.974639</td>\n",
       "      <td>15.932430</td>\n",
       "      <td>13.139030</td>\n",
       "    </tr>\n",
       "    <tr>\n",
       "      <th>2014</th>\n",
       "      <td>20.143735</td>\n",
       "      <td>8.468240</td>\n",
       "      <td>21.338119</td>\n",
       "      <td>12.668237</td>\n",
       "      <td>13.680895</td>\n",
       "      <td>11.382013</td>\n",
       "      <td>30.258092</td>\n",
       "      <td>9.938255</td>\n",
       "      <td>19.273094</td>\n",
       "      <td>18.781713</td>\n",
       "      <td>14.629311</td>\n",
       "      <td>12.165111</td>\n",
       "    </tr>\n",
       "    <tr>\n",
       "      <th>2015</th>\n",
       "      <td>26.510248</td>\n",
       "      <td>8.050023</td>\n",
       "      <td>18.805225</td>\n",
       "      <td>12.810741</td>\n",
       "      <td>12.101768</td>\n",
       "      <td>10.391904</td>\n",
       "      <td>29.048249</td>\n",
       "      <td>9.381284</td>\n",
       "      <td>17.640050</td>\n",
       "      <td>17.438252</td>\n",
       "      <td>12.672550</td>\n",
       "      <td>11.710143</td>\n",
       "    </tr>\n",
       "    <tr>\n",
       "      <th>2016</th>\n",
       "      <td>26.792631</td>\n",
       "      <td>6.965542</td>\n",
       "      <td>17.940867</td>\n",
       "      <td>12.778545</td>\n",
       "      <td>10.056157</td>\n",
       "      <td>10.112268</td>\n",
       "      <td>26.695794</td>\n",
       "      <td>9.590933</td>\n",
       "      <td>15.811965</td>\n",
       "      <td>16.100142</td>\n",
       "      <td>11.777601</td>\n",
       "      <td>11.165979</td>\n",
       "    </tr>\n",
       "    <tr>\n",
       "      <th>2017</th>\n",
       "      <td>25.394327</td>\n",
       "      <td>7.887718</td>\n",
       "      <td>17.136651</td>\n",
       "      <td>11.161252</td>\n",
       "      <td>10.787912</td>\n",
       "      <td>9.147254</td>\n",
       "      <td>21.957537</td>\n",
       "      <td>8.202496</td>\n",
       "      <td>13.587228</td>\n",
       "      <td>15.894938</td>\n",
       "      <td>10.141624</td>\n",
       "      <td>10.341386</td>\n",
       "    </tr>\n",
       "    <tr>\n",
       "      <th>2018</th>\n",
       "      <td>23.186782</td>\n",
       "      <td>7.897839</td>\n",
       "      <td>16.864422</td>\n",
       "      <td>11.290861</td>\n",
       "      <td>12.260323</td>\n",
       "      <td>9.348466</td>\n",
       "      <td>22.983145</td>\n",
       "      <td>10.870167</td>\n",
       "      <td>14.931513</td>\n",
       "      <td>14.648136</td>\n",
       "      <td>11.249134</td>\n",
       "      <td>10.276602</td>\n",
       "    </tr>\n",
       "    <tr>\n",
       "      <th>2019</th>\n",
       "      <td>26.155855</td>\n",
       "      <td>6.253714</td>\n",
       "      <td>16.640603</td>\n",
       "      <td>10.808921</td>\n",
       "      <td>10.648598</td>\n",
       "      <td>9.675243</td>\n",
       "      <td>18.120061</td>\n",
       "      <td>8.153216</td>\n",
       "      <td>14.567439</td>\n",
       "      <td>13.976923</td>\n",
       "      <td>11.639593</td>\n",
       "      <td>10.069018</td>\n",
       "    </tr>\n",
       "    <tr>\n",
       "      <th>2020</th>\n",
       "      <td>27.441211</td>\n",
       "      <td>11.256802</td>\n",
       "      <td>20.773689</td>\n",
       "      <td>15.381309</td>\n",
       "      <td>14.366293</td>\n",
       "      <td>12.450649</td>\n",
       "      <td>24.516473</td>\n",
       "      <td>11.994732</td>\n",
       "      <td>18.684392</td>\n",
       "      <td>17.470344</td>\n",
       "      <td>12.969754</td>\n",
       "      <td>12.507167</td>\n",
       "    </tr>\n",
       "    <tr>\n",
       "      <th>2021</th>\n",
       "      <td>28.116149</td>\n",
       "      <td>9.687066</td>\n",
       "      <td>17.897574</td>\n",
       "      <td>14.034107</td>\n",
       "      <td>13.522494</td>\n",
       "      <td>11.387559</td>\n",
       "      <td>23.274687</td>\n",
       "      <td>10.441612</td>\n",
       "      <td>17.848048</td>\n",
       "      <td>15.665832</td>\n",
       "      <td>12.651513</td>\n",
       "      <td>11.417100</td>\n",
       "    </tr>\n",
       "    <tr>\n",
       "      <th>2022</th>\n",
       "      <td>21.942822</td>\n",
       "      <td>9.407318</td>\n",
       "      <td>15.681923</td>\n",
       "      <td>12.331524</td>\n",
       "      <td>11.200503</td>\n",
       "      <td>10.685611</td>\n",
       "      <td>20.389521</td>\n",
       "      <td>8.869962</td>\n",
       "      <td>16.556575</td>\n",
       "      <td>14.811989</td>\n",
       "      <td>11.827202</td>\n",
       "      <td>11.224834</td>\n",
       "    </tr>\n",
       "    <tr>\n",
       "      <th>2023</th>\n",
       "      <td>22.131887</td>\n",
       "      <td>8.145690</td>\n",
       "      <td>17.181944</td>\n",
       "      <td>11.937083</td>\n",
       "      <td>11.152459</td>\n",
       "      <td>10.195293</td>\n",
       "      <td>18.953616</td>\n",
       "      <td>8.933332</td>\n",
       "      <td>13.243263</td>\n",
       "      <td>14.899627</td>\n",
       "      <td>14.132069</td>\n",
       "      <td>10.740425</td>\n",
       "    </tr>\n",
       "    <tr>\n",
       "      <th>2024</th>\n",
       "      <td>18.535947</td>\n",
       "      <td>8.018668</td>\n",
       "      <td>17.729826</td>\n",
       "      <td>13.460164</td>\n",
       "      <td>13.753342</td>\n",
       "      <td>10.158650</td>\n",
       "      <td>21.023119</td>\n",
       "      <td>9.395015</td>\n",
       "      <td>15.427293</td>\n",
       "      <td>14.600815</td>\n",
       "      <td>11.758183</td>\n",
       "      <td>10.972512</td>\n",
       "    </tr>\n",
       "  </tbody>\n",
       "</table>\n",
       "</div>"
      ],
      "text/plain": [
       "sex             men                                                         \\\n",
       "race_cat       aian      asian      black   hispanic      other      white   \n",
       "YEAR                                                                         \n",
       "1990      17.792061   6.088405  19.424460  12.196839   8.286094   7.851776   \n",
       "1991      16.483241   7.679942  21.526662  14.435081  11.583538   9.019072   \n",
       "1992      17.195371   7.144802  22.002682  15.105539  14.590362   8.787811   \n",
       "1993      14.737228   6.680116  20.802851  13.984624  11.611785   8.259422   \n",
       "1994      15.303534   6.242215  19.754737  13.545420  13.252633   8.356211   \n",
       "1995      17.434698   5.826515  19.904843  14.114436   9.602006   7.968466   \n",
       "1996      17.679509   6.999938  19.731376  13.625734  17.360115   7.877675   \n",
       "1997      18.918615   6.412437  21.206018  12.417704  14.274826   7.161822   \n",
       "1998      17.842630   7.631807  18.444077  11.843369  10.421197   6.889832   \n",
       "1999      18.678590   7.229050  17.881400  11.552977   8.890147   6.989450   \n",
       "2000      16.133279   6.236770  18.653547  10.188148  13.028117   6.953599   \n",
       "2001      18.632717   7.505529  20.082687  10.940845   8.249167   8.160651   \n",
       "2002      23.246373   8.100413  20.170965  12.485824  10.388540   8.681938   \n",
       "2003      27.786166   8.090233  20.185410  12.412850  13.075918   8.929568   \n",
       "2004      22.071732   6.112682  18.297314  12.720929  14.297244   8.775184   \n",
       "2005      21.559145   7.017076  20.310462  12.040403  13.607423   8.439134   \n",
       "2006      22.380038   8.388060  17.758050  10.053234  12.062284   8.237464   \n",
       "2007      25.028912   6.684778  17.198938  11.692203   9.973620   8.535765   \n",
       "2008      22.544240   6.934249  18.325694  13.041100  15.178085   9.969911   \n",
       "2009      23.042817   7.578076  22.114607  16.039941  17.909627  12.575396   \n",
       "2010      27.443900  10.226637  21.620234  16.471759  15.127733  13.024456   \n",
       "2011      27.304922   8.744732  21.342644  14.812804  15.465041  11.641200   \n",
       "2012      23.276190   7.289460  20.835278  14.204371  14.721758  11.006058   \n",
       "2013      26.158203   8.995392  21.948544  14.546924  14.916900  12.095200   \n",
       "2014      20.143735   8.468240  21.338119  12.668237  13.680895  11.382013   \n",
       "2015      26.510248   8.050023  18.805225  12.810741  12.101768  10.391904   \n",
       "2016      26.792631   6.965542  17.940867  12.778545  10.056157  10.112268   \n",
       "2017      25.394327   7.887718  17.136651  11.161252  10.787912   9.147254   \n",
       "2018      23.186782   7.897839  16.864422  11.290861  12.260323   9.348466   \n",
       "2019      26.155855   6.253714  16.640603  10.808921  10.648598   9.675243   \n",
       "2020      27.441211  11.256802  20.773689  15.381309  14.366293  12.450649   \n",
       "2021      28.116149   9.687066  17.897574  14.034107  13.522494  11.387559   \n",
       "2022      21.942822   9.407318  15.681923  12.331524  11.200503  10.685611   \n",
       "2023      22.131887   8.145690  17.181944  11.937083  11.152459  10.195293   \n",
       "2024      18.535947   8.018668  17.729826  13.460164  13.753342  10.158650   \n",
       "\n",
       "sex           women                                                         \n",
       "race_cat       aian      asian      black   hispanic      other      white  \n",
       "YEAR                                                                        \n",
       "1990      28.946565  12.246194  28.631100  30.824047  12.052036  14.283629  \n",
       "1991      32.591962  14.559935  30.000238  31.563147  18.751884  15.223325  \n",
       "1992      31.072298  13.863800  29.498148  30.691338  25.411884  14.387876  \n",
       "1993      32.492373  13.758611  27.065046  31.834467  15.510439  13.555402  \n",
       "1994      26.106834  11.244947  25.016533  31.537457  22.784708  13.417921  \n",
       "1995      21.210123  13.481402  23.902497  31.889579  15.395688  13.492568  \n",
       "1996      21.834056  12.408812  23.217990  29.969848  10.380543  12.530164  \n",
       "1997      28.796965  11.422062  21.387577  25.886326  18.090190  11.533193  \n",
       "1998      28.058792   8.663242  19.246553  25.443863  20.757087  11.072472  \n",
       "1999      22.734040   9.188241  18.455769  26.193738  11.876421  11.047331  \n",
       "2000      21.916387   9.633709  18.779666  24.733341  13.834953  10.889613  \n",
       "2001      23.954467   9.690288  19.328574  24.499531  19.082935  10.997904  \n",
       "2002      21.125464  10.129546  21.115001  24.815218  14.408864  11.566037  \n",
       "2003      28.143642  10.441984  19.740607  24.496844  15.934066  11.751309  \n",
       "2004      27.834303  10.556609  18.618876  24.621511  13.834578  11.628829  \n",
       "2005      24.351495  10.031532  18.228705  24.694694  12.901775  11.362947  \n",
       "2006      27.926065  10.065355  18.159012  23.665208  10.819031  11.097976  \n",
       "2007      24.860796  10.755175  18.258909  22.624687  11.987805  10.813205  \n",
       "2008      25.397693  10.167534  19.369216  22.943694  11.308730  10.933892  \n",
       "2009      24.492660  11.406521  20.269604  22.424552  15.955783  12.014725  \n",
       "2010      21.741554  11.037640  19.720304  21.713645  16.347583  12.533389  \n",
       "2011      26.847348  10.814686  19.068712  20.381159  14.627941  12.534164  \n",
       "2012      29.407631  11.810837  19.187239  19.265863  14.167246  11.795518  \n",
       "2013      30.546628  10.962195  19.033956  19.974639  15.932430  13.139030  \n",
       "2014      30.258092   9.938255  19.273094  18.781713  14.629311  12.165111  \n",
       "2015      29.048249   9.381284  17.640050  17.438252  12.672550  11.710143  \n",
       "2016      26.695794   9.590933  15.811965  16.100142  11.777601  11.165979  \n",
       "2017      21.957537   8.202496  13.587228  15.894938  10.141624  10.341386  \n",
       "2018      22.983145  10.870167  14.931513  14.648136  11.249134  10.276602  \n",
       "2019      18.120061   8.153216  14.567439  13.976923  11.639593  10.069018  \n",
       "2020      24.516473  11.994732  18.684392  17.470344  12.969754  12.507167  \n",
       "2021      23.274687  10.441612  17.848048  15.665832  12.651513  11.417100  \n",
       "2022      20.389521   8.869962  16.556575  14.811989  11.827202  11.224834  \n",
       "2023      18.953616   8.933332  13.243263  14.899627  14.132069  10.740425  \n",
       "2024      21.023119   9.395015  15.427293  14.600815  11.758183  10.972512  "
      ]
     },
     "execution_count": 33,
     "metadata": {},
     "output_type": "execute_result"
    }
   ],
   "source": [
    "race = get_neet(groupings=['YEAR', 'race_cat', 'sex', 'NEET']).unstack().unstack()\n",
    "race"
   ]
  },
  {
   "cell_type": "code",
   "execution_count": 34,
   "id": "3659fc7b",
   "metadata": {},
   "outputs": [
    {
     "data": {
      "application/vnd.plotly.v1+json": {
       "config": {
        "plotlyServerURL": "https://plotly.com"
       },
       "data": [
        {
         "line": {
          "width": 3
         },
         "mode": "lines+markers",
         "name": "('men', 'white')",
         "type": "scatter",
         "x": {
          "bdata": "xgfHB8gHyQfKB8sHzAfNB84HzwfQB9EH0gfTB9QH1QfWB9cH2AfZB9oH2wfcB90H3gffB+AH4QfiB+MH5AflB+YH5wfoBw==",
          "dtype": "i2"
         },
         "y": {
          "bdata": "ZmZmZmZmH0AK16NwPQoiQBSuR+F6lCFAhetRuB6FIEC4HoXrUbggQOF6FK5H4R9AhetRuB6FH0CkcD0K16McQI/C9ShcjxtA9ihcj8L1G0DNzMzMzMwbQFK4HoXrUSBAXI/C9ShcIUBcj8L1KNwhQI/C9ShcjyFA4XoUrkfhIEB7FK5H4XogQBSuR+F6FCFAcT0K16PwI0ApXI/C9SgpQArXo3A9CipASOF6FK5HJ0CF61G4HgUmQDMzMzMzMyhAw/UoXI/CJkBI4XoUrsckQLgehetROCRAzczMzMxMIkAzMzMzM7MiQFyPwvUoXCNAZmZmZmbmKEBI4XoUrscmQOF6FK5HYSVAZmZmZmZmJEBSuB6F61EkQA==",
          "dtype": "f8"
         }
        },
        {
         "line": {
          "width": 3
         },
         "mode": "lines+markers",
         "name": "('men', 'black')",
         "type": "scatter",
         "x": {
          "bdata": "xgfHB8gHyQfKB8sHzAfNB84HzwfQB9EH0gfTB9QH1QfWB9cH2AfZB9oH2wfcB90H3gffB+AH4QfiB+MH5AflB+YH5wfoBw==",
          "dtype": "i2"
         },
         "y": {
          "bdata": "7FG4HoVrM0BI4XoUroc1QAAAAAAAADZAzczMzMzMNEAAAAAAAMAzQGZmZmZm5jNAexSuR+G6M0D2KFyPwjU1QHE9CtejcDJA4XoUrkfhMUBmZmZmZqYyQBSuR+F6FDRA7FG4HoUrNEBxPQrXozA0QM3MzMzMTDJAj8L1KFxPNEDD9Shcj8IxQDMzMzMzMzFAFK5H4XpUMkBcj8L1KBw2QB+F61G4njVA16NwPQpXNUDXo3A9Ctc0QDMzMzMz8zVA16NwPQpXNUCPwvUoXM8yQHE9Ctej8DFApHA9CtcjMUBcj8L1KNwwQKRwPQrXozBAhetRuB7FNEBmZmZmZuYxQFyPwvUoXC9ArkfhehQuMUB7FK5H4boxQA==",
          "dtype": "f8"
         }
        },
        {
         "line": {
          "width": 3
         },
         "mode": "lines+markers",
         "name": "('men', 'asian')",
         "type": "scatter",
         "x": {
          "bdata": "xgfHB8gHyQfKB8sHzAfNB84HzwfQB9EH0gfTB9QH1QfWB9cH2AfZB9oH2wfcB90H3gffB+AH4QfiB+MH5AflB+YH5wfoBw==",
          "dtype": "i2"
         },
         "y": {
          "bdata": "XI/C9ShcGEC4HoXrUbgeQI/C9ShcjxxAuB6F61G4GkD2KFyPwvUYQFK4HoXrURdAAAAAAAAAHECkcD0K16MZQIXrUbgehR5A7FG4HoXrHED2KFyPwvUYQArXo3A9Ch5AMzMzMzMzIECuR+F6FC4gQHE9CtejcBhAFK5H4XoUHEBI4XoUrscgQLgehetRuBpAuB6F61G4G0BSuB6F61EeQPYoXI/CdSRAexSuR+F6IUApXI/C9SgdQAAAAAAAACJAcT0K16PwIECamZmZmRkgQOF6FK5H4RtAj8L1KFyPH0CamZmZmZkfQAAAAAAAABlAhetRuB6FJkDhehSuR2EjQFK4HoXr0SJAzczMzMxMIEAK16NwPQogQA==",
          "dtype": "f8"
         }
        },
        {
         "line": {
          "width": 3
         },
         "mode": "lines+markers",
         "name": "('men', 'hispanic')",
         "type": "scatter",
         "x": {
          "bdata": "xgfHB8gHyQfKB8sHzAfNB84HzwfQB9EH0gfTB9QH1QfWB9cH2AfZB9oH2wfcB90H3gffB+AH4QfiB+MH5AflB+YH5wfoBw==",
          "dtype": "i2"
         },
         "y": {
          "bdata": "ZmZmZmZmKEDhehSuR+EsQLgehetROC5A9ihcj8L1K0CamZmZmRkrQLgehetROCxAw/UoXI9CK0DXo3A9CtcoQK5H4XoUridAmpmZmZkZJ0DhehSuR2EkQOF6FK5H4SVAexSuR+H6KEBSuB6F69EoQHE9CtejcClAFK5H4XoUKECamZmZmRkkQOF6FK5HYSdAFK5H4XoUKkAK16NwPQowQLgehetReDBAH4XrUbieLUBmZmZmZmYsQJqZmZmZGS1A16NwPQpXKUAfhetRuJ4pQI/C9ShcjylAUrgehetRJkAUrkfhepQmQB+F61G4niVAw/UoXI/CLkCPwvUoXA8sQClcj8L1qChA4XoUrkfhJ0DsUbgehesqQA==",
          "dtype": "f8"
         }
        },
        {
         "line": {
          "width": 3
         },
         "mode": "lines+markers",
         "name": "('women', 'white')",
         "type": "scatter",
         "x": {
          "bdata": "xgfHB8gHyQfKB8sHzAfNB84HzwfQB9EH0gfTB9QH1QfWB9cH2AfZB9oH2wfcB90H3gffB+AH4QfiB+MH5AflB+YH5wfoBw==",
          "dtype": "i2"
         },
         "y": {
          "bdata": "j8L1KFyPLEBxPQrXo3AuQEjhehSuxyxAH4XrUbgeK0DXo3A9CtcqQHsUrkfh+ipAj8L1KFwPKUCPwvUoXA8nQKRwPQrXIyZAmpmZmZkZJkBI4XoUrsclQAAAAAAAACZApHA9CtcjJ0AAAAAAAIAnQMP1KFyPQidAuB6F61G4JkAzMzMzMzMmQB+F61G4niVAXI/C9SjcJUCF61G4HgUoQI/C9ShcDylAj8L1KFwPKUCamZmZmZknQEjhehSuRypA16NwPQpXKEDsUbgehWsnQNejcD0KVyZArkfhehSuJECPwvUoXI8kQKRwPQrXIyRAhetRuB4FKUDXo3A9CtcmQHE9CtejcCZAexSuR+F6JUBxPQrXo/AlQA==",
          "dtype": "f8"
         }
        },
        {
         "line": {
          "width": 3
         },
         "mode": "lines+markers",
         "name": "('women', 'black')",
         "type": "scatter",
         "x": {
          "bdata": "xgfHB8gHyQfKB8sHzAfNB84HzwfQB9EH0gfTB9QH1QfWB9cH2AfZB9oH2wfcB90H3gffB+AH4QfiB+MH5AflB+YH5wfoBw==",
          "dtype": "i2"
         },
         "y": {
          "bdata": "4XoUrkehPEAAAAAAAAA+QAAAAAAAgD1AUrgehesRO0CF61G4HgU5QGZmZmZm5jdAuB6F61E4N0CkcD0K12M1QAAAAAAAQDNA9ihcj8J1MkBI4XoUrscyQBSuR+F6VDNAH4XrUbgeNUA9CtejcL0zQB+F61G4njJAexSuR+E6MkApXI/C9SgyQMP1KFyPQjJAH4XrUbheM0CF61G4HkU0QLgehetRuDNAUrgehesRM0BxPQrXozAzQEjhehSuBzNAhetRuB5FM0CkcD0K16MxQB+F61G4ni9ArkfhehQuK0Bcj8L1KNwtQKRwPQrXIy1ArkfhehSuMkCamZmZmdkxQI/C9ShcjzBAexSuR+F6KkBcj8L1KNwuQA==",
          "dtype": "f8"
         }
        },
        {
         "line": {
          "width": 3
         },
         "mode": "lines+markers",
         "name": "('women', 'asian')",
         "type": "scatter",
         "x": {
          "bdata": "xgfHB8gHyQfKB8sHzAfNB84HzwfQB9EH0gfTB9QH1QfWB9cH2AfZB9oH2wfcB90H3gffB+AH4QfiB+MH5AflB+YH5wfoBw==",
          "dtype": "i2"
         },
         "y": {
          "bdata": "AAAAAACAKEAfhetRuB4tQLgehetRuCtAhetRuB6FK0B7FK5H4XomQPYoXI/C9SpAUrgehevRKEDXo3A9CtcmQFK4HoXrUSFA4XoUrkdhIkDD9Shcj0IjQOF6FK5HYSNAw/UoXI9CJEDhehSuR+EkQB+F61G4HiVAj8L1KFwPJECkcD0K1yMkQIXrUbgehSVA16NwPQpXJEBSuB6F69EmQBSuR+F6FCZAH4XrUbieJUAfhetRuJ4nQOxRuB6F6yVA4XoUrkfhI0DD9Shcj8IiQK5H4XoULiNAZmZmZmZmIEA9CtejcL0lQM3MzMzMTCBAexSuR+H6J0DhehSuR+EkQD0K16NwvSFAXI/C9SjcIUDNzMzMzMwiQA==",
          "dtype": "f8"
         }
        },
        {
         "line": {
          "width": 3
         },
         "mode": "lines+markers",
         "name": "('women', 'hispanic')",
         "type": "scatter",
         "x": {
          "bdata": "xgfHB8gHyQfKB8sHzAfNB84HzwfQB9EH0gfTB9QH1QfWB9cH2AfZB9oH2wfcB90H3gffB+AH4QfiB+MH5AflB+YH5wfoBw==",
          "dtype": "i2"
         },
         "y": {
          "bdata": "UrgehevRPkCPwvUoXI8/QHE9CtejsD5AFK5H4XrUP0AK16NwPYo/QKRwPQrX4z9AuB6F61H4PUCkcD0K1+M5QHE9CtejcDlAcT0K16MwOkB7FK5H4bo4QAAAAAAAgDhAUrgehevROEAAAAAAAIA4QB+F61G4njhAcT0K16OwOEDsUbgehas3QB+F61G4njZAcT0K16PwNkDsUbgehWs2QPYoXI/CtTVA4XoUrkdhNECF61G4HkUzQLgehetR+DNASOF6FK7HMkBxPQrXo3AxQJqZmZmZGTBASOF6FK7HL0DNzMzMzEwtQPYoXI/C9StAuB6F61F4MUDXo3A9ClcvQB+F61G4ni1AzczMzMzMLUAzMzMzMzMtQA==",
          "dtype": "f8"
         }
        }
       ],
       "layout": {
        "font": {
         "family": "Georgia, serif"
        },
        "height": 500,
        "legend": {
         "orientation": "v",
         "title": {
          "text": "<b>group</b><br>(click to toggle lines)"
         }
        },
        "margin": {
         "b": 20,
         "l": 20,
         "pad": 0,
         "r": 20,
         "t": 100
        },
        "template": {
         "data": {
          "bar": [
           {
            "error_x": {
             "color": "#2a3f5f"
            },
            "error_y": {
             "color": "#2a3f5f"
            },
            "marker": {
             "line": {
              "color": "white",
              "width": 0.5
             },
             "pattern": {
              "fillmode": "overlay",
              "size": 10,
              "solidity": 0.2
             }
            },
            "type": "bar"
           }
          ],
          "barpolar": [
           {
            "marker": {
             "line": {
              "color": "white",
              "width": 0.5
             },
             "pattern": {
              "fillmode": "overlay",
              "size": 10,
              "solidity": 0.2
             }
            },
            "type": "barpolar"
           }
          ],
          "carpet": [
           {
            "aaxis": {
             "endlinecolor": "#2a3f5f",
             "gridcolor": "#C8D4E3",
             "linecolor": "#C8D4E3",
             "minorgridcolor": "#C8D4E3",
             "startlinecolor": "#2a3f5f"
            },
            "baxis": {
             "endlinecolor": "#2a3f5f",
             "gridcolor": "#C8D4E3",
             "linecolor": "#C8D4E3",
             "minorgridcolor": "#C8D4E3",
             "startlinecolor": "#2a3f5f"
            },
            "type": "carpet"
           }
          ],
          "choropleth": [
           {
            "colorbar": {
             "outlinewidth": 0,
             "ticks": ""
            },
            "type": "choropleth"
           }
          ],
          "contour": [
           {
            "colorbar": {
             "outlinewidth": 0,
             "ticks": ""
            },
            "colorscale": [
             [
              0,
              "#0d0887"
             ],
             [
              0.1111111111111111,
              "#46039f"
             ],
             [
              0.2222222222222222,
              "#7201a8"
             ],
             [
              0.3333333333333333,
              "#9c179e"
             ],
             [
              0.4444444444444444,
              "#bd3786"
             ],
             [
              0.5555555555555556,
              "#d8576b"
             ],
             [
              0.6666666666666666,
              "#ed7953"
             ],
             [
              0.7777777777777778,
              "#fb9f3a"
             ],
             [
              0.8888888888888888,
              "#fdca26"
             ],
             [
              1,
              "#f0f921"
             ]
            ],
            "type": "contour"
           }
          ],
          "contourcarpet": [
           {
            "colorbar": {
             "outlinewidth": 0,
             "ticks": ""
            },
            "type": "contourcarpet"
           }
          ],
          "heatmap": [
           {
            "colorbar": {
             "outlinewidth": 0,
             "ticks": ""
            },
            "colorscale": [
             [
              0,
              "#0d0887"
             ],
             [
              0.1111111111111111,
              "#46039f"
             ],
             [
              0.2222222222222222,
              "#7201a8"
             ],
             [
              0.3333333333333333,
              "#9c179e"
             ],
             [
              0.4444444444444444,
              "#bd3786"
             ],
             [
              0.5555555555555556,
              "#d8576b"
             ],
             [
              0.6666666666666666,
              "#ed7953"
             ],
             [
              0.7777777777777778,
              "#fb9f3a"
             ],
             [
              0.8888888888888888,
              "#fdca26"
             ],
             [
              1,
              "#f0f921"
             ]
            ],
            "type": "heatmap"
           }
          ],
          "histogram": [
           {
            "marker": {
             "pattern": {
              "fillmode": "overlay",
              "size": 10,
              "solidity": 0.2
             }
            },
            "type": "histogram"
           }
          ],
          "histogram2d": [
           {
            "colorbar": {
             "outlinewidth": 0,
             "ticks": ""
            },
            "colorscale": [
             [
              0,
              "#0d0887"
             ],
             [
              0.1111111111111111,
              "#46039f"
             ],
             [
              0.2222222222222222,
              "#7201a8"
             ],
             [
              0.3333333333333333,
              "#9c179e"
             ],
             [
              0.4444444444444444,
              "#bd3786"
             ],
             [
              0.5555555555555556,
              "#d8576b"
             ],
             [
              0.6666666666666666,
              "#ed7953"
             ],
             [
              0.7777777777777778,
              "#fb9f3a"
             ],
             [
              0.8888888888888888,
              "#fdca26"
             ],
             [
              1,
              "#f0f921"
             ]
            ],
            "type": "histogram2d"
           }
          ],
          "histogram2dcontour": [
           {
            "colorbar": {
             "outlinewidth": 0,
             "ticks": ""
            },
            "colorscale": [
             [
              0,
              "#0d0887"
             ],
             [
              0.1111111111111111,
              "#46039f"
             ],
             [
              0.2222222222222222,
              "#7201a8"
             ],
             [
              0.3333333333333333,
              "#9c179e"
             ],
             [
              0.4444444444444444,
              "#bd3786"
             ],
             [
              0.5555555555555556,
              "#d8576b"
             ],
             [
              0.6666666666666666,
              "#ed7953"
             ],
             [
              0.7777777777777778,
              "#fb9f3a"
             ],
             [
              0.8888888888888888,
              "#fdca26"
             ],
             [
              1,
              "#f0f921"
             ]
            ],
            "type": "histogram2dcontour"
           }
          ],
          "mesh3d": [
           {
            "colorbar": {
             "outlinewidth": 0,
             "ticks": ""
            },
            "type": "mesh3d"
           }
          ],
          "parcoords": [
           {
            "line": {
             "colorbar": {
              "outlinewidth": 0,
              "ticks": ""
             }
            },
            "type": "parcoords"
           }
          ],
          "pie": [
           {
            "automargin": true,
            "type": "pie"
           }
          ],
          "scatter": [
           {
            "fillpattern": {
             "fillmode": "overlay",
             "size": 10,
             "solidity": 0.2
            },
            "type": "scatter"
           }
          ],
          "scatter3d": [
           {
            "line": {
             "colorbar": {
              "outlinewidth": 0,
              "ticks": ""
             }
            },
            "marker": {
             "colorbar": {
              "outlinewidth": 0,
              "ticks": ""
             }
            },
            "type": "scatter3d"
           }
          ],
          "scattercarpet": [
           {
            "marker": {
             "colorbar": {
              "outlinewidth": 0,
              "ticks": ""
             }
            },
            "type": "scattercarpet"
           }
          ],
          "scattergeo": [
           {
            "marker": {
             "colorbar": {
              "outlinewidth": 0,
              "ticks": ""
             }
            },
            "type": "scattergeo"
           }
          ],
          "scattergl": [
           {
            "marker": {
             "colorbar": {
              "outlinewidth": 0,
              "ticks": ""
             }
            },
            "type": "scattergl"
           }
          ],
          "scattermap": [
           {
            "marker": {
             "colorbar": {
              "outlinewidth": 0,
              "ticks": ""
             }
            },
            "type": "scattermap"
           }
          ],
          "scattermapbox": [
           {
            "marker": {
             "colorbar": {
              "outlinewidth": 0,
              "ticks": ""
             }
            },
            "type": "scattermapbox"
           }
          ],
          "scatterpolar": [
           {
            "marker": {
             "colorbar": {
              "outlinewidth": 0,
              "ticks": ""
             }
            },
            "type": "scatterpolar"
           }
          ],
          "scatterpolargl": [
           {
            "marker": {
             "colorbar": {
              "outlinewidth": 0,
              "ticks": ""
             }
            },
            "type": "scatterpolargl"
           }
          ],
          "scatterternary": [
           {
            "marker": {
             "colorbar": {
              "outlinewidth": 0,
              "ticks": ""
             }
            },
            "type": "scatterternary"
           }
          ],
          "surface": [
           {
            "colorbar": {
             "outlinewidth": 0,
             "ticks": ""
            },
            "colorscale": [
             [
              0,
              "#0d0887"
             ],
             [
              0.1111111111111111,
              "#46039f"
             ],
             [
              0.2222222222222222,
              "#7201a8"
             ],
             [
              0.3333333333333333,
              "#9c179e"
             ],
             [
              0.4444444444444444,
              "#bd3786"
             ],
             [
              0.5555555555555556,
              "#d8576b"
             ],
             [
              0.6666666666666666,
              "#ed7953"
             ],
             [
              0.7777777777777778,
              "#fb9f3a"
             ],
             [
              0.8888888888888888,
              "#fdca26"
             ],
             [
              1,
              "#f0f921"
             ]
            ],
            "type": "surface"
           }
          ],
          "table": [
           {
            "cells": {
             "fill": {
              "color": "#EBF0F8"
             },
             "line": {
              "color": "white"
             }
            },
            "header": {
             "fill": {
              "color": "#C8D4E3"
             },
             "line": {
              "color": "white"
             }
            },
            "type": "table"
           }
          ]
         },
         "layout": {
          "annotationdefaults": {
           "arrowcolor": "#2a3f5f",
           "arrowhead": 0,
           "arrowwidth": 1
          },
          "autotypenumbers": "strict",
          "coloraxis": {
           "colorbar": {
            "outlinewidth": 0,
            "ticks": ""
           }
          },
          "colorscale": {
           "diverging": [
            [
             0,
             "#8e0152"
            ],
            [
             0.1,
             "#c51b7d"
            ],
            [
             0.2,
             "#de77ae"
            ],
            [
             0.3,
             "#f1b6da"
            ],
            [
             0.4,
             "#fde0ef"
            ],
            [
             0.5,
             "#f7f7f7"
            ],
            [
             0.6,
             "#e6f5d0"
            ],
            [
             0.7,
             "#b8e186"
            ],
            [
             0.8,
             "#7fbc41"
            ],
            [
             0.9,
             "#4d9221"
            ],
            [
             1,
             "#276419"
            ]
           ],
           "sequential": [
            [
             0,
             "#0d0887"
            ],
            [
             0.1111111111111111,
             "#46039f"
            ],
            [
             0.2222222222222222,
             "#7201a8"
            ],
            [
             0.3333333333333333,
             "#9c179e"
            ],
            [
             0.4444444444444444,
             "#bd3786"
            ],
            [
             0.5555555555555556,
             "#d8576b"
            ],
            [
             0.6666666666666666,
             "#ed7953"
            ],
            [
             0.7777777777777778,
             "#fb9f3a"
            ],
            [
             0.8888888888888888,
             "#fdca26"
            ],
            [
             1,
             "#f0f921"
            ]
           ],
           "sequentialminus": [
            [
             0,
             "#0d0887"
            ],
            [
             0.1111111111111111,
             "#46039f"
            ],
            [
             0.2222222222222222,
             "#7201a8"
            ],
            [
             0.3333333333333333,
             "#9c179e"
            ],
            [
             0.4444444444444444,
             "#bd3786"
            ],
            [
             0.5555555555555556,
             "#d8576b"
            ],
            [
             0.6666666666666666,
             "#ed7953"
            ],
            [
             0.7777777777777778,
             "#fb9f3a"
            ],
            [
             0.8888888888888888,
             "#fdca26"
            ],
            [
             1,
             "#f0f921"
            ]
           ]
          },
          "colorway": [
           "#636efa",
           "#EF553B",
           "#00cc96",
           "#ab63fa",
           "#FFA15A",
           "#19d3f3",
           "#FF6692",
           "#B6E880",
           "#FF97FF",
           "#FECB52"
          ],
          "font": {
           "color": "#2a3f5f"
          },
          "geo": {
           "bgcolor": "white",
           "lakecolor": "white",
           "landcolor": "white",
           "showlakes": true,
           "showland": true,
           "subunitcolor": "#C8D4E3"
          },
          "hoverlabel": {
           "align": "left"
          },
          "hovermode": "closest",
          "mapbox": {
           "style": "light"
          },
          "paper_bgcolor": "white",
          "plot_bgcolor": "white",
          "polar": {
           "angularaxis": {
            "gridcolor": "#EBF0F8",
            "linecolor": "#EBF0F8",
            "ticks": ""
           },
           "bgcolor": "white",
           "radialaxis": {
            "gridcolor": "#EBF0F8",
            "linecolor": "#EBF0F8",
            "ticks": ""
           }
          },
          "scene": {
           "xaxis": {
            "backgroundcolor": "white",
            "gridcolor": "#DFE8F3",
            "gridwidth": 2,
            "linecolor": "#EBF0F8",
            "showbackground": true,
            "ticks": "",
            "zerolinecolor": "#EBF0F8"
           },
           "yaxis": {
            "backgroundcolor": "white",
            "gridcolor": "#DFE8F3",
            "gridwidth": 2,
            "linecolor": "#EBF0F8",
            "showbackground": true,
            "ticks": "",
            "zerolinecolor": "#EBF0F8"
           },
           "zaxis": {
            "backgroundcolor": "white",
            "gridcolor": "#DFE8F3",
            "gridwidth": 2,
            "linecolor": "#EBF0F8",
            "showbackground": true,
            "ticks": "",
            "zerolinecolor": "#EBF0F8"
           }
          },
          "shapedefaults": {
           "line": {
            "color": "#2a3f5f"
           }
          },
          "ternary": {
           "aaxis": {
            "gridcolor": "#DFE8F3",
            "linecolor": "#A2B1C6",
            "ticks": ""
           },
           "baxis": {
            "gridcolor": "#DFE8F3",
            "linecolor": "#A2B1C6",
            "ticks": ""
           },
           "bgcolor": "white",
           "caxis": {
            "gridcolor": "#DFE8F3",
            "linecolor": "#A2B1C6",
            "ticks": ""
           }
          },
          "title": {
           "x": 0.05
          },
          "xaxis": {
           "automargin": true,
           "gridcolor": "#EBF0F8",
           "linecolor": "#EBF0F8",
           "ticks": "",
           "title": {
            "standoff": 15
           },
           "zerolinecolor": "#EBF0F8",
           "zerolinewidth": 2
          },
          "yaxis": {
           "automargin": true,
           "gridcolor": "#EBF0F8",
           "linecolor": "#EBF0F8",
           "ticks": "",
           "title": {
            "standoff": 15
           },
           "zerolinecolor": "#EBF0F8",
           "zerolinewidth": 2
          }
         }
        },
        "title": {
         "subtitle": {
          "text": "(<b>excluding summer months</b>)"
         },
         "text": "<b>NEET rates for 16-24 y.o. by race (1990-2024)</b>"
        },
        "width": 800,
        "xaxis": {
         "title": {
          "text": "<b>Year"
         }
        },
        "yaxis": {
         "range": [
          0,
          35
         ],
         "title": {
          "text": "<b>NEET rate (%)"
         }
        }
       }
      }
     },
     "metadata": {},
     "output_type": "display_data"
    }
   ],
   "source": [
    "fig = go.Figure()\n",
    "# colors_parents = {('men', 'has_child') : 'darkblue', ('men', 'no_child'): 'teal',\n",
    "#           ('women', 'has_child'): 'darkred', ('women', 'no_child'): 'salmon'}\n",
    "race_cols = [(s,r) for s in ['men','women'] for r in ['white','black','asian','hispanic']]\n",
    "for i in race_cols:\n",
    "    fig.add_trace(go.Scatter(\n",
    "    x=race.index, y=race[i].round(2),\n",
    "    mode='lines+markers',\n",
    "    name=str(i),\n",
    "    line={\n",
    "        'width': 3\n",
    "    }\n",
    "))\n",
    "fig.update_layout(\n",
    "    font={'family': 'Georgia, serif'},\n",
    "    title={'text': '<b>NEET rates for 16-24 y.o. by race (1990-2024)</b>',\n",
    "           'subtitle': {'text': '(<b>excluding summer months</b>)'}},\n",
    "    xaxis={'title':{'text': '<b>Year'}}, yaxis={'title':{'text': '<b>NEET rate (%)'}},\n",
    "    legend = {'orientation': 'v', 'title': {'text': '<b>group</b><br>(click to toggle lines)'}},\n",
    "    width=800, height=500,\n",
    "    template='plotly_white',\n",
    "    margin={'pad': 0, 'b': 20, 'l': 20, 'r': 20, 't': 100}\n",
    ")\n",
    "fig.update_yaxes(range=[0,35])\n",
    "fig.show()"
   ]
  },
  {
   "cell_type": "markdown",
   "id": "c3cedd82",
   "metadata": {},
   "source": [
    "### 4. By State"
   ]
  },
  {
   "cell_type": "code",
   "execution_count": 35,
   "id": "8fdd5417",
   "metadata": {},
   "outputs": [
    {
     "data": {
      "application/vnd.microsoft.datawrangler.viewer.v0+json": {
       "columns": [
        {
         "name": "YEAR",
         "rawType": "Int64",
         "type": "integer"
        },
        {
         "name": "('men', 'Alabama')",
         "rawType": "float64",
         "type": "float"
        },
        {
         "name": "('men', 'Alaska')",
         "rawType": "float64",
         "type": "float"
        },
        {
         "name": "('men', 'Arizona')",
         "rawType": "float64",
         "type": "float"
        },
        {
         "name": "('men', 'Arkansas')",
         "rawType": "float64",
         "type": "float"
        },
        {
         "name": "('men', 'California')",
         "rawType": "float64",
         "type": "float"
        },
        {
         "name": "('men', 'Colorado')",
         "rawType": "float64",
         "type": "float"
        },
        {
         "name": "('men', 'Connecticut')",
         "rawType": "float64",
         "type": "float"
        },
        {
         "name": "('men', 'Delaware')",
         "rawType": "float64",
         "type": "float"
        },
        {
         "name": "('men', 'District of Columbia')",
         "rawType": "float64",
         "type": "float"
        },
        {
         "name": "('men', 'Florida')",
         "rawType": "float64",
         "type": "float"
        },
        {
         "name": "('men', 'Georgia')",
         "rawType": "float64",
         "type": "float"
        },
        {
         "name": "('men', 'Hawaii')",
         "rawType": "float64",
         "type": "float"
        },
        {
         "name": "('men', 'Idaho')",
         "rawType": "float64",
         "type": "float"
        },
        {
         "name": "('men', 'Illinois')",
         "rawType": "float64",
         "type": "float"
        },
        {
         "name": "('men', 'Indiana')",
         "rawType": "float64",
         "type": "float"
        },
        {
         "name": "('men', 'Iowa')",
         "rawType": "float64",
         "type": "float"
        },
        {
         "name": "('men', 'Kansas')",
         "rawType": "float64",
         "type": "float"
        },
        {
         "name": "('men', 'Kentucky')",
         "rawType": "float64",
         "type": "float"
        },
        {
         "name": "('men', 'Louisiana')",
         "rawType": "float64",
         "type": "float"
        },
        {
         "name": "('men', 'Maine')",
         "rawType": "float64",
         "type": "float"
        },
        {
         "name": "('men', 'Maryland')",
         "rawType": "float64",
         "type": "float"
        },
        {
         "name": "('men', 'Massachusetts')",
         "rawType": "float64",
         "type": "float"
        },
        {
         "name": "('men', 'Michigan')",
         "rawType": "float64",
         "type": "float"
        },
        {
         "name": "('men', 'Minnesota')",
         "rawType": "float64",
         "type": "float"
        },
        {
         "name": "('men', 'Mississippi')",
         "rawType": "float64",
         "type": "float"
        },
        {
         "name": "('men', 'Missouri')",
         "rawType": "float64",
         "type": "float"
        },
        {
         "name": "('men', 'Montana')",
         "rawType": "float64",
         "type": "float"
        },
        {
         "name": "('men', 'Nebraska')",
         "rawType": "float64",
         "type": "float"
        },
        {
         "name": "('men', 'Nevada')",
         "rawType": "float64",
         "type": "float"
        },
        {
         "name": "('men', 'New Hampshire')",
         "rawType": "float64",
         "type": "float"
        },
        {
         "name": "('men', 'New Jersey')",
         "rawType": "float64",
         "type": "float"
        },
        {
         "name": "('men', 'New Mexico')",
         "rawType": "float64",
         "type": "float"
        },
        {
         "name": "('men', 'New York')",
         "rawType": "float64",
         "type": "float"
        },
        {
         "name": "('men', 'North Carolina')",
         "rawType": "float64",
         "type": "float"
        },
        {
         "name": "('men', 'North Dakota')",
         "rawType": "float64",
         "type": "float"
        },
        {
         "name": "('men', 'Ohio')",
         "rawType": "float64",
         "type": "float"
        },
        {
         "name": "('men', 'Oklahoma')",
         "rawType": "float64",
         "type": "float"
        },
        {
         "name": "('men', 'Oregon')",
         "rawType": "float64",
         "type": "float"
        },
        {
         "name": "('men', 'Pennsylvania')",
         "rawType": "float64",
         "type": "float"
        },
        {
         "name": "('men', 'Rhode Island')",
         "rawType": "float64",
         "type": "float"
        },
        {
         "name": "('men', 'South Carolina')",
         "rawType": "float64",
         "type": "float"
        },
        {
         "name": "('men', 'South Dakota')",
         "rawType": "float64",
         "type": "float"
        },
        {
         "name": "('men', 'Tennessee')",
         "rawType": "float64",
         "type": "float"
        },
        {
         "name": "('men', 'Texas')",
         "rawType": "float64",
         "type": "float"
        },
        {
         "name": "('men', 'Utah')",
         "rawType": "float64",
         "type": "float"
        },
        {
         "name": "('men', 'Vermont')",
         "rawType": "float64",
         "type": "float"
        },
        {
         "name": "('men', 'Virginia')",
         "rawType": "float64",
         "type": "float"
        },
        {
         "name": "('men', 'Washington')",
         "rawType": "float64",
         "type": "float"
        },
        {
         "name": "('men', 'West Virginia')",
         "rawType": "float64",
         "type": "float"
        },
        {
         "name": "('men', 'Wisconsin')",
         "rawType": "float64",
         "type": "float"
        },
        {
         "name": "('men', 'Wyoming')",
         "rawType": "float64",
         "type": "float"
        },
        {
         "name": "('women', 'Alabama')",
         "rawType": "float64",
         "type": "float"
        },
        {
         "name": "('women', 'Alaska')",
         "rawType": "float64",
         "type": "float"
        },
        {
         "name": "('women', 'Arizona')",
         "rawType": "float64",
         "type": "float"
        },
        {
         "name": "('women', 'Arkansas')",
         "rawType": "float64",
         "type": "float"
        },
        {
         "name": "('women', 'California')",
         "rawType": "float64",
         "type": "float"
        },
        {
         "name": "('women', 'Colorado')",
         "rawType": "float64",
         "type": "float"
        },
        {
         "name": "('women', 'Connecticut')",
         "rawType": "float64",
         "type": "float"
        },
        {
         "name": "('women', 'Delaware')",
         "rawType": "float64",
         "type": "float"
        },
        {
         "name": "('women', 'District of Columbia')",
         "rawType": "float64",
         "type": "float"
        },
        {
         "name": "('women', 'Florida')",
         "rawType": "float64",
         "type": "float"
        },
        {
         "name": "('women', 'Georgia')",
         "rawType": "float64",
         "type": "float"
        },
        {
         "name": "('women', 'Hawaii')",
         "rawType": "float64",
         "type": "float"
        },
        {
         "name": "('women', 'Idaho')",
         "rawType": "float64",
         "type": "float"
        },
        {
         "name": "('women', 'Illinois')",
         "rawType": "float64",
         "type": "float"
        },
        {
         "name": "('women', 'Indiana')",
         "rawType": "float64",
         "type": "float"
        },
        {
         "name": "('women', 'Iowa')",
         "rawType": "float64",
         "type": "float"
        },
        {
         "name": "('women', 'Kansas')",
         "rawType": "float64",
         "type": "float"
        },
        {
         "name": "('women', 'Kentucky')",
         "rawType": "float64",
         "type": "float"
        },
        {
         "name": "('women', 'Louisiana')",
         "rawType": "float64",
         "type": "float"
        },
        {
         "name": "('women', 'Maine')",
         "rawType": "float64",
         "type": "float"
        },
        {
         "name": "('women', 'Maryland')",
         "rawType": "float64",
         "type": "float"
        },
        {
         "name": "('women', 'Massachusetts')",
         "rawType": "float64",
         "type": "float"
        },
        {
         "name": "('women', 'Michigan')",
         "rawType": "float64",
         "type": "float"
        },
        {
         "name": "('women', 'Minnesota')",
         "rawType": "float64",
         "type": "float"
        },
        {
         "name": "('women', 'Mississippi')",
         "rawType": "float64",
         "type": "float"
        },
        {
         "name": "('women', 'Missouri')",
         "rawType": "float64",
         "type": "float"
        },
        {
         "name": "('women', 'Montana')",
         "rawType": "float64",
         "type": "float"
        },
        {
         "name": "('women', 'Nebraska')",
         "rawType": "float64",
         "type": "float"
        },
        {
         "name": "('women', 'Nevada')",
         "rawType": "float64",
         "type": "float"
        },
        {
         "name": "('women', 'New Hampshire')",
         "rawType": "float64",
         "type": "float"
        },
        {
         "name": "('women', 'New Jersey')",
         "rawType": "float64",
         "type": "float"
        },
        {
         "name": "('women', 'New Mexico')",
         "rawType": "float64",
         "type": "float"
        },
        {
         "name": "('women', 'New York')",
         "rawType": "float64",
         "type": "float"
        },
        {
         "name": "('women', 'North Carolina')",
         "rawType": "float64",
         "type": "float"
        },
        {
         "name": "('women', 'North Dakota')",
         "rawType": "float64",
         "type": "float"
        },
        {
         "name": "('women', 'Ohio')",
         "rawType": "float64",
         "type": "float"
        },
        {
         "name": "('women', 'Oklahoma')",
         "rawType": "float64",
         "type": "float"
        },
        {
         "name": "('women', 'Oregon')",
         "rawType": "float64",
         "type": "float"
        },
        {
         "name": "('women', 'Pennsylvania')",
         "rawType": "float64",
         "type": "float"
        },
        {
         "name": "('women', 'Rhode Island')",
         "rawType": "float64",
         "type": "float"
        },
        {
         "name": "('women', 'South Carolina')",
         "rawType": "float64",
         "type": "float"
        },
        {
         "name": "('women', 'South Dakota')",
         "rawType": "float64",
         "type": "float"
        },
        {
         "name": "('women', 'Tennessee')",
         "rawType": "float64",
         "type": "float"
        },
        {
         "name": "('women', 'Texas')",
         "rawType": "float64",
         "type": "float"
        },
        {
         "name": "('women', 'Utah')",
         "rawType": "float64",
         "type": "float"
        },
        {
         "name": "('women', 'Vermont')",
         "rawType": "float64",
         "type": "float"
        },
        {
         "name": "('women', 'Virginia')",
         "rawType": "float64",
         "type": "float"
        },
        {
         "name": "('women', 'Washington')",
         "rawType": "float64",
         "type": "float"
        },
        {
         "name": "('women', 'West Virginia')",
         "rawType": "float64",
         "type": "float"
        },
        {
         "name": "('women', 'Wisconsin')",
         "rawType": "float64",
         "type": "float"
        },
        {
         "name": "('women', 'Wyoming')",
         "rawType": "float64",
         "type": "float"
        }
       ],
       "conversionMethod": "pd.DataFrame",
       "ref": "f9f2dba6-c148-4cdc-ab3b-a7b9e26c0fbd",
       "rows": [
        [
         "1990",
         "17.789268308661274",
         "13.02298886813279",
         "10.059218533694454",
         "12.342673967728993",
         "10.690877181446682",
         "5.876647802575609",
         "9.112944742916333",
         "10.0047478892098",
         "12.33995648544977",
         "9.604939639780657",
         "8.241748811949346",
         "9.731786023407402",
         "11.431619756027887",
         "12.381895752177293",
         "7.475473260876019",
         "6.095414877455261",
         "6.0898674974711495",
         "14.395498482635318",
         "11.791974136019581",
         "10.237084107574288",
         "6.884445033859213",
         "10.47680457666626",
         "11.548032229060652",
         "6.212857363018544",
         "11.461329997089372",
         "10.736393673298995",
         "9.841608329094466",
         "3.7477040944076023",
         "9.072165670410225",
         "6.990975808678397",
         "9.536521693037699",
         "14.465358684501767",
         "10.81431583775724",
         "7.738464406413499",
         "4.710172540597649",
         "8.844693148405769",
         "14.763567474414716",
         "7.566698118025439",
         "10.942997387427955",
         "12.488686074103986",
         "12.52736400431921",
         "7.057582927432658",
         "13.685065027314211",
         "8.761754896841671",
         "6.962180412546918",
         "10.88934266009261",
         "6.5394891556902115",
         "9.23405408150713",
         "15.460660281141081",
         "5.233541019386272",
         "9.885797156819082",
         "23.896181269058957",
         "21.999602874740155",
         "21.466130731981764",
         "20.51365052687453",
         "21.888835706124368",
         "19.4750088711127",
         "13.754769187184026",
         "15.52096830431815",
         "21.524855638927026",
         "18.66542074688433",
         "24.308105146266097",
         "17.09602197044841",
         "17.522315700161236",
         "18.296593961412306",
         "17.30736754583019",
         "9.37953501580317",
         "11.529652397876784",
         "22.849938577321442",
         "22.767139708367022",
         "17.498281060929592",
         "16.899727880048935",
         "13.951029054808664",
         "18.979845664402305",
         "11.763857417222908",
         "27.061701276262205",
         "16.688685400833577",
         "16.96002812110928",
         "10.706916262298936",
         "20.864956290208653",
         "12.571054188159858",
         "15.034117917149798",
         "21.966356371224485",
         "18.635131262593134",
         "17.69098329011319",
         "6.924103081201142",
         "17.441627261343935",
         "20.22185380521546",
         "17.018291849415476",
         "16.21919029095015",
         "16.542160118616813",
         "16.534849983683593",
         "11.378314055372412",
         "21.61468091738455",
         "21.539057405907926",
         "15.071002563479697",
         "14.243731585934533",
         "12.599972323300632",
         "17.09881907294245",
         "28.25084553734522",
         "8.481596231120252",
         "16.61656639253668"
        ],
        [
         "1991",
         "11.663872856778843",
         "12.982497238974172",
         "12.172686580213329",
         "10.351328828836413",
         "11.448549666197952",
         "10.1752773213006",
         "8.09435369822442",
         "13.335175793546611",
         "16.793386189824627",
         "10.194650768589064",
         "14.008739639561233",
         "10.204508290917168",
         "11.360122978220806",
         "12.37947257458283",
         "9.446881140516489",
         "8.548058523268462",
         "7.446324185529837",
         "14.465555521924903",
         "10.97298401044862",
         "12.559798384573142",
         "10.943607825367316",
         "13.499752509023768",
         "13.071974823735836",
         "5.593311360686035",
         "13.898456325731253",
         "9.26603205973127",
         "9.151410637908764",
         "5.851812284652846",
         "11.03277613370069",
         "8.64485867167178",
         "11.852554283758378",
         "12.842241548471419",
         "14.200520498016742",
         "10.636139672891721",
         "6.375578559952361",
         "10.687955055369452",
         "12.029804348513105",
         "8.402932802611996",
         "14.484119758568312",
         "15.916918134358784",
         "15.218379624400077",
         "7.540222030076092",
         "15.86804188496086",
         "10.650058482317187",
         "5.634531764733101",
         "9.629775587783",
         "10.054873830711491",
         "11.344048253544154",
         "16.98477447652955",
         "5.7175150462937285",
         "11.579285289774944",
         "18.233435598676802",
         "25.6976242139297",
         "24.060012460602863",
         "19.329413672828966",
         "23.735024906006196",
         "22.683181965872507",
         "16.00381291980895",
         "17.475086033563237",
         "21.34834586900441",
         "18.57746526157078",
         "21.984326579642644",
         "23.599522655129935",
         "17.97936037537079",
         "20.214203682996757",
         "23.263546284063928",
         "9.136631093954971",
         "14.512212048754169",
         "27.34157083656551",
         "22.472422639449448",
         "19.588627780355495",
         "20.667143074089463",
         "14.777594396826979",
         "21.188821207515424",
         "9.986079494996748",
         "21.895335153810592",
         "16.519274825415962",
         "14.437196646971994",
         "11.543986207841899",
         "20.721427936481124",
         "14.935767439356823",
         "15.230954488099563",
         "22.719559427542855",
         "19.738005530146562",
         "19.614769030812145",
         "9.785374708929686",
         "18.021269239001136",
         "23.14805956984834",
         "14.589494177289843",
         "16.470079651884642",
         "18.50004138404641",
         "20.046940169948833",
         "14.26774641833943",
         "22.657062047435307",
         "22.34671898945098",
         "12.48635707862939",
         "13.92609309694303",
         "16.748431316588604",
         "18.266509503423492",
         "31.528908134198296",
         "11.336363822021212",
         "18.468111235137087"
        ],
        [
         "1992",
         "12.384914619584782",
         "13.447322765975208",
         "12.43546089331129",
         "9.905127842126987",
         "13.086376081243317",
         "8.351902490604838",
         "12.344283394852427",
         "8.705180096137061",
         "18.74820444352956",
         "10.899827976509325",
         "11.686001194416502",
         "9.643238125841489",
         "8.28118387134172",
         "11.196634197422798",
         "12.471577779392897",
         "9.322970673525568",
         "6.9807649695333085",
         "14.587346938511908",
         "11.121852278074615",
         "11.329340157374677",
         "12.05751856198539",
         "13.267521294355122",
         "12.223163901668615",
         "6.787256903272938",
         "11.315253022584661",
         "7.821168099812425",
         "9.800961115395118",
         "4.55616019563054",
         "11.174572156384029",
         "14.483199924455981",
         "11.131584030020207",
         "12.398691500170745",
         "13.780676956927723",
         "9.878000114752261",
         "6.901842503231659",
         "11.30314640040063",
         "11.028969555878236",
         "11.847929977143224",
         "12.50755483143409",
         "14.333939900294942",
         "9.345649234926178",
         "6.324266345295324",
         "13.615731576456561",
         "11.331452011859664",
         "6.574272450978641",
         "11.997102897313182",
         "10.391689873280583",
         "10.111596692365088",
         "22.32404397446541",
         "5.724088811297194",
         "10.681050305668068",
         "21.129364362415597",
         "22.969881376757208",
         "24.05726261254203",
         "20.255576078722882",
         "24.89734580076651",
         "11.83331622074127",
         "16.37191496135667",
         "12.400994859960994",
         "22.23620621594345",
         "17.247055451040666",
         "17.595720894704648",
         "23.59248695221216",
         "17.338299008338577",
         "19.319135468779606",
         "21.312531678194595",
         "8.60338727915832",
         "12.212034625201653",
         "23.771663252861167",
         "23.22532057921108",
         "15.80378026745383",
         "16.79987845728844",
         "13.703088081884026",
         "18.77708824876475",
         "11.487652511837549",
         "22.317098364183167",
         "15.048415097010368",
         "13.873463471007044",
         "9.540537819920356",
         "23.063413767035065",
         "15.77836664195531",
         "14.960876170858453",
         "22.00943029531692",
         "19.01470166445077",
         "18.408510340051116",
         "10.603515660870128",
         "17.715598844451783",
         "25.520307364027374",
         "17.385015105529952",
         "17.457599236760537",
         "16.450488898050207",
         "16.510915622041423",
         "11.679152668861779",
         "20.09065601751515",
         "22.012445164679026",
         "14.518012289609267",
         "10.817443957336073",
         "17.18425513941291",
         "16.229321218030105",
         "30.541229425916526",
         "11.087206061924636",
         "15.090170130611147"
        ],
        [
         "1993",
         "11.685395956887474",
         "13.705489906407642",
         "9.523923004784164",
         "12.639077589267586",
         "12.891590611026391",
         "10.48122732552246",
         "6.910364225326465",
         "10.468922965220893",
         "21.047282900824996",
         "10.288781998775914",
         "9.727648007905687",
         "9.261283762707304",
         "8.856110488506946",
         "10.862424160647029",
         "9.798672283705267",
         "4.617309590664451",
         "5.864618842256361",
         "13.166493124451787",
         "10.497111737615008",
         "8.4933387384939",
         "11.939947528563437",
         "10.946150606546357",
         "9.473620237014625",
         "8.721996046299264",
         "12.715793473355994",
         "10.627223553680345",
         "10.671989093368344",
         "4.808923526180677",
         "11.652569262166988",
         "8.025191365539532",
         "11.238713525409514",
         "10.022610603461914",
         "13.314915708141516",
         "8.410860846416316",
         "5.5384054307133574",
         "10.594500848007108",
         "11.243003426459616",
         "13.49071495584938",
         "11.488952833679539",
         "11.983298464809373",
         "12.000450126796489",
         "5.9286387421116125",
         "11.797596690107847",
         "10.237721972200337",
         "5.616413084162233",
         "14.539213187680128",
         "7.8035053511070815",
         "8.442566709321602",
         "22.209532751763888",
         "10.028370093743394",
         "7.1086558251731295",
         "19.202801054308615",
         "22.13633485636088",
         "21.521828772181077",
         "23.3153017790404",
         "23.400246286819947",
         "13.199837784959536",
         "10.037244744370472",
         "17.19075539622561",
         "24.985495803562067",
         "18.393179202113856",
         "18.247817525809825",
         "24.628368169372123",
         "14.232110148984786",
         "20.48001899670818",
         "13.756928515230227",
         "11.30844276998587",
         "10.531122968391323",
         "26.04375772243033",
         "29.094111008051645",
         "14.772251075379058",
         "14.179649215625076",
         "13.41603207436618",
         "15.47951618982146",
         "12.025246758232878",
         "20.992397128867545",
         "13.618146570186957",
         "18.965890906022057",
         "10.806770336619149",
         "22.43794366526845",
         "13.273629588516943",
         "16.02196714324734",
         "22.077924995099725",
         "17.58627556756862",
         "17.236635196432697",
         "9.601833346958918",
         "15.314184196009489",
         "23.670131701987295",
         "19.596953499244478",
         "17.4919191446475",
         "12.977071148923658",
         "22.895872739646208",
         "10.286612567026546",
         "24.54409114950261",
         "20.322224146116955",
         "9.672224013888172",
         "13.677609196480406",
         "14.513298802192171",
         "17.06182523531955",
         "31.178730662771002",
         "10.266209478981798",
         "14.711009188657787"
        ],
        [
         "1994",
         "13.639535743920156",
         "11.49979592217973",
         "9.396569058593245",
         "10.112074750229482",
         "11.630304826264299",
         "9.935657218471377",
         "6.684156472674742",
         "8.52570566634434",
         "17.34648623704071",
         "11.951005960230892",
         "11.62596878634746",
         "10.956898739898783",
         "9.286172403485535",
         "9.706387170409975",
         "9.624770389441217",
         "5.005208696010216",
         "6.411914490619863",
         "13.899073106034118",
         "14.177628704886752",
         "11.144690656748756",
         "11.083515465156403",
         "10.413608686188974",
         "9.087949215960235",
         "5.9675884491628715",
         "14.444807191971835",
         "8.382893940821539",
         "10.719658952491395",
         "4.233131725073798",
         "11.171500414122505",
         "7.420420362283499",
         "10.676200172521478",
         "13.741220380312132",
         "12.366582032028541",
         "9.852332654120136",
         "8.619822489615093",
         "10.522364365002645",
         "11.81695638454219",
         "9.753027707676107",
         "12.213378383897805",
         "11.955971413486646",
         "14.24501917287854",
         "5.011613963443397",
         "10.464912128261364",
         "10.579692055305562",
         "4.832142829109961",
         "9.57228200993394",
         "8.783246139287442",
         "9.333614094616777",
         "20.037441052900668",
         "8.61207080009537",
         "12.743448221656712",
         "17.91387740356333",
         "23.027312408869562",
         "18.182177036924095",
         "18.33662271235152",
         "22.192233972154067",
         "14.473705831253952",
         "11.657759393246433",
         "14.444093214558004",
         "23.761512975275185",
         "17.441654720635754",
         "21.12582793897405",
         "19.767661198515505",
         "16.110696597214623",
         "16.31982587518514",
         "13.210100455262207",
         "10.102242468845722",
         "10.952664205569745",
         "19.732025961144643",
         "25.643828687612686",
         "20.063620878410585",
         "12.140691774278475",
         "12.573033739652987",
         "17.25170481852725",
         "11.021133160579538",
         "19.472559678257284",
         "16.05325965784094",
         "11.20893347670223",
         "7.531895639401144",
         "19.0399196439548",
         "14.397468469161542",
         "13.476626230374686",
         "19.42765494413043",
         "18.9376821508906",
         "15.662398599018983",
         "7.558490969701033",
         "16.993603866436025",
         "19.149517685810768",
         "18.426745344681855",
         "16.944928877440276",
         "16.083774496427523",
         "19.497863383264676",
         "9.783448899279126",
         "18.214720642724195",
         "21.100332543481944",
         "12.849797620243312",
         "13.69110778899136",
         "13.983891400588302",
         "18.238543722802415",
         "28.842992766385184",
         "11.770656254147978",
         "19.527380886290654"
        ],
        [
         "1995",
         "13.732238619989875",
         "11.559305216910758",
         "10.584245467982495",
         "8.833455849879474",
         "11.349197780822998",
         "7.2299019509871885",
         "7.90836629787118",
         "10.75793426975161",
         "18.863393616497408",
         "11.679285682256664",
         "10.39170688009743",
         "11.855662413407021",
         "8.601326058189882",
         "9.475367168869276",
         "8.094633302908237",
         "4.9830298784911475",
         "6.748434369653239",
         "14.670877129054558",
         "15.622634382103803",
         "8.704786715234667",
         "10.841437200523524",
         "8.448844203705958",
         "10.714254468304619",
         "7.444857203407416",
         "14.711656144698978",
         "8.310862284752064",
         "8.57541657788577",
         "7.285138235043425",
         "14.176488024009778",
         "8.014573374360312",
         "10.570034171920813",
         "15.045113797654327",
         "11.75319320894233",
         "8.637604774755069",
         "6.888014436032415",
         "10.80794082381475",
         "11.197883701023136",
         "12.939323952117213",
         "11.324934940320706",
         "9.299441933687143",
         "10.160168145161741",
         "5.6123393901954035",
         "9.535612341327884",
         "10.559387794743762",
         "7.906794863350363",
         "9.637263772115398",
         "7.647669929120493",
         "14.125170016323118",
         "18.14266302298194",
         "6.08561503918747",
         "8.301758423403758",
         "18.561496510058202",
         "20.3146841498468",
         "19.74190565505633",
         "18.066955522872533",
         "21.75535763091817",
         "15.367259727439512",
         "11.98380090521521",
         "13.236771172489007",
         "25.645135924302643",
         "18.085584790711046",
         "19.92315947581019",
         "22.265608885779354",
         "16.27423251259156",
         "15.851014142073092",
         "16.295885936803217",
         "8.06481023988672",
         "12.497618970310977",
         "18.22263525390311",
         "26.775199244093812",
         "15.798898305305869",
         "12.227957852178955",
         "12.278121332018536",
         "16.47965887437169",
         "8.811545493532842",
         "18.554285223569337",
         "11.401389571505904",
         "12.356600726918856",
         "7.235904788537385",
         "22.269859048689472",
         "13.124433705620753",
         "13.46212909476944",
         "19.788540914729342",
         "19.243134948194506",
         "16.094313365696237",
         "6.259103772286115",
         "17.825930805227095",
         "20.113303062007496",
         "17.421749343278357",
         "16.06323540609473",
         "18.21678751557855",
         "16.385636254638897",
         "10.343263663715321",
         "20.931518041197034",
         "22.060430566183722",
         "13.488495380355687",
         "10.002355508833215",
         "14.37193959532741",
         "18.87971600777762",
         "25.306336730815154",
         "10.22535685731389",
         "15.658385737770086"
        ],
        [
         "1996",
         "12.198310680062427",
         "17.46959345284058",
         "8.719728047590692",
         "9.626302667061976",
         "10.843127124890458",
         "7.525817907645198",
         "8.352465448477824",
         "11.013097048848634",
         "16.893991417724834",
         "10.67662178431164",
         "11.2320637146924",
         "14.80731480005918",
         "8.582111072573237",
         "10.64901307714445",
         "5.8528516209097505",
         "6.876066066093343",
         "6.81922546522512",
         "15.220059412094846",
         "10.475659940815776",
         "12.092543422321988",
         "9.920723161473942",
         "7.325023700160947",
         "9.190264602258479",
         "5.716105415545089",
         "12.645696849559762",
         "9.81884639318523",
         "9.650806763158016",
         "4.575481787706311",
         "11.803250532414076",
         "7.363185506140415",
         "9.49784615040097",
         "14.85177421262902",
         "13.85716546471497",
         "9.445595541811125",
         "4.505410965067521",
         "10.87970993025181",
         "9.99162460208329",
         "12.064434714016395",
         "12.236624632903824",
         "10.729457879216909",
         "12.092018157142107",
         "5.726168643044178",
         "11.018198178671348",
         "11.39328178165318",
         "6.972478025957717",
         "8.638217771814952",
         "8.858047411227979",
         "10.648698648417994",
         "16.856901657193347",
         "6.289628817920616",
         "7.863163538642638",
         "19.40544061243094",
         "22.83777730565611",
         "19.525796642920312",
         "20.279035776161646",
         "19.889020042083104",
         "16.38380007968823",
         "10.274487958684674",
         "13.427537588828397",
         "22.527406889273905",
         "17.50572140927062",
         "19.07065654575678",
         "16.452897793037007",
         "14.972704811848034",
         "14.792505550573976",
         "14.748087188191212",
         "11.966505104955125",
         "11.778922274456576",
         "16.398075096692384",
         "26.278667140843954",
         "10.159754596139523",
         "9.029514159624167",
         "12.711504412422647",
         "13.859535429537784",
         "8.269127059473654",
         "17.606857800529934",
         "15.361477806954998",
         "15.203854324975888",
         "9.014563465253893",
         "22.92362039037054",
         "12.108112482195246",
         "10.120305963719904",
         "24.034519676537908",
         "18.903772217641748",
         "16.566749021768825",
         "5.858907917800965",
         "14.604411049596171",
         "14.7486542919056",
         "19.70417353157543",
         "14.261075043568905",
         "14.45128105487727",
         "16.262951888484718",
         "9.552327262296123",
         "23.846974551325538",
         "20.398258071540205",
         "13.725826514016623",
         "9.644935189459902",
         "12.742118144317931",
         "18.5785419045542",
         "21.935145949130934",
         "7.6515782484999475",
         "14.713318658979968"
        ],
        [
         "1997",
         "10.10166173771967",
         "11.9842716444383",
         "8.228974967041463",
         "12.934258770230473",
         "10.473096371290701",
         "7.435271757596183",
         "10.723386834242984",
         "7.90076422547729",
         "18.669107515222493",
         "9.628984102836418",
         "11.571007256172656",
         "13.275520729582407",
         "9.264193412764392",
         "9.757279749843367",
         "5.182890974159797",
         "6.945108975889817",
         "5.680973266645873",
         "13.210816177141368",
         "13.942880815932757",
         "12.66828253203133",
         "10.434506037711195",
         "7.358050602878108",
         "8.356240541203103",
         "6.6524690053876085",
         "12.802142843245107",
         "8.773613529936545",
         "9.47003236282707",
         "5.0187151289285605",
         "7.442961260371242",
         "7.177867915684759",
         "8.957145012786219",
         "14.374536389578047",
         "13.775228044571172",
         "9.76591433420819",
         "4.053563080968379",
         "9.384373674808396",
         "9.08199847069993",
         "11.065579216631273",
         "10.000009364898713",
         "9.685589877244762",
         "9.73248216843973",
         "6.894204049016299",
         "12.757671321528663",
         "10.568926089909061",
         "6.024895599142809",
         "10.547924141095988",
         "9.467034839359874",
         "10.378843718674428",
         "14.247659874180146",
         "7.727963455327837",
         "8.295090326822056",
         "16.010581615208768",
         "17.802127580257345",
         "19.063907630997452",
         "19.846299543074515",
         "16.517182562140746",
         "11.931927283281905",
         "7.259730074505848",
         "8.94506727424647",
         "21.663290930096675",
         "15.687743870327134",
         "17.310335486037783",
         "15.950152985077407",
         "17.04761552496309",
         "13.847270764829414",
         "13.965225602616052",
         "8.394280704457273",
         "12.272030879799626",
         "15.125434668224546",
         "21.67436753527593",
         "12.606865480138312",
         "8.11694000378188",
         "10.744860856380543",
         "14.191265551163786",
         "10.334612052291659",
         "21.04229945355623",
         "12.520433559286687",
         "15.286913763918639",
         "8.708476405236611",
         "19.081117969278722",
         "11.222766711325063",
         "10.935295989805747",
         "23.450845070385906",
         "17.047088198600257",
         "13.63822659045171",
         "6.061457338515181",
         "13.236220812396546",
         "16.687122324081933",
         "17.42685505021152",
         "14.903805676210247",
         "13.567117373388513",
         "14.663286897490737",
         "9.191641609314209",
         "17.849399756839933",
         "19.926938662527977",
         "12.339493694459545",
         "11.148553512816992",
         "13.403425104820812",
         "17.242175802585095",
         "20.336519099042256",
         "7.206105868867158",
         "16.268700631125803"
        ],
        [
         "1998",
         "10.409624300656112",
         "15.237285005983756",
         "10.162738758936298",
         "14.290725566235023",
         "10.715123608175427",
         "6.04355787328392",
         "10.929228226615352",
         "9.01592341979928",
         "19.11728767156287",
         "8.32183005460088",
         "10.144569972832036",
         "12.75965375468808",
         "11.02025280928848",
         "8.592369471188844",
         "5.093101519412863",
         "4.608076633639064",
         "5.50312482139541",
         "11.315793280179372",
         "13.045803076374066",
         "9.682491974953956",
         "7.860579866230866",
         "6.921039066640187",
         "9.988846741645546",
         "6.3822962329271125",
         "17.389599491289008",
         "7.632546480384493",
         "8.824495602656746",
         "5.413038276413671",
         "8.960147261553272",
         "8.10519133204108",
         "9.43006247445095",
         "12.192327791049683",
         "12.612323342990967",
         "9.835092099616025",
         "5.632483065836289",
         "9.189500964554211",
         "10.477349903385653",
         "10.433349528137983",
         "8.317330630443898",
         "13.724250047144329",
         "7.519862213430597",
         "5.854272667914322",
         "10.030934737594729",
         "8.902344954513799",
         "5.852219564757536",
         "9.811561772483884",
         "5.227787831167842",
         "7.208132442370302",
         "14.805714069232732",
         "5.739777043474832",
         "8.912483268512036",
         "16.051652334198227",
         "13.787159958054602",
         "17.87215825104301",
         "19.115005261057924",
         "18.15200826330095",
         "10.822167964298933",
         "7.645745603446624",
         "12.466031683959772",
         "19.266285736486143",
         "14.447213181586074",
         "15.277095096878485",
         "16.445242859710184",
         "15.886273128394485",
         "13.401408778185411",
         "12.056305343393193",
         "10.324550046234734",
         "10.301646327697753",
         "16.3191228563186",
         "18.148817506667722",
         "10.037115600684944",
         "7.664099973535043",
         "8.490474536634201",
         "12.940522264313012",
         "7.659141301260094",
         "17.715255770943855",
         "12.976249120891916",
         "14.143745060890803",
         "6.641618831177951",
         "16.49615566177278",
         "10.341958694663488",
         "8.379109958261239",
         "18.710092293379592",
         "15.524006057952658",
         "13.307109789415758",
         "8.889702666339844",
         "13.404171408627452",
         "16.296126887491397",
         "16.968811685898306",
         "12.384044354179338",
         "15.173433707108922",
         "11.458775790695858",
         "8.147758855735109",
         "17.23585184160168",
         "20.21125580088099",
         "11.536369981404624",
         "9.55313542232073",
         "13.170305124796878",
         "15.019358142081188",
         "20.046146640546404",
         "5.8799879082979105",
         "15.409040950578271"
        ],
        [
         "1999",
         "11.527018236446859",
         "11.048587703078736",
         "9.279325246856065",
         "13.895766292072897",
         "9.771514400120813",
         "7.561349361725525",
         "9.957125427255493",
         "9.56824786367159",
         "13.59244509569327",
         "8.413868566500346",
         "9.169310516830771",
         "15.027331140314343",
         "12.148644378097872",
         "9.064129110412777",
         "8.853121232344295",
         "5.650952915242127",
         "7.1223737765194866",
         "9.739588909662364",
         "14.581327540353623",
         "9.260244823408845",
         "8.900018622365897",
         "6.45236608554496",
         "9.180840332501536",
         "5.113844004205624",
         "15.640963534003353",
         "7.2589878043965435",
         "9.758850905467071",
         "5.430296443027995",
         "10.810594104089455",
         "7.0022032006139",
         "8.169161376043226",
         "8.59645768430097",
         "12.717343418826612",
         "6.3753947919580165",
         "5.704151516338144",
         "8.47773536584559",
         "8.576781159403502",
         "10.729390751635655",
         "8.839891320380831",
         "6.719184836461077",
         "9.305235020329874",
         "7.876596119730856",
         "9.044055093493872",
         "9.422808435233701",
         "7.750140236712085",
         "8.309644850740353",
         "7.759455238321444",
         "8.519462900105628",
         "15.245355964072333",
         "6.945984609137581",
         "9.780843852374597",
         "15.98192449116476",
         "16.771384709140392",
         "21.667345074532665",
         "19.85076538222583",
         "17.393678579755743",
         "14.85853091692575",
         "6.304359725894766",
         "8.392919507521748",
         "13.73786515462823",
         "13.916538210909318",
         "17.722648782969376",
         "15.114436095034412",
         "13.95924939635656",
         "13.739105479379582",
         "12.3325579895316",
         "11.003309501741475",
         "7.797793885469235",
         "15.205254046766767",
         "14.731220373805959",
         "9.971247560890339",
         "12.55863330734093",
         "10.193824570950108",
         "12.635304438667289",
         "7.039162318460493",
         "16.40773150557021",
         "11.694765394628728",
         "12.010372085630692",
         "7.097375235558216",
         "18.09317449832079",
         "5.1430274835444845",
         "11.546775394367248",
         "17.353710296462552",
         "14.749881307787732",
         "13.962833539360284",
         "6.385269891137879",
         "14.720303742724623",
         "16.467011413902448",
         "18.2398972120956",
         "10.252736445893476",
         "8.83938454081899",
         "17.04084509496659",
         "9.381096835836399",
         "13.238875938567771",
         "18.94630499697495",
         "12.646978138560968",
         "10.26765065249014",
         "11.516120187896805",
         "14.016034424236809",
         "21.768975770643014",
         "7.420473183134842",
         "12.233363814636835"
        ],
        [
         "2000",
         "11.560071075022883",
         "15.237824717820345",
         "10.275009189174625",
         "11.56048581871403",
         "8.714224056927128",
         "8.845808050175439",
         "7.154726391825372",
         "9.133627211787628",
         "14.753424656986988",
         "8.992536557229515",
         "9.656941521170634",
         "12.308123975168114",
         "9.587941874868607",
         "8.880642650093236",
         "6.573919219705969",
         "5.74735481208455",
         "7.767638787173486",
         "11.658634277030156",
         "14.890121468953147",
         "10.083666567422899",
         "12.04586498376686",
         "7.804122728992939",
         "9.184462387987224",
         "7.267108245515749",
         "15.116909000912953",
         "5.963294265216386",
         "6.413290280918426",
         "6.760633636674071",
         "7.61860874398456",
         "4.8866888338924745",
         "8.0543136343011",
         "8.42134412982838",
         "11.00442718027892",
         "8.493579227290262",
         "6.726107681970178",
         "8.193373312788603",
         "6.361625664213736",
         "9.004244631830435",
         "8.873769033228712",
         "8.846557040405369",
         "10.486394933976822",
         "6.1192991402165555",
         "10.01989137835546",
         "9.915113190091148",
         "6.459125119193651",
         "8.949609401513904",
         "7.074601104169149",
         "10.920612653570688",
         "15.928847710471775",
         "7.4461384874495105",
         "6.335669376365",
         "17.361220990704552",
         "15.651076169147032",
         "20.10338858252813",
         "23.861062957092077",
         "16.16379761989424",
         "13.484425256781513",
         "7.789608137555034",
         "11.27792705451833",
         "16.790509914921163",
         "12.763729476581323",
         "16.18674567757205",
         "13.41755465374937",
         "15.478223257729137",
         "15.34439137209783",
         "12.872769280046198",
         "12.339359796915073",
         "10.037252115788647",
         "14.099384718043137",
         "21.156606769380502",
         "10.437518998818208",
         "8.044259524755086",
         "10.724238565447735",
         "11.382950072043496",
         "7.59582534685133",
         "19.09365790364876",
         "14.76855505959456",
         "12.453284134207285",
         "7.964436849733325",
         "16.347477422959937",
         "7.200368054959511",
         "9.5951755964956",
         "16.986444795562967",
         "14.145812603621327",
         "16.414991739252056",
         "6.783146804795448",
         "12.874647960525698",
         "16.318820598990104",
         "14.283848787266743",
         "10.49369254543559",
         "13.913656364149462",
         "13.403613863082562",
         "10.626956796034529",
         "15.553171153102799",
         "20.049621013273146",
         "11.130205743331043",
         "8.25528323428627",
         "11.19452187037215",
         "13.581109202165884",
         "18.902850260796907",
         "8.446963049825275",
         "14.075356625071098"
        ],
        [
         "2001",
         "10.480868548487274",
         "15.208823334904187",
         "7.484360810723002",
         "12.25381736750321",
         "9.737516805088402",
         "7.5522877244624365",
         "7.466992988963068",
         "11.704322697188086",
         "16.40436377111284",
         "10.156835547739124",
         "12.72453463070296",
         "11.43362313568639",
         "9.409709045601922",
         "9.782542726735224",
         "7.980051597506438",
         "6.873399697481519",
         "8.32238161268577",
         "11.94629850737416",
         "19.36932068264356",
         "7.46445413009892",
         "13.00610304143083",
         "11.437592489022572",
         "11.122950810455091",
         "7.066139761384156",
         "13.847161659774304",
         "9.9311955446199",
         "11.107977374251004",
         "9.17767987862528",
         "10.431724403459242",
         "6.636736683178325",
         "8.265361609379458",
         "11.513854948290126",
         "11.816739776170694",
         "10.476881510025407",
         "5.352808062917105",
         "9.184343784170688",
         "8.841095963434025",
         "12.756438455507737",
         "9.518899719362341",
         "10.954330743041051",
         "14.744002636837278",
         "6.464011490066819",
         "13.104292333326976",
         "9.007413060650206",
         "7.480915308929125",
         "5.5916368758938235",
         "11.355428877260467",
         "14.264884742974369",
         "17.43531491678836",
         "8.540516710657515",
         "8.300056346759291",
         "16.149691873716623",
         "19.82853128643535",
         "16.609635852499576",
         "19.31840726170624",
         "14.354719077851676",
         "13.624138639790814",
         "10.030753541183886",
         "11.007566371464057",
         "16.474918764636783",
         "14.334972613093328",
         "17.339536124764425",
         "18.11671661244181",
         "14.524226653064176",
         "14.591434170259094",
         "15.449166526931169",
         "7.361888554971994",
         "11.36536954097472",
         "20.513304866769445",
         "17.644737532066067",
         "13.106780824696903",
         "12.324087588398918",
         "10.247013691127787",
         "13.947346489781589",
         "9.641346434771418",
         "22.387706916551146",
         "15.283788717498393",
         "11.54716386495263",
         "8.095529615979743",
         "16.439716459215497",
         "9.177099297124268",
         "12.180529905559913",
         "14.80531416926073",
         "13.595519718443224",
         "18.26272243987044",
         "8.214173968465605",
         "10.937587610783131",
         "15.886872678246222",
         "13.783228280228807",
         "11.1924960596779",
         "12.344987161408795",
         "17.424111693440587",
         "10.652147436752191",
         "17.893356340158515",
         "20.054804624295773",
         "15.442359959962799",
         "11.943159394291524",
         "13.317103841412633",
         "14.009338257251938",
         "24.122786800359467",
         "8.891976720536508",
         "12.816997626773366"
        ],
        [
         "2002",
         "10.923176115816679",
         "17.38382990616735",
         "9.993658342534415",
         "9.923590464851378",
         "11.24195066328796",
         "9.266082310589903",
         "8.590987514650493",
         "9.361182600600706",
         "14.10156463093849",
         "11.538289801888483",
         "9.255077128857693",
         "13.438131847516296",
         "12.126305778450105",
         "10.949056493726973",
         "9.06661990946524",
         "7.963772287150735",
         "8.04120827467697",
         "13.374269838483727",
         "15.344011631484914",
         "11.536158853605444",
         "12.612581749702063",
         "11.503810488473851",
         "12.02793996585955",
         "6.3374334139536606",
         "17.732127484383284",
         "9.081094038977826",
         "10.2981377645548",
         "9.633255710216009",
         "12.086067163006042",
         "6.716955731981882",
         "8.43010861458416",
         "12.344574701741896",
         "14.077326550164468",
         "13.484107408804357",
         "7.484613123659736",
         "8.1687306370767",
         "9.83412559317595",
         "13.926266099428316",
         "11.763965019021231",
         "9.010584090918131",
         "13.25381168448843",
         "8.312841009459076",
         "9.438937161909688",
         "10.548132582801685",
         "11.121654938921766",
         "11.492395508405357",
         "9.798101444711737",
         "11.959516545507842",
         "18.023164869974792",
         "10.258430255690117",
         "7.212467141533571",
         "17.479933086863458",
         "22.058240611787603",
         "23.265418128548852",
         "18.234245718373682",
         "14.95368895385878",
         "17.51644028772051",
         "9.720197262872974",
         "11.93672382558009",
         "19.63987620645823",
         "14.692619721942354",
         "17.211989229993623",
         "15.033891921054954",
         "17.913103539075365",
         "16.226655016206955",
         "12.182767824020612",
         "8.926485288129212",
         "12.072249951305265",
         "21.155497866396793",
         "21.08868296629148",
         "11.938048165717797",
         "11.777013410405248",
         "14.151054885557299",
         "12.995545439172055",
         "7.81847564280366",
         "21.93891349567178",
         "15.156006836079708",
         "11.621807913172841",
         "9.52473784925353",
         "17.50589129416097",
         "11.200643272368474",
         "12.448970014412415",
         "21.266821174477375",
         "13.073880756025178",
         "19.466981899667324",
         "8.746536696126258",
         "12.436814841819588",
         "18.006074281501576",
         "19.91326723998077",
         "13.57200746406507",
         "10.051538834362969",
         "16.660319243284857",
         "10.40619266550442",
         "18.73739054880191",
         "18.97278496868079",
         "14.293622879360171",
         "12.057691355638628",
         "14.493024958066917",
         "16.68521392322398",
         "23.75264293377493",
         "8.887579614866766",
         "13.674371769132792"
        ],
        [
         "2003",
         "13.944306085130734",
         "17.280968190689556",
         "9.016102427696044",
         "15.347888147467678",
         "10.3831928959927",
         "9.670629892755988",
         "10.141778089623632",
         "8.192819494805368",
         "12.559157069983613",
         "10.279704878646609",
         "10.248644455823538",
         "14.186870052682634",
         "10.246877804524363",
         "11.922928202913335",
         "9.360411251782251",
         "8.297469811332633",
         "9.463767718273107",
         "14.349705626560846",
         "12.620136222799877",
         "10.695742615514787",
         "12.107501532885422",
         "10.30839831401405",
         "11.625646793710683",
         "9.619680974204462",
         "11.217634366366457",
         "9.281835011148745",
         "10.05707040707447",
         "10.17329655577158",
         "9.521048619585327",
         "7.0472180290315265",
         "10.45661343276596",
         "12.25150891589614",
         "14.798863152198226",
         "13.994859502642345",
         "6.490556074489614",
         "10.266715375117643",
         "12.443794098701286",
         "15.415153463304376",
         "11.11562305039918",
         "11.088771481779945",
         "11.762870103906865",
         "8.214930750592002",
         "12.338235091881625",
         "10.935258627761241",
         "8.825369506902007",
         "10.514678503623461",
         "9.31505637136317",
         "10.866574669207568",
         "17.757354671993063",
         "8.944735247597151",
         "11.184696155189092",
         "16.616192370580656",
         "18.5732756617978",
         "19.952020157350503",
         "23.028601819100313",
         "14.824672402372086",
         "16.188396722853167",
         "8.015647175848189",
         "12.861922119873856",
         "17.81263292272879",
         "15.218583799610697",
         "17.97776331350056",
         "14.868399657003497",
         "18.13454259851975",
         "16.745128035262294",
         "13.369209994750456",
         "10.783663746615446",
         "10.95536577797898",
         "20.088641434240625",
         "19.255277839245387",
         "11.058599317226921",
         "10.451985967937519",
         "10.117562350944377",
         "13.035924428868942",
         "7.996179381238975",
         "19.502930893425177",
         "12.420270376253534",
         "13.429242688715942",
         "8.968190379801252",
         "17.868149853787944",
         "10.85056364243984",
         "11.572267039648857",
         "21.903531397207963",
         "13.009920873664454",
         "19.567973209762314",
         "12.418050465455655",
         "10.81509403106475",
         "20.446899711029115",
         "13.585039785196273",
         "14.826340481094826",
         "10.884015704391741",
         "17.465786730816365",
         "7.77238849245214",
         "18.465361850648083",
         "20.174316243459625",
         "11.16352350310323",
         "11.138860870561913",
         "12.90007290688533",
         "16.092674160625307",
         "23.532736730583554",
         "11.296946006602363",
         "13.846942974948263"
        ],
        [
         "2004",
         "14.342094142460219",
         "14.735695755853651",
         "13.466072166919387",
         "11.242054180129605",
         "10.660356104118453",
         "13.44903958387092",
         "11.255281219394995",
         "9.387998462985992",
         "19.26715129881236",
         "7.705667822325821",
         "10.957454480277697",
         "12.659709077578995",
         "12.765147761413273",
         "9.539429153268522",
         "9.327785653312906",
         "7.178128593238169",
         "9.553049340048068",
         "14.212703433726626",
         "15.600736599562989",
         "8.714208349465997",
         "8.158036296108769",
         "10.659096141914238",
         "11.769420660644625",
         "6.596641884344553",
         "16.011403525513693",
         "11.885622533185407",
         "10.631267103117317",
         "7.728395007131078",
         "9.425942711798214",
         "6.9733691627688765",
         "9.05702426869853",
         "11.430569494975314",
         "11.733987910943824",
         "13.604214555678155",
         "7.821408492726711",
         "9.503555367720757",
         "10.665532639929145",
         "14.978787928113679",
         "11.125154998767247",
         "11.607429730875843",
         "13.55847403539838",
         "6.696238917719775",
         "12.870089353701125",
         "11.184230308762071",
         "8.150501813576323",
         "8.671711672318247",
         "9.245567400748918",
         "9.73038898287338",
         "14.674075289878989",
         "9.1022330901257",
         "7.460728672012619",
         "16.439723060785564",
         "18.126375480180936",
         "23.21774823204276",
         "20.565227594088636",
         "14.337964448096074",
         "14.675200740903108",
         "11.88270037890955",
         "11.233184567482448",
         "18.737300364504385",
         "14.481390489722685",
         "15.10538077508728",
         "12.785246668816308",
         "16.976450327090237",
         "13.589982717667477",
         "15.706908690279214",
         "11.159248924986267",
         "14.288502716471955",
         "16.344630686601896",
         "20.67862902060882",
         "13.049564849394507",
         "12.846356800664388",
         "9.672645022369311",
         "14.336711313794916",
         "7.923984817044741",
         "19.08264624986402",
         "13.29199291305225",
         "12.31107971994916",
         "12.553201953624601",
         "18.99972244662768",
         "6.912816544349595",
         "9.051344118132745",
         "25.719135255050084",
         "13.816842055451081",
         "16.433847393617597",
         "10.031395382101046",
         "12.860429368218194",
         "20.636343932452156",
         "17.784176199984834",
         "12.010841635328973",
         "8.285410254106276",
         "17.36029873991419",
         "10.170228907041146",
         "18.15987077558271",
         "20.525442419058898",
         "13.571296956814717",
         "8.232014859699916",
         "13.056785391320014",
         "17.325155195342248",
         "17.198634196794867",
         "8.095939574964921",
         "14.959379724944604"
        ],
        [
         "2005",
         "13.070979768510696",
         "13.708187801991773",
         "13.125357627842819",
         "11.67034096425073",
         "9.50780625542593",
         "9.348914195386092",
         "10.422232741670562",
         "8.32644616505422",
         "15.269875775463962",
         "10.559397890247373",
         "10.466246314152361",
         "11.396767021197524",
         "8.04370456646362",
         "9.970769547924812",
         "10.875508698825126",
         "7.732016493299815",
         "11.0389257505614",
         "13.752753953027538",
         "16.685335011448412",
         "10.307653080532841",
         "10.167708167132941",
         "12.31814486656314",
         "10.67783877255747",
         "5.449461598945569",
         "16.745489464931662",
         "9.960715965447587",
         "7.530342583875769",
         "7.905432494748174",
         "11.871896947673577",
         "8.971220297746285",
         "8.111572682448505",
         "13.299774810377778",
         "12.244402119116314",
         "11.254500074691306",
         "5.915356409411627",
         "10.428521395046717",
         "12.54725505070923",
         "11.836768466120095",
         "9.801670831226453",
         "8.35636679371778",
         "16.47111562511926",
         "9.357530607786126",
         "9.29581022809936",
         "12.846610540918094",
         "7.6366242420194395",
         "8.123366835593089",
         "9.639079206296723",
         "9.693440942505639",
         "18.465868107397252",
         "8.860931417044384",
         "8.92466607661687",
         "18.844761363891767",
         "17.519802651199925",
         "18.88850398170344",
         "18.715334887343303",
         "14.726542928162967",
         "15.069514078628304",
         "13.68741127300734",
         "14.412348517633811",
         "16.802169920814293",
         "14.339888459446131",
         "18.97337048614031",
         "11.598551548516173",
         "14.461457837949723",
         "10.697113343236735",
         "16.939910819165164",
         "8.581637844625309",
         "12.001030712916725",
         "18.154804018173724",
         "15.947748433503135",
         "13.772128980432733",
         "13.546737911925774",
         "11.32583948823752",
         "13.786914393632783",
         "7.39915903555538",
         "20.494609123754756",
         "14.732830519098048",
         "11.48482535931463",
         "11.557894965777804",
         "16.703847037884188",
         "9.79855630718949",
         "10.473227125088764",
         "18.746393324832106",
         "12.848081118884894",
         "15.410377916907228",
         "8.745383396661463",
         "13.208416704127405",
         "20.085774050914313",
         "14.751739225695895",
         "11.219246022707507",
         "12.953897395573371",
         "21.77048984488292",
         "11.218880994377518",
         "17.53921313540343",
         "20.172237715499953",
         "14.284239443227415",
         "10.022016563016232",
         "10.900476734101053",
         "14.226419290815215",
         "17.077598510695626",
         "9.47052877200911",
         "15.853573588024394"
        ],
        [
         "2006",
         "10.749749360474889",
         "13.603772256355473",
         "12.377456852251015",
         "10.085314834220574",
         "9.681980505156567",
         "7.791256331994891",
         "7.427668166252721",
         "8.34475687588905",
         "11.908141323748954",
         "9.182178838037597",
         "9.989434498141863",
         "7.717100823495141",
         "9.514123006989914",
         "8.586800297288818",
         "10.940939757599452",
         "5.10688720027693",
         "7.613209820512192",
         "11.089794577657974",
         "16.49886360156791",
         "12.074896420863226",
         "10.697588954011719",
         "7.923986335651155",
         "11.749397099081596",
         "7.017935870432623",
         "17.21366945951278",
         "9.126887191981409",
         "9.821026093392092",
         "7.215410438434085",
         "9.269077597704548",
         "6.817611548858747",
         "9.253230925640578",
         "9.540366805150054",
         "13.398002432689482",
         "8.86878546356016",
         "6.642657135732533",
         "11.100753292207726",
         "9.88934257064643",
         "11.819394465594383",
         "9.519815953588196",
         "8.85216745611863",
         "14.42180937671685",
         "5.271225871008149",
         "8.33195358358644",
         "9.178745044620614",
         "8.590382086715262",
         "8.302020650049595",
         "8.556758551423602",
         "10.603495546160318",
         "17.120163430988907",
         "8.62611284853234",
         "7.127905956561239",
         "15.621208354539146",
         "11.993079841059243",
         "20.23807994019819",
         "18.498629737798055",
         "15.523088115223068",
         "16.81381953904101",
         "11.908605650410015",
         "15.99738478839005",
         "15.172555467729207",
         "14.157669321055732",
         "17.52551841278028",
         "10.675597819746905",
         "15.721696411693578",
         "10.20656380138562",
         "14.915501663973268",
         "9.157362798230853",
         "12.529980373828147",
         "16.151110447874622",
         "21.19637184864066",
         "12.245474314176567",
         "12.191796587777363",
         "7.777286716453687",
         "11.39665545625548",
         "7.801802634479843",
         "18.07647468559112",
         "10.936768199952754",
         "10.385920348405262",
         "9.169870224758487",
         "17.123803883521255",
         "7.580519210003607",
         "10.820020291651723",
         "14.57187447556027",
         "12.948550312044352",
         "15.400938892107266",
         "8.140954179792288",
         "14.718462147836345",
         "18.267614906176263",
         "13.731249653936642",
         "12.745874617292172",
         "13.79846045380776",
         "16.328591708228632",
         "10.178057813351094",
         "13.663794075781894",
         "19.23957379037123",
         "14.322916517326888",
         "9.565232565118919",
         "12.67108527863422",
         "13.179793233562284",
         "20.29456337127222",
         "10.874794983342777",
         "14.882190048840224"
        ],
        [
         "2007",
         "15.846194268241131",
         "13.600774070704952",
         "14.108770401650705",
         "8.809085927188656",
         "9.94075780734721",
         "7.614219738727704",
         "7.161948894786574",
         "7.77750218670386",
         "13.305192057250165",
         "10.274474265848745",
         "9.594361002602684",
         "10.026276674998213",
         "8.128840093889455",
         "10.716747036781944",
         "10.477274670157747",
         "6.240042805989517",
         "7.0126483204520005",
         "13.219341416513917",
         "12.9022798443366",
         "10.801456370645363",
         "8.851865719587774",
         "7.890235780264487",
         "10.63846367172467",
         "7.701448818770489",
         "14.813003567191533",
         "11.904910009465048",
         "9.762952082184583",
         "6.27413720463375",
         "9.368183183585275",
         "8.517375949407862",
         "9.40349991831488",
         "9.338161029753566",
         "13.991118404293976",
         "8.971580206326596",
         "6.367634570652619",
         "9.886516404087018",
         "9.783206041459922",
         "10.520208000075918",
         "11.992513108690137",
         "9.116968594817195",
         "11.789188988982493",
         "8.368431643716411",
         "11.779320168812438",
         "8.685006090102874",
         "9.786283492310883",
         "8.84462237638593",
         "9.178082290058681",
         "12.495834752150545",
         "13.936776482749465",
         "8.70215050432032",
         "6.456715116188907",
         "20.341252150225372",
         "17.349979061792613",
         "19.602927746550638",
         "18.094850612187663",
         "13.562161684276038",
         "14.065127872273738",
         "10.551129012840052",
         "12.473863340910537",
         "15.630471621045833",
         "13.871470422705775",
         "14.926889659950273",
         "12.555085869802463",
         "15.564904210463565",
         "10.662735412369836",
         "16.739077405230812",
         "8.679194991277523",
         "10.1366199106562",
         "19.3414146557009",
         "19.606111263927755",
         "12.947482586155942",
         "12.924442043655574",
         "7.690903529709557",
         "11.585385712359741",
         "7.3468051154015805",
         "17.403104869005855",
         "13.897024531359392",
         "8.395994862762352",
         "10.956153922904093",
         "14.720299845313663",
         "7.535712628048779",
         "11.01041322939842",
         "21.773620803672966",
         "12.43685772781901",
         "17.22112911438049",
         "7.438722513361479",
         "12.058912417048399",
         "17.31849473387484",
         "15.771565455923731",
         "12.275148192904894",
         "10.961633522210604",
         "14.152929226113539",
         "10.162275200676063",
         "19.111140751151396",
         "18.114772694528224",
         "15.0675839593434",
         "9.436505180608876",
         "15.156360676242908",
         "14.527375360126221",
         "15.481671161041808",
         "9.920586123328475",
         "13.300369135746873"
        ],
        [
         "2008",
         "16.455393583841992",
         "16.901525475236507",
         "15.040699665235625",
         "12.0385944246953",
         "12.285823223252073",
         "9.730945561150241",
         "10.548331062463586",
         "9.578807823796533",
         "11.659019502059948",
         "12.952060869734854",
         "11.489791632467982",
         "12.744077629590564",
         "13.473050274852048",
         "12.31485175250456",
         "12.16089452332556",
         "7.099191231477955",
         "7.240966482538829",
         "11.70274620094657",
         "15.918312704343835",
         "14.305252759914383",
         "10.264236581520542",
         "8.84224869611293",
         "11.575979854024252",
         "7.284593198315102",
         "12.485412915073496",
         "8.136900424891916",
         "9.582327287332012",
         "7.343170240884627",
         "13.001386308102767",
         "7.731412852005078",
         "9.5106017333425",
         "15.659905372040898",
         "13.1213824184646",
         "13.574485928862016",
         "6.873406054170789",
         "12.23956352129199",
         "9.594200949106098",
         "12.618040319287141",
         "12.53409412026043",
         "14.495260667210182",
         "11.096678267617289",
         "8.113836779591583",
         "14.114633154089551",
         "10.29642541725161",
         "10.307624327726538",
         "10.902399818146154",
         "11.341352124847742",
         "13.648416041661868",
         "13.509110513796085",
         "8.806691594298591",
         "6.710896256528369",
         "16.39603998820079",
         "19.11567663168595",
         "19.17425824952067",
         "16.531079739835196",
         "14.647309169455095",
         "12.382798746933503",
         "8.911894177169106",
         "14.451872778599927",
         "14.50292687221317",
         "13.728034729227714",
         "19.323642023373445",
         "14.715137760202012",
         "16.422136364675772",
         "13.049064926255365",
         "15.150210475759081",
         "7.615604215747989",
         "11.56988306903221",
         "20.60519112038989",
         "20.177153047517255",
         "11.603571807534085",
         "12.866084150585088",
         "8.166527186551644",
         "13.09402403468046",
         "7.139859901916856",
         "18.98276447371023",
         "12.347016889553828",
         "14.519132032156925",
         "9.499630924906967",
         "15.854990024035132",
         "10.164235645016738",
         "9.88778461753195",
         "22.175879261302587",
         "12.860327161138157",
         "16.399290640702706",
         "8.40687377270051",
         "12.553284389762062",
         "13.81456344891788",
         "14.444935454438928",
         "13.248914670110665",
         "13.00003422766896",
         "16.565706205896895",
         "12.103897898007647",
         "20.13229901381719",
         "18.77069067469875",
         "14.551846883376008",
         "9.75885330874772",
         "12.33318658897643",
         "14.98375851226732",
         "13.414734927418436",
         "8.47030570535383",
         "16.08889027080162"
        ],
        [
         "2009",
         "16.569169886146856",
         "15.1123100320968",
         "15.599762886782115",
         "13.888063202766979",
         "14.903146422276773",
         "10.974313311822828",
         "10.139861844513439",
         "14.244233952126557",
         "17.59577178790567",
         "15.050684065643862",
         "15.861576683097647",
         "15.814045217382017",
         "18.54363068415629",
         "15.286446425684508",
         "16.382372767881606",
         "9.700267689711998",
         "8.583015645244064",
         "17.17510304087552",
         "18.49662461013624",
         "17.194338357572665",
         "12.905531540344246",
         "12.402912004095972",
         "13.673835228703368",
         "11.19924868885105",
         "19.71971625820053",
         "16.4286731948232",
         "16.389806496503308",
         "7.489126191885746",
         "18.10970725787642",
         "12.219178502892989",
         "9.99986923525996",
         "16.852553355298433",
         "15.352856503773756",
         "17.912569986733107",
         "10.210143109570087",
         "15.64901845828307",
         "12.88476222177952",
         "17.276540300276082",
         "12.582471473542157",
         "13.055157303535006",
         "15.857274275653454",
         "12.671743351341448",
         "17.01258868451589",
         "12.882015399478474",
         "15.926146506963015",
         "12.056961339258297",
         "13.750360595626962",
         "14.4322819962504",
         "18.517115657933424",
         "12.283693433671953",
         "11.832686238258779",
         "16.38586602596068",
         "16.433084362187163",
         "19.15822957378109",
         "20.188178376574648",
         "15.697553516766474",
         "15.964992500314313",
         "9.689974017700044",
         "15.070617840137771",
         "18.980337902419073",
         "13.978815854271417",
         "18.26625681833347",
         "20.52997571096585",
         "17.212386630969345",
         "14.576532313159642",
         "15.971630029346032",
         "8.808674400858092",
         "14.765657626209657",
         "19.940015231531824",
         "24.607834106545756",
         "13.084812623397585",
         "13.092378214148498",
         "8.223500965932192",
         "11.114411696599616",
         "10.220228157799143",
         "20.645947536933708",
         "14.459955988485703",
         "17.219757991736493",
         "8.444547289255475",
         "20.290932931308078",
         "11.069796505579008",
         "12.97176700932635",
         "13.535378239606782",
         "13.612155284856472",
         "15.684936771416199",
         "11.171198327543257",
         "14.08821451385208",
         "16.776586793312127",
         "15.35376721745347",
         "13.885783179688726",
         "14.512943318708702",
         "14.514455688515701",
         "13.426447947753228",
         "19.965928440192396",
         "20.12595179105732",
         "19.07277250998317",
         "8.146649143741111",
         "10.498150155059246",
         "16.927612808256555",
         "20.51854082767781",
         "8.815008656933978",
         "11.959619449622574"
        ],
        [
         "2010",
         "20.87856296664801",
         "16.784126975013834",
         "17.274507394441464",
         "15.337505661220984",
         "14.956209055638162",
         "11.480290839837828",
         "11.467547758329431",
         "16.42374657662606",
         "22.815450836670397",
         "16.31824236437447",
         "15.642551781522604",
         "15.884576381723134",
         "18.339792507245686",
         "13.712140852492544",
         "17.097994631026545",
         "9.232472367644856",
         "13.474451384565203",
         "19.036274119131242",
         "14.250324178159946",
         "16.296362661122153",
         "10.071904678620703",
         "12.601918343716243",
         "13.304204954146206",
         "9.955695522496677",
         "22.00555074208217",
         "18.54947656866309",
         "15.946589402482362",
         "7.797657248801014",
         "17.587900567856042",
         "9.753699366265616",
         "10.903102422059765",
         "15.872308773950273",
         "16.081776053674048",
         "16.485980608650486",
         "10.24799620064823",
         "15.6816734926884",
         "15.136047743599521",
         "18.844495679588473",
         "14.628162560915634",
         "12.50869164718904",
         "23.820954562072107",
         "11.617817444822352",
         "17.337701716482712",
         "13.217718313645719",
         "13.330129573554911",
         "12.387948690226915",
         "12.547942669615612",
         "16.22418469474295",
         "21.369940099338493",
         "12.325221408710751",
         "13.490173591266757",
         "17.14959138386963",
         "18.516048673553996",
         "18.009468926209934",
         "25.299519444460778",
         "16.339183074041582",
         "15.023544493285629",
         "9.862999350876704",
         "18.503225763000827",
         "15.111196971644574",
         "15.240165514409815",
         "15.350332748361092",
         "16.5179693558573",
         "18.245270943814166",
         "12.499726209346674",
         "20.039454690003687",
         "9.790824251185514",
         "13.438797922742799",
         "19.361750050802993",
         "19.111115836628212",
         "12.869262593854494",
         "12.279058525534516",
         "11.484712654332565",
         "12.290798351135553",
         "11.224951905895585",
         "18.63437445402873",
         "15.152424106000103",
         "13.746651546734256",
         "10.659917349075148",
         "20.11149006507004",
         "9.557795954115681",
         "9.661654466168528",
         "13.48058548761488",
         "14.712622258544409",
         "17.71150910833411",
         "10.006023638444285",
         "15.098801556263044",
         "15.231894594161796",
         "14.549622465919196",
         "13.552732530408154",
         "11.77299445329163",
         "15.175232668947913",
         "14.244987206245966",
         "20.12536202423923",
         "19.746708999152894",
         "17.193426282796068",
         "11.49515940915234",
         "12.729705081375203",
         "17.04602156055441",
         "21.334770645797775",
         "8.536310656538634",
         "15.529971847021823"
        ],
        [
         "2011",
         "20.26044564062118",
         "17.01791670637234",
         "12.513413808098313",
         "12.340872388357353",
         "13.44620401165974",
         "10.385273948536295",
         "12.277053693052412",
         "12.718259007030412",
         "16.74971936793716",
         "15.760792025559228",
         "12.077162397487209",
         "11.880607760287644",
         "16.787511688541898",
         "13.149005370232288",
         "13.808470436523713",
         "10.688885582313755",
         "11.808023187682716",
         "18.1693231665064",
         "13.537873881283996",
         "17.170253692501447",
         "10.693759154544939",
         "15.310175134976909",
         "13.420419800748148",
         "9.502569150990396",
         "20.22931717008036",
         "13.034380075831958",
         "13.37247314532515",
         "8.85826977911108",
         "18.098430074049354",
         "9.561755386192443",
         "11.474074943436818",
         "14.360866686559405",
         "16.210551790573017",
         "16.435549185077463",
         "8.185084563842967",
         "12.703497418788027",
         "13.250365748644018",
         "14.933477194954946",
         "12.30361515424261",
         "12.93864028537371",
         "19.260582462797334",
         "12.754353895267995",
         "13.015594886127122",
         "13.815050761258687",
         "10.129569360501334",
         "12.751368342425545",
         "10.2069759022784",
         "12.756715243862713",
         "19.757078815608384",
         "11.369579177940036",
         "12.323332115246115",
         "18.19002863572552",
         "13.454200944715994",
         "18.800253546366992",
         "17.361017695427996",
         "16.189636978092896",
         "13.552302259645968",
         "12.007700200862596",
         "13.970720577525956",
         "17.137228279904537",
         "14.793243937927167",
         "16.639806545962404",
         "17.98729731639852",
         "20.20789698612621",
         "12.557533604677834",
         "19.611002858960614",
         "11.065137734599936",
         "11.149835517436367",
         "18.374170100249962",
         "24.70452934498155",
         "12.544842095314731",
         "10.364992906355566",
         "10.577339407070674",
         "12.686779241980437",
         "7.916216997128648",
         "17.02726338244074",
         "14.726696837543773",
         "14.692275785672315",
         "10.339001329395355",
         "16.18157738599918",
         "7.43038569222952",
         "11.086079068561434",
         "13.18268602824681",
         "13.165458609892308",
         "18.910852637930944",
         "10.50799334435581",
         "13.18820319360801",
         "19.8734419709707",
         "16.77255445681621",
         "13.773953529247853",
         "11.453151919467963",
         "19.06496581830128",
         "15.38797794428159",
         "17.567744278483953",
         "19.059445686831662",
         "14.2870043899964",
         "11.749946457599327",
         "10.30495081470663",
         "14.743881180745142",
         "27.604119089394953",
         "8.885243322875903",
         "17.46526095748352"
        ],
        [
         "2012",
         "13.764159190071922",
         "15.607703563306686",
         "12.86128635291516",
         "17.277999520490287",
         "13.79260090714402",
         "11.878875419949956",
         "12.652353363335639",
         "16.235324379249523",
         "12.889952305930418",
         "14.719743748269407",
         "16.340097465752297",
         "10.454572590031969",
         "9.028967629178279",
         "12.96388540877187",
         "9.757594652758938",
         "8.446176138579922",
         "10.551253951999593",
         "16.491046030704176",
         "16.97961108549912",
         "14.868461962958806",
         "11.044087714327858",
         "11.915675824706133",
         "10.745586854768375",
         "8.296628236954733",
         "20.82404829697739",
         "15.530292200980778",
         "14.253977913898813",
         "8.977329727463099",
         "16.31158037940357",
         "11.187871807722841",
         "12.625478165959553",
         "12.924864925924076",
         "14.286105194482012",
         "13.614510615688616",
         "9.212097041159486",
         "11.621175585433608",
         "13.606061856721297",
         "15.137652629758602",
         "12.10376685880184",
         "12.633212291646368",
         "15.031923398410777",
         "10.695874305637089",
         "13.96996380553183",
         "12.114426805760651",
         "11.058898228954618",
         "12.10859123781755",
         "11.36506379700284",
         "11.940485705663319",
         "16.049947745813675",
         "9.47331205284122",
         "10.924138688118854",
         "18.832568106923098",
         "15.700100941279096",
         "16.433527885154216",
         "23.449195445561386",
         "16.0853534640591",
         "13.475415107508335",
         "10.191552551119127",
         "11.785852923753138",
         "15.424533978724877",
         "14.299291340922544",
         "17.39061239442073",
         "17.23156967546044",
         "18.303296107624064",
         "12.187617206970579",
         "15.1236681506331",
         "9.041488354376169",
         "14.734663133613402",
         "19.770940224910227",
         "20.257092117182037",
         "10.752528506018397",
         "10.757561638742132",
         "7.116917645472115",
         "11.903773790717594",
         "8.233203671346724",
         "14.520936068896692",
         "13.903442826338683",
         "15.572294146631005",
         "9.740752447564386",
         "16.9353237360208",
         "6.4463383414787065",
         "10.327584403034589",
         "16.738379770753",
         "14.343410650431945",
         "18.35319354315439",
         "13.101819220729821",
         "11.226414659943837",
         "15.060981922834976",
         "13.19616824101743",
         "14.26572233310173",
         "13.254618868042877",
         "15.508878017936354",
         "14.581428974034285",
         "13.52841165348288",
         "19.01360008075513",
         "12.15884932916325",
         "11.3511625330926",
         "15.595049803134922",
         "13.835505458901467",
         "23.173188073832417",
         "9.602453882518697",
         "16.281534142139055"
        ],
        [
         "2013",
         "18.48911276040327",
         "12.998825963011178",
         "15.207531192459566",
         "17.339858400662674",
         "13.626322476092628",
         "12.130996183837576",
         "9.320283803390412",
         "16.54771216485886",
         "19.417299029017116",
         "14.272457474690157",
         "16.330311389977865",
         "14.571958441900884",
         "11.922388685295898",
         "13.409920733278577",
         "11.541006756091464",
         "10.619380961960934",
         "11.450695410057085",
         "15.148421064159564",
         "14.713125511537834",
         "12.321943072985693",
         "13.087259352049212",
         "12.691314012270533",
         "13.916485475275339",
         "7.7589437770731795",
         "29.078397257772355",
         "13.231516616032366",
         "14.011789096116134",
         "8.66489881855254",
         "14.58596806366602",
         "11.779745805770803",
         "14.190494619856917",
         "15.617935619341786",
         "14.884110221192095",
         "18.79465239651251",
         "7.617341394060906",
         "16.51612317971333",
         "13.441910788402256",
         "13.11511840034672",
         "13.898208903979064",
         "15.740556438092026",
         "13.654297793897227",
         "9.002534413395454",
         "15.214574997732255",
         "12.395167355063238",
         "10.67103165866197",
         "12.57480597999032",
         "14.232889711596854",
         "15.430795898158953",
         "20.93429266646792",
         "10.412530843115158",
         "9.15540472657215",
         "19.370625549335426",
         "16.523139564577203",
         "19.13907559835033",
         "23.706060382175906",
         "15.495155830515476",
         "12.42605009762589",
         "9.347929895607903",
         "12.20385412618587",
         "14.973898699175303",
         "12.887119654297472",
         "20.587564097797724",
         "15.86281594960684",
         "15.345250820267317",
         "13.971511165761324",
         "15.281148635335231",
         "10.348405266596188",
         "13.353862536728936",
         "21.678224947053554",
         "18.18545372375222",
         "12.921546289337533",
         "12.69000134786808",
         "11.51333509032646",
         "15.19531065004977",
         "7.270164810006594",
         "21.99098376187363",
         "15.238417761161536",
         "17.512714604619635",
         "10.049526049073748",
         "22.26907193450885",
         "9.061908962148744",
         "11.0057912753468",
         "20.519544628718606",
         "13.890568676250158",
         "16.86953656199203",
         "12.619288196412498",
         "12.944620862309323",
         "18.6231698522045",
         "14.15003893090366",
         "13.565988380616112",
         "13.193214108164602",
         "19.778237744244397",
         "12.806865178149025",
         "20.90890302910318",
         "19.865535746862832",
         "12.677990939526943",
         "13.06737048758192",
         "15.797476504242884",
         "16.415234612023443",
         "22.2387676985444",
         "11.649703545860188",
         "16.65587871910359"
        ],
        [
         "2014",
         "16.383111943842884",
         "17.449320673414324",
         "14.660295618052189",
         "12.102985365087594",
         "11.753354129744812",
         "8.105108242040636",
         "10.751065023379622",
         "17.598876407987117",
         "18.554804318112115",
         "14.047104100487145",
         "14.659077430513243",
         "14.12011527535991",
         "13.811655576294413",
         "11.694568247356372",
         "12.87684385893744",
         "10.236681955901476",
         "9.349388602917259",
         "20.511418104559617",
         "17.089137876471266",
         "14.153120663991",
         "12.68115449552966",
         "12.711490779622142",
         "13.675128832605415",
         "7.528951082228744",
         "19.73777588768902",
         "12.367317907159375",
         "13.021348113817258",
         "5.801396415384056",
         "14.549253833798751",
         "10.585172408768003",
         "12.456894288140692",
         "15.153241743731375",
         "14.323238665753236",
         "13.608282093809018",
         "7.738155056483685",
         "12.007992812103815",
         "14.448897460060039",
         "18.648938362436095",
         "12.30535413873437",
         "15.011952316836357",
         "16.884459103331693",
         "6.323923136146265",
         "13.352167836208123",
         "11.741072388800697",
         "13.30411432150535",
         "11.772181370623839",
         "11.987880293340607",
         "16.98302838708445",
         "17.26336358774611",
         "11.011393418484158",
         "10.484195492752317",
         "16.858927117829932",
         "19.193707155866797",
         "19.870469843536945",
         "18.25793829178646",
         "14.56822056068534",
         "13.152668899705208",
         "9.631612818560995",
         "13.594226729468236",
         "17.416780741585942",
         "14.91824683606591",
         "17.37582150591921",
         "17.1337859194125",
         "15.624390402237898",
         "11.878870933547086",
         "15.241534236607363",
         "8.577727671892282",
         "11.767844738638189",
         "19.897551800961306",
         "18.26743781572405",
         "12.528689264868959",
         "12.944344219723275",
         "10.86985816901357",
         "12.034864989226293",
         "8.020173476144677",
         "19.775612522401413",
         "14.300439246195651",
         "14.172011621803527",
         "9.93285652970237",
         "17.713329079443234",
         "9.202479465400694",
         "10.549544073556918",
         "19.66607295615987",
         "13.456368095493243",
         "13.540976007996312",
         "12.315396825391687",
         "13.624904199598598",
         "19.218764762136",
         "15.296607612876912",
         "13.27977422853897",
         "13.543188566008032",
         "19.618316824214137",
         "14.089123191424571",
         "20.23291450616778",
         "17.70494852814371",
         "13.800564269524306",
         "12.850437288673694",
         "12.606631991570438",
         "17.410402265186097",
         "20.628484088662532",
         "11.36816652792603",
         "17.684512201148443"
        ],
        [
         "2015",
         "15.469983871200533",
         "18.07753846577018",
         "13.27237039123844",
         "12.215958947015377",
         "11.804093731352951",
         "7.392205257199453",
         "10.705590322043616",
         "15.10743546110081",
         "17.44422908306969",
         "12.310606085676245",
         "14.707565786853058",
         "12.379227934983854",
         "10.932640183384807",
         "11.907490338224601",
         "9.88879874659726",
         "8.105142028105071",
         "11.016731945067285",
         "17.70909744076041",
         "15.680081479908145",
         "12.276535155060495",
         "11.698945172527548",
         "11.158022061401619",
         "13.83379274629595",
         "9.800601063227615",
         "16.864511001956277",
         "10.57788895730344",
         "11.547896223486497",
         "6.79741557169473",
         "16.321054510961222",
         "8.766988570994734",
         "11.090974155785334",
         "13.264751867546911",
         "13.942603728344864",
         "13.010403161738191",
         "7.431604658119706",
         "11.543205543337356",
         "13.969095591795162",
         "15.705111542069897",
         "11.216375248719064",
         "11.009170916613341",
         "14.20653073475758",
         "12.043550417601692",
         "11.183223900496222",
         "11.165161470837408",
         "8.468270084972762",
         "9.4910707908801",
         "10.520223901336044",
         "12.955746217476808",
         "18.51876146932395",
         "9.324345684846762",
         "9.932322196402653",
         "18.571152513257456",
         "22.40185429202634",
         "14.498478037611791",
         "15.76553766980419",
         "13.487873363821992",
         "11.23349485762106",
         "6.71575479025208",
         "10.313144330844946",
         "16.301975701757144",
         "15.123049064300611",
         "16.11804060068687",
         "18.241847454922652",
         "13.954696753990023",
         "11.129233836434242",
         "13.825652451737422",
         "10.09693783675516",
         "10.801705892955995",
         "19.874938184689526",
         "20.055914980337004",
         "13.208502911622059",
         "10.145559379260414",
         "8.128503338235255",
         "13.002545003130528",
         "7.905071200970921",
         "18.88035901721162",
         "10.061697194670815",
         "14.03487180321004",
         "11.910785399165839",
         "14.09290791960027",
         "9.694201767305922",
         "11.655611996078594",
         "18.551598158384756",
         "13.857520720157934",
         "16.069928862892223",
         "8.656968835069977",
         "14.150698542940148",
         "16.176553551888393",
         "14.50058464526847",
         "12.760237651610304",
         "12.894934520980014",
         "22.123583279549408",
         "13.348575380494331",
         "17.992721766104395",
         "15.67708277389738",
         "14.52475910360219",
         "12.633220825316426",
         "10.585940010044666",
         "12.700158939352715",
         "20.909340618954033",
         "9.97261343424565",
         "13.590663422390323"
        ],
        [
         "2016",
         "14.689129447769803",
         "16.32152034380865",
         "12.641762999036477",
         "10.61114630531868",
         "11.33331626844645",
         "7.509258017112446",
         "9.529227768926111",
         "9.747132353792388",
         "15.581947176525285",
         "13.836883998954134",
         "14.399913794552749",
         "11.856968673184342",
         "9.26034018079067",
         "10.657626521043408",
         "11.409589670753558",
         "7.7939958878355435",
         "13.072051232740309",
         "12.900219331140825",
         "16.69347206900085",
         "10.80448785315099",
         "8.073179396915567",
         "8.91726207104801",
         "13.086877800234817",
         "10.591127310617248",
         "15.56667690715739",
         "12.195043703615141",
         "9.871417029205768",
         "8.807319397125662",
         "13.525774122840383",
         "7.250027461584546",
         "12.391821008479587",
         "14.225789790668308",
         "12.328756081932294",
         "13.187346860914296",
         "9.477384256937828",
         "10.778671717281195",
         "13.204652354154758",
         "15.82820649630858",
         "11.271019863326684",
         "13.125490731912928",
         "11.595364521741674",
         "7.759082105846721",
         "10.579422348155473",
         "10.758414981746524",
         "10.808101974909937",
         "9.866628348024058",
         "9.773946608090023",
         "13.30558098264826",
         "17.482535088544953",
         "9.33661929166674",
         "10.87730685643849",
         "16.568083462767063",
         "17.105023459955188",
         "15.897597750005337",
         "17.272977958695414",
         "11.945624196125735",
         "11.902958179102114",
         "8.46200345431565",
         "11.776038509639363",
         "15.37084064845787",
         "12.615522330028595",
         "16.731309760252493",
         "18.749703183246822",
         "15.83621925320048",
         "12.088409768086732",
         "14.630503721568822",
         "8.750459473203486",
         "12.956353321091068",
         "16.318992425431166",
         "18.25107725646835",
         "8.871756037022914",
         "7.271691538703835",
         "7.781422475115695",
         "12.64025063212755",
         "7.32098328317365",
         "17.49412405593418",
         "11.88353027850544",
         "13.59342737008571",
         "10.34704454637609",
         "12.905569341913663",
         "9.076937356712623",
         "11.344228119970639",
         "19.65436273989835",
         "11.682744291479482",
         "12.600871838515609",
         "11.05868797567166",
         "13.614808710204244",
         "18.881397298189334",
         "12.733712637924175",
         "10.998772851551832",
         "10.041272576280456",
         "11.561470627838768",
         "14.03571147703477",
         "17.521437990912386",
         "15.850438481166284",
         "11.990750495273298",
         "6.474684835365398",
         "12.421849841947395",
         "13.818786813299644",
         "20.669080825704565",
         "7.494525551831482",
         "11.637037501325457"
        ],
        [
         "2017",
         "14.367545014716942",
         "17.421942232734896",
         "11.152021148937141",
         "12.142304532438857",
         "10.798234742926025",
         "9.58140321145861",
         "10.921498501491618",
         "10.848742648496996",
         "17.59597993366288",
         "11.28650666844268",
         "13.719174950313274",
         "8.85231462191307",
         "10.612518001594715",
         "9.959138201473031",
         "10.5140795103835",
         "9.37037067163413",
         "7.290059370970317",
         "10.905169850423523",
         "18.23153442947719",
         "12.764807706278855",
         "7.967378631847141",
         "7.196908229549457",
         "10.806368562590398",
         "7.941309420669139",
         "15.969943714143392",
         "12.216527817854361",
         "9.221185825959079",
         "8.764286626013694",
         "11.099291241042843",
         "6.71355374582394",
         "8.027759907709022",
         "15.265253137399966",
         "11.839160403102674",
         "12.378298922372162",
         "8.14226247798289",
         "11.833134852869202",
         "9.557592202094234",
         "11.92223304288606",
         "9.299227357529086",
         "15.61581062594832",
         "10.574553981559589",
         "8.23780289366022",
         "12.316616881104894",
         "10.112342026525589",
         "6.822018124498928",
         "11.700648212045232",
         "9.726000026304437",
         "10.854443915013693",
         "13.771133335141428",
         "9.513135348650993",
         "9.897247941796984",
         "16.33686620548746",
         "20.483375266383273",
         "12.9380068006506",
         "12.489441359007593",
         "10.755324209660385",
         "8.023436996980928",
         "10.103551407765728",
         "13.080373100485273",
         "12.690542708043573",
         "12.170224941095338",
         "12.491716966323576",
         "15.80108285087107",
         "12.084454239094514",
         "8.583276789302431",
         "13.0746316069797",
         "7.051163638801734",
         "9.582991024126759",
         "15.113535585726181",
         "17.73575901266136",
         "12.11662184431863",
         "9.442857122491361",
         "8.037205040115436",
         "11.461894248323034",
         "8.707769734954896",
         "14.536167623994068",
         "9.986526030955849",
         "11.955195316583998",
         "7.663730337935146",
         "11.295153279445678",
         "10.110025375816225",
         "9.894836799060894",
         "16.2284567747613",
         "11.939178891771185",
         "13.130691525428487",
         "10.449059859261316",
         "14.087796957290896",
         "17.47435104087479",
         "7.127911507803507",
         "9.294479557810298",
         "7.555985234194605",
         "13.118027144798821",
         "15.147345107158586",
         "16.170429953921214",
         "16.085612459392276",
         "12.333957738665788",
         "9.858344417262922",
         "10.482520213053705",
         "13.829317476750989",
         "18.46257567062751",
         "7.044848849805662",
         "13.384127717598437"
        ],
        [
         "2018",
         "11.25414748895316",
         "21.212085544711247",
         "13.575822780505659",
         "11.548363975027907",
         "10.566024503065876",
         "7.480182285247565",
         "13.307205171214836",
         "8.472575849368083",
         "16.982751965870023",
         "12.026086479709674",
         "13.637699838874735",
         "11.642515193011413",
         "8.638206924107177",
         "10.637323520021026",
         "8.306233165307741",
         "9.043942095233035",
         "9.315423844013658",
         "10.597984015979735",
         "14.858209244358772",
         "12.883880995097071",
         "10.230117251784858",
         "7.045084792830019",
         "11.486336144046717",
         "4.616213514724568",
         "16.48610151963254",
         "12.795731533867588",
         "11.710976924886058",
         "9.345269192933563",
         "12.976373487599233",
         "7.820021778355995",
         "9.58133676387087",
         "16.32306052018716",
         "11.679966528290308",
         "9.746997382035149",
         "8.985889793452378",
         "10.568861733074883",
         "11.770487959235918",
         "11.3255064350586",
         "10.23652272455879",
         "12.974992303881889",
         "8.62392552602885",
         "7.514547620108318",
         "11.212424613527535",
         "11.342275048341621",
         "8.514265240452694",
         "7.516934132138073",
         "8.799982283867495",
         "14.749386510567453",
         "16.028224809578898",
         "9.257582728837225",
         "10.692099791907987",
         "15.199979245280435",
         "18.076291098688436",
         "13.949150299845634",
         "15.007410286517286",
         "12.220635710715436",
         "7.994954138910075",
         "12.176109786774393",
         "11.003742119071633",
         "12.351250913511622",
         "12.52918825848316",
         "13.030147222037398",
         "15.279269012313556",
         "12.431459474982208",
         "8.969469080279724",
         "14.030051378793859",
         "6.019120615061037",
         "12.180271340962038",
         "17.386343151304988",
         "17.15614397585714",
         "9.819724560978457",
         "13.625729422855756",
         "7.4673231382755985",
         "11.176255976806344",
         "7.555146368536452",
         "20.78951658160886",
         "9.783521504312342",
         "12.444067530289976",
         "7.626339859405686",
         "10.740112792865617",
         "10.578569331245967",
         "10.681046953713048",
         "15.100506778441666",
         "12.413887142524688",
         "12.948134596583854",
         "8.741648215971546",
         "11.844645976368291",
         "19.07932814215374",
         "6.458990381025612",
         "10.554011872950154",
         "6.1179047651845915",
         "12.8626403380522",
         "11.06153527689348",
         "14.479468132409448",
         "13.461790041665346",
         "11.573474862935782",
         "11.589516204523731",
         "9.308458912872807",
         "14.890296028715468",
         "18.254610777867512",
         "6.865415184845146",
         "14.090290765819233"
        ],
        [
         "2019",
         "13.672235264091832",
         "21.58450430877693",
         "12.255685829234924",
         "8.105633507575245",
         "10.894487468890688",
         "4.997039794220313",
         "14.882948537498745",
         "10.305247999884068",
         "14.859166750934325",
         "11.9116952190162",
         "12.267392289021764",
         "9.919515279131945",
         "10.222326201570638",
         "9.051525034911846",
         "8.366314392115912",
         "6.939209110270193",
         "15.357761897790601",
         "14.488733005091566",
         "13.348746843028067",
         "14.236349066173581",
         "10.715398998621845",
         "8.783911532255352",
         "9.93090986418971",
         "8.035063180838915",
         "16.777678435746523",
         "10.58087791564441",
         "11.004029322123596",
         "9.82729989993275",
         "10.881507048765851",
         "7.776006931130408",
         "9.88374935864256",
         "15.015065117570792",
         "12.455622048352085",
         "12.328507932640388",
         "6.095238693442779",
         "10.615307170736896",
         "13.38609440793582",
         "12.376406263934465",
         "9.29021612780364",
         "10.792677180456879",
         "12.262425772501901",
         "13.439747593754841",
         "12.275336887818195",
         "9.569608231072234",
         "10.119669308365241",
         "8.40150610042293",
         "9.143009635681613",
         "10.970338378497765",
         "16.296667081145046",
         "8.997656783878535",
         "10.465535124704978",
         "18.697902257125023",
         "14.671491058728348",
         "11.585605042082122",
         "12.412492075668242",
         "11.223056974290731",
         "8.506139776328377",
         "10.638057316653615",
         "11.017179180663739",
         "13.118624585824787",
         "11.985725844374803",
         "11.680397420185674",
         "11.655924712750036",
         "12.469036059017686",
         "8.464427344926772",
         "10.935101525684248",
         "9.55359691766257",
         "8.66864001257355",
         "12.998077325419969",
         "15.427520819768425",
         "12.525983126512555",
         "7.619626452863643",
         "5.767618932207641",
         "9.812496326423812",
         "6.664663309924117",
         "17.688944721506044",
         "15.25979051728955",
         "10.973093088357396",
         "8.383794925082896",
         "11.88535714599743",
         "7.325280102131342",
         "8.775322274592035",
         "14.837266864907086",
         "12.189790230509118",
         "16.59318705174225",
         "11.183278788609947",
         "10.609889319004505",
         "14.799123853726332",
         "12.040667015064784",
         "13.057235084366091",
         "7.794971096457669",
         "9.810722142171779",
         "11.6116751897566",
         "12.66845072515348",
         "13.899570441844055",
         "11.236691809936893",
         "8.501244047454659",
         "8.188353385829462",
         "13.400975592329525",
         "15.05464043062799",
         "8.513454134761105",
         "15.74570097105497"
        ],
        [
         "2020",
         "13.998649749227015",
         "22.854908519926372",
         "14.942273551048288",
         "14.585685228500338",
         "14.71373004436162",
         "12.195226840696408",
         "14.47187110751798",
         "17.47189869119501",
         "17.57109132653814",
         "15.835549594933376",
         "14.521765714986026",
         "16.867960098630917",
         "10.258612030731532",
         "12.721217791746673",
         "14.322640301730715",
         "9.375928434715462",
         "9.255196642160286",
         "17.601131941350445",
         "15.75011278239275",
         "11.63260800401992",
         "13.000226418604694",
         "11.21060289124448",
         "15.720791625910973",
         "10.96950213628644",
         "15.75120745137455",
         "13.969007438264699",
         "13.27516465364947",
         "12.34625556409344",
         "20.119025905973263",
         "13.826044881722122",
         "12.412013474920695",
         "19.433867825935145",
         "15.483728449536976",
         "14.52373051461576",
         "9.532227527594749",
         "15.05471030894055",
         "12.3660493594876",
         "16.012154879105253",
         "16.12885216226882",
         "17.67504188298117",
         "16.19593143511898",
         "12.053580683010997",
         "21.222128275161094",
         "13.614717929154416",
         "13.294229398975302",
         "14.683325363414115",
         "9.286834741964116",
         "16.182084958398054",
         "15.906704757281002",
         "9.771204434070855",
         "8.69373474186112",
         "19.435025942234763",
         "17.684260157496148",
         "15.399448336541901",
         "18.33608233977163",
         "16.320259601900005",
         "11.802472022342412",
         "8.35562204602274",
         "13.903773392339128",
         "14.651285365677486",
         "15.562246171509145",
         "15.594477444013698",
         "18.25133927495454",
         "11.899137772066439",
         "9.40472767715253",
         "14.900790553606042",
         "12.864772450151223",
         "11.961980634631288",
         "19.017190280939396",
         "17.611667359975243",
         "10.665361978524512",
         "10.899335713474196",
         "10.916930440016916",
         "17.381556476334204",
         "9.462440646535688",
         "16.068436057414466",
         "11.847562781490087",
         "12.594187787372235",
         "9.08268707729915",
         "21.848283004522525",
         "10.363947282020924",
         "13.272634241246934",
         "17.202406823432568",
         "15.250086480658467",
         "13.378113238539758",
         "13.684762860619509",
         "13.51325763343735",
         "13.640201258209252",
         "12.033513043418209",
         "12.141417429626824",
         "9.037915247405884",
         "18.176447329721356",
         "12.10156096532926",
         "15.707825785030415",
         "17.356021979515198",
         "11.359966896349286",
         "9.380157842068552",
         "12.215415930037969",
         "17.868731549799342",
         "16.89151985398773",
         "10.797389117367203",
         "16.966957806883816"
        ],
        [
         "2021",
         "11.44670445844909",
         "20.79579775691765",
         "15.107248013533098",
         "13.658518902582303",
         "14.15231042713692",
         "13.701160845289525",
         "12.219045562433998",
         "12.429869632341717",
         "17.326258081382917",
         "11.678558158335964",
         "15.963729639923383",
         "12.955322745468278",
         "12.734351665331667",
         "11.422281982526036",
         "12.951702403736792",
         "7.864724114212302",
         "12.766086566280165",
         "16.18154127206406",
         "16.18373037859646",
         "15.667417699036633",
         "15.192916451957428",
         "10.736427365398436",
         "16.224709519693008",
         "8.901093331488322",
         "17.640754864487807",
         "12.714372667957146",
         "12.36020679783261",
         "10.537092654081789",
         "14.152579983841617",
         "10.490409673623622",
         "10.753145872060761",
         "17.64818196661726",
         "13.839526236670373",
         "13.684665618205624",
         "10.323757214772366",
         "10.524032350775986",
         "11.999156168743026",
         "11.317919467972047",
         "12.821535290426475",
         "14.635686696429998",
         "14.677943847196326",
         "10.211865799807128",
         "12.634460315919613",
         "12.956518954517747",
         "10.247158297119388",
         "14.722438136587218",
         "9.640031586502117",
         "15.011584156501332",
         "15.973241791235088",
         "7.270680391788237",
         "10.78560910137247",
         "12.977557019125593",
         "15.83428725215481",
         "12.868205001907402",
         "17.19404390301034",
         "13.66771508424165",
         "10.746569914423272",
         "12.03705656858122",
         "14.223027996584097",
         "12.08166559757383",
         "15.065686622644723",
         "14.529573903533413",
         "16.42601559888822",
         "15.250847912002548",
         "9.335821775365025",
         "12.265361250653694",
         "8.403043725201803",
         "7.125141735814286",
         "16.51220468331464",
         "15.910892283347893",
         "18.187286775357816",
         "10.449724391698522",
         "11.267370730962801",
         "14.560547674216318",
         "12.463127290207893",
         "22.08115880179382",
         "11.551948785895425",
         "11.051133126650656",
         "11.48893899514803",
         "16.427202780570966",
         "12.1088350373009",
         "11.855653953582785",
         "16.616418290009953",
         "13.508582888682689",
         "13.020329016882284",
         "10.67077309848221",
         "13.650584179304046",
         "13.652459793839167",
         "12.848904931063915",
         "11.519370399139945",
         "9.64373183870708",
         "15.308634764260779",
         "10.60273416682708",
         "15.337558648124022",
         "15.506191858047092",
         "9.056662121479778",
         "11.036241805181279",
         "13.7564394341886",
         "13.891943694397838",
         "16.37842012079226",
         "9.600779271567426",
         "14.068753597695546"
        ],
        [
         "2022",
         "11.712673317765404",
         "21.566224727780334",
         "10.026271748539148",
         "13.80166182015256",
         "11.885960661785932",
         "10.768861011054751",
         "17.094352836293126",
         "10.381477821203791",
         "10.516757836303032",
         "12.962006890034003",
         "11.402809346326633",
         "16.548527579498828",
         "8.196125615330189",
         "10.499882577687558",
         "12.049619890145461",
         "6.735046952760919",
         "7.671502662886424",
         "10.496728548803597",
         "13.731993880053444",
         "12.519840904346665",
         "9.02620363113606",
         "8.982644876614444",
         "12.689578882622135",
         "11.60154617032189",
         "14.605758964539659",
         "11.879928101029252",
         "11.792559509262796",
         "5.66553368124056",
         "10.329346358230367",
         "10.837579766378996",
         "10.305761058496536",
         "14.939308486523561",
         "13.863460659911322",
         "14.096117038520205",
         "9.321925204267263",
         "12.380800253680944",
         "10.343674546297873",
         "12.183525799426679",
         "11.235671601387919",
         "11.088521831675044",
         "13.288661431924224",
         "7.880916898420747",
         "9.706764597886515",
         "12.766948113899046",
         "9.517627674632937",
         "8.46954513752858",
         "9.23260077326433",
         "15.85813238696199",
         "14.363690946171253",
         "8.459846093905115",
         "8.269933897748555",
         "11.62093700189795",
         "18.693253560845168",
         "15.151067365424447",
         "12.101263823396454",
         "12.854544868829516",
         "12.44892171181628",
         "10.985064999973764",
         "14.800332068760069",
         "15.197262392966445",
         "13.036530883139708",
         "14.194104580788947",
         "15.267927715032991",
         "11.471683497434922",
         "8.791147306029771",
         "15.728561576678327",
         "9.218805528001015",
         "7.9272853599153414",
         "15.008944674200283",
         "17.03908062434364",
         "11.921258410340691",
         "10.142897024396879",
         "7.554802525766973",
         "12.621017014710056",
         "7.939789826153744",
         "19.579321317913013",
         "14.723707053252836",
         "13.334502595638956",
         "12.142790002725347",
         "11.54838719792563",
         "11.491799585749925",
         "8.340013337176156",
         "19.44933645012508",
         "12.528485150813996",
         "16.20597858384728",
         "8.194370357291819",
         "15.014587222283227",
         "14.64021086817539",
         "13.531240749793039",
         "11.919754562302941",
         "11.543527694962377",
         "13.318034991166943",
         "6.643550973688073",
         "16.70205550537372",
         "13.367634841844502",
         "13.960752973401542",
         "8.908614301800592",
         "12.862743986382311",
         "11.790408819644501",
         "14.146747991380543",
         "10.032545229396202",
         "14.088849150815062"
        ],
        [
         "2023",
         "10.83875494694862",
         "19.22831315449783",
         "8.816277270480176",
         "14.989986369548788",
         "12.138906322336238",
         "8.299742807311313",
         "13.425299342906378",
         "8.248692221710014",
         "10.662829715996441",
         "11.509566786247511",
         "13.712808980612978",
         "13.098432047329686",
         "8.847666379738946",
         "11.217037767585717",
         "13.866575913275728",
         "7.961825858820208",
         "7.203759988011811",
         "9.124460094722629",
         "12.270234404361052",
         "13.381498643673254",
         "12.487568240323512",
         "9.446833071081404",
         "10.376372261535169",
         "9.575017378577144",
         "11.188127999912773",
         "8.731718726767669",
         "15.412191819900523",
         "8.260716882792476",
         "12.977534502042687",
         "5.81531230310377",
         "9.36338782274191",
         "14.752562538092521",
         "14.558802390068184",
         "11.358937249214774",
         "7.109722714191891",
         "12.01403556610802",
         "14.716951521926946",
         "13.836948968986812",
         "10.184926253381759",
         "17.055431847056205",
         "13.968649888395824",
         "3.9246257497793757",
         "11.437713030081282",
         "12.225375115225924",
         "9.175148658437458",
         "10.88688010121861",
         "11.31376380052519",
         "13.140055490385768",
         "14.201422573643383",
         "6.910651015830971",
         "11.498689577454028",
         "11.977282379303945",
         "17.452305931846595",
         "12.913559457315168",
         "16.908448100112373",
         "14.04652143622895",
         "9.74632185567779",
         "4.719374862695417",
         "9.154856387650106",
         "12.475135891083234",
         "12.902915031050618",
         "12.023233348852473",
         "13.857707159077885",
         "15.797052057295705",
         "9.169277138371744",
         "11.66515185113674",
         "11.148664995336729",
         "8.389337466923868",
         "16.420120035798693",
         "15.068996601123914",
         "10.472768215712062",
         "6.070511644021712",
         "8.36976052730216",
         "14.107296131388672",
         "6.1900955320210045",
         "18.68727090725274",
         "13.088423327097596",
         "11.465950054918526",
         "7.8371361498942",
         "9.21465242429148",
         "6.295370560818696",
         "6.801791703299352",
         "13.362139272442484",
         "11.928735302260625",
         "13.248307643487303",
         "12.979982993867232",
         "13.364643177571578",
         "15.431780519686637",
         "12.55107223922618",
         "11.31781767986698",
         "10.109347777181794",
         "12.31518395637403",
         "6.983600078970917",
         "12.538197139170457",
         "13.290206281512331",
         "12.673588868623256",
         "9.426540837517292",
         "14.739772131648527",
         "14.93780193297016",
         "14.057464626913982",
         "7.637121976839169",
         "12.524406875782285"
        ],
        [
         "2024",
         "12.610009417911252",
         "19.608924776450234",
         "13.16534435964279",
         "13.719843219577003",
         "12.31725902321174",
         "9.430355761897905",
         "11.26482224040759",
         "10.129303784746488",
         "11.25906897607764",
         "11.459280474779025",
         "12.305532735148002",
         "10.43442774237064",
         "12.84242157745753",
         "12.008798439632539",
         "11.997125357142481",
         "9.73317787308189",
         "12.098598437748166",
         "11.538359820300688",
         "13.561401706483286",
         "6.974272244328514",
         "8.772336718338652",
         "9.819747766577002",
         "13.948642822495072",
         "6.8804324496546565",
         "17.28767755516593",
         "9.828070103169555",
         "10.920381718479412",
         "9.669036184180703",
         "18.609559290026212",
         "9.687845640281463",
         "8.135483784740181",
         "17.942447241617252",
         "13.92312270461406",
         "13.006724462773725",
         "9.839684428702117",
         "13.645909000534893",
         "13.815976485586607",
         "8.49625274710521",
         "12.27886974134007",
         "12.858887948443726",
         "13.363998354407505",
         "10.217926195250165",
         "13.596635314016787",
         "12.249619843575193",
         "10.469830038893546",
         "13.432094966558713",
         "12.896501487036582",
         "10.96446800140968",
         "16.017481535381766",
         "8.257508046550493",
         "12.69359660521466",
         "15.607244664643542",
         "16.359015566991268",
         "11.972554636095472",
         "17.223594858429653",
         "12.959421308037758",
         "12.90748633705506",
         "6.228115984179201",
         "12.910301818479624",
         "11.731439287806552",
         "13.869711825543158",
         "13.40938396093846",
         "10.830423322527768",
         "10.813202196651114",
         "9.741373034169577",
         "14.780763488273575",
         "9.941918626866727",
         "10.864829779063005",
         "16.609557964372357",
         "16.729215564923177",
         "7.85821460141958",
         "13.611895309159944",
         "8.54409456773718",
         "15.185471386755417",
         "7.000427048757881",
         "17.00630203061214",
         "16.75628010988197",
         "10.394094291748164",
         "6.657844924750354",
         "10.40444203270106",
         "6.400783505071719",
         "8.752540753526773",
         "13.028290575520746",
         "12.799100127945188",
         "15.719283045575185",
         "13.606613617874988",
         "11.22033201354141",
         "17.810635678820656",
         "9.226307520640873",
         "8.95417081632816",
         "9.4406784404576",
         "13.302093989496932",
         "9.664269640332282",
         "16.116709733284708",
         "13.52714645253015",
         "9.235609413806957",
         "6.770410091709049",
         "12.322998215390797",
         "12.836783035214436",
         "15.02636775339172",
         "5.778134901101946",
         "14.734043042727027"
        ]
       ],
       "shape": {
        "columns": 102,
        "rows": 35
       }
      },
      "text/html": [
       "<div>\n",
       "<style scoped>\n",
       "    .dataframe tbody tr th:only-of-type {\n",
       "        vertical-align: middle;\n",
       "    }\n",
       "\n",
       "    .dataframe tbody tr th {\n",
       "        vertical-align: top;\n",
       "    }\n",
       "\n",
       "    .dataframe thead tr th {\n",
       "        text-align: left;\n",
       "    }\n",
       "\n",
       "    .dataframe thead tr:last-of-type th {\n",
       "        text-align: right;\n",
       "    }\n",
       "</style>\n",
       "<table border=\"1\" class=\"dataframe\">\n",
       "  <thead>\n",
       "    <tr>\n",
       "      <th>sex</th>\n",
       "      <th colspan=\"10\" halign=\"left\">men</th>\n",
       "      <th>...</th>\n",
       "      <th colspan=\"10\" halign=\"left\">women</th>\n",
       "    </tr>\n",
       "    <tr>\n",
       "      <th>state</th>\n",
       "      <th>Alabama</th>\n",
       "      <th>Alaska</th>\n",
       "      <th>Arizona</th>\n",
       "      <th>Arkansas</th>\n",
       "      <th>California</th>\n",
       "      <th>Colorado</th>\n",
       "      <th>Connecticut</th>\n",
       "      <th>Delaware</th>\n",
       "      <th>District of Columbia</th>\n",
       "      <th>Florida</th>\n",
       "      <th>...</th>\n",
       "      <th>South Dakota</th>\n",
       "      <th>Tennessee</th>\n",
       "      <th>Texas</th>\n",
       "      <th>Utah</th>\n",
       "      <th>Vermont</th>\n",
       "      <th>Virginia</th>\n",
       "      <th>Washington</th>\n",
       "      <th>West Virginia</th>\n",
       "      <th>Wisconsin</th>\n",
       "      <th>Wyoming</th>\n",
       "    </tr>\n",
       "    <tr>\n",
       "      <th>YEAR</th>\n",
       "      <th></th>\n",
       "      <th></th>\n",
       "      <th></th>\n",
       "      <th></th>\n",
       "      <th></th>\n",
       "      <th></th>\n",
       "      <th></th>\n",
       "      <th></th>\n",
       "      <th></th>\n",
       "      <th></th>\n",
       "      <th></th>\n",
       "      <th></th>\n",
       "      <th></th>\n",
       "      <th></th>\n",
       "      <th></th>\n",
       "      <th></th>\n",
       "      <th></th>\n",
       "      <th></th>\n",
       "      <th></th>\n",
       "      <th></th>\n",
       "      <th></th>\n",
       "    </tr>\n",
       "  </thead>\n",
       "  <tbody>\n",
       "    <tr>\n",
       "      <th>1990</th>\n",
       "      <td>17.789268</td>\n",
       "      <td>13.022989</td>\n",
       "      <td>10.059219</td>\n",
       "      <td>12.342674</td>\n",
       "      <td>10.690877</td>\n",
       "      <td>5.876648</td>\n",
       "      <td>9.112945</td>\n",
       "      <td>10.004748</td>\n",
       "      <td>12.339956</td>\n",
       "      <td>9.604940</td>\n",
       "      <td>...</td>\n",
       "      <td>11.378314</td>\n",
       "      <td>21.614681</td>\n",
       "      <td>21.539057</td>\n",
       "      <td>15.071003</td>\n",
       "      <td>14.243732</td>\n",
       "      <td>12.599972</td>\n",
       "      <td>17.098819</td>\n",
       "      <td>28.250846</td>\n",
       "      <td>8.481596</td>\n",
       "      <td>16.616566</td>\n",
       "    </tr>\n",
       "    <tr>\n",
       "      <th>1991</th>\n",
       "      <td>11.663873</td>\n",
       "      <td>12.982497</td>\n",
       "      <td>12.172687</td>\n",
       "      <td>10.351329</td>\n",
       "      <td>11.448550</td>\n",
       "      <td>10.175277</td>\n",
       "      <td>8.094354</td>\n",
       "      <td>13.335176</td>\n",
       "      <td>16.793386</td>\n",
       "      <td>10.194651</td>\n",
       "      <td>...</td>\n",
       "      <td>14.267746</td>\n",
       "      <td>22.657062</td>\n",
       "      <td>22.346719</td>\n",
       "      <td>12.486357</td>\n",
       "      <td>13.926093</td>\n",
       "      <td>16.748431</td>\n",
       "      <td>18.266510</td>\n",
       "      <td>31.528908</td>\n",
       "      <td>11.336364</td>\n",
       "      <td>18.468111</td>\n",
       "    </tr>\n",
       "    <tr>\n",
       "      <th>1992</th>\n",
       "      <td>12.384915</td>\n",
       "      <td>13.447323</td>\n",
       "      <td>12.435461</td>\n",
       "      <td>9.905128</td>\n",
       "      <td>13.086376</td>\n",
       "      <td>8.351902</td>\n",
       "      <td>12.344283</td>\n",
       "      <td>8.705180</td>\n",
       "      <td>18.748204</td>\n",
       "      <td>10.899828</td>\n",
       "      <td>...</td>\n",
       "      <td>11.679153</td>\n",
       "      <td>20.090656</td>\n",
       "      <td>22.012445</td>\n",
       "      <td>14.518012</td>\n",
       "      <td>10.817444</td>\n",
       "      <td>17.184255</td>\n",
       "      <td>16.229321</td>\n",
       "      <td>30.541229</td>\n",
       "      <td>11.087206</td>\n",
       "      <td>15.090170</td>\n",
       "    </tr>\n",
       "    <tr>\n",
       "      <th>1993</th>\n",
       "      <td>11.685396</td>\n",
       "      <td>13.705490</td>\n",
       "      <td>9.523923</td>\n",
       "      <td>12.639078</td>\n",
       "      <td>12.891591</td>\n",
       "      <td>10.481227</td>\n",
       "      <td>6.910364</td>\n",
       "      <td>10.468923</td>\n",
       "      <td>21.047283</td>\n",
       "      <td>10.288782</td>\n",
       "      <td>...</td>\n",
       "      <td>10.286613</td>\n",
       "      <td>24.544091</td>\n",
       "      <td>20.322224</td>\n",
       "      <td>9.672224</td>\n",
       "      <td>13.677609</td>\n",
       "      <td>14.513299</td>\n",
       "      <td>17.061825</td>\n",
       "      <td>31.178731</td>\n",
       "      <td>10.266209</td>\n",
       "      <td>14.711009</td>\n",
       "    </tr>\n",
       "    <tr>\n",
       "      <th>1994</th>\n",
       "      <td>13.639536</td>\n",
       "      <td>11.499796</td>\n",
       "      <td>9.396569</td>\n",
       "      <td>10.112075</td>\n",
       "      <td>11.630305</td>\n",
       "      <td>9.935657</td>\n",
       "      <td>6.684156</td>\n",
       "      <td>8.525706</td>\n",
       "      <td>17.346486</td>\n",
       "      <td>11.951006</td>\n",
       "      <td>...</td>\n",
       "      <td>9.783449</td>\n",
       "      <td>18.214721</td>\n",
       "      <td>21.100333</td>\n",
       "      <td>12.849798</td>\n",
       "      <td>13.691108</td>\n",
       "      <td>13.983891</td>\n",
       "      <td>18.238544</td>\n",
       "      <td>28.842993</td>\n",
       "      <td>11.770656</td>\n",
       "      <td>19.527381</td>\n",
       "    </tr>\n",
       "    <tr>\n",
       "      <th>1995</th>\n",
       "      <td>13.732239</td>\n",
       "      <td>11.559305</td>\n",
       "      <td>10.584245</td>\n",
       "      <td>8.833456</td>\n",
       "      <td>11.349198</td>\n",
       "      <td>7.229902</td>\n",
       "      <td>7.908366</td>\n",
       "      <td>10.757934</td>\n",
       "      <td>18.863394</td>\n",
       "      <td>11.679286</td>\n",
       "      <td>...</td>\n",
       "      <td>10.343264</td>\n",
       "      <td>20.931518</td>\n",
       "      <td>22.060431</td>\n",
       "      <td>13.488495</td>\n",
       "      <td>10.002356</td>\n",
       "      <td>14.371940</td>\n",
       "      <td>18.879716</td>\n",
       "      <td>25.306337</td>\n",
       "      <td>10.225357</td>\n",
       "      <td>15.658386</td>\n",
       "    </tr>\n",
       "    <tr>\n",
       "      <th>1996</th>\n",
       "      <td>12.198311</td>\n",
       "      <td>17.469593</td>\n",
       "      <td>8.719728</td>\n",
       "      <td>9.626303</td>\n",
       "      <td>10.843127</td>\n",
       "      <td>7.525818</td>\n",
       "      <td>8.352465</td>\n",
       "      <td>11.013097</td>\n",
       "      <td>16.893991</td>\n",
       "      <td>10.676622</td>\n",
       "      <td>...</td>\n",
       "      <td>9.552327</td>\n",
       "      <td>23.846975</td>\n",
       "      <td>20.398258</td>\n",
       "      <td>13.725827</td>\n",
       "      <td>9.644935</td>\n",
       "      <td>12.742118</td>\n",
       "      <td>18.578542</td>\n",
       "      <td>21.935146</td>\n",
       "      <td>7.651578</td>\n",
       "      <td>14.713319</td>\n",
       "    </tr>\n",
       "    <tr>\n",
       "      <th>1997</th>\n",
       "      <td>10.101662</td>\n",
       "      <td>11.984272</td>\n",
       "      <td>8.228975</td>\n",
       "      <td>12.934259</td>\n",
       "      <td>10.473096</td>\n",
       "      <td>7.435272</td>\n",
       "      <td>10.723387</td>\n",
       "      <td>7.900764</td>\n",
       "      <td>18.669108</td>\n",
       "      <td>9.628984</td>\n",
       "      <td>...</td>\n",
       "      <td>9.191642</td>\n",
       "      <td>17.849400</td>\n",
       "      <td>19.926939</td>\n",
       "      <td>12.339494</td>\n",
       "      <td>11.148554</td>\n",
       "      <td>13.403425</td>\n",
       "      <td>17.242176</td>\n",
       "      <td>20.336519</td>\n",
       "      <td>7.206106</td>\n",
       "      <td>16.268701</td>\n",
       "    </tr>\n",
       "    <tr>\n",
       "      <th>1998</th>\n",
       "      <td>10.409624</td>\n",
       "      <td>15.237285</td>\n",
       "      <td>10.162739</td>\n",
       "      <td>14.290726</td>\n",
       "      <td>10.715124</td>\n",
       "      <td>6.043558</td>\n",
       "      <td>10.929228</td>\n",
       "      <td>9.015923</td>\n",
       "      <td>19.117288</td>\n",
       "      <td>8.321830</td>\n",
       "      <td>...</td>\n",
       "      <td>8.147759</td>\n",
       "      <td>17.235852</td>\n",
       "      <td>20.211256</td>\n",
       "      <td>11.536370</td>\n",
       "      <td>9.553135</td>\n",
       "      <td>13.170305</td>\n",
       "      <td>15.019358</td>\n",
       "      <td>20.046147</td>\n",
       "      <td>5.879988</td>\n",
       "      <td>15.409041</td>\n",
       "    </tr>\n",
       "    <tr>\n",
       "      <th>1999</th>\n",
       "      <td>11.527018</td>\n",
       "      <td>11.048588</td>\n",
       "      <td>9.279325</td>\n",
       "      <td>13.895766</td>\n",
       "      <td>9.771514</td>\n",
       "      <td>7.561349</td>\n",
       "      <td>9.957125</td>\n",
       "      <td>9.568248</td>\n",
       "      <td>13.592445</td>\n",
       "      <td>8.413869</td>\n",
       "      <td>...</td>\n",
       "      <td>9.381097</td>\n",
       "      <td>13.238876</td>\n",
       "      <td>18.946305</td>\n",
       "      <td>12.646978</td>\n",
       "      <td>10.267651</td>\n",
       "      <td>11.516120</td>\n",
       "      <td>14.016034</td>\n",
       "      <td>21.768976</td>\n",
       "      <td>7.420473</td>\n",
       "      <td>12.233364</td>\n",
       "    </tr>\n",
       "    <tr>\n",
       "      <th>2000</th>\n",
       "      <td>11.560071</td>\n",
       "      <td>15.237825</td>\n",
       "      <td>10.275009</td>\n",
       "      <td>11.560486</td>\n",
       "      <td>8.714224</td>\n",
       "      <td>8.845808</td>\n",
       "      <td>7.154726</td>\n",
       "      <td>9.133627</td>\n",
       "      <td>14.753425</td>\n",
       "      <td>8.992537</td>\n",
       "      <td>...</td>\n",
       "      <td>10.626957</td>\n",
       "      <td>15.553171</td>\n",
       "      <td>20.049621</td>\n",
       "      <td>11.130206</td>\n",
       "      <td>8.255283</td>\n",
       "      <td>11.194522</td>\n",
       "      <td>13.581109</td>\n",
       "      <td>18.902850</td>\n",
       "      <td>8.446963</td>\n",
       "      <td>14.075357</td>\n",
       "    </tr>\n",
       "    <tr>\n",
       "      <th>2001</th>\n",
       "      <td>10.480869</td>\n",
       "      <td>15.208823</td>\n",
       "      <td>7.484361</td>\n",
       "      <td>12.253817</td>\n",
       "      <td>9.737517</td>\n",
       "      <td>7.552288</td>\n",
       "      <td>7.466993</td>\n",
       "      <td>11.704323</td>\n",
       "      <td>16.404364</td>\n",
       "      <td>10.156836</td>\n",
       "      <td>...</td>\n",
       "      <td>10.652147</td>\n",
       "      <td>17.893356</td>\n",
       "      <td>20.054805</td>\n",
       "      <td>15.442360</td>\n",
       "      <td>11.943159</td>\n",
       "      <td>13.317104</td>\n",
       "      <td>14.009338</td>\n",
       "      <td>24.122787</td>\n",
       "      <td>8.891977</td>\n",
       "      <td>12.816998</td>\n",
       "    </tr>\n",
       "    <tr>\n",
       "      <th>2002</th>\n",
       "      <td>10.923176</td>\n",
       "      <td>17.383830</td>\n",
       "      <td>9.993658</td>\n",
       "      <td>9.923590</td>\n",
       "      <td>11.241951</td>\n",
       "      <td>9.266082</td>\n",
       "      <td>8.590988</td>\n",
       "      <td>9.361183</td>\n",
       "      <td>14.101565</td>\n",
       "      <td>11.538290</td>\n",
       "      <td>...</td>\n",
       "      <td>10.406193</td>\n",
       "      <td>18.737391</td>\n",
       "      <td>18.972785</td>\n",
       "      <td>14.293623</td>\n",
       "      <td>12.057691</td>\n",
       "      <td>14.493025</td>\n",
       "      <td>16.685214</td>\n",
       "      <td>23.752643</td>\n",
       "      <td>8.887580</td>\n",
       "      <td>13.674372</td>\n",
       "    </tr>\n",
       "    <tr>\n",
       "      <th>2003</th>\n",
       "      <td>13.944306</td>\n",
       "      <td>17.280968</td>\n",
       "      <td>9.016102</td>\n",
       "      <td>15.347888</td>\n",
       "      <td>10.383193</td>\n",
       "      <td>9.670630</td>\n",
       "      <td>10.141778</td>\n",
       "      <td>8.192819</td>\n",
       "      <td>12.559157</td>\n",
       "      <td>10.279705</td>\n",
       "      <td>...</td>\n",
       "      <td>7.772388</td>\n",
       "      <td>18.465362</td>\n",
       "      <td>20.174316</td>\n",
       "      <td>11.163524</td>\n",
       "      <td>11.138861</td>\n",
       "      <td>12.900073</td>\n",
       "      <td>16.092674</td>\n",
       "      <td>23.532737</td>\n",
       "      <td>11.296946</td>\n",
       "      <td>13.846943</td>\n",
       "    </tr>\n",
       "    <tr>\n",
       "      <th>2004</th>\n",
       "      <td>14.342094</td>\n",
       "      <td>14.735696</td>\n",
       "      <td>13.466072</td>\n",
       "      <td>11.242054</td>\n",
       "      <td>10.660356</td>\n",
       "      <td>13.449040</td>\n",
       "      <td>11.255281</td>\n",
       "      <td>9.387998</td>\n",
       "      <td>19.267151</td>\n",
       "      <td>7.705668</td>\n",
       "      <td>...</td>\n",
       "      <td>10.170229</td>\n",
       "      <td>18.159871</td>\n",
       "      <td>20.525442</td>\n",
       "      <td>13.571297</td>\n",
       "      <td>8.232015</td>\n",
       "      <td>13.056785</td>\n",
       "      <td>17.325155</td>\n",
       "      <td>17.198634</td>\n",
       "      <td>8.095940</td>\n",
       "      <td>14.959380</td>\n",
       "    </tr>\n",
       "    <tr>\n",
       "      <th>2005</th>\n",
       "      <td>13.070980</td>\n",
       "      <td>13.708188</td>\n",
       "      <td>13.125358</td>\n",
       "      <td>11.670341</td>\n",
       "      <td>9.507806</td>\n",
       "      <td>9.348914</td>\n",
       "      <td>10.422233</td>\n",
       "      <td>8.326446</td>\n",
       "      <td>15.269876</td>\n",
       "      <td>10.559398</td>\n",
       "      <td>...</td>\n",
       "      <td>11.218881</td>\n",
       "      <td>17.539213</td>\n",
       "      <td>20.172238</td>\n",
       "      <td>14.284239</td>\n",
       "      <td>10.022017</td>\n",
       "      <td>10.900477</td>\n",
       "      <td>14.226419</td>\n",
       "      <td>17.077599</td>\n",
       "      <td>9.470529</td>\n",
       "      <td>15.853574</td>\n",
       "    </tr>\n",
       "    <tr>\n",
       "      <th>2006</th>\n",
       "      <td>10.749749</td>\n",
       "      <td>13.603772</td>\n",
       "      <td>12.377457</td>\n",
       "      <td>10.085315</td>\n",
       "      <td>9.681981</td>\n",
       "      <td>7.791256</td>\n",
       "      <td>7.427668</td>\n",
       "      <td>8.344757</td>\n",
       "      <td>11.908141</td>\n",
       "      <td>9.182179</td>\n",
       "      <td>...</td>\n",
       "      <td>10.178058</td>\n",
       "      <td>13.663794</td>\n",
       "      <td>19.239574</td>\n",
       "      <td>14.322917</td>\n",
       "      <td>9.565233</td>\n",
       "      <td>12.671085</td>\n",
       "      <td>13.179793</td>\n",
       "      <td>20.294563</td>\n",
       "      <td>10.874795</td>\n",
       "      <td>14.882190</td>\n",
       "    </tr>\n",
       "    <tr>\n",
       "      <th>2007</th>\n",
       "      <td>15.846194</td>\n",
       "      <td>13.600774</td>\n",
       "      <td>14.108770</td>\n",
       "      <td>8.809086</td>\n",
       "      <td>9.940758</td>\n",
       "      <td>7.614220</td>\n",
       "      <td>7.161949</td>\n",
       "      <td>7.777502</td>\n",
       "      <td>13.305192</td>\n",
       "      <td>10.274474</td>\n",
       "      <td>...</td>\n",
       "      <td>10.162275</td>\n",
       "      <td>19.111141</td>\n",
       "      <td>18.114773</td>\n",
       "      <td>15.067584</td>\n",
       "      <td>9.436505</td>\n",
       "      <td>15.156361</td>\n",
       "      <td>14.527375</td>\n",
       "      <td>15.481671</td>\n",
       "      <td>9.920586</td>\n",
       "      <td>13.300369</td>\n",
       "    </tr>\n",
       "    <tr>\n",
       "      <th>2008</th>\n",
       "      <td>16.455394</td>\n",
       "      <td>16.901525</td>\n",
       "      <td>15.040700</td>\n",
       "      <td>12.038594</td>\n",
       "      <td>12.285823</td>\n",
       "      <td>9.730946</td>\n",
       "      <td>10.548331</td>\n",
       "      <td>9.578808</td>\n",
       "      <td>11.659020</td>\n",
       "      <td>12.952061</td>\n",
       "      <td>...</td>\n",
       "      <td>12.103898</td>\n",
       "      <td>20.132299</td>\n",
       "      <td>18.770691</td>\n",
       "      <td>14.551847</td>\n",
       "      <td>9.758853</td>\n",
       "      <td>12.333187</td>\n",
       "      <td>14.983759</td>\n",
       "      <td>13.414735</td>\n",
       "      <td>8.470306</td>\n",
       "      <td>16.088890</td>\n",
       "    </tr>\n",
       "    <tr>\n",
       "      <th>2009</th>\n",
       "      <td>16.569170</td>\n",
       "      <td>15.112310</td>\n",
       "      <td>15.599763</td>\n",
       "      <td>13.888063</td>\n",
       "      <td>14.903146</td>\n",
       "      <td>10.974313</td>\n",
       "      <td>10.139862</td>\n",
       "      <td>14.244234</td>\n",
       "      <td>17.595772</td>\n",
       "      <td>15.050684</td>\n",
       "      <td>...</td>\n",
       "      <td>13.426448</td>\n",
       "      <td>19.965928</td>\n",
       "      <td>20.125952</td>\n",
       "      <td>19.072773</td>\n",
       "      <td>8.146649</td>\n",
       "      <td>10.498150</td>\n",
       "      <td>16.927613</td>\n",
       "      <td>20.518541</td>\n",
       "      <td>8.815009</td>\n",
       "      <td>11.959619</td>\n",
       "    </tr>\n",
       "    <tr>\n",
       "      <th>2010</th>\n",
       "      <td>20.878563</td>\n",
       "      <td>16.784127</td>\n",
       "      <td>17.274507</td>\n",
       "      <td>15.337506</td>\n",
       "      <td>14.956209</td>\n",
       "      <td>11.480291</td>\n",
       "      <td>11.467548</td>\n",
       "      <td>16.423747</td>\n",
       "      <td>22.815451</td>\n",
       "      <td>16.318242</td>\n",
       "      <td>...</td>\n",
       "      <td>14.244987</td>\n",
       "      <td>20.125362</td>\n",
       "      <td>19.746709</td>\n",
       "      <td>17.193426</td>\n",
       "      <td>11.495159</td>\n",
       "      <td>12.729705</td>\n",
       "      <td>17.046022</td>\n",
       "      <td>21.334771</td>\n",
       "      <td>8.536311</td>\n",
       "      <td>15.529972</td>\n",
       "    </tr>\n",
       "    <tr>\n",
       "      <th>2011</th>\n",
       "      <td>20.260446</td>\n",
       "      <td>17.017917</td>\n",
       "      <td>12.513414</td>\n",
       "      <td>12.340872</td>\n",
       "      <td>13.446204</td>\n",
       "      <td>10.385274</td>\n",
       "      <td>12.277054</td>\n",
       "      <td>12.718259</td>\n",
       "      <td>16.749719</td>\n",
       "      <td>15.760792</td>\n",
       "      <td>...</td>\n",
       "      <td>15.387978</td>\n",
       "      <td>17.567744</td>\n",
       "      <td>19.059446</td>\n",
       "      <td>14.287004</td>\n",
       "      <td>11.749946</td>\n",
       "      <td>10.304951</td>\n",
       "      <td>14.743881</td>\n",
       "      <td>27.604119</td>\n",
       "      <td>8.885243</td>\n",
       "      <td>17.465261</td>\n",
       "    </tr>\n",
       "    <tr>\n",
       "      <th>2012</th>\n",
       "      <td>13.764159</td>\n",
       "      <td>15.607704</td>\n",
       "      <td>12.861286</td>\n",
       "      <td>17.278000</td>\n",
       "      <td>13.792601</td>\n",
       "      <td>11.878875</td>\n",
       "      <td>12.652353</td>\n",
       "      <td>16.235324</td>\n",
       "      <td>12.889952</td>\n",
       "      <td>14.719744</td>\n",
       "      <td>...</td>\n",
       "      <td>14.581429</td>\n",
       "      <td>13.528412</td>\n",
       "      <td>19.013600</td>\n",
       "      <td>12.158849</td>\n",
       "      <td>11.351163</td>\n",
       "      <td>15.595050</td>\n",
       "      <td>13.835505</td>\n",
       "      <td>23.173188</td>\n",
       "      <td>9.602454</td>\n",
       "      <td>16.281534</td>\n",
       "    </tr>\n",
       "    <tr>\n",
       "      <th>2013</th>\n",
       "      <td>18.489113</td>\n",
       "      <td>12.998826</td>\n",
       "      <td>15.207531</td>\n",
       "      <td>17.339858</td>\n",
       "      <td>13.626322</td>\n",
       "      <td>12.130996</td>\n",
       "      <td>9.320284</td>\n",
       "      <td>16.547712</td>\n",
       "      <td>19.417299</td>\n",
       "      <td>14.272457</td>\n",
       "      <td>...</td>\n",
       "      <td>12.806865</td>\n",
       "      <td>20.908903</td>\n",
       "      <td>19.865536</td>\n",
       "      <td>12.677991</td>\n",
       "      <td>13.067370</td>\n",
       "      <td>15.797477</td>\n",
       "      <td>16.415235</td>\n",
       "      <td>22.238768</td>\n",
       "      <td>11.649704</td>\n",
       "      <td>16.655879</td>\n",
       "    </tr>\n",
       "    <tr>\n",
       "      <th>2014</th>\n",
       "      <td>16.383112</td>\n",
       "      <td>17.449321</td>\n",
       "      <td>14.660296</td>\n",
       "      <td>12.102985</td>\n",
       "      <td>11.753354</td>\n",
       "      <td>8.105108</td>\n",
       "      <td>10.751065</td>\n",
       "      <td>17.598876</td>\n",
       "      <td>18.554804</td>\n",
       "      <td>14.047104</td>\n",
       "      <td>...</td>\n",
       "      <td>14.089123</td>\n",
       "      <td>20.232915</td>\n",
       "      <td>17.704949</td>\n",
       "      <td>13.800564</td>\n",
       "      <td>12.850437</td>\n",
       "      <td>12.606632</td>\n",
       "      <td>17.410402</td>\n",
       "      <td>20.628484</td>\n",
       "      <td>11.368167</td>\n",
       "      <td>17.684512</td>\n",
       "    </tr>\n",
       "    <tr>\n",
       "      <th>2015</th>\n",
       "      <td>15.469984</td>\n",
       "      <td>18.077538</td>\n",
       "      <td>13.272370</td>\n",
       "      <td>12.215959</td>\n",
       "      <td>11.804094</td>\n",
       "      <td>7.392205</td>\n",
       "      <td>10.705590</td>\n",
       "      <td>15.107435</td>\n",
       "      <td>17.444229</td>\n",
       "      <td>12.310606</td>\n",
       "      <td>...</td>\n",
       "      <td>13.348575</td>\n",
       "      <td>17.992722</td>\n",
       "      <td>15.677083</td>\n",
       "      <td>14.524759</td>\n",
       "      <td>12.633221</td>\n",
       "      <td>10.585940</td>\n",
       "      <td>12.700159</td>\n",
       "      <td>20.909341</td>\n",
       "      <td>9.972613</td>\n",
       "      <td>13.590663</td>\n",
       "    </tr>\n",
       "    <tr>\n",
       "      <th>2016</th>\n",
       "      <td>14.689129</td>\n",
       "      <td>16.321520</td>\n",
       "      <td>12.641763</td>\n",
       "      <td>10.611146</td>\n",
       "      <td>11.333316</td>\n",
       "      <td>7.509258</td>\n",
       "      <td>9.529228</td>\n",
       "      <td>9.747132</td>\n",
       "      <td>15.581947</td>\n",
       "      <td>13.836884</td>\n",
       "      <td>...</td>\n",
       "      <td>14.035711</td>\n",
       "      <td>17.521438</td>\n",
       "      <td>15.850438</td>\n",
       "      <td>11.990750</td>\n",
       "      <td>6.474685</td>\n",
       "      <td>12.421850</td>\n",
       "      <td>13.818787</td>\n",
       "      <td>20.669081</td>\n",
       "      <td>7.494526</td>\n",
       "      <td>11.637038</td>\n",
       "    </tr>\n",
       "    <tr>\n",
       "      <th>2017</th>\n",
       "      <td>14.367545</td>\n",
       "      <td>17.421942</td>\n",
       "      <td>11.152021</td>\n",
       "      <td>12.142305</td>\n",
       "      <td>10.798235</td>\n",
       "      <td>9.581403</td>\n",
       "      <td>10.921499</td>\n",
       "      <td>10.848743</td>\n",
       "      <td>17.595980</td>\n",
       "      <td>11.286507</td>\n",
       "      <td>...</td>\n",
       "      <td>15.147345</td>\n",
       "      <td>16.170430</td>\n",
       "      <td>16.085612</td>\n",
       "      <td>12.333958</td>\n",
       "      <td>9.858344</td>\n",
       "      <td>10.482520</td>\n",
       "      <td>13.829317</td>\n",
       "      <td>18.462576</td>\n",
       "      <td>7.044849</td>\n",
       "      <td>13.384128</td>\n",
       "    </tr>\n",
       "    <tr>\n",
       "      <th>2018</th>\n",
       "      <td>11.254147</td>\n",
       "      <td>21.212086</td>\n",
       "      <td>13.575823</td>\n",
       "      <td>11.548364</td>\n",
       "      <td>10.566025</td>\n",
       "      <td>7.480182</td>\n",
       "      <td>13.307205</td>\n",
       "      <td>8.472576</td>\n",
       "      <td>16.982752</td>\n",
       "      <td>12.026086</td>\n",
       "      <td>...</td>\n",
       "      <td>11.061535</td>\n",
       "      <td>14.479468</td>\n",
       "      <td>13.461790</td>\n",
       "      <td>11.573475</td>\n",
       "      <td>11.589516</td>\n",
       "      <td>9.308459</td>\n",
       "      <td>14.890296</td>\n",
       "      <td>18.254611</td>\n",
       "      <td>6.865415</td>\n",
       "      <td>14.090291</td>\n",
       "    </tr>\n",
       "    <tr>\n",
       "      <th>2019</th>\n",
       "      <td>13.672235</td>\n",
       "      <td>21.584504</td>\n",
       "      <td>12.255686</td>\n",
       "      <td>8.105634</td>\n",
       "      <td>10.894487</td>\n",
       "      <td>4.997040</td>\n",
       "      <td>14.882949</td>\n",
       "      <td>10.305248</td>\n",
       "      <td>14.859167</td>\n",
       "      <td>11.911695</td>\n",
       "      <td>...</td>\n",
       "      <td>11.611675</td>\n",
       "      <td>12.668451</td>\n",
       "      <td>13.899570</td>\n",
       "      <td>11.236692</td>\n",
       "      <td>8.501244</td>\n",
       "      <td>8.188353</td>\n",
       "      <td>13.400976</td>\n",
       "      <td>15.054640</td>\n",
       "      <td>8.513454</td>\n",
       "      <td>15.745701</td>\n",
       "    </tr>\n",
       "    <tr>\n",
       "      <th>2020</th>\n",
       "      <td>13.998650</td>\n",
       "      <td>22.854909</td>\n",
       "      <td>14.942274</td>\n",
       "      <td>14.585685</td>\n",
       "      <td>14.713730</td>\n",
       "      <td>12.195227</td>\n",
       "      <td>14.471871</td>\n",
       "      <td>17.471899</td>\n",
       "      <td>17.571091</td>\n",
       "      <td>15.835550</td>\n",
       "      <td>...</td>\n",
       "      <td>12.101561</td>\n",
       "      <td>15.707826</td>\n",
       "      <td>17.356022</td>\n",
       "      <td>11.359967</td>\n",
       "      <td>9.380158</td>\n",
       "      <td>12.215416</td>\n",
       "      <td>17.868732</td>\n",
       "      <td>16.891520</td>\n",
       "      <td>10.797389</td>\n",
       "      <td>16.966958</td>\n",
       "    </tr>\n",
       "    <tr>\n",
       "      <th>2021</th>\n",
       "      <td>11.446704</td>\n",
       "      <td>20.795798</td>\n",
       "      <td>15.107248</td>\n",
       "      <td>13.658519</td>\n",
       "      <td>14.152310</td>\n",
       "      <td>13.701161</td>\n",
       "      <td>12.219046</td>\n",
       "      <td>12.429870</td>\n",
       "      <td>17.326258</td>\n",
       "      <td>11.678558</td>\n",
       "      <td>...</td>\n",
       "      <td>10.602734</td>\n",
       "      <td>15.337559</td>\n",
       "      <td>15.506192</td>\n",
       "      <td>9.056662</td>\n",
       "      <td>11.036242</td>\n",
       "      <td>13.756439</td>\n",
       "      <td>13.891944</td>\n",
       "      <td>16.378420</td>\n",
       "      <td>9.600779</td>\n",
       "      <td>14.068754</td>\n",
       "    </tr>\n",
       "    <tr>\n",
       "      <th>2022</th>\n",
       "      <td>11.712673</td>\n",
       "      <td>21.566225</td>\n",
       "      <td>10.026272</td>\n",
       "      <td>13.801662</td>\n",
       "      <td>11.885961</td>\n",
       "      <td>10.768861</td>\n",
       "      <td>17.094353</td>\n",
       "      <td>10.381478</td>\n",
       "      <td>10.516758</td>\n",
       "      <td>12.962007</td>\n",
       "      <td>...</td>\n",
       "      <td>6.643551</td>\n",
       "      <td>16.702056</td>\n",
       "      <td>13.367635</td>\n",
       "      <td>13.960753</td>\n",
       "      <td>8.908614</td>\n",
       "      <td>12.862744</td>\n",
       "      <td>11.790409</td>\n",
       "      <td>14.146748</td>\n",
       "      <td>10.032545</td>\n",
       "      <td>14.088849</td>\n",
       "    </tr>\n",
       "    <tr>\n",
       "      <th>2023</th>\n",
       "      <td>10.838755</td>\n",
       "      <td>19.228313</td>\n",
       "      <td>8.816277</td>\n",
       "      <td>14.989986</td>\n",
       "      <td>12.138906</td>\n",
       "      <td>8.299743</td>\n",
       "      <td>13.425299</td>\n",
       "      <td>8.248692</td>\n",
       "      <td>10.662830</td>\n",
       "      <td>11.509567</td>\n",
       "      <td>...</td>\n",
       "      <td>6.983600</td>\n",
       "      <td>12.538197</td>\n",
       "      <td>13.290206</td>\n",
       "      <td>12.673589</td>\n",
       "      <td>9.426541</td>\n",
       "      <td>14.739772</td>\n",
       "      <td>14.937802</td>\n",
       "      <td>14.057465</td>\n",
       "      <td>7.637122</td>\n",
       "      <td>12.524407</td>\n",
       "    </tr>\n",
       "    <tr>\n",
       "      <th>2024</th>\n",
       "      <td>12.610009</td>\n",
       "      <td>19.608925</td>\n",
       "      <td>13.165344</td>\n",
       "      <td>13.719843</td>\n",
       "      <td>12.317259</td>\n",
       "      <td>9.430356</td>\n",
       "      <td>11.264822</td>\n",
       "      <td>10.129304</td>\n",
       "      <td>11.259069</td>\n",
       "      <td>11.459280</td>\n",
       "      <td>...</td>\n",
       "      <td>9.664270</td>\n",
       "      <td>16.116710</td>\n",
       "      <td>13.527146</td>\n",
       "      <td>9.235609</td>\n",
       "      <td>6.770410</td>\n",
       "      <td>12.322998</td>\n",
       "      <td>12.836783</td>\n",
       "      <td>15.026368</td>\n",
       "      <td>5.778135</td>\n",
       "      <td>14.734043</td>\n",
       "    </tr>\n",
       "  </tbody>\n",
       "</table>\n",
       "<p>35 rows × 102 columns</p>\n",
       "</div>"
      ],
      "text/plain": [
       "sex          men                                                         \\\n",
       "state    Alabama     Alaska    Arizona   Arkansas California   Colorado   \n",
       "YEAR                                                                      \n",
       "1990   17.789268  13.022989  10.059219  12.342674  10.690877   5.876648   \n",
       "1991   11.663873  12.982497  12.172687  10.351329  11.448550  10.175277   \n",
       "1992   12.384915  13.447323  12.435461   9.905128  13.086376   8.351902   \n",
       "1993   11.685396  13.705490   9.523923  12.639078  12.891591  10.481227   \n",
       "1994   13.639536  11.499796   9.396569  10.112075  11.630305   9.935657   \n",
       "1995   13.732239  11.559305  10.584245   8.833456  11.349198   7.229902   \n",
       "1996   12.198311  17.469593   8.719728   9.626303  10.843127   7.525818   \n",
       "1997   10.101662  11.984272   8.228975  12.934259  10.473096   7.435272   \n",
       "1998   10.409624  15.237285  10.162739  14.290726  10.715124   6.043558   \n",
       "1999   11.527018  11.048588   9.279325  13.895766   9.771514   7.561349   \n",
       "2000   11.560071  15.237825  10.275009  11.560486   8.714224   8.845808   \n",
       "2001   10.480869  15.208823   7.484361  12.253817   9.737517   7.552288   \n",
       "2002   10.923176  17.383830   9.993658   9.923590  11.241951   9.266082   \n",
       "2003   13.944306  17.280968   9.016102  15.347888  10.383193   9.670630   \n",
       "2004   14.342094  14.735696  13.466072  11.242054  10.660356  13.449040   \n",
       "2005   13.070980  13.708188  13.125358  11.670341   9.507806   9.348914   \n",
       "2006   10.749749  13.603772  12.377457  10.085315   9.681981   7.791256   \n",
       "2007   15.846194  13.600774  14.108770   8.809086   9.940758   7.614220   \n",
       "2008   16.455394  16.901525  15.040700  12.038594  12.285823   9.730946   \n",
       "2009   16.569170  15.112310  15.599763  13.888063  14.903146  10.974313   \n",
       "2010   20.878563  16.784127  17.274507  15.337506  14.956209  11.480291   \n",
       "2011   20.260446  17.017917  12.513414  12.340872  13.446204  10.385274   \n",
       "2012   13.764159  15.607704  12.861286  17.278000  13.792601  11.878875   \n",
       "2013   18.489113  12.998826  15.207531  17.339858  13.626322  12.130996   \n",
       "2014   16.383112  17.449321  14.660296  12.102985  11.753354   8.105108   \n",
       "2015   15.469984  18.077538  13.272370  12.215959  11.804094   7.392205   \n",
       "2016   14.689129  16.321520  12.641763  10.611146  11.333316   7.509258   \n",
       "2017   14.367545  17.421942  11.152021  12.142305  10.798235   9.581403   \n",
       "2018   11.254147  21.212086  13.575823  11.548364  10.566025   7.480182   \n",
       "2019   13.672235  21.584504  12.255686   8.105634  10.894487   4.997040   \n",
       "2020   13.998650  22.854909  14.942274  14.585685  14.713730  12.195227   \n",
       "2021   11.446704  20.795798  15.107248  13.658519  14.152310  13.701161   \n",
       "2022   11.712673  21.566225  10.026272  13.801662  11.885961  10.768861   \n",
       "2023   10.838755  19.228313   8.816277  14.989986  12.138906   8.299743   \n",
       "2024   12.610009  19.608925  13.165344  13.719843  12.317259   9.430356   \n",
       "\n",
       "sex                                                           ...  \\\n",
       "state Connecticut   Delaware District of Columbia    Florida  ...   \n",
       "YEAR                                                          ...   \n",
       "1990     9.112945  10.004748            12.339956   9.604940  ...   \n",
       "1991     8.094354  13.335176            16.793386  10.194651  ...   \n",
       "1992    12.344283   8.705180            18.748204  10.899828  ...   \n",
       "1993     6.910364  10.468923            21.047283  10.288782  ...   \n",
       "1994     6.684156   8.525706            17.346486  11.951006  ...   \n",
       "1995     7.908366  10.757934            18.863394  11.679286  ...   \n",
       "1996     8.352465  11.013097            16.893991  10.676622  ...   \n",
       "1997    10.723387   7.900764            18.669108   9.628984  ...   \n",
       "1998    10.929228   9.015923            19.117288   8.321830  ...   \n",
       "1999     9.957125   9.568248            13.592445   8.413869  ...   \n",
       "2000     7.154726   9.133627            14.753425   8.992537  ...   \n",
       "2001     7.466993  11.704323            16.404364  10.156836  ...   \n",
       "2002     8.590988   9.361183            14.101565  11.538290  ...   \n",
       "2003    10.141778   8.192819            12.559157  10.279705  ...   \n",
       "2004    11.255281   9.387998            19.267151   7.705668  ...   \n",
       "2005    10.422233   8.326446            15.269876  10.559398  ...   \n",
       "2006     7.427668   8.344757            11.908141   9.182179  ...   \n",
       "2007     7.161949   7.777502            13.305192  10.274474  ...   \n",
       "2008    10.548331   9.578808            11.659020  12.952061  ...   \n",
       "2009    10.139862  14.244234            17.595772  15.050684  ...   \n",
       "2010    11.467548  16.423747            22.815451  16.318242  ...   \n",
       "2011    12.277054  12.718259            16.749719  15.760792  ...   \n",
       "2012    12.652353  16.235324            12.889952  14.719744  ...   \n",
       "2013     9.320284  16.547712            19.417299  14.272457  ...   \n",
       "2014    10.751065  17.598876            18.554804  14.047104  ...   \n",
       "2015    10.705590  15.107435            17.444229  12.310606  ...   \n",
       "2016     9.529228   9.747132            15.581947  13.836884  ...   \n",
       "2017    10.921499  10.848743            17.595980  11.286507  ...   \n",
       "2018    13.307205   8.472576            16.982752  12.026086  ...   \n",
       "2019    14.882949  10.305248            14.859167  11.911695  ...   \n",
       "2020    14.471871  17.471899            17.571091  15.835550  ...   \n",
       "2021    12.219046  12.429870            17.326258  11.678558  ...   \n",
       "2022    17.094353  10.381478            10.516758  12.962007  ...   \n",
       "2023    13.425299   8.248692            10.662830  11.509567  ...   \n",
       "2024    11.264822  10.129304            11.259069  11.459280  ...   \n",
       "\n",
       "sex          women                                                         \\\n",
       "state South Dakota  Tennessee      Texas       Utah    Vermont   Virginia   \n",
       "YEAR                                                                        \n",
       "1990     11.378314  21.614681  21.539057  15.071003  14.243732  12.599972   \n",
       "1991     14.267746  22.657062  22.346719  12.486357  13.926093  16.748431   \n",
       "1992     11.679153  20.090656  22.012445  14.518012  10.817444  17.184255   \n",
       "1993     10.286613  24.544091  20.322224   9.672224  13.677609  14.513299   \n",
       "1994      9.783449  18.214721  21.100333  12.849798  13.691108  13.983891   \n",
       "1995     10.343264  20.931518  22.060431  13.488495  10.002356  14.371940   \n",
       "1996      9.552327  23.846975  20.398258  13.725827   9.644935  12.742118   \n",
       "1997      9.191642  17.849400  19.926939  12.339494  11.148554  13.403425   \n",
       "1998      8.147759  17.235852  20.211256  11.536370   9.553135  13.170305   \n",
       "1999      9.381097  13.238876  18.946305  12.646978  10.267651  11.516120   \n",
       "2000     10.626957  15.553171  20.049621  11.130206   8.255283  11.194522   \n",
       "2001     10.652147  17.893356  20.054805  15.442360  11.943159  13.317104   \n",
       "2002     10.406193  18.737391  18.972785  14.293623  12.057691  14.493025   \n",
       "2003      7.772388  18.465362  20.174316  11.163524  11.138861  12.900073   \n",
       "2004     10.170229  18.159871  20.525442  13.571297   8.232015  13.056785   \n",
       "2005     11.218881  17.539213  20.172238  14.284239  10.022017  10.900477   \n",
       "2006     10.178058  13.663794  19.239574  14.322917   9.565233  12.671085   \n",
       "2007     10.162275  19.111141  18.114773  15.067584   9.436505  15.156361   \n",
       "2008     12.103898  20.132299  18.770691  14.551847   9.758853  12.333187   \n",
       "2009     13.426448  19.965928  20.125952  19.072773   8.146649  10.498150   \n",
       "2010     14.244987  20.125362  19.746709  17.193426  11.495159  12.729705   \n",
       "2011     15.387978  17.567744  19.059446  14.287004  11.749946  10.304951   \n",
       "2012     14.581429  13.528412  19.013600  12.158849  11.351163  15.595050   \n",
       "2013     12.806865  20.908903  19.865536  12.677991  13.067370  15.797477   \n",
       "2014     14.089123  20.232915  17.704949  13.800564  12.850437  12.606632   \n",
       "2015     13.348575  17.992722  15.677083  14.524759  12.633221  10.585940   \n",
       "2016     14.035711  17.521438  15.850438  11.990750   6.474685  12.421850   \n",
       "2017     15.147345  16.170430  16.085612  12.333958   9.858344  10.482520   \n",
       "2018     11.061535  14.479468  13.461790  11.573475  11.589516   9.308459   \n",
       "2019     11.611675  12.668451  13.899570  11.236692   8.501244   8.188353   \n",
       "2020     12.101561  15.707826  17.356022  11.359967   9.380158  12.215416   \n",
       "2021     10.602734  15.337559  15.506192   9.056662  11.036242  13.756439   \n",
       "2022      6.643551  16.702056  13.367635  13.960753   8.908614  12.862744   \n",
       "2023      6.983600  12.538197  13.290206  12.673589   9.426541  14.739772   \n",
       "2024      9.664270  16.116710  13.527146   9.235609   6.770410  12.322998   \n",
       "\n",
       "sex                                                   \n",
       "state Washington West Virginia  Wisconsin    Wyoming  \n",
       "YEAR                                                  \n",
       "1990   17.098819     28.250846   8.481596  16.616566  \n",
       "1991   18.266510     31.528908  11.336364  18.468111  \n",
       "1992   16.229321     30.541229  11.087206  15.090170  \n",
       "1993   17.061825     31.178731  10.266209  14.711009  \n",
       "1994   18.238544     28.842993  11.770656  19.527381  \n",
       "1995   18.879716     25.306337  10.225357  15.658386  \n",
       "1996   18.578542     21.935146   7.651578  14.713319  \n",
       "1997   17.242176     20.336519   7.206106  16.268701  \n",
       "1998   15.019358     20.046147   5.879988  15.409041  \n",
       "1999   14.016034     21.768976   7.420473  12.233364  \n",
       "2000   13.581109     18.902850   8.446963  14.075357  \n",
       "2001   14.009338     24.122787   8.891977  12.816998  \n",
       "2002   16.685214     23.752643   8.887580  13.674372  \n",
       "2003   16.092674     23.532737  11.296946  13.846943  \n",
       "2004   17.325155     17.198634   8.095940  14.959380  \n",
       "2005   14.226419     17.077599   9.470529  15.853574  \n",
       "2006   13.179793     20.294563  10.874795  14.882190  \n",
       "2007   14.527375     15.481671   9.920586  13.300369  \n",
       "2008   14.983759     13.414735   8.470306  16.088890  \n",
       "2009   16.927613     20.518541   8.815009  11.959619  \n",
       "2010   17.046022     21.334771   8.536311  15.529972  \n",
       "2011   14.743881     27.604119   8.885243  17.465261  \n",
       "2012   13.835505     23.173188   9.602454  16.281534  \n",
       "2013   16.415235     22.238768  11.649704  16.655879  \n",
       "2014   17.410402     20.628484  11.368167  17.684512  \n",
       "2015   12.700159     20.909341   9.972613  13.590663  \n",
       "2016   13.818787     20.669081   7.494526  11.637038  \n",
       "2017   13.829317     18.462576   7.044849  13.384128  \n",
       "2018   14.890296     18.254611   6.865415  14.090291  \n",
       "2019   13.400976     15.054640   8.513454  15.745701  \n",
       "2020   17.868732     16.891520  10.797389  16.966958  \n",
       "2021   13.891944     16.378420   9.600779  14.068754  \n",
       "2022   11.790409     14.146748  10.032545  14.088849  \n",
       "2023   14.937802     14.057465   7.637122  12.524407  \n",
       "2024   12.836783     15.026368   5.778135  14.734043  \n",
       "\n",
       "[35 rows x 102 columns]"
      ]
     },
     "execution_count": 35,
     "metadata": {},
     "output_type": "execute_result"
    }
   ],
   "source": [
    "states = get_neet(groupings=['YEAR', 'state', 'sex', 'NEET']).unstack().unstack()\n",
    "states"
   ]
  },
  {
   "cell_type": "code",
   "execution_count": 36,
   "id": "f7d6b14f",
   "metadata": {},
   "outputs": [
    {
     "data": {
      "application/vnd.plotly.v1+json": {
       "config": {
        "plotlyServerURL": "https://plotly.com"
       },
       "data": [
        {
         "line": {
          "color": "skyblue",
          "width": 3
         },
         "mode": "lines+markers",
         "name": "Men",
         "type": "scatter",
         "x": {
          "bdata": "xgfHB8gHyQfKB8sHzAfNB84HzwfQB9EH0gfTB9QH1QfWB9cH2AfZB9oH2wfcB90H3gffB+AH4QfiB+MH5AflB+YH5wfoBw==",
          "dtype": "i2"
         },
         "xaxis": "x",
         "y": {
          "bdata": "4XoUrkdhJUBmZmZmZuYmQK5H4XoULipASOF6FK7HKUDD9Shcj0InQDMzMzMzsyZArkfhehSuJUBxPQrXo/AkQHE9CtejcCVACtejcD2KI0DsUbgehWshQHsUrkfheiNAexSuR+F6JkDD9Shcj8IkQFK4HoXrUSVAhetRuB4FI0Bcj8L1KFwjQOF6FK5H4SNAFK5H4XqUKEDNzMzMzMwtQOxRuB6F6y1AZmZmZmbmKkAUrkfhepQrQMP1KFyPQitAAAAAAACAJ0CamZmZmZknQClcj8L1qCZAmpmZmZmZJUCkcD0K1yMlQEjhehSuxyVA7FG4HoVrLUDNzMzMzEwsQEjhehSuxydASOF6FK5HKECkcD0K16MoQA==",
          "dtype": "f8"
         },
         "yaxis": "y"
        },
        {
         "line": {
          "color": "pink",
          "width": 3
         },
         "mode": "lines+markers",
         "name": "Women",
         "type": "scatter",
         "x": {
          "bdata": "xgfHB8gHyQfKB8sHzAfNB84HzwfQB9EH0gfTB9QH1QfWB9cH2AfZB9oH2wfcB90H3gffB+AH4QfiB+MH5AflB+YH5wfoBw==",
          "dtype": "i2"
         },
         "xaxis": "x",
         "y": {
          "bdata": "pHA9CtfjNUA9CtejcL03QGZmZmZm5jhAZmZmZmZmN0BxPQrXozA2QMP1KFyPwjVApHA9CtfjM0CF61G4HoUwQGZmZmZmJjJApHA9CtdjMUApXI/C9SgwQDMzMzMzsyxAZmZmZmbmLUCkcD0K16MtQK5H4XoUrixA9ihcj8J1LUAK16NwPQovQB+F61G4HitAzczMzMxMLUBmZmZmZmYvQNejcD0KVzBAcT0K16MwMEDXo3A9ChcwQAAAAAAAAC9ApHA9CtcjLUB7FK5H4foqQGZmZmZm5idAhetRuB6FJUBxPQrXo3AoQHE9CtejcCZAUrgehetRMEDXo3A9ClcrQDMzMzMzsylAmpmZmZkZLEDsUbgehespQA==",
          "dtype": "f8"
         },
         "yaxis": "y"
        },
        {
         "line": {
          "color": "skyblue",
          "width": 3
         },
         "mode": "lines+markers",
         "name": "Men",
         "type": "scatter",
         "x": {
          "bdata": "xgfHB8gHyQfKB8sHzAfNB84HzwfQB9EH0gfTB9QH1QfWB9cH2AfZB9oH2wfcB90H3gffB+AH4QfiB+MH5AflB+YH5wfoBw==",
          "dtype": "i2"
         },
         "xaxis": "x2",
         "y": {
          "bdata": "H4XrUbieJUBmZmZmZmYsQI/C9ShcjytAH4XrUbieKkA9CtejcL0oQAAAAAAAgCdAuB6F61G4K0CPwvUoXI8rQLgehetROClAcT0K16NwKUAAAAAAAAAmQKRwPQrXoydAKVyPwvUoLECamZmZmZktQPYoXI/CdSdAexSuR+F6KEDNzMzMzMwqQHsUrkfh+itAPQrXo3A9KkAzMzMzM7MuQBSuR+F6FDBA9ihcj8I1MEAUrkfhepQsQMP1KFyPwi1ApHA9CtejLEDhehSuR+ErQClcj8L1qChArkfhehSuJ0Bcj8L1KFwnQOxRuB6F6yhA9ihcj8L1LkCuR+F6FK4rQLgehetRuCtAH4XrUbgeLUDXo3A9CtcrQA==",
          "dtype": "f8"
         },
         "yaxis": "y2"
        },
        {
         "line": {
          "color": "pink",
          "width": 3
         },
         "mode": "lines+markers",
         "name": "Women",
         "type": "scatter",
         "x": {
          "bdata": "xgfHB8gHyQfKB8sHzAfNB84HzwfQB9EH0gfTB9QH1QfWB9cH2AfZB9oH2wfcB90H3gffB+AH4QfiB+MH5AflB+YH5wfoBw==",
          "dtype": "i2"
         },
         "xaxis": "x2",
         "y": {
          "bdata": "pHA9CtejMkA9CtejcL0zQMP1KFyPAjNA16NwPQqXMUBxPQrXo/AyQD0K16NwPTNAZmZmZmbmMkDNzMzMzAwxQArXo3A9Ci9AAAAAAACALUDNzMzMzEwsQDMzMzMzMytApHA9CtcjKkCF61G4HgUqQKRwPQrXoytAMzMzMzOzKUBmZmZmZuYpQOF6FK5H4ShAuB6F61G4KUC4HoXrUTgrQOxRuB6Fay1A16NwPQpXKkCuR+F6FK4sQEjhehSuxytA7FG4HoXrKkC4HoXrUbgrQFyPwvUoXCdA4XoUrkfhJ0BSuB6F69EoQOF6FK5HYShAAAAAAACALkCF61G4HgUrQI/C9ShcDylAXI/C9SjcJ0CamZmZmZkpQA==",
          "dtype": "f8"
         },
         "yaxis": "y2"
        },
        {
         "line": {
          "color": "skyblue",
          "width": 3
         },
         "mode": "lines+markers",
         "name": "Men",
         "type": "scatter",
         "x": {
          "bdata": "xgfHB8gHyQfKB8sHzAfNB84HzwfQB9EH0gfTB9QH1QfWB9cH2AfZB9oH2wfcB90H3gffB+AH4QfiB+MH5AflB+YH5wfoBw==",
          "dtype": "i2"
         },
         "xaxis": "x3",
         "y": {
          "bdata": "7FG4HoXrLkB7FK5H4fowQFK4HoXrUTZA9ihcj8I1NkAK16NwPQo0QKRwPQrXIzJAXI/C9SjcMEAAAAAAAIAsQB+F61G4ni1AAAAAAACALkBcj8L1KNwvQHE9CtejcDFAhetRuB4FMkDD9Shcj8IxQNejcD0KVy1AuB6F61F4MkAfhetRuB4xQOF6FK5H4StAhetRuB4FK0CF61G4HoUyQB+F61G4XjVAw/UoXI/CM0DNzMzMzAwwQK5H4XoU7jRAw/UoXI9CMUCF61G4HoUyQHsUrkfhejFACtejcD2KK0BI4XoUrgcwQM3MzMzMTDBAUrgehevRL0BxPQrXo/AvQLgehetRuCxAZmZmZmZmLECF61G4HgUwQA==",
          "dtype": "f8"
         },
         "yaxis": "y3"
        },
        {
         "line": {
          "color": "pink",
          "width": 3
         },
         "mode": "lines+markers",
         "name": "Women",
         "type": "scatter",
         "x": {
          "bdata": "xgfHB8gHyQfKB8sHzAfNB84HzwfQB9EH0gfTB9QH1QfWB9cH2AfZB9oH2wfcB90H3gffB+AH4QfiB+MH5AflB+YH5wfoBw==",
          "dtype": "i2"
         },
         "xaxis": "x3",
         "y": {
          "bdata": "AAAAAABAPEBI4XoUroc/QArXo3A9ij5ArkfhehQuP0DXo3A9Ctc8QI/C9ShcTzlAcT0K16PwNUDXo3A9Clc0QM3MzMzMDDRAhetRuB7FNUBmZmZmZuYyQB+F61G4HjhAAAAAAADAN0BI4XoUroc3QDMzMzMzMzFAFK5H4XoUMUAK16NwPUo0QPYoXI/C9S5AUrgehevRKkCF61G4HoU0QBSuR+F6VDVAmpmZmZmZO0DsUbgehSs3QD0K16NwPTZA4XoUrkehNEApXI/C9eg0QOxRuB6FqzRA9ihcj8J1MkAAAAAAAEAyQJqZmZmZGS5ApHA9CtfjMEDhehSuR2EwQM3MzMzMTCxAH4XrUbgeLECPwvUoXA8uQA==",
          "dtype": "f8"
         },
         "yaxis": "y3"
        },
        {
         "line": {
          "color": "skyblue",
          "width": 3
         },
         "mode": "lines+markers",
         "name": "Men",
         "type": "scatter",
         "x": {
          "bdata": "xgfHB8gHyQfKB8sHzAfNB84HzwfQB9EH0gfTB9QH1QfWB9cH2AfZB9oH2wfcB90H3gffB+AH4QfiB+MH5AflB+YH5wfoBw==",
          "dtype": "i2"
         },
         "xaxis": "x4",
         "y": {
          "bdata": "CtejcD0KKkD2KFyPwvUpQGZmZmZm5ipA7FG4HoVrK0AAAAAAAAAnQB+F61G4HidAuB6F61F4MUD2KFyPwvUnQHsUrkfhei5AmpmZmZkZJkB7FK5H4XouQOxRuB6Fay5A4XoUrkdhMUBI4XoUrkcxQHsUrkfhei1A7FG4HoVrK0AzMzMzMzMrQDMzMzMzMytAZmZmZmbmMEC4HoXrUTguQEjhehSuxzBAhetRuB4FMUC4HoXrUTgvQAAAAAAAACpAMzMzMzNzMUAUrkfhehQyQFK4HoXrUTBA7FG4HoVrMUD2KFyPwjU1QBSuR+F6lDVAmpmZmZnZNkDNzMzMzMw0QFK4HoXrkTVAexSuR+E6M0Bcj8L1KJwzQA==",
          "dtype": "f8"
         },
         "yaxis": "y4"
        },
        {
         "line": {
          "color": "pink",
          "width": 3
         },
         "mode": "lines+markers",
         "name": "Women",
         "type": "scatter",
         "x": {
          "bdata": "xgfHB8gHyQfKB8sHzAfNB84HzwfQB9EH0gfTB9QH1QfWB9cH2AfZB9oH2wfcB90H3gffB+AH4QfiB+MH5AflB+YH5wfoBw==",
          "dtype": "i2"
         },
         "xaxis": "x4",
         "y": {
          "bdata": "AAAAAAAANkAzMzMzM7M5QLgehetR+DZApHA9CtcjNkBI4XoUrgc3QI/C9ShcTzRA16NwPQrXNkDNzMzMzMwxQBSuR+F6lCtAhetRuB7FMEDNzMzMzEwvQBSuR+F61DNAj8L1KFwPNkBSuB6F65EyQOF6FK5HITJAhetRuB6FMUB7FK5H4fonQJqZmZmZWTFAH4XrUbgeM0CuR+F6FG4wQIXrUbgehTJAZmZmZmbmKkBmZmZmZmYvQIXrUbgehTBAcT0K16MwM0BmZmZmZmY2QFyPwvUoHDFAexSuR+F6NEAUrkfhehQyQNejcD0KVy1ArkfhehSuMUApXI/C9agvQHE9CtejsDJAMzMzMzNzMUBcj8L1KFwwQA==",
          "dtype": "f8"
         },
         "yaxis": "y4"
        }
       ],
       "layout": {
        "annotations": [
         {
          "font": {
           "size": 16
          },
          "showarrow": false,
          "text": "California",
          "x": 0.225,
          "xanchor": "center",
          "xref": "paper",
          "y": 1,
          "yanchor": "bottom",
          "yref": "paper"
         },
         {
          "font": {
           "size": 16
          },
          "showarrow": false,
          "text": "New York",
          "x": 0.775,
          "xanchor": "center",
          "xref": "paper",
          "y": 1,
          "yanchor": "bottom",
          "yref": "paper"
         },
         {
          "font": {
           "size": 16
          },
          "showarrow": false,
          "text": "West Virginia",
          "x": 0.225,
          "xanchor": "center",
          "xref": "paper",
          "y": 0.375,
          "yanchor": "bottom",
          "yref": "paper"
         },
         {
          "font": {
           "size": 16
          },
          "showarrow": false,
          "text": "Alaska",
          "x": 0.775,
          "xanchor": "center",
          "xref": "paper",
          "y": 0.375,
          "yanchor": "bottom",
          "yref": "paper"
         }
        ],
        "font": {
         "family": "Georgia, serif"
        },
        "height": 500,
        "margin": {
         "b": 20,
         "l": 20,
         "pad": 0,
         "r": 20,
         "t": 100
        },
        "showlegend": false,
        "template": {
         "data": {
          "bar": [
           {
            "error_x": {
             "color": "#2a3f5f"
            },
            "error_y": {
             "color": "#2a3f5f"
            },
            "marker": {
             "line": {
              "color": "white",
              "width": 0.5
             },
             "pattern": {
              "fillmode": "overlay",
              "size": 10,
              "solidity": 0.2
             }
            },
            "type": "bar"
           }
          ],
          "barpolar": [
           {
            "marker": {
             "line": {
              "color": "white",
              "width": 0.5
             },
             "pattern": {
              "fillmode": "overlay",
              "size": 10,
              "solidity": 0.2
             }
            },
            "type": "barpolar"
           }
          ],
          "carpet": [
           {
            "aaxis": {
             "endlinecolor": "#2a3f5f",
             "gridcolor": "#C8D4E3",
             "linecolor": "#C8D4E3",
             "minorgridcolor": "#C8D4E3",
             "startlinecolor": "#2a3f5f"
            },
            "baxis": {
             "endlinecolor": "#2a3f5f",
             "gridcolor": "#C8D4E3",
             "linecolor": "#C8D4E3",
             "minorgridcolor": "#C8D4E3",
             "startlinecolor": "#2a3f5f"
            },
            "type": "carpet"
           }
          ],
          "choropleth": [
           {
            "colorbar": {
             "outlinewidth": 0,
             "ticks": ""
            },
            "type": "choropleth"
           }
          ],
          "contour": [
           {
            "colorbar": {
             "outlinewidth": 0,
             "ticks": ""
            },
            "colorscale": [
             [
              0,
              "#0d0887"
             ],
             [
              0.1111111111111111,
              "#46039f"
             ],
             [
              0.2222222222222222,
              "#7201a8"
             ],
             [
              0.3333333333333333,
              "#9c179e"
             ],
             [
              0.4444444444444444,
              "#bd3786"
             ],
             [
              0.5555555555555556,
              "#d8576b"
             ],
             [
              0.6666666666666666,
              "#ed7953"
             ],
             [
              0.7777777777777778,
              "#fb9f3a"
             ],
             [
              0.8888888888888888,
              "#fdca26"
             ],
             [
              1,
              "#f0f921"
             ]
            ],
            "type": "contour"
           }
          ],
          "contourcarpet": [
           {
            "colorbar": {
             "outlinewidth": 0,
             "ticks": ""
            },
            "type": "contourcarpet"
           }
          ],
          "heatmap": [
           {
            "colorbar": {
             "outlinewidth": 0,
             "ticks": ""
            },
            "colorscale": [
             [
              0,
              "#0d0887"
             ],
             [
              0.1111111111111111,
              "#46039f"
             ],
             [
              0.2222222222222222,
              "#7201a8"
             ],
             [
              0.3333333333333333,
              "#9c179e"
             ],
             [
              0.4444444444444444,
              "#bd3786"
             ],
             [
              0.5555555555555556,
              "#d8576b"
             ],
             [
              0.6666666666666666,
              "#ed7953"
             ],
             [
              0.7777777777777778,
              "#fb9f3a"
             ],
             [
              0.8888888888888888,
              "#fdca26"
             ],
             [
              1,
              "#f0f921"
             ]
            ],
            "type": "heatmap"
           }
          ],
          "histogram": [
           {
            "marker": {
             "pattern": {
              "fillmode": "overlay",
              "size": 10,
              "solidity": 0.2
             }
            },
            "type": "histogram"
           }
          ],
          "histogram2d": [
           {
            "colorbar": {
             "outlinewidth": 0,
             "ticks": ""
            },
            "colorscale": [
             [
              0,
              "#0d0887"
             ],
             [
              0.1111111111111111,
              "#46039f"
             ],
             [
              0.2222222222222222,
              "#7201a8"
             ],
             [
              0.3333333333333333,
              "#9c179e"
             ],
             [
              0.4444444444444444,
              "#bd3786"
             ],
             [
              0.5555555555555556,
              "#d8576b"
             ],
             [
              0.6666666666666666,
              "#ed7953"
             ],
             [
              0.7777777777777778,
              "#fb9f3a"
             ],
             [
              0.8888888888888888,
              "#fdca26"
             ],
             [
              1,
              "#f0f921"
             ]
            ],
            "type": "histogram2d"
           }
          ],
          "histogram2dcontour": [
           {
            "colorbar": {
             "outlinewidth": 0,
             "ticks": ""
            },
            "colorscale": [
             [
              0,
              "#0d0887"
             ],
             [
              0.1111111111111111,
              "#46039f"
             ],
             [
              0.2222222222222222,
              "#7201a8"
             ],
             [
              0.3333333333333333,
              "#9c179e"
             ],
             [
              0.4444444444444444,
              "#bd3786"
             ],
             [
              0.5555555555555556,
              "#d8576b"
             ],
             [
              0.6666666666666666,
              "#ed7953"
             ],
             [
              0.7777777777777778,
              "#fb9f3a"
             ],
             [
              0.8888888888888888,
              "#fdca26"
             ],
             [
              1,
              "#f0f921"
             ]
            ],
            "type": "histogram2dcontour"
           }
          ],
          "mesh3d": [
           {
            "colorbar": {
             "outlinewidth": 0,
             "ticks": ""
            },
            "type": "mesh3d"
           }
          ],
          "parcoords": [
           {
            "line": {
             "colorbar": {
              "outlinewidth": 0,
              "ticks": ""
             }
            },
            "type": "parcoords"
           }
          ],
          "pie": [
           {
            "automargin": true,
            "type": "pie"
           }
          ],
          "scatter": [
           {
            "fillpattern": {
             "fillmode": "overlay",
             "size": 10,
             "solidity": 0.2
            },
            "type": "scatter"
           }
          ],
          "scatter3d": [
           {
            "line": {
             "colorbar": {
              "outlinewidth": 0,
              "ticks": ""
             }
            },
            "marker": {
             "colorbar": {
              "outlinewidth": 0,
              "ticks": ""
             }
            },
            "type": "scatter3d"
           }
          ],
          "scattercarpet": [
           {
            "marker": {
             "colorbar": {
              "outlinewidth": 0,
              "ticks": ""
             }
            },
            "type": "scattercarpet"
           }
          ],
          "scattergeo": [
           {
            "marker": {
             "colorbar": {
              "outlinewidth": 0,
              "ticks": ""
             }
            },
            "type": "scattergeo"
           }
          ],
          "scattergl": [
           {
            "marker": {
             "colorbar": {
              "outlinewidth": 0,
              "ticks": ""
             }
            },
            "type": "scattergl"
           }
          ],
          "scattermap": [
           {
            "marker": {
             "colorbar": {
              "outlinewidth": 0,
              "ticks": ""
             }
            },
            "type": "scattermap"
           }
          ],
          "scattermapbox": [
           {
            "marker": {
             "colorbar": {
              "outlinewidth": 0,
              "ticks": ""
             }
            },
            "type": "scattermapbox"
           }
          ],
          "scatterpolar": [
           {
            "marker": {
             "colorbar": {
              "outlinewidth": 0,
              "ticks": ""
             }
            },
            "type": "scatterpolar"
           }
          ],
          "scatterpolargl": [
           {
            "marker": {
             "colorbar": {
              "outlinewidth": 0,
              "ticks": ""
             }
            },
            "type": "scatterpolargl"
           }
          ],
          "scatterternary": [
           {
            "marker": {
             "colorbar": {
              "outlinewidth": 0,
              "ticks": ""
             }
            },
            "type": "scatterternary"
           }
          ],
          "surface": [
           {
            "colorbar": {
             "outlinewidth": 0,
             "ticks": ""
            },
            "colorscale": [
             [
              0,
              "#0d0887"
             ],
             [
              0.1111111111111111,
              "#46039f"
             ],
             [
              0.2222222222222222,
              "#7201a8"
             ],
             [
              0.3333333333333333,
              "#9c179e"
             ],
             [
              0.4444444444444444,
              "#bd3786"
             ],
             [
              0.5555555555555556,
              "#d8576b"
             ],
             [
              0.6666666666666666,
              "#ed7953"
             ],
             [
              0.7777777777777778,
              "#fb9f3a"
             ],
             [
              0.8888888888888888,
              "#fdca26"
             ],
             [
              1,
              "#f0f921"
             ]
            ],
            "type": "surface"
           }
          ],
          "table": [
           {
            "cells": {
             "fill": {
              "color": "#EBF0F8"
             },
             "line": {
              "color": "white"
             }
            },
            "header": {
             "fill": {
              "color": "#C8D4E3"
             },
             "line": {
              "color": "white"
             }
            },
            "type": "table"
           }
          ]
         },
         "layout": {
          "annotationdefaults": {
           "arrowcolor": "#2a3f5f",
           "arrowhead": 0,
           "arrowwidth": 1
          },
          "autotypenumbers": "strict",
          "coloraxis": {
           "colorbar": {
            "outlinewidth": 0,
            "ticks": ""
           }
          },
          "colorscale": {
           "diverging": [
            [
             0,
             "#8e0152"
            ],
            [
             0.1,
             "#c51b7d"
            ],
            [
             0.2,
             "#de77ae"
            ],
            [
             0.3,
             "#f1b6da"
            ],
            [
             0.4,
             "#fde0ef"
            ],
            [
             0.5,
             "#f7f7f7"
            ],
            [
             0.6,
             "#e6f5d0"
            ],
            [
             0.7,
             "#b8e186"
            ],
            [
             0.8,
             "#7fbc41"
            ],
            [
             0.9,
             "#4d9221"
            ],
            [
             1,
             "#276419"
            ]
           ],
           "sequential": [
            [
             0,
             "#0d0887"
            ],
            [
             0.1111111111111111,
             "#46039f"
            ],
            [
             0.2222222222222222,
             "#7201a8"
            ],
            [
             0.3333333333333333,
             "#9c179e"
            ],
            [
             0.4444444444444444,
             "#bd3786"
            ],
            [
             0.5555555555555556,
             "#d8576b"
            ],
            [
             0.6666666666666666,
             "#ed7953"
            ],
            [
             0.7777777777777778,
             "#fb9f3a"
            ],
            [
             0.8888888888888888,
             "#fdca26"
            ],
            [
             1,
             "#f0f921"
            ]
           ],
           "sequentialminus": [
            [
             0,
             "#0d0887"
            ],
            [
             0.1111111111111111,
             "#46039f"
            ],
            [
             0.2222222222222222,
             "#7201a8"
            ],
            [
             0.3333333333333333,
             "#9c179e"
            ],
            [
             0.4444444444444444,
             "#bd3786"
            ],
            [
             0.5555555555555556,
             "#d8576b"
            ],
            [
             0.6666666666666666,
             "#ed7953"
            ],
            [
             0.7777777777777778,
             "#fb9f3a"
            ],
            [
             0.8888888888888888,
             "#fdca26"
            ],
            [
             1,
             "#f0f921"
            ]
           ]
          },
          "colorway": [
           "#636efa",
           "#EF553B",
           "#00cc96",
           "#ab63fa",
           "#FFA15A",
           "#19d3f3",
           "#FF6692",
           "#B6E880",
           "#FF97FF",
           "#FECB52"
          ],
          "font": {
           "color": "#2a3f5f"
          },
          "geo": {
           "bgcolor": "white",
           "lakecolor": "white",
           "landcolor": "white",
           "showlakes": true,
           "showland": true,
           "subunitcolor": "#C8D4E3"
          },
          "hoverlabel": {
           "align": "left"
          },
          "hovermode": "closest",
          "mapbox": {
           "style": "light"
          },
          "paper_bgcolor": "white",
          "plot_bgcolor": "white",
          "polar": {
           "angularaxis": {
            "gridcolor": "#EBF0F8",
            "linecolor": "#EBF0F8",
            "ticks": ""
           },
           "bgcolor": "white",
           "radialaxis": {
            "gridcolor": "#EBF0F8",
            "linecolor": "#EBF0F8",
            "ticks": ""
           }
          },
          "scene": {
           "xaxis": {
            "backgroundcolor": "white",
            "gridcolor": "#DFE8F3",
            "gridwidth": 2,
            "linecolor": "#EBF0F8",
            "showbackground": true,
            "ticks": "",
            "zerolinecolor": "#EBF0F8"
           },
           "yaxis": {
            "backgroundcolor": "white",
            "gridcolor": "#DFE8F3",
            "gridwidth": 2,
            "linecolor": "#EBF0F8",
            "showbackground": true,
            "ticks": "",
            "zerolinecolor": "#EBF0F8"
           },
           "zaxis": {
            "backgroundcolor": "white",
            "gridcolor": "#DFE8F3",
            "gridwidth": 2,
            "linecolor": "#EBF0F8",
            "showbackground": true,
            "ticks": "",
            "zerolinecolor": "#EBF0F8"
           }
          },
          "shapedefaults": {
           "line": {
            "color": "#2a3f5f"
           }
          },
          "ternary": {
           "aaxis": {
            "gridcolor": "#DFE8F3",
            "linecolor": "#A2B1C6",
            "ticks": ""
           },
           "baxis": {
            "gridcolor": "#DFE8F3",
            "linecolor": "#A2B1C6",
            "ticks": ""
           },
           "bgcolor": "white",
           "caxis": {
            "gridcolor": "#DFE8F3",
            "linecolor": "#A2B1C6",
            "ticks": ""
           }
          },
          "title": {
           "x": 0.05
          },
          "xaxis": {
           "automargin": true,
           "gridcolor": "#EBF0F8",
           "linecolor": "#EBF0F8",
           "ticks": "",
           "title": {
            "standoff": 15
           },
           "zerolinecolor": "#EBF0F8",
           "zerolinewidth": 2
          },
          "yaxis": {
           "automargin": true,
           "gridcolor": "#EBF0F8",
           "linecolor": "#EBF0F8",
           "ticks": "",
           "title": {
            "standoff": 15
           },
           "zerolinecolor": "#EBF0F8",
           "zerolinewidth": 2
          }
         }
        },
        "title": {
         "subtitle": {
          "text": "(<b>excluding summer months</b>)"
         },
         "text": "<b>NEET rates for 16-24 y.o. by state (1990-2024)</b>"
        },
        "width": 750,
        "xaxis": {
         "anchor": "y",
         "domain": [
          0,
          0.45
         ]
        },
        "xaxis2": {
         "anchor": "y2",
         "domain": [
          0.55,
          1
         ]
        },
        "xaxis3": {
         "anchor": "y3",
         "domain": [
          0,
          0.45
         ]
        },
        "xaxis4": {
         "anchor": "y4",
         "domain": [
          0.55,
          1
         ]
        },
        "yaxis": {
         "anchor": "x",
         "domain": [
          0.625,
          1
         ],
         "range": [
          0,
          35
         ]
        },
        "yaxis2": {
         "anchor": "x2",
         "domain": [
          0.625,
          1
         ],
         "range": [
          0,
          35
         ]
        },
        "yaxis3": {
         "anchor": "x3",
         "domain": [
          0,
          0.375
         ],
         "range": [
          0,
          35
         ]
        },
        "yaxis4": {
         "anchor": "x4",
         "domain": [
          0,
          0.375
         ],
         "range": [
          0,
          35
         ]
        }
       }
      }
     },
     "metadata": {},
     "output_type": "display_data"
    }
   ],
   "source": [
    "# let's just plot a couple states\n",
    "from plotly.subplots import make_subplots\n",
    "states_and_coords = {'California': (1,1),'New York': (1,2),\n",
    "                     'West Virginia': (2,1),'Alaska': (2,2)}\n",
    "fig = make_subplots(rows=2,cols=2, subplot_titles=tuple(states_and_coords.keys()))\n",
    "for i in states_and_coords.keys():\n",
    "    fig.add_trace(go.Scatter(\n",
    "    x=states.index, y=states[('men', i)].round(2),\n",
    "    mode='lines+markers',\n",
    "    name='Men',\n",
    "    line={\n",
    "        'width': 3, 'color': 'skyblue'\n",
    "    }\n",
    "),\n",
    "row=states_and_coords[i][0],col=states_and_coords[i][1])\n",
    "    \n",
    "    fig.add_trace(go.Scatter(\n",
    "    x=states.index, y=states[('women', i)].round(2),\n",
    "    mode='lines+markers',\n",
    "    name='Women',\n",
    "    line={\n",
    "        'width': 3, 'color': 'pink'\n",
    "    }\n",
    "),\n",
    "row=states_and_coords[i][0],col=states_and_coords[i][1])\n",
    "fig.update_layout(\n",
    "    font={'family': 'Georgia, serif'},\n",
    "    title={'text': '<b>NEET rates for 16-24 y.o. by state (1990-2024)</b>',\n",
    "           'subtitle': {'text': '(<b>excluding summer months</b>)'}},\n",
    "    showlegend=False,\n",
    "    width=750, height=500,\n",
    "    template='plotly_white',\n",
    "    margin={'pad': 0, 'b': 20, 'l': 20, 'r': 20, 't': 100}\n",
    ")\n",
    "fig.update_yaxes(range=[0,35])\n",
    "fig.show()"
   ]
  },
  {
   "cell_type": "markdown",
   "id": "b13aa642",
   "metadata": {},
   "source": [
    "### 5. By NEET Status\n",
    "\n",
    "Here, we'll break down the male NEETs by those who are looking for work, and those who are not looking for work."
   ]
  },
  {
   "cell_type": "code",
   "execution_count": 54,
   "id": "de70f9b1",
   "metadata": {},
   "outputs": [
    {
     "data": {
      "application/vnd.microsoft.datawrangler.viewer.v0+json": {
       "columns": [
        {
         "name": "YEAR",
         "rawType": "Int64",
         "type": "integer"
        },
        {
         "name": "looking_rate",
         "rawType": "float64",
         "type": "float"
        },
        {
         "name": "not_looking_rate",
         "rawType": "float64",
         "type": "float"
        }
       ],
       "conversionMethod": "pd.DataFrame",
       "ref": "9412f63f-c825-483e-bff0-936ee1cafa67",
       "rows": [
        [
         "1990",
         "5.56108482436602",
         "4.456171606982902"
        ],
        [
         "1991",
         "6.602030726967807",
         "4.89996631315446"
        ],
        [
         "1992",
         "6.871596920783872",
         "4.647171656129529"
        ],
        [
         "1993",
         "6.232609558143344",
         "4.592440135225264"
        ],
        [
         "1994",
         "5.646683356389347",
         "5.048937166876823"
        ],
        [
         "1995",
         "5.328407889251276",
         "5.184318079937957"
        ],
        [
         "1996",
         "5.345382004418433",
         "5.079936077704973"
        ],
        [
         "1997",
         "4.847548223569884",
         "5.171746401817072"
        ],
        [
         "1998",
         "4.355442724354535",
         "5.010969133397894"
        ],
        [
         "1999",
         "4.25266267574565",
         "5.028326474436689"
        ],
        [
         "2000",
         "4.150154775274397",
         "5.0625981805432385"
        ],
        [
         "2001",
         "4.922967423160483",
         "5.408459798233878"
        ],
        [
         "2002",
         "5.518478971700127",
         "5.527899398177477"
        ],
        [
         "2003",
         "5.567336708607487",
         "5.626411614675473"
        ],
        [
         "2004",
         "5.080571048180874",
         "5.731510345621076"
        ],
        [
         "2005",
         "4.842078390740012",
         "5.941033422670563"
        ],
        [
         "2006",
         "4.554515606897224",
         "5.460004101649257"
        ],
        [
         "2007",
         "4.650596239078812",
         "5.713584171372163"
        ],
        [
         "2008",
         "5.618376888887136",
         "6.119643591838405"
        ],
        [
         "2009",
         "7.907269740980993",
         "6.5877905319219385"
        ],
        [
         "2010",
         "7.951684289057488",
         "6.950118827687386"
        ],
        [
         "2011",
         "6.998021555820065",
         "6.69799305285723"
        ],
        [
         "2012",
         "6.238486975351866",
         "6.814605518909866"
        ],
        [
         "2013",
         "6.255062585752927",
         "7.755314779177012"
        ],
        [
         "2014",
         "5.555610515065202",
         "7.474756968176951"
        ],
        [
         "2015",
         "4.780410235241612",
         "7.37319922055491"
        ],
        [
         "2016",
         "4.120987832620182",
         "7.645786744454741"
        ],
        [
         "2017",
         "3.816144114341201",
         "7.00552456033041"
        ],
        [
         "2018",
         "3.5518556447509155",
         "7.385450840784545"
        ],
        [
         "2019",
         "3.6411929281252746",
         "7.197951662994807"
        ],
        [
         "2020",
         "5.247173070952333",
         "9.10122219057341"
        ],
        [
         "2021",
         "4.295364203002461",
         "8.688863095437691"
        ],
        [
         "2022",
         "3.520830039267988",
         "8.263244082101497"
        ],
        [
         "2023",
         "3.4280165513935796",
         "8.132885408731324"
        ],
        [
         "2024",
         "3.592282126411101",
         "8.4595491680241"
        ]
       ],
       "shape": {
        "columns": 2,
        "rows": 35
       }
      },
      "text/html": [
       "<div>\n",
       "<style scoped>\n",
       "    .dataframe tbody tr th:only-of-type {\n",
       "        vertical-align: middle;\n",
       "    }\n",
       "\n",
       "    .dataframe tbody tr th {\n",
       "        vertical-align: top;\n",
       "    }\n",
       "\n",
       "    .dataframe thead th {\n",
       "        text-align: right;\n",
       "    }\n",
       "</style>\n",
       "<table border=\"1\" class=\"dataframe\">\n",
       "  <thead>\n",
       "    <tr style=\"text-align: right;\">\n",
       "      <th>looking_for_work</th>\n",
       "      <th>looking_rate</th>\n",
       "      <th>not_looking_rate</th>\n",
       "    </tr>\n",
       "    <tr>\n",
       "      <th>YEAR</th>\n",
       "      <th></th>\n",
       "      <th></th>\n",
       "    </tr>\n",
       "  </thead>\n",
       "  <tbody>\n",
       "    <tr>\n",
       "      <th>1990</th>\n",
       "      <td>5.561085</td>\n",
       "      <td>4.456172</td>\n",
       "    </tr>\n",
       "    <tr>\n",
       "      <th>1991</th>\n",
       "      <td>6.602031</td>\n",
       "      <td>4.899966</td>\n",
       "    </tr>\n",
       "    <tr>\n",
       "      <th>1992</th>\n",
       "      <td>6.871597</td>\n",
       "      <td>4.647172</td>\n",
       "    </tr>\n",
       "    <tr>\n",
       "      <th>1993</th>\n",
       "      <td>6.232610</td>\n",
       "      <td>4.592440</td>\n",
       "    </tr>\n",
       "    <tr>\n",
       "      <th>1994</th>\n",
       "      <td>5.646683</td>\n",
       "      <td>5.048937</td>\n",
       "    </tr>\n",
       "    <tr>\n",
       "      <th>1995</th>\n",
       "      <td>5.328408</td>\n",
       "      <td>5.184318</td>\n",
       "    </tr>\n",
       "    <tr>\n",
       "      <th>1996</th>\n",
       "      <td>5.345382</td>\n",
       "      <td>5.079936</td>\n",
       "    </tr>\n",
       "    <tr>\n",
       "      <th>1997</th>\n",
       "      <td>4.847548</td>\n",
       "      <td>5.171746</td>\n",
       "    </tr>\n",
       "    <tr>\n",
       "      <th>1998</th>\n",
       "      <td>4.355443</td>\n",
       "      <td>5.010969</td>\n",
       "    </tr>\n",
       "    <tr>\n",
       "      <th>1999</th>\n",
       "      <td>4.252663</td>\n",
       "      <td>5.028326</td>\n",
       "    </tr>\n",
       "    <tr>\n",
       "      <th>2000</th>\n",
       "      <td>4.150155</td>\n",
       "      <td>5.062598</td>\n",
       "    </tr>\n",
       "    <tr>\n",
       "      <th>2001</th>\n",
       "      <td>4.922967</td>\n",
       "      <td>5.408460</td>\n",
       "    </tr>\n",
       "    <tr>\n",
       "      <th>2002</th>\n",
       "      <td>5.518479</td>\n",
       "      <td>5.527899</td>\n",
       "    </tr>\n",
       "    <tr>\n",
       "      <th>2003</th>\n",
       "      <td>5.567337</td>\n",
       "      <td>5.626412</td>\n",
       "    </tr>\n",
       "    <tr>\n",
       "      <th>2004</th>\n",
       "      <td>5.080571</td>\n",
       "      <td>5.731510</td>\n",
       "    </tr>\n",
       "    <tr>\n",
       "      <th>2005</th>\n",
       "      <td>4.842078</td>\n",
       "      <td>5.941033</td>\n",
       "    </tr>\n",
       "    <tr>\n",
       "      <th>2006</th>\n",
       "      <td>4.554516</td>\n",
       "      <td>5.460004</td>\n",
       "    </tr>\n",
       "    <tr>\n",
       "      <th>2007</th>\n",
       "      <td>4.650596</td>\n",
       "      <td>5.713584</td>\n",
       "    </tr>\n",
       "    <tr>\n",
       "      <th>2008</th>\n",
       "      <td>5.618377</td>\n",
       "      <td>6.119644</td>\n",
       "    </tr>\n",
       "    <tr>\n",
       "      <th>2009</th>\n",
       "      <td>7.907270</td>\n",
       "      <td>6.587791</td>\n",
       "    </tr>\n",
       "    <tr>\n",
       "      <th>2010</th>\n",
       "      <td>7.951684</td>\n",
       "      <td>6.950119</td>\n",
       "    </tr>\n",
       "    <tr>\n",
       "      <th>2011</th>\n",
       "      <td>6.998022</td>\n",
       "      <td>6.697993</td>\n",
       "    </tr>\n",
       "    <tr>\n",
       "      <th>2012</th>\n",
       "      <td>6.238487</td>\n",
       "      <td>6.814606</td>\n",
       "    </tr>\n",
       "    <tr>\n",
       "      <th>2013</th>\n",
       "      <td>6.255063</td>\n",
       "      <td>7.755315</td>\n",
       "    </tr>\n",
       "    <tr>\n",
       "      <th>2014</th>\n",
       "      <td>5.555611</td>\n",
       "      <td>7.474757</td>\n",
       "    </tr>\n",
       "    <tr>\n",
       "      <th>2015</th>\n",
       "      <td>4.780410</td>\n",
       "      <td>7.373199</td>\n",
       "    </tr>\n",
       "    <tr>\n",
       "      <th>2016</th>\n",
       "      <td>4.120988</td>\n",
       "      <td>7.645787</td>\n",
       "    </tr>\n",
       "    <tr>\n",
       "      <th>2017</th>\n",
       "      <td>3.816144</td>\n",
       "      <td>7.005525</td>\n",
       "    </tr>\n",
       "    <tr>\n",
       "      <th>2018</th>\n",
       "      <td>3.551856</td>\n",
       "      <td>7.385451</td>\n",
       "    </tr>\n",
       "    <tr>\n",
       "      <th>2019</th>\n",
       "      <td>3.641193</td>\n",
       "      <td>7.197952</td>\n",
       "    </tr>\n",
       "    <tr>\n",
       "      <th>2020</th>\n",
       "      <td>5.247173</td>\n",
       "      <td>9.101222</td>\n",
       "    </tr>\n",
       "    <tr>\n",
       "      <th>2021</th>\n",
       "      <td>4.295364</td>\n",
       "      <td>8.688863</td>\n",
       "    </tr>\n",
       "    <tr>\n",
       "      <th>2022</th>\n",
       "      <td>3.520830</td>\n",
       "      <td>8.263244</td>\n",
       "    </tr>\n",
       "    <tr>\n",
       "      <th>2023</th>\n",
       "      <td>3.428017</td>\n",
       "      <td>8.132885</td>\n",
       "    </tr>\n",
       "    <tr>\n",
       "      <th>2024</th>\n",
       "      <td>3.592282</td>\n",
       "      <td>8.459549</td>\n",
       "    </tr>\n",
       "  </tbody>\n",
       "</table>\n",
       "</div>"
      ],
      "text/plain": [
       "looking_for_work  looking_rate  not_looking_rate\n",
       "YEAR                                            \n",
       "1990                  5.561085          4.456172\n",
       "1991                  6.602031          4.899966\n",
       "1992                  6.871597          4.647172\n",
       "1993                  6.232610          4.592440\n",
       "1994                  5.646683          5.048937\n",
       "1995                  5.328408          5.184318\n",
       "1996                  5.345382          5.079936\n",
       "1997                  4.847548          5.171746\n",
       "1998                  4.355443          5.010969\n",
       "1999                  4.252663          5.028326\n",
       "2000                  4.150155          5.062598\n",
       "2001                  4.922967          5.408460\n",
       "2002                  5.518479          5.527899\n",
       "2003                  5.567337          5.626412\n",
       "2004                  5.080571          5.731510\n",
       "2005                  4.842078          5.941033\n",
       "2006                  4.554516          5.460004\n",
       "2007                  4.650596          5.713584\n",
       "2008                  5.618377          6.119644\n",
       "2009                  7.907270          6.587791\n",
       "2010                  7.951684          6.950119\n",
       "2011                  6.998022          6.697993\n",
       "2012                  6.238487          6.814606\n",
       "2013                  6.255063          7.755315\n",
       "2014                  5.555611          7.474757\n",
       "2015                  4.780410          7.373199\n",
       "2016                  4.120988          7.645787\n",
       "2017                  3.816144          7.005525\n",
       "2018                  3.551856          7.385451\n",
       "2019                  3.641193          7.197952\n",
       "2020                  5.247173          9.101222\n",
       "2021                  4.295364          8.688863\n",
       "2022                  3.520830          8.263244\n",
       "2023                  3.428017          8.132885\n",
       "2024                  3.592282          8.459549"
      ]
     },
     "execution_count": 54,
     "metadata": {},
     "output_type": "execute_result"
    }
   ],
   "source": [
    "weighted_sums = timetrends.query('sex == \"men\"').groupby('YEAR')['WTFINL'].sum()\n",
    "neets_work = timetrends.query('sex == \"men\" and NEET == \"neet\"').copy()\n",
    "neets_work = neets_work.groupby(['YEAR','looking_for_work'])['WTFINL'].sum().unstack()\n",
    "neets_work['looking_rate'] = neets_work['looking'] / weighted_sums * 100\n",
    "neets_work['not_looking_rate'] = neets_work['not_looking'] / weighted_sums * 100\n",
    "neets_work = neets_work.reindex(columns=['looking_rate', 'not_looking_rate'])\n",
    "neets_work"
   ]
  },
  {
   "cell_type": "code",
   "execution_count": 67,
   "id": "b4caecc0",
   "metadata": {},
   "outputs": [
    {
     "data": {
      "application/vnd.plotly.v1+json": {
       "config": {
        "plotlyServerURL": "https://plotly.com"
       },
       "data": [
        {
         "line": {
          "color": "darkblue"
         },
         "mode": "lines",
         "name": "not_looking_rate",
         "stackgroup": "one",
         "type": "scatter",
         "x": {
          "bdata": "xgfHB8gHyQfKB8sHzAfNB84HzwfQB9EH0gfTB9QH1QfWB9cH2AfZB9oH2wfcB90H3gffB+AH4QfiB+MH5AflB+YH5wfoBw==",
          "dtype": "i2"
         },
         "y": {
          "bdata": "16NwPQrXEUCamZmZmZkTQJqZmZmZmRJAXI/C9ShcEkAzMzMzMzMUQLgehetRuBRAUrgehetRFECuR+F6FK4UQArXo3A9ChRAH4XrUbgeFEA9CtejcD0UQKRwPQrXoxVAH4XrUbgeFkCF61G4HoUWQOxRuB6F6xZAw/UoXI/CF0DXo3A9CtcVQNejcD0K1xZAexSuR+F6GEBcj8L1KFwaQM3MzMzMzBtAzczMzMzMGkA9CtejcD0bQArXo3A9Ch9A4XoUrkfhHUB7FK5H4XodQJqZmZmZmR5ACtejcD0KHECPwvUoXI8dQM3MzMzMzBxAMzMzMzMzIkDhehSuR2EhQIXrUbgehSBAw/UoXI9CIEDsUbgehesgQA==",
          "dtype": "f8"
         }
        },
        {
         "line": {
          "color": "lightblue"
         },
         "mode": "lines",
         "name": "looking_rate",
         "stackgroup": "one",
         "type": "scatter",
         "x": {
          "bdata": "xgfHB8gHyQfKB8sHzAfNB84HzwfQB9EH0gfTB9QH1QfWB9cH2AfZB9oH2wfcB90H3gffB+AH4QfiB+MH5AflB+YH5wfoBw==",
          "dtype": "i2"
         },
         "y": {
          "bdata": "PQrXo3A9FkBmZmZmZmYaQHsUrkfhehtA7FG4HoXrGECamZmZmZkWQFK4HoXrURVAZmZmZmZmFUBmZmZmZmYTQHE9CtejcBFAAAAAAAAAEUCamZmZmZkQQK5H4XoUrhNAFK5H4XoUFkBI4XoUrkcWQFK4HoXrURRAXI/C9ShcE0AzMzMzMzMSQJqZmZmZmRJAexSuR+F6FkCkcD0K16MfQM3MzMzMzB9AAAAAAAAAHED2KFyPwvUYQArXo3A9ChlAPQrXo3A9FkAfhetRuB4TQHsUrkfhehBAj8L1KFyPDkBmZmZmZmYMQB+F61G4Hg1AAAAAAAAAFUAzMzMzMzMRQClcj8L1KAxAcT0K16NwC0C4HoXrUbgMQA==",
          "dtype": "f8"
         }
        }
       ],
       "layout": {
        "font": {
         "family": "Georgia, serif"
        },
        "height": 500,
        "legend": {
         "orientation": "v",
         "title": {
          "text": "<b>group</b><br>(click to toggle lines)"
         }
        },
        "margin": {
         "b": 20,
         "l": 20,
         "pad": 0,
         "r": 20,
         "t": 100
        },
        "template": {
         "data": {
          "bar": [
           {
            "error_x": {
             "color": "#2a3f5f"
            },
            "error_y": {
             "color": "#2a3f5f"
            },
            "marker": {
             "line": {
              "color": "white",
              "width": 0.5
             },
             "pattern": {
              "fillmode": "overlay",
              "size": 10,
              "solidity": 0.2
             }
            },
            "type": "bar"
           }
          ],
          "barpolar": [
           {
            "marker": {
             "line": {
              "color": "white",
              "width": 0.5
             },
             "pattern": {
              "fillmode": "overlay",
              "size": 10,
              "solidity": 0.2
             }
            },
            "type": "barpolar"
           }
          ],
          "carpet": [
           {
            "aaxis": {
             "endlinecolor": "#2a3f5f",
             "gridcolor": "#C8D4E3",
             "linecolor": "#C8D4E3",
             "minorgridcolor": "#C8D4E3",
             "startlinecolor": "#2a3f5f"
            },
            "baxis": {
             "endlinecolor": "#2a3f5f",
             "gridcolor": "#C8D4E3",
             "linecolor": "#C8D4E3",
             "minorgridcolor": "#C8D4E3",
             "startlinecolor": "#2a3f5f"
            },
            "type": "carpet"
           }
          ],
          "choropleth": [
           {
            "colorbar": {
             "outlinewidth": 0,
             "ticks": ""
            },
            "type": "choropleth"
           }
          ],
          "contour": [
           {
            "colorbar": {
             "outlinewidth": 0,
             "ticks": ""
            },
            "colorscale": [
             [
              0,
              "#0d0887"
             ],
             [
              0.1111111111111111,
              "#46039f"
             ],
             [
              0.2222222222222222,
              "#7201a8"
             ],
             [
              0.3333333333333333,
              "#9c179e"
             ],
             [
              0.4444444444444444,
              "#bd3786"
             ],
             [
              0.5555555555555556,
              "#d8576b"
             ],
             [
              0.6666666666666666,
              "#ed7953"
             ],
             [
              0.7777777777777778,
              "#fb9f3a"
             ],
             [
              0.8888888888888888,
              "#fdca26"
             ],
             [
              1,
              "#f0f921"
             ]
            ],
            "type": "contour"
           }
          ],
          "contourcarpet": [
           {
            "colorbar": {
             "outlinewidth": 0,
             "ticks": ""
            },
            "type": "contourcarpet"
           }
          ],
          "heatmap": [
           {
            "colorbar": {
             "outlinewidth": 0,
             "ticks": ""
            },
            "colorscale": [
             [
              0,
              "#0d0887"
             ],
             [
              0.1111111111111111,
              "#46039f"
             ],
             [
              0.2222222222222222,
              "#7201a8"
             ],
             [
              0.3333333333333333,
              "#9c179e"
             ],
             [
              0.4444444444444444,
              "#bd3786"
             ],
             [
              0.5555555555555556,
              "#d8576b"
             ],
             [
              0.6666666666666666,
              "#ed7953"
             ],
             [
              0.7777777777777778,
              "#fb9f3a"
             ],
             [
              0.8888888888888888,
              "#fdca26"
             ],
             [
              1,
              "#f0f921"
             ]
            ],
            "type": "heatmap"
           }
          ],
          "histogram": [
           {
            "marker": {
             "pattern": {
              "fillmode": "overlay",
              "size": 10,
              "solidity": 0.2
             }
            },
            "type": "histogram"
           }
          ],
          "histogram2d": [
           {
            "colorbar": {
             "outlinewidth": 0,
             "ticks": ""
            },
            "colorscale": [
             [
              0,
              "#0d0887"
             ],
             [
              0.1111111111111111,
              "#46039f"
             ],
             [
              0.2222222222222222,
              "#7201a8"
             ],
             [
              0.3333333333333333,
              "#9c179e"
             ],
             [
              0.4444444444444444,
              "#bd3786"
             ],
             [
              0.5555555555555556,
              "#d8576b"
             ],
             [
              0.6666666666666666,
              "#ed7953"
             ],
             [
              0.7777777777777778,
              "#fb9f3a"
             ],
             [
              0.8888888888888888,
              "#fdca26"
             ],
             [
              1,
              "#f0f921"
             ]
            ],
            "type": "histogram2d"
           }
          ],
          "histogram2dcontour": [
           {
            "colorbar": {
             "outlinewidth": 0,
             "ticks": ""
            },
            "colorscale": [
             [
              0,
              "#0d0887"
             ],
             [
              0.1111111111111111,
              "#46039f"
             ],
             [
              0.2222222222222222,
              "#7201a8"
             ],
             [
              0.3333333333333333,
              "#9c179e"
             ],
             [
              0.4444444444444444,
              "#bd3786"
             ],
             [
              0.5555555555555556,
              "#d8576b"
             ],
             [
              0.6666666666666666,
              "#ed7953"
             ],
             [
              0.7777777777777778,
              "#fb9f3a"
             ],
             [
              0.8888888888888888,
              "#fdca26"
             ],
             [
              1,
              "#f0f921"
             ]
            ],
            "type": "histogram2dcontour"
           }
          ],
          "mesh3d": [
           {
            "colorbar": {
             "outlinewidth": 0,
             "ticks": ""
            },
            "type": "mesh3d"
           }
          ],
          "parcoords": [
           {
            "line": {
             "colorbar": {
              "outlinewidth": 0,
              "ticks": ""
             }
            },
            "type": "parcoords"
           }
          ],
          "pie": [
           {
            "automargin": true,
            "type": "pie"
           }
          ],
          "scatter": [
           {
            "fillpattern": {
             "fillmode": "overlay",
             "size": 10,
             "solidity": 0.2
            },
            "type": "scatter"
           }
          ],
          "scatter3d": [
           {
            "line": {
             "colorbar": {
              "outlinewidth": 0,
              "ticks": ""
             }
            },
            "marker": {
             "colorbar": {
              "outlinewidth": 0,
              "ticks": ""
             }
            },
            "type": "scatter3d"
           }
          ],
          "scattercarpet": [
           {
            "marker": {
             "colorbar": {
              "outlinewidth": 0,
              "ticks": ""
             }
            },
            "type": "scattercarpet"
           }
          ],
          "scattergeo": [
           {
            "marker": {
             "colorbar": {
              "outlinewidth": 0,
              "ticks": ""
             }
            },
            "type": "scattergeo"
           }
          ],
          "scattergl": [
           {
            "marker": {
             "colorbar": {
              "outlinewidth": 0,
              "ticks": ""
             }
            },
            "type": "scattergl"
           }
          ],
          "scattermap": [
           {
            "marker": {
             "colorbar": {
              "outlinewidth": 0,
              "ticks": ""
             }
            },
            "type": "scattermap"
           }
          ],
          "scattermapbox": [
           {
            "marker": {
             "colorbar": {
              "outlinewidth": 0,
              "ticks": ""
             }
            },
            "type": "scattermapbox"
           }
          ],
          "scatterpolar": [
           {
            "marker": {
             "colorbar": {
              "outlinewidth": 0,
              "ticks": ""
             }
            },
            "type": "scatterpolar"
           }
          ],
          "scatterpolargl": [
           {
            "marker": {
             "colorbar": {
              "outlinewidth": 0,
              "ticks": ""
             }
            },
            "type": "scatterpolargl"
           }
          ],
          "scatterternary": [
           {
            "marker": {
             "colorbar": {
              "outlinewidth": 0,
              "ticks": ""
             }
            },
            "type": "scatterternary"
           }
          ],
          "surface": [
           {
            "colorbar": {
             "outlinewidth": 0,
             "ticks": ""
            },
            "colorscale": [
             [
              0,
              "#0d0887"
             ],
             [
              0.1111111111111111,
              "#46039f"
             ],
             [
              0.2222222222222222,
              "#7201a8"
             ],
             [
              0.3333333333333333,
              "#9c179e"
             ],
             [
              0.4444444444444444,
              "#bd3786"
             ],
             [
              0.5555555555555556,
              "#d8576b"
             ],
             [
              0.6666666666666666,
              "#ed7953"
             ],
             [
              0.7777777777777778,
              "#fb9f3a"
             ],
             [
              0.8888888888888888,
              "#fdca26"
             ],
             [
              1,
              "#f0f921"
             ]
            ],
            "type": "surface"
           }
          ],
          "table": [
           {
            "cells": {
             "fill": {
              "color": "#EBF0F8"
             },
             "line": {
              "color": "white"
             }
            },
            "header": {
             "fill": {
              "color": "#C8D4E3"
             },
             "line": {
              "color": "white"
             }
            },
            "type": "table"
           }
          ]
         },
         "layout": {
          "annotationdefaults": {
           "arrowcolor": "#2a3f5f",
           "arrowhead": 0,
           "arrowwidth": 1
          },
          "autotypenumbers": "strict",
          "coloraxis": {
           "colorbar": {
            "outlinewidth": 0,
            "ticks": ""
           }
          },
          "colorscale": {
           "diverging": [
            [
             0,
             "#8e0152"
            ],
            [
             0.1,
             "#c51b7d"
            ],
            [
             0.2,
             "#de77ae"
            ],
            [
             0.3,
             "#f1b6da"
            ],
            [
             0.4,
             "#fde0ef"
            ],
            [
             0.5,
             "#f7f7f7"
            ],
            [
             0.6,
             "#e6f5d0"
            ],
            [
             0.7,
             "#b8e186"
            ],
            [
             0.8,
             "#7fbc41"
            ],
            [
             0.9,
             "#4d9221"
            ],
            [
             1,
             "#276419"
            ]
           ],
           "sequential": [
            [
             0,
             "#0d0887"
            ],
            [
             0.1111111111111111,
             "#46039f"
            ],
            [
             0.2222222222222222,
             "#7201a8"
            ],
            [
             0.3333333333333333,
             "#9c179e"
            ],
            [
             0.4444444444444444,
             "#bd3786"
            ],
            [
             0.5555555555555556,
             "#d8576b"
            ],
            [
             0.6666666666666666,
             "#ed7953"
            ],
            [
             0.7777777777777778,
             "#fb9f3a"
            ],
            [
             0.8888888888888888,
             "#fdca26"
            ],
            [
             1,
             "#f0f921"
            ]
           ],
           "sequentialminus": [
            [
             0,
             "#0d0887"
            ],
            [
             0.1111111111111111,
             "#46039f"
            ],
            [
             0.2222222222222222,
             "#7201a8"
            ],
            [
             0.3333333333333333,
             "#9c179e"
            ],
            [
             0.4444444444444444,
             "#bd3786"
            ],
            [
             0.5555555555555556,
             "#d8576b"
            ],
            [
             0.6666666666666666,
             "#ed7953"
            ],
            [
             0.7777777777777778,
             "#fb9f3a"
            ],
            [
             0.8888888888888888,
             "#fdca26"
            ],
            [
             1,
             "#f0f921"
            ]
           ]
          },
          "colorway": [
           "#636efa",
           "#EF553B",
           "#00cc96",
           "#ab63fa",
           "#FFA15A",
           "#19d3f3",
           "#FF6692",
           "#B6E880",
           "#FF97FF",
           "#FECB52"
          ],
          "font": {
           "color": "#2a3f5f"
          },
          "geo": {
           "bgcolor": "white",
           "lakecolor": "white",
           "landcolor": "white",
           "showlakes": true,
           "showland": true,
           "subunitcolor": "#C8D4E3"
          },
          "hoverlabel": {
           "align": "left"
          },
          "hovermode": "closest",
          "mapbox": {
           "style": "light"
          },
          "paper_bgcolor": "white",
          "plot_bgcolor": "white",
          "polar": {
           "angularaxis": {
            "gridcolor": "#EBF0F8",
            "linecolor": "#EBF0F8",
            "ticks": ""
           },
           "bgcolor": "white",
           "radialaxis": {
            "gridcolor": "#EBF0F8",
            "linecolor": "#EBF0F8",
            "ticks": ""
           }
          },
          "scene": {
           "xaxis": {
            "backgroundcolor": "white",
            "gridcolor": "#DFE8F3",
            "gridwidth": 2,
            "linecolor": "#EBF0F8",
            "showbackground": true,
            "ticks": "",
            "zerolinecolor": "#EBF0F8"
           },
           "yaxis": {
            "backgroundcolor": "white",
            "gridcolor": "#DFE8F3",
            "gridwidth": 2,
            "linecolor": "#EBF0F8",
            "showbackground": true,
            "ticks": "",
            "zerolinecolor": "#EBF0F8"
           },
           "zaxis": {
            "backgroundcolor": "white",
            "gridcolor": "#DFE8F3",
            "gridwidth": 2,
            "linecolor": "#EBF0F8",
            "showbackground": true,
            "ticks": "",
            "zerolinecolor": "#EBF0F8"
           }
          },
          "shapedefaults": {
           "line": {
            "color": "#2a3f5f"
           }
          },
          "ternary": {
           "aaxis": {
            "gridcolor": "#DFE8F3",
            "linecolor": "#A2B1C6",
            "ticks": ""
           },
           "baxis": {
            "gridcolor": "#DFE8F3",
            "linecolor": "#A2B1C6",
            "ticks": ""
           },
           "bgcolor": "white",
           "caxis": {
            "gridcolor": "#DFE8F3",
            "linecolor": "#A2B1C6",
            "ticks": ""
           }
          },
          "title": {
           "x": 0.05
          },
          "xaxis": {
           "automargin": true,
           "gridcolor": "#EBF0F8",
           "linecolor": "#EBF0F8",
           "ticks": "",
           "title": {
            "standoff": 15
           },
           "zerolinecolor": "#EBF0F8",
           "zerolinewidth": 2
          },
          "yaxis": {
           "automargin": true,
           "gridcolor": "#EBF0F8",
           "linecolor": "#EBF0F8",
           "ticks": "",
           "title": {
            "standoff": 15
           },
           "zerolinecolor": "#EBF0F8",
           "zerolinewidth": 2
          }
         }
        },
        "title": {
         "subtitle": {
          "text": "(<b>excluding summer months</b>)"
         },
         "text": "<b>Male NEET rates for 16-24 y.o. by Labor Force Status (1990-2024)</b>"
        },
        "width": 750,
        "xaxis": {
         "title": {
          "text": "<b>Year"
         }
        },
        "yaxis": {
         "range": [
          0,
          20
         ],
         "title": {
          "text": "<b>NEET rate (%)"
         }
        }
       }
      }
     },
     "metadata": {},
     "output_type": "display_data"
    }
   ],
   "source": [
    "neets_work_dict = {'not_looking_rate': 'darkblue','looking_rate': 'lightblue'}\n",
    "fig = go.Figure()\n",
    "for col in neets_work_dict.keys():\n",
    "    fig.add_trace(go.Scatter(\n",
    "        x=neets_work.index, y=neets_work[col].round(2),\n",
    "        name=col,\n",
    "        mode='lines',\n",
    "        stackgroup='one',\n",
    "        line_color=neets_work_dict[col]\n",
    "    ))\n",
    "fig.update_layout(\n",
    "    font={'family': 'Georgia, serif'},\n",
    "    title={'text': '<b>Male NEET rates for 16-24 y.o. by Labor Force Status (1990-2024)</b>',\n",
    "           'subtitle': {'text': '(<b>excluding summer months</b>)'}},\n",
    "    legend = {'orientation': 'v', 'title': {'text': '<b>group</b><br>(click to toggle lines)'}},\n",
    "    xaxis={'title':{'text': '<b>Year'}}, yaxis={'title':{'text': '<b>NEET rate (%)'}},\n",
    "    width=750, height=500,\n",
    "    template='plotly_white',\n",
    "    margin={'pad': 0, 'b': 20, 'l': 20, 'r': 20, 't': 100}\n",
    ")\n",
    "fig.update_yaxes(range=[0,20])"
   ]
  },
  {
   "cell_type": "markdown",
   "id": "09dd2801",
   "metadata": {},
   "source": [
    "### 6. 2024 Compositions\n",
    "\n",
    "In this section, we break down NEET and non-NEET men and women by whether they're seeking work or not, and if they're disabled or parents."
   ]
  },
  {
   "cell_type": "code",
   "execution_count": 211,
   "id": "e2478cf0",
   "metadata": {},
   "outputs": [
    {
     "data": {
      "application/vnd.microsoft.datawrangler.viewer.v0+json": {
       "columns": [
        {
         "name": "index",
         "rawType": "int64",
         "type": "integer"
        },
        {
         "name": "men",
         "rawType": "float64",
         "type": "float"
        },
        {
         "name": "women",
         "rawType": "float64",
         "type": "float"
        },
        {
         "name": "group",
         "rawType": "object",
         "type": "string"
        }
       ],
       "conversionMethod": "pd.DataFrame",
       "ref": "13a57af8-7c22-4fe3-ab64-cf84044ec8aa",
       "rows": [
        [
         "0",
         "6352238.3754",
         "4516326.6387",
         "neet,looking"
        ],
        [
         "1",
         "2978538.6068",
         "2694374.6711",
         "not_neet,looking"
        ],
        [
         "2",
         "44740.3443",
         "226713.6266",
         "has_dis,has_child,neet,not_looking"
        ],
        [
         "3",
         "23481.0197",
         "45321.2895",
         "has_dis,has_child,not_neet,not_looking"
        ],
        [
         "4",
         "3235480.9693",
         "2150067.9415",
         "has_dis,no_child,neet,not_looking"
        ],
        [
         "5",
         "3462376.2133",
         "2556237.0237",
         "has_dis,no_child,not_neet,not_looking"
        ],
        [
         "6",
         "300278.4102",
         "3581210.7153",
         "no_dis,has_child,neet,not_looking"
        ],
        [
         "7",
         "162866.4242",
         "720578.1059",
         "no_dis,has_child,not_neet,not_looking"
        ],
        [
         "8",
         "11378534.9435",
         "11309109.7955",
         "no_dis,no_child,neet,not_looking"
        ],
        [
         "9",
         "59620237.7534",
         "57989897.1847",
         "no_dis,no_child,not_neet,not_looking"
        ]
       ],
       "shape": {
        "columns": 3,
        "rows": 10
       }
      },
      "text/html": [
       "<div>\n",
       "<style scoped>\n",
       "    .dataframe tbody tr th:only-of-type {\n",
       "        vertical-align: middle;\n",
       "    }\n",
       "\n",
       "    .dataframe tbody tr th {\n",
       "        vertical-align: top;\n",
       "    }\n",
       "\n",
       "    .dataframe thead th {\n",
       "        text-align: right;\n",
       "    }\n",
       "</style>\n",
       "<table border=\"1\" class=\"dataframe\">\n",
       "  <thead>\n",
       "    <tr style=\"text-align: right;\">\n",
       "      <th>sex</th>\n",
       "      <th>men</th>\n",
       "      <th>women</th>\n",
       "      <th>group</th>\n",
       "    </tr>\n",
       "  </thead>\n",
       "  <tbody>\n",
       "    <tr>\n",
       "      <th>0</th>\n",
       "      <td>6.352238e+06</td>\n",
       "      <td>4.516327e+06</td>\n",
       "      <td>neet,looking</td>\n",
       "    </tr>\n",
       "    <tr>\n",
       "      <th>1</th>\n",
       "      <td>2.978539e+06</td>\n",
       "      <td>2.694375e+06</td>\n",
       "      <td>not_neet,looking</td>\n",
       "    </tr>\n",
       "    <tr>\n",
       "      <th>2</th>\n",
       "      <td>4.474034e+04</td>\n",
       "      <td>2.267136e+05</td>\n",
       "      <td>has_dis,has_child,neet,not_looking</td>\n",
       "    </tr>\n",
       "    <tr>\n",
       "      <th>3</th>\n",
       "      <td>2.348102e+04</td>\n",
       "      <td>4.532129e+04</td>\n",
       "      <td>has_dis,has_child,not_neet,not_looking</td>\n",
       "    </tr>\n",
       "    <tr>\n",
       "      <th>4</th>\n",
       "      <td>3.235481e+06</td>\n",
       "      <td>2.150068e+06</td>\n",
       "      <td>has_dis,no_child,neet,not_looking</td>\n",
       "    </tr>\n",
       "    <tr>\n",
       "      <th>5</th>\n",
       "      <td>3.462376e+06</td>\n",
       "      <td>2.556237e+06</td>\n",
       "      <td>has_dis,no_child,not_neet,not_looking</td>\n",
       "    </tr>\n",
       "    <tr>\n",
       "      <th>6</th>\n",
       "      <td>3.002784e+05</td>\n",
       "      <td>3.581211e+06</td>\n",
       "      <td>no_dis,has_child,neet,not_looking</td>\n",
       "    </tr>\n",
       "    <tr>\n",
       "      <th>7</th>\n",
       "      <td>1.628664e+05</td>\n",
       "      <td>7.205781e+05</td>\n",
       "      <td>no_dis,has_child,not_neet,not_looking</td>\n",
       "    </tr>\n",
       "    <tr>\n",
       "      <th>8</th>\n",
       "      <td>1.137853e+07</td>\n",
       "      <td>1.130911e+07</td>\n",
       "      <td>no_dis,no_child,neet,not_looking</td>\n",
       "    </tr>\n",
       "    <tr>\n",
       "      <th>9</th>\n",
       "      <td>5.962024e+07</td>\n",
       "      <td>5.798990e+07</td>\n",
       "      <td>no_dis,no_child,not_neet,not_looking</td>\n",
       "    </tr>\n",
       "  </tbody>\n",
       "</table>\n",
       "</div>"
      ],
      "text/plain": [
       "sex           men         women                                   group\n",
       "0    6.352238e+06  4.516327e+06                            neet,looking\n",
       "1    2.978539e+06  2.694375e+06                        not_neet,looking\n",
       "2    4.474034e+04  2.267136e+05      has_dis,has_child,neet,not_looking\n",
       "3    2.348102e+04  4.532129e+04  has_dis,has_child,not_neet,not_looking\n",
       "4    3.235481e+06  2.150068e+06       has_dis,no_child,neet,not_looking\n",
       "5    3.462376e+06  2.556237e+06   has_dis,no_child,not_neet,not_looking\n",
       "6    3.002784e+05  3.581211e+06       no_dis,has_child,neet,not_looking\n",
       "7    1.628664e+05  7.205781e+05   no_dis,has_child,not_neet,not_looking\n",
       "8    1.137853e+07  1.130911e+07        no_dis,no_child,neet,not_looking\n",
       "9    5.962024e+07  5.798990e+07    no_dis,no_child,not_neet,not_looking"
      ]
     },
     "execution_count": 211,
     "metadata": {},
     "output_type": "execute_result"
    }
   ],
   "source": [
    "looking_comp = timetrends.query('YEAR==2024 and ' \\\n",
    "                                'looking_for_work==\"looking\"').groupby(['NEET',\n",
    "                                                                        'looking_for_work','sex'])['WTFINL'].sum().unstack()\n",
    "looking_comp['group'] = looking_comp.index\n",
    "not_looking_comp = timetrends.query('YEAR==2024 and ' \\\n",
    "                                'looking_for_work==\"not_looking\"').groupby(['dis','kids',\n",
    "                                                                            'NEET','looking_for_work','sex'])['WTFINL'].sum().unstack()\n",
    "not_looking_comp['group'] = not_looking_comp.index\n",
    "comp_merged = pd.concat([looking_comp,not_looking_comp],ignore_index=True)\n",
    "comp_merged['group'] = comp_merged['group'].astype(str).str.replace(r'\\(|\\)|,|\\'','',regex=True).str.replace(' ',',')\n",
    "comp_merged"
   ]
  },
  {
   "cell_type": "markdown",
   "id": "b9af15e9",
   "metadata": {},
   "source": [
    "For now, let's just plot the NEETs."
   ]
  },
  {
   "cell_type": "code",
   "execution_count": 255,
   "id": "55405b44",
   "metadata": {},
   "outputs": [
    {
     "data": {
      "application/vnd.plotly.v1+json": {
       "config": {
        "plotlyServerURL": "https://plotly.com"
       },
       "data": [
        {
         "type": "bar",
         "x": [
          "(neet<br>looking<br><b>men</b>)"
         ],
         "y": {
          "bdata": "flQtn5POPUA=",
          "dtype": "f8"
         }
        },
        {
         "type": "bar",
         "x": [
          "(neet<br>looking<br><b>women</b>)"
         ],
         "y": {
          "bdata": "h0qtXpy7NEA=",
          "dtype": "f8"
         }
        },
        {
         "type": "bar",
         "x": [
          "(has_dis<br>has_child<br>neet<br>not_looking<br><b>men</b>)"
         ],
         "y": {
          "bdata": "qOctBDvfyj8=",
          "dtype": "f8"
         }
        },
        {
         "type": "bar",
         "x": [
          "(has_dis<br>has_child<br>neet<br>not_looking<br><b>women</b>)"
         ],
         "y": {
          "bdata": "1rs08/Wm8D8=",
          "dtype": "f8"
         }
        },
        {
         "type": "bar",
         "x": [
          "(has_dis<br>no_child<br>neet<br>not_looking<br><b>men</b>)"
         ],
         "y": {
          "bdata": "XkoPQTFdLkA=",
          "dtype": "f8"
         }
        },
        {
         "type": "bar",
         "x": [
          "(has_dis<br>no_child<br>neet<br>not_looking<br><b>women</b>)"
         ],
         "y": {
          "bdata": "zB6Z1Iq9I0A=",
          "dtype": "f8"
         }
        },
        {
         "type": "bar",
         "x": [
          "(no_dis<br>has_child<br>neet<br>not_looking<br><b>men</b>)"
         ],
         "y": {
          "bdata": "7255PlCL9j8=",
          "dtype": "f8"
         }
        },
        {
         "type": "bar",
         "x": [
          "(no_dis<br>has_child<br>neet<br>not_looking<br><b>women</b>)"
         ],
         "y": {
          "bdata": "gDDxXKhwMEA=",
          "dtype": "f8"
         }
        },
        {
         "type": "bar",
         "x": [
          "(no_dis<br>no_child<br>neet<br>not_looking<br><b>men</b>)"
         ],
         "y": {
          "bdata": "yYktIzCySkA=",
          "dtype": "f8"
         }
        },
        {
         "type": "bar",
         "x": [
          "(no_dis<br>no_child<br>neet<br>not_looking<br><b>women</b>)"
         ],
         "y": {
          "bdata": "6NRwPUP1SUA=",
          "dtype": "f8"
         }
        }
       ],
       "layout": {
        "font": {
         "family": "Georgia, serif"
        },
        "height": 600,
        "margin": {
         "b": 20,
         "l": 20,
         "pad": 0,
         "r": 20,
         "t": 50
        },
        "showlegend": false,
        "template": {
         "data": {
          "bar": [
           {
            "error_x": {
             "color": "#2a3f5f"
            },
            "error_y": {
             "color": "#2a3f5f"
            },
            "marker": {
             "line": {
              "color": "white",
              "width": 0.5
             },
             "pattern": {
              "fillmode": "overlay",
              "size": 10,
              "solidity": 0.2
             }
            },
            "type": "bar"
           }
          ],
          "barpolar": [
           {
            "marker": {
             "line": {
              "color": "white",
              "width": 0.5
             },
             "pattern": {
              "fillmode": "overlay",
              "size": 10,
              "solidity": 0.2
             }
            },
            "type": "barpolar"
           }
          ],
          "carpet": [
           {
            "aaxis": {
             "endlinecolor": "#2a3f5f",
             "gridcolor": "#C8D4E3",
             "linecolor": "#C8D4E3",
             "minorgridcolor": "#C8D4E3",
             "startlinecolor": "#2a3f5f"
            },
            "baxis": {
             "endlinecolor": "#2a3f5f",
             "gridcolor": "#C8D4E3",
             "linecolor": "#C8D4E3",
             "minorgridcolor": "#C8D4E3",
             "startlinecolor": "#2a3f5f"
            },
            "type": "carpet"
           }
          ],
          "choropleth": [
           {
            "colorbar": {
             "outlinewidth": 0,
             "ticks": ""
            },
            "type": "choropleth"
           }
          ],
          "contour": [
           {
            "colorbar": {
             "outlinewidth": 0,
             "ticks": ""
            },
            "colorscale": [
             [
              0,
              "#0d0887"
             ],
             [
              0.1111111111111111,
              "#46039f"
             ],
             [
              0.2222222222222222,
              "#7201a8"
             ],
             [
              0.3333333333333333,
              "#9c179e"
             ],
             [
              0.4444444444444444,
              "#bd3786"
             ],
             [
              0.5555555555555556,
              "#d8576b"
             ],
             [
              0.6666666666666666,
              "#ed7953"
             ],
             [
              0.7777777777777778,
              "#fb9f3a"
             ],
             [
              0.8888888888888888,
              "#fdca26"
             ],
             [
              1,
              "#f0f921"
             ]
            ],
            "type": "contour"
           }
          ],
          "contourcarpet": [
           {
            "colorbar": {
             "outlinewidth": 0,
             "ticks": ""
            },
            "type": "contourcarpet"
           }
          ],
          "heatmap": [
           {
            "colorbar": {
             "outlinewidth": 0,
             "ticks": ""
            },
            "colorscale": [
             [
              0,
              "#0d0887"
             ],
             [
              0.1111111111111111,
              "#46039f"
             ],
             [
              0.2222222222222222,
              "#7201a8"
             ],
             [
              0.3333333333333333,
              "#9c179e"
             ],
             [
              0.4444444444444444,
              "#bd3786"
             ],
             [
              0.5555555555555556,
              "#d8576b"
             ],
             [
              0.6666666666666666,
              "#ed7953"
             ],
             [
              0.7777777777777778,
              "#fb9f3a"
             ],
             [
              0.8888888888888888,
              "#fdca26"
             ],
             [
              1,
              "#f0f921"
             ]
            ],
            "type": "heatmap"
           }
          ],
          "histogram": [
           {
            "marker": {
             "pattern": {
              "fillmode": "overlay",
              "size": 10,
              "solidity": 0.2
             }
            },
            "type": "histogram"
           }
          ],
          "histogram2d": [
           {
            "colorbar": {
             "outlinewidth": 0,
             "ticks": ""
            },
            "colorscale": [
             [
              0,
              "#0d0887"
             ],
             [
              0.1111111111111111,
              "#46039f"
             ],
             [
              0.2222222222222222,
              "#7201a8"
             ],
             [
              0.3333333333333333,
              "#9c179e"
             ],
             [
              0.4444444444444444,
              "#bd3786"
             ],
             [
              0.5555555555555556,
              "#d8576b"
             ],
             [
              0.6666666666666666,
              "#ed7953"
             ],
             [
              0.7777777777777778,
              "#fb9f3a"
             ],
             [
              0.8888888888888888,
              "#fdca26"
             ],
             [
              1,
              "#f0f921"
             ]
            ],
            "type": "histogram2d"
           }
          ],
          "histogram2dcontour": [
           {
            "colorbar": {
             "outlinewidth": 0,
             "ticks": ""
            },
            "colorscale": [
             [
              0,
              "#0d0887"
             ],
             [
              0.1111111111111111,
              "#46039f"
             ],
             [
              0.2222222222222222,
              "#7201a8"
             ],
             [
              0.3333333333333333,
              "#9c179e"
             ],
             [
              0.4444444444444444,
              "#bd3786"
             ],
             [
              0.5555555555555556,
              "#d8576b"
             ],
             [
              0.6666666666666666,
              "#ed7953"
             ],
             [
              0.7777777777777778,
              "#fb9f3a"
             ],
             [
              0.8888888888888888,
              "#fdca26"
             ],
             [
              1,
              "#f0f921"
             ]
            ],
            "type": "histogram2dcontour"
           }
          ],
          "mesh3d": [
           {
            "colorbar": {
             "outlinewidth": 0,
             "ticks": ""
            },
            "type": "mesh3d"
           }
          ],
          "parcoords": [
           {
            "line": {
             "colorbar": {
              "outlinewidth": 0,
              "ticks": ""
             }
            },
            "type": "parcoords"
           }
          ],
          "pie": [
           {
            "automargin": true,
            "type": "pie"
           }
          ],
          "scatter": [
           {
            "fillpattern": {
             "fillmode": "overlay",
             "size": 10,
             "solidity": 0.2
            },
            "type": "scatter"
           }
          ],
          "scatter3d": [
           {
            "line": {
             "colorbar": {
              "outlinewidth": 0,
              "ticks": ""
             }
            },
            "marker": {
             "colorbar": {
              "outlinewidth": 0,
              "ticks": ""
             }
            },
            "type": "scatter3d"
           }
          ],
          "scattercarpet": [
           {
            "marker": {
             "colorbar": {
              "outlinewidth": 0,
              "ticks": ""
             }
            },
            "type": "scattercarpet"
           }
          ],
          "scattergeo": [
           {
            "marker": {
             "colorbar": {
              "outlinewidth": 0,
              "ticks": ""
             }
            },
            "type": "scattergeo"
           }
          ],
          "scattergl": [
           {
            "marker": {
             "colorbar": {
              "outlinewidth": 0,
              "ticks": ""
             }
            },
            "type": "scattergl"
           }
          ],
          "scattermap": [
           {
            "marker": {
             "colorbar": {
              "outlinewidth": 0,
              "ticks": ""
             }
            },
            "type": "scattermap"
           }
          ],
          "scattermapbox": [
           {
            "marker": {
             "colorbar": {
              "outlinewidth": 0,
              "ticks": ""
             }
            },
            "type": "scattermapbox"
           }
          ],
          "scatterpolar": [
           {
            "marker": {
             "colorbar": {
              "outlinewidth": 0,
              "ticks": ""
             }
            },
            "type": "scatterpolar"
           }
          ],
          "scatterpolargl": [
           {
            "marker": {
             "colorbar": {
              "outlinewidth": 0,
              "ticks": ""
             }
            },
            "type": "scatterpolargl"
           }
          ],
          "scatterternary": [
           {
            "marker": {
             "colorbar": {
              "outlinewidth": 0,
              "ticks": ""
             }
            },
            "type": "scatterternary"
           }
          ],
          "surface": [
           {
            "colorbar": {
             "outlinewidth": 0,
             "ticks": ""
            },
            "colorscale": [
             [
              0,
              "#0d0887"
             ],
             [
              0.1111111111111111,
              "#46039f"
             ],
             [
              0.2222222222222222,
              "#7201a8"
             ],
             [
              0.3333333333333333,
              "#9c179e"
             ],
             [
              0.4444444444444444,
              "#bd3786"
             ],
             [
              0.5555555555555556,
              "#d8576b"
             ],
             [
              0.6666666666666666,
              "#ed7953"
             ],
             [
              0.7777777777777778,
              "#fb9f3a"
             ],
             [
              0.8888888888888888,
              "#fdca26"
             ],
             [
              1,
              "#f0f921"
             ]
            ],
            "type": "surface"
           }
          ],
          "table": [
           {
            "cells": {
             "fill": {
              "color": "#EBF0F8"
             },
             "line": {
              "color": "white"
             }
            },
            "header": {
             "fill": {
              "color": "#C8D4E3"
             },
             "line": {
              "color": "white"
             }
            },
            "type": "table"
           }
          ]
         },
         "layout": {
          "annotationdefaults": {
           "arrowcolor": "#2a3f5f",
           "arrowhead": 0,
           "arrowwidth": 1
          },
          "autotypenumbers": "strict",
          "coloraxis": {
           "colorbar": {
            "outlinewidth": 0,
            "ticks": ""
           }
          },
          "colorscale": {
           "diverging": [
            [
             0,
             "#8e0152"
            ],
            [
             0.1,
             "#c51b7d"
            ],
            [
             0.2,
             "#de77ae"
            ],
            [
             0.3,
             "#f1b6da"
            ],
            [
             0.4,
             "#fde0ef"
            ],
            [
             0.5,
             "#f7f7f7"
            ],
            [
             0.6,
             "#e6f5d0"
            ],
            [
             0.7,
             "#b8e186"
            ],
            [
             0.8,
             "#7fbc41"
            ],
            [
             0.9,
             "#4d9221"
            ],
            [
             1,
             "#276419"
            ]
           ],
           "sequential": [
            [
             0,
             "#0d0887"
            ],
            [
             0.1111111111111111,
             "#46039f"
            ],
            [
             0.2222222222222222,
             "#7201a8"
            ],
            [
             0.3333333333333333,
             "#9c179e"
            ],
            [
             0.4444444444444444,
             "#bd3786"
            ],
            [
             0.5555555555555556,
             "#d8576b"
            ],
            [
             0.6666666666666666,
             "#ed7953"
            ],
            [
             0.7777777777777778,
             "#fb9f3a"
            ],
            [
             0.8888888888888888,
             "#fdca26"
            ],
            [
             1,
             "#f0f921"
            ]
           ],
           "sequentialminus": [
            [
             0,
             "#0d0887"
            ],
            [
             0.1111111111111111,
             "#46039f"
            ],
            [
             0.2222222222222222,
             "#7201a8"
            ],
            [
             0.3333333333333333,
             "#9c179e"
            ],
            [
             0.4444444444444444,
             "#bd3786"
            ],
            [
             0.5555555555555556,
             "#d8576b"
            ],
            [
             0.6666666666666666,
             "#ed7953"
            ],
            [
             0.7777777777777778,
             "#fb9f3a"
            ],
            [
             0.8888888888888888,
             "#fdca26"
            ],
            [
             1,
             "#f0f921"
            ]
           ]
          },
          "colorway": [
           "#636efa",
           "#EF553B",
           "#00cc96",
           "#ab63fa",
           "#FFA15A",
           "#19d3f3",
           "#FF6692",
           "#B6E880",
           "#FF97FF",
           "#FECB52"
          ],
          "font": {
           "color": "#2a3f5f"
          },
          "geo": {
           "bgcolor": "white",
           "lakecolor": "white",
           "landcolor": "white",
           "showlakes": true,
           "showland": true,
           "subunitcolor": "#C8D4E3"
          },
          "hoverlabel": {
           "align": "left"
          },
          "hovermode": "closest",
          "mapbox": {
           "style": "light"
          },
          "paper_bgcolor": "white",
          "plot_bgcolor": "white",
          "polar": {
           "angularaxis": {
            "gridcolor": "#EBF0F8",
            "linecolor": "#EBF0F8",
            "ticks": ""
           },
           "bgcolor": "white",
           "radialaxis": {
            "gridcolor": "#EBF0F8",
            "linecolor": "#EBF0F8",
            "ticks": ""
           }
          },
          "scene": {
           "xaxis": {
            "backgroundcolor": "white",
            "gridcolor": "#DFE8F3",
            "gridwidth": 2,
            "linecolor": "#EBF0F8",
            "showbackground": true,
            "ticks": "",
            "zerolinecolor": "#EBF0F8"
           },
           "yaxis": {
            "backgroundcolor": "white",
            "gridcolor": "#DFE8F3",
            "gridwidth": 2,
            "linecolor": "#EBF0F8",
            "showbackground": true,
            "ticks": "",
            "zerolinecolor": "#EBF0F8"
           },
           "zaxis": {
            "backgroundcolor": "white",
            "gridcolor": "#DFE8F3",
            "gridwidth": 2,
            "linecolor": "#EBF0F8",
            "showbackground": true,
            "ticks": "",
            "zerolinecolor": "#EBF0F8"
           }
          },
          "shapedefaults": {
           "line": {
            "color": "#2a3f5f"
           }
          },
          "ternary": {
           "aaxis": {
            "gridcolor": "#DFE8F3",
            "linecolor": "#A2B1C6",
            "ticks": ""
           },
           "baxis": {
            "gridcolor": "#DFE8F3",
            "linecolor": "#A2B1C6",
            "ticks": ""
           },
           "bgcolor": "white",
           "caxis": {
            "gridcolor": "#DFE8F3",
            "linecolor": "#A2B1C6",
            "ticks": ""
           }
          },
          "title": {
           "x": 0.05
          },
          "xaxis": {
           "automargin": true,
           "gridcolor": "#EBF0F8",
           "linecolor": "#EBF0F8",
           "ticks": "",
           "title": {
            "standoff": 15
           },
           "zerolinecolor": "#EBF0F8",
           "zerolinewidth": 2
          },
          "yaxis": {
           "automargin": true,
           "gridcolor": "#EBF0F8",
           "linecolor": "#EBF0F8",
           "ticks": "",
           "title": {
            "standoff": 15
           },
           "zerolinecolor": "#EBF0F8",
           "zerolinewidth": 2
          }
         }
        },
        "title": {
         "subtitle": {
          "text": "(<b>excluding summer months</b>)"
         },
         "text": "<b>NEET composition for 16-24 y.o. (2024)</b>"
        },
        "width": 1000,
        "xaxis": {
         "title": {
          "text": "<b>Group"
         }
        },
        "yaxis": {
         "title": {
          "text": "<b>Within-Gender Share (%)"
         }
        }
       }
      }
     },
     "metadata": {},
     "output_type": "display_data"
    }
   ],
   "source": [
    "neets_col = [grp for grp in comp_merged['group'] if 'not_neet' not in grp]\n",
    "neets_comp = comp_merged.loc[comp_merged['group'].isin(neets_col)].copy()\n",
    "neets_comp['men'] = (neets_comp['men'] / \n",
    "                     timetrends.query('YEAR==2024 and sex==\"men\" and NEET==\"neet\"')['WTFINL'].sum()) * 100\n",
    "neets_comp['women'] = (neets_comp['women'] / \n",
    "                     timetrends.query('YEAR==2024 and sex==\"women\" and NEET==\"neet\"')['WTFINL'].sum()) * 100\n",
    "\n",
    "fig = go.Figure()\n",
    "for nm in neets_comp['group']:\n",
    "    nm2 = nm.replace(',','<br>')\n",
    "    fig.add_trace(go.Bar(y=neets_comp.loc[neets_comp['group']==nm, 'men'],\n",
    "                         x=[f'({nm2}<br><b>men</b>)']))\n",
    "    fig.add_trace(go.Bar(y=neets_comp.loc[neets_comp['group']==nm, 'women'],\n",
    "                         x=[f'({nm2}<br><b>women</b>)']))\n",
    "fig.update_layout(\n",
    "    font={'family': 'Georgia, serif'},\n",
    "    title={'text': '<b>NEET composition for 16-24 y.o. (2024)</b>',\n",
    "           'subtitle': {'text': '(<b>excluding summer months</b>)'}},\n",
    "    showlegend=False,\n",
    "    xaxis={'title':{'text': '<b>Group'}}, yaxis={'title':{'text': '<b>Within-Gender Share (%)'}},\n",
    "    width=1000, height=600,\n",
    "    template='plotly_white',\n",
    "    margin={'pad': 0, 'b': 20, 'l': 20, 'r': 20, 't': 50}\n",
    ")\n",
    "fig.show()"
   ]
  }
 ],
 "metadata": {
  "kernelspec": {
   "display_name": "venv",
   "language": "python",
   "name": "python3"
  },
  "language_info": {
   "codemirror_mode": {
    "name": "ipython",
    "version": 3
   },
   "file_extension": ".py",
   "mimetype": "text/x-python",
   "name": "python",
   "nbconvert_exporter": "python",
   "pygments_lexer": "ipython3",
   "version": "3.13.3"
  }
 },
 "nbformat": 4,
 "nbformat_minor": 5
}
